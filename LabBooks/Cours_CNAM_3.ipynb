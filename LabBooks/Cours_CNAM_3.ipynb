{
 "cells": [
  {
   "cell_type": "markdown",
   "metadata": {},
   "source": [
    "## Ce notebook contient les exercices du cours [\"Introduction à l'apprentissage profond\"](http://cedric.cnam.fr/vertigo/Cours/ml2/tpDeepLearning1.html) proposé par le CNAM.\n",
    "### Pour les notes de cours, voir [DAUCE_W2](http://localhost:8888/notebooks/Documents/LabBooks/DAUCE-W2.ipynb)."
   ]
  }
 ],
 "metadata": {
  "kernelspec": {
   "display_name": "Python 3",
   "language": "python",
   "name": "python3"
  },
  "language_info": {
   "codemirror_mode": {
    "name": "ipython",
    "version": 3
   },
   "file_extension": ".py",
   "mimetype": "text/x-python",
   "name": "python",
   "nbconvert_exporter": "python",
   "pygments_lexer": "ipython3",
   "version": "3.5.2"
  }
 },
 "nbformat": 4,
 "nbformat_minor": 2
}
