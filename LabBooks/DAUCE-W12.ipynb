{
 "cells": [
  {
   "cell_type": "markdown",
   "metadata": {},
   "source": [
    "# 2018-02-19 - Comparaison filtres\n",
    "---\n",
    "Journée passée à intégrer la comparaison des filtres Wavelets et LogPolar dans le script mnist-logPolar-encoding.ipynb."
   ]
  },
  {
   "cell_type": "markdown",
   "metadata": {},
   "source": [
    "# 2018-02-20\n",
    "---"
   ]
  },
  {
   "cell_type": "markdown",
   "metadata": {},
   "source": [
    "---\n",
    "# To Do\n",
    "+ S'inscrire sur la liste de diffusion de l'INS\n",
    "+ Traduire le rapport en anglais?\n",
    "### mnist-logPolar-encoding\n",
    "+ Créer un classifier pour stopper les saccades lorsque la cible est identifiée\n",
    "    + Améliorer la méthode d'apprentissage du classifieur (performances très faibles)\n",
    "+ Créer une ou plusieurs méthodes pour introduire du bruit écologique dans les images (cf Najemnik2005 (chercher la méthode utilisée dans les sources); librairie [SLIP](https://nbviewer.jupyter.org/github/bicv/SLIP/blob/master/SLIP.ipynb) de Laurent)\n",
    "+ Traduire en modèle probabiliste\n",
    "+ Introduire le whitening de l'image dans l'apprentissage\n",
    "+ Se renseigner sur cet [optimiseur](https://www.tensorflow.org/api_docs/python/tf/train/AdamOptimizer) pour améliorer l'apprentissage du détecteur\n",
    "+ Intégrer le filtre WaveImage pour réaliser des comparaisons quantitatives WaveImage/LogPolar \n",
    "    + ~~Intégrer le filtre dans le script~~\n",
    "    + **Intégrer les blocs spécifiques à la comparaison (création de double-graphiques)** \n",
    "+ Créer graphique : quantité d'informations original de l'image et pour chaque filtre\n",
    "+ Créer graphique : économie de bandwidth pour chaque filtre\n",
    "### Waveimage-tensorflow-pow3-encoding_P3ver\n",
    "+ Créer un graphique : nombre de saccades nécessaires à atteindre la cible en fonction de sa distance du point de fixation\n",
    "+ Créer un classifier pour stopper les saccades lorsque la cible est identifiée\n",
    "    + Entrainer le classifier\n",
    "    + Evaluer les performances du classifier\n",
    "+ Traduire le modèle en modèle probabiliste\n",
    "+ Créer une ou plusieurs méthodes pour introduire du bruit dans les images\n",
    "+ Réaliser une transformation coordonnées -> degrés et adapter le modèle pour les utiliser\n",
    "### Rapport M2a\n",
    "+ Créer les fichers pour les autres chapitres\n",
    "    + Discussion\n",
    "+ Ecrire une ébauche de méthodes\n",
    "    + **Décrire le filtre Wavelets**\n",
    "    + Décrire le filtre LogPolar\n",
    "+ Changer le style de *sorting* des citations (= citer dans l'ordre)\n",
    "+ Intégrer toutes les sources au texte\n",
    "+ Ecrire une ébauche de résultats"
   ]
  },
  {
   "cell_type": "markdown",
   "metadata": {},
   "source": [
    "---\n",
    "# A lire\n",
    "+ http://bethgelab.org/media/publications/Kuemmerer_High_Low_Level_Fixations_ICCV_2017.pdf\n",
    "+ https://pdfs.semanticscholar.org/0182/5573781674bcf85d0f5d2ec456842f75ad3c.pdf\n",
    "+ Schmidhuber, 1991 (voir mail Daucé)\n",
    "+ Parr and Friston, 2017 (voir mail Perrinet)\n",
    "+ http://journals.plos.org/ploscompbiol/article?id=10.1371/journal.pcbi.1003005#s1\n",
    "+ http://rpg.ifi.uzh.ch/docs/RAL18_Loquercio.pdf\n",
    "+ https://www.nature.com/articles/sdata2016126\n",
    "+ [Liu et al., 2016](http://ieeexplore.ieee.org/document/7762165/?reload=true) : Learning to Predict Eye Fixations via Multiresolution Convolutional Neural Networks\n",
    "+ [Papier utilisant une méthode similaire à la notre + intégration en robotique](https://www.researchgate.net/publication/220934961_Fast_Object_Detection_with_Foveated_Imaging_and_Virtual_Saccades_on_Resource_Limited_Robots)\n",
    "### Magnocellular pathway function  \n",
    "+ [Selective suppression of the magnocellular visual pathway during saccadic eye movements](http://www.nature.com.lama.univ-amu.fr/articles/371511a0), Burr1994\n",
    "+ [On Identifying Magnocellular and Parvocellular Responses on the Basis of Contrast-Response Functions](https://www.ncbi.nlm.nih.gov/pmc/articles/PMC3004196/), Skottun2011\n",
    "+ [Review: Steady and pulsed pedestals, the how and why of post-receptoral pathway separation](http://jov.arvojournals.org/article.aspx?articleid=2191890), Pokorny2011\n",
    "+ [An evolving view of duplex vision: separate but interacting cortical pathways for perception and action](http://www.sciencedirect.com/science/article/pii/S0959438804000340?via%3Dihub), Goodale2004\n",
    "+ [Quantitative measurement of saccade amplitude, duration, and velocity](http://n.neurology.org/content/25/11/1065), Baloh1975"
   ]
  },
  {
   "cell_type": "markdown",
   "metadata": {},
   "source": [
    "---\n",
    "# Satellites\n",
    "+ D'autres manières de penser les réseaux de neurones artificiels :\n",
    "    + [Hierarchical temporal memory](https://numenta.org/hierarchical-temporal-memory/)\n",
    "    + [DarkNet](https://pjreddie.com/darknet/)\n",
    "+ [r/science AMA](https://www.reddit.com/r/science/comments/7yegux/aaas_ama_hi_were_researchers_from_google/) sur l'IA de Yann LeCun (Facebook AI Research), Eric Horvitz (Microsoft Research) et Peter Norvig (Google) / [Archive](https://www.thewinnower.com/papers/8586-aaas-ama-hi-we-re-researchers-from-google-microsoft-and-facebook-who-study-artificial-intelligence-ask-us-anything)\n",
    "+ Milliers d'[articles OpenSources](https://arxiv.org/), y compris en computer vision"
   ]
  }
 ],
 "metadata": {
  "kernelspec": {
   "display_name": "Python 3",
   "language": "python",
   "name": "python3"
  },
  "language_info": {
   "codemirror_mode": {
    "name": "ipython",
    "version": 3
   },
   "file_extension": ".py",
   "mimetype": "text/x-python",
   "name": "python",
   "nbconvert_exporter": "python",
   "pygments_lexer": "ipython3",
   "version": "3.5.2"
  }
 },
 "nbformat": 4,
 "nbformat_minor": 2
}
