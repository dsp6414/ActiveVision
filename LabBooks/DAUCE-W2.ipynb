{
 "cells": [
  {
   "cell_type": "markdown",
   "metadata": {},
   "source": [
    "# 2017-12-11 - Apprendre le machine learning\n",
    "---\n",
    "Cet après-midi 14h : rencontre avec Daucé (modèle + machine learning + tensorflow)\n",
    "\n",
    "Butko,2010 émet deux points importants, qui ne sont pas pris en compte dans son modèle : l'incertitude (à propos de l'environnement, de ses propres mouvements et de sa perception) et l'existance de plusieurs types de mouvements oculaires (pas seulement les saccades).\n",
    "\n",
    "TensorFlow est une libraire (majoritairement python, d'autres *API* sont disponibles : Java, C++ et Go) opensource développée par Google offrant une interface pour modéliser des réseaux de neurones artificiels et réaliser du *machine learning*.  \n",
    "Leur [site officiel](https://www.tensorflow.org/) montre qu'elle est utilisée par de nombreuses entreprises et contient une grande quantité de [documentation](https://www.tensorflow.org/get_started/).  \n",
    "L'ensemble du projet est présent sur leur [GitHub](https://github.com/tensorflow/) et contient même un [site interactif](http://playground.tensorflow.org) permettant de prendre en main son fonctionnement.  \n",
    "\n",
    "Suite de **ressources à maitriser** pour bosser sur le projet :\n",
    "+ [Cours CNAM machine learning/deep learning](http://cedric.cnam.fr/vertigo/Cours/ml2/preambule.html)\n",
    "+ [Cours Coursera machine learning](https://www.coursera.org/learn/machine-learning?action=enroll)\n",
    "+ [Cours Google deep learning](https://www.udacity.com/course/deep-learning--ud730)\n",
    "\n",
    "J'ai commencé à bosser la [première ressource](http://cedric.cnam.fr/vertigo/Cours/ml2/preambule.html) et je suis presque arrivé à la fin de la première partie."
   ]
  },
  {
   "cell_type": "markdown",
   "metadata": {},
   "source": [
    "---\n",
    "# To Do\n",
    "+ Je dois me renseigner sur les *mountain car models* et sur ZcA (*whitening decorrelation method* correspondant à un pré-traitement de l'image avant de la passer dans les *wavelets* et le modèle)\n",
    "+ Je dois me renseigner sur Mendeley pour gérer efficacement ma biblio, et la partager en ligne avec Daucé et Perrinet\n",
    "+ Je dois m'inscrire sur la liste de diffusion privée de l'INS\n",
    "+ ~~Je dois me renseigner sur TensorFlow~~"
   ]
  },
  {
   "cell_type": "markdown",
   "metadata": {},
   "source": [
    "---\n",
    "# A lire\n",
    "+ https://www.ncbi.nlm.nih.gov/pmc/articles/PMC3361132/\n",
    "+ http://bethgelab.org/media/publications/Kuemmerer_High_Low_Level_Fixations_ICCV_2017.pdf\n",
    "+ https://pdfs.semanticscholar.org/0182/5573781674bcf85d0f5d2ec456842f75ad3c.pdf\n",
    "+ Schmidhuber, 1991"
   ]
  }
 ],
 "metadata": {
  "kernelspec": {
   "display_name": "Python 3",
   "language": "python",
   "name": "python3"
  },
  "language_info": {
   "codemirror_mode": {
    "name": "ipython",
    "version": 3
   },
   "file_extension": ".py",
   "mimetype": "text/x-python",
   "name": "python",
   "nbconvert_exporter": "python",
   "pygments_lexer": "ipython3",
   "version": "3.5.2"
  }
 },
 "nbformat": 4,
 "nbformat_minor": 2
}
