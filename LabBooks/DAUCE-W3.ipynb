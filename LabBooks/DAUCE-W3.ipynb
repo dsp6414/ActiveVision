{
 "cells": [
  {
   "cell_type": "markdown",
   "metadata": {},
   "source": [
    "# 2017-12-18 - Cours Coursera (suite)\n",
    "---\n",
    "Mise à jour de quelques notes, ajout d'un paragraphe \"Aller au delà\" avec des informations gravitant autour du projet, mais pas directement liées.  \n",
    "\n",
    "Il existe un [site](https://octave-online.net/) servant d'interpréteur Octave en ligne. Pratique pour tester quelques lignes de code sans avoir à installer/lancer Octave.  \n",
    "\n",
    "Je ne pouvais pas soumettre mon travail à Coursera parce que ma version de Octave (4.0.0) était trop ancienne (minimum 4.0.1). Les versions plus récentes n'étaient pas disponibles dans mon apt-get, j'ai du entrer les [lignes suivantes](https://www.coursera.org/learn/machine-learning/programming/8f3qT/linear-regression/discussions/threads/wJaxn9qwEeecTRLr7M2WWg) pour résoudre ce problème :\n",
    "\n",
    "    octave -v\n",
    "    > 4.0.0\n",
    "    sudo apt-get remove octave\n",
    "    \n",
    "    sudo add-apt-repository ppa:octave/stable\n",
    "    sudo apt-get update\n",
    "    sudo apt-get install octave\n",
    "    sudo apt-get install liboctave-dev\n",
    "    \n",
    "    octave-v\n",
    "    > 4.2.1"
   ]
  },
  {
   "cell_type": "markdown",
   "metadata": {},
   "source": [
    "# 2017-12-19 - Cours Coursera (suite)\n",
    "---\n",
    "Encore peu de notes, j'essaie d'avancer le cours de Coursera le plus rapidement possible.\n",
    "Ajout de notes \"Au delà\"."
   ]
  },
  {
   "cell_type": "markdown",
   "metadata": {},
   "source": [
    "# 2017-12-20\n",
    "---\n",
    "Plus d'informations sur la librairie [pywt](https://github.com/PyWavelets/pywt) et sa [documentation](https://pywavelets.readthedocs.io/en/latest/).  \n",
    "Plus d'informations sur la fonction [assert](https://www.tutorialspoint.com/python/assertions_in_python.htm)."
   ]
  },
  {
   "cell_type": "markdown",
   "metadata": {},
   "source": [
    "---\n",
    "# To Do\n",
    "+ Je dois me renseigner sur Mendeley pour gérer efficacement ma biblio, et la partager en ligne avec Daucé et Perrinet\n",
    "+ Je dois m'inscrire sur la liste de diffusion privée de l'INS"
   ]
  },
  {
   "cell_type": "markdown",
   "metadata": {},
   "source": [
    "---\n",
    "# A lire\n",
    "+ https://www.ncbi.nlm.nih.gov/pmc/articles/PMC3361132/\n",
    "+ http://bethgelab.org/media/publications/Kuemmerer_High_Low_Level_Fixations_ICCV_2017.pdf\n",
    "+ https://pdfs.semanticscholar.org/0182/5573781674bcf85d0f5d2ec456842f75ad3c.pdf\n",
    "+ Schmidhuber, 1991 (voir mail Daucé)\n",
    "+ Parr and Friston, 2017 (voir mail Perrinet)\n",
    "+ http://journals.plos.org/ploscompbiol/article?id=10.1371/journal.pcbi.1003005#s1"
   ]
  },
  {
   "cell_type": "markdown",
   "metadata": {},
   "source": [
    "---\n",
    "# Aller au delà\n",
    "+ [Article](https://arxiv.org/pdf/1711.06396.pdf) du labo IA d'Apple, avec leurs dernières avancées en détection d'objets embarquée sur un véhicule\n",
    "+ [Outil opensource](https://github.com/apple/turicreate) d'Apple, pour facilier le développement de modèles machine learning\n",
    "+ [Journal machine learning](https://machinelearning.apple.com/) d'Apple\n",
    "+ r/science AMA de [N.Brown\n",
    "and Pr. T.Sandholm](https://www.reddit.com/r/science/comments/7kksax/science_ama_series_we_are_professor_tuomas/) (Computer Science Department of Carnegie Mellon University), auteurs de Libratus, une IA jouant au poker et battant les meilleurs joueurs humains ([article 1](http://science.sciencemag.org/content/early/2017/12/15/science.aao1733?rss=1) ; [article 2](https://arxiv.org/pdf/1705.02955.pdf)).\n",
    "+ [Version en ligne d'un livre](http://neuronaldynamics.epfl.ch/index.html) de NeurComp écrit par des chercheurs de l'EPFL, comprenant des exercices en Python et des cours en vidéo."
   ]
  }
 ],
 "metadata": {
  "kernelspec": {
   "display_name": "Python 3",
   "language": "python",
   "name": "python3"
  },
  "language_info": {
   "codemirror_mode": {
    "name": "ipython",
    "version": 3
   },
   "file_extension": ".py",
   "mimetype": "text/x-python",
   "name": "python",
   "nbconvert_exporter": "python",
   "pygments_lexer": "ipython3",
   "version": "3.5.2"
  },
  "toc": {
   "colors": {
    "hover_highlight": "#DAA520",
    "navigate_num": "#000000",
    "navigate_text": "#333333",
    "running_highlight": "#FF0000",
    "selected_highlight": "#FFD700",
    "sidebar_border": "#EEEEEE",
    "wrapper_background": "#FFFFFF"
   },
   "moveMenuLeft": true,
   "nav_menu": {
    "height": "82px",
    "width": "252px"
   },
   "navigate_menu": true,
   "number_sections": true,
   "sideBar": true,
   "threshold": 4,
   "toc_cell": false,
   "toc_section_display": "block",
   "toc_window_display": false,
   "widenNotebook": false
  }
 },
 "nbformat": 4,
 "nbformat_minor": 2
}
