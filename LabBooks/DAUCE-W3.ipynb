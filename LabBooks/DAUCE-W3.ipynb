{
 "cells": [
  {
   "cell_type": "markdown",
   "metadata": {},
   "source": [
    "# 2017-12-18 - Cours Coursera (suite)\n",
    "---\n",
    "Mise à jour de quelques notes, ajout d'un paragraphe \"Aller au delà\" avec des informations gravitant autour du projet, mais pas directement liées.  \n",
    "\n",
    "Il existe un [site](https://octave-online.net/) servant d'interpréteur Octave en ligne. Pratique pour tester quelques lignes de code sans avoir à installer/lancer Octave.  \n",
    "\n",
    "Je ne pouvais pas soumettre mon travail à Coursera parce que ma version de Octave (4.0.0) était trop ancienne (minimum 4.0.1). Les versions plus récentes n'étaient pas disponibles dans mon apt-get, j'ai du entrer les [lignes suivantes](https://www.coursera.org/learn/machine-learning/programming/8f3qT/linear-regression/discussions/threads/wJaxn9qwEeecTRLr7M2WWg) pour résoudre ce problème :\n",
    "\n",
    "    octave -v\n",
    "    > 4.0.0\n",
    "    sudo apt-get remove octave\n",
    "    \n",
    "    sudo add-apt-repository ppa:octave/stable\n",
    "    sudo apt-get update\n",
    "    sudo apt-get install octave\n",
    "    sudo apt-get install liboctave-dev\n",
    "    \n",
    "    octave-v\n",
    "    > 4.2.1"
   ]
  },
  {
   "cell_type": "markdown",
   "metadata": {},
   "source": [
    "# 2017-12-19 - Cours Coursera (suite)\n",
    "---\n",
    "Encore peu de notes, j'essaie d'avancer le cours de Coursera le plus rapidement possible.  \n",
    "Ajout d'une partie \"Satellites\" à mes notes pour y noter des informations qui gravitent autour de notre sujet de recherche mais qui n'y sont pas directement reliées."
   ]
  },
  {
   "cell_type": "markdown",
   "metadata": {},
   "source": [
    "# 2017-12-20 - Cours Coursera + lecture script\n",
    "---\n",
    "Plus d'informations sur la librairie [pywt](https://github.com/PyWavelets/pywt) et sa [documentation](https://pywavelets.readthedocs.io/en/latest/).  \n",
    "Plus d'informations sur la fonction [assert](https://www.tutorialspoint.com/python/assertions_in_python.htm).  \n",
    "\n",
    "Dans notre modèle, la perte d'informations avec l'excentricité dans le champs visuel est réalisée via les coefficients d'ondelettes. Friston, 2012 utilise pour ça une ***two-dimensional Hamming function***, il faudrait que je jette un coup d'oeil à ce que c'est (*ma connexion internet ne semble pas vouloir fonctionner cet après-midi*).  \n",
    "\n",
    "Pour débuter, je dois considérer l'**identification de la position** de la cible comme un problème de **classification**. En pseudocode : \n",
    "\n",
    "    while position de la cible i,j != 0, 0:\n",
    "        Identifier la position de la cible\n",
    "        Modifier le point de fixation pour viser la cible\n",
    "        \n",
    "Je dois commencer par implémenter cette fonction en utilisant une **régression linéaire**/des [moindres carrés](https://fr.wikipedia.org/wiki/M%C3%A9thode_des_moindres_carr%C3%A9s), puis je pourrais essayer avec la méthode *pow_3_one_hot_coordinates* (implémentée dans le script **Waveimage tensorflow-pow3-encoding** que m'a transmit Daucé).  \n",
    "\n",
    "Plus loin dans le développement se posera la question de l'intégration de bruit, afin rendre la tache plus difficile, il faudra que l'on s'intéresse à la fois au bruit de l'environnement, et à celui propre au système perceptif (est-ce que l'on considère le support tel qu'il est -normalement sans bruit perceptif-, ou est-ce que l'on reste dans une optique biomimétique et on code alors ce bruit perceptif artificiellement?).   \n",
    "De même, l'intégration d'une fluctuation dans la précision des saccades serait-elle pertinente?  \n",
    "Aussi, si l'on veut rester dans une optique biomimétique, il faudra aussi penser à l'intégration ou non de délais dans le traitement/la saccade."
   ]
  },
  {
   "cell_type": "markdown",
   "metadata": {},
   "source": [
    "# 2017-12-21\n",
    "---\n",
    "J'ai depuis hier après-midi des problèmes avec la wifi du labo (connection possible mais aucun accès internet). J'ai pris de mon temps ce matin pour essayer de régler le problème mais rien n'y fait. Je me suis connecté sur la wifi de Jenny en attendant d'avoir une autre solution.  \n",
    "\n",
    "J'ai discuté hier soir, à l'occasion d'un meet-up Machine Learning, des employés de l'entreprise [O²Quant](http://www.o2quant.com/) (SSII spécialisée dans l'IA/Machine Learning/Deep Learning). Ont été présentés les **modèles à capsules**, qui semblent très puissants, et prometteurs pour notre projet. Appliqué à une tache de reconnaissance sur la base de données MNIST, le modèle présente un taux de réussite très élevé, y compris avec rotation des stimulis. Les performances sont conservées avec deux chiffres dans la stimulus (avec un recouvrement jusqu'à 80%, contre ~10% pour les anciens modèles). Il est implémentable avec TensorFlow.\n",
    "Il est aussi possible d'ajouter trois petites couches après celle de sortie, pour reconstruire ce que le modèle \"perçoit\", ce qui donne des indices sur la façon dont il traite les différentes catégories de stimuli. C'est comme cela que les auteurs se sont rendus compte que la barre horizontale médiane d'un \"7\" était considérée comme superflue, alors que le \"0\" doit absolument être fermé. \n",
    "\n",
    "Même si l'on n'utilise pas ces *capsule networks*, ils utilisent certaines fonctions qu'on pourrait appliquer, comme les *squashing functions* qui permettent de réduire la taille des vecteurs."
   ]
  },
  {
   "cell_type": "markdown",
   "metadata": {},
   "source": [
    "---\n",
    "# To Do\n",
    "+ Je dois me renseigner sur Mendeley pour gérer efficacement ma biblio, et la partager en ligne avec Daucé et Perrinet\n",
    "+ Je dois m'inscrire sur la liste de diffusion privée de l'INS"
   ]
  },
  {
   "cell_type": "markdown",
   "metadata": {},
   "source": [
    "---\n",
    "# A lire\n",
    "+ http://bethgelab.org/media/publications/Kuemmerer_High_Low_Level_Fixations_ICCV_2017.pdf\n",
    "+ https://pdfs.semanticscholar.org/0182/5573781674bcf85d0f5d2ec456842f75ad3c.pdf\n",
    "+ Schmidhuber, 1991 (voir mail Daucé)\n",
    "+ Parr and Friston, 2017 (voir mail Perrinet)\n",
    "+ http://journals.plos.org/ploscompbiol/article?id=10.1371/journal.pcbi.1003005#s1"
   ]
  },
  {
   "cell_type": "markdown",
   "metadata": {},
   "source": [
    "---\n",
    "# Satellites\n",
    "+ [Article](https://arxiv.org/pdf/1711.06396.pdf) du labo IA d'Apple, avec leurs dernières avancées en détection d'objets embarquée sur un véhicule\n",
    "+ [Outil opensource](https://github.com/apple/turicreate) d'Apple, pour facilier le développement de modèles machine learning\n",
    "+ [Journal machine learning](https://machinelearning.apple.com/) d'Apple\n",
    "+ r/science AMA de [N.Brown\n",
    "and Pr. T.Sandholm](https://www.reddit.com/r/science/comments/7kksax/science_ama_series_we_are_professor_tuomas/) (Computer Science Department of Carnegie Mellon University), auteurs de Libratus, une IA jouant au poker et battant les meilleurs joueurs humains ([article 1](http://science.sciencemag.org/content/early/2017/12/15/science.aao1733?rss=1) ; [article 2](https://arxiv.org/pdf/1705.02955.pdf)).\n",
    "+ [Version en ligne d'un livre](http://neuronaldynamics.epfl.ch/index.html) de NeurComp écrit par des chercheurs de l'EPFL, comprenant des exercices en Python et des cours en vidéo.\n",
    "+ [Article de blog](https://www.edureka.co/blog/capsule-networks/) décrivant le fonctionnement des capsule networks\n",
    "+ [S. Sabour and N.Frosst, 2017](https://arxiv.org/pdf/1710.09829.pdf) : Article décrivant l'implémentation d'un capsule network au problème de reconnaissance de chiffres (provenant de la base de données MNIST)"
   ]
  }
 ],
 "metadata": {
  "kernelspec": {
   "display_name": "Python 3",
   "language": "python",
   "name": "python3"
  },
  "language_info": {
   "codemirror_mode": {
    "name": "ipython",
    "version": 3
   },
   "file_extension": ".py",
   "mimetype": "text/x-python",
   "name": "python",
   "nbconvert_exporter": "python",
   "pygments_lexer": "ipython3",
   "version": "3.5.2"
  },
  "toc": {
   "colors": {
    "hover_highlight": "#DAA520",
    "navigate_num": "#000000",
    "navigate_text": "#333333",
    "running_highlight": "#FF0000",
    "selected_highlight": "#FFD700",
    "sidebar_border": "#EEEEEE",
    "wrapper_background": "#FFFFFF"
   },
   "moveMenuLeft": true,
   "nav_menu": {
    "height": "82px",
    "width": "252px"
   },
   "navigate_menu": true,
   "number_sections": true,
   "sideBar": true,
   "threshold": 4,
   "toc_cell": false,
   "toc_section_display": "block",
   "toc_window_display": false,
   "widenNotebook": false
  }
 },
 "nbformat": 4,
 "nbformat_minor": 2
}
