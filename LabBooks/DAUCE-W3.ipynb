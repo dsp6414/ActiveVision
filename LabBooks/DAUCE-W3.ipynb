{
 "cells": [
  {
   "cell_type": "markdown",
   "metadata": {},
   "source": [
    "# 2017-12-18\n",
    "---\n",
    "Mise à jour de quelques notes, ajout d'un paragraphe \"Aller au delà\" avec des informations gravitant autour du projet, mais pas directement liées.  \n",
    "\n",
    "Il existe un [site](https://octave-online.net/) servant d'interpréteur Octave en ligne. Pratique pour tester quelques lignes de code sans avoir à installer/lancer Octave."
   ]
  },
  {
   "cell_type": "markdown",
   "metadata": {},
   "source": [
    "---\n",
    "# To Do\n",
    "+ Je dois me renseigner sur Mendeley pour gérer efficacement ma biblio, et la partager en ligne avec Daucé et Perrinet\n",
    "+ Je dois m'inscrire sur la liste de diffusion privée de l'INS"
   ]
  },
  {
   "cell_type": "markdown",
   "metadata": {},
   "source": [
    "---\n",
    "# A lire\n",
    "+ https://www.ncbi.nlm.nih.gov/pmc/articles/PMC3361132/\n",
    "+ http://bethgelab.org/media/publications/Kuemmerer_High_Low_Level_Fixations_ICCV_2017.pdf\n",
    "+ https://pdfs.semanticscholar.org/0182/5573781674bcf85d0f5d2ec456842f75ad3c.pdf\n",
    "+ Schmidhuber, 1991 (voir mail Daucé)\n",
    "+ Parr and Friston, 2017 (voir mail Perrinet)"
   ]
  },
  {
   "cell_type": "markdown",
   "metadata": {},
   "source": [
    "---\n",
    "# Aller au delà\n",
    "+ [Article](https://arxiv.org/pdf/1711.06396.pdf) du labo IA d'Apple, avec leurs dernières avancées en détection d'objets embarquée sur un véhicule\n",
    "+ [Outil opensource](https://github.com/apple/turicreate) d'Apple, pour facilier le développement de modèles machine learning\n",
    "+ [Journal machine learning](https://machinelearning.apple.com/) d'Apple"
   ]
  }
 ],
 "metadata": {
  "kernelspec": {
   "display_name": "Python 3",
   "language": "python",
   "name": "python3"
  },
  "language_info": {
   "codemirror_mode": {
    "name": "ipython",
    "version": 3
   },
   "file_extension": ".py",
   "mimetype": "text/x-python",
   "name": "python",
   "nbconvert_exporter": "python",
   "pygments_lexer": "ipython3",
   "version": "3.5.2"
  }
 },
 "nbformat": 4,
 "nbformat_minor": 2
}
