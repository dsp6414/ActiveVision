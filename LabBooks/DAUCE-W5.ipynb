{
 "cells": [
  {
   "cell_type": "markdown",
   "metadata": {},
   "source": [
    "# 2018-01-03\n",
    "---\n",
    "Pas de Notebook pour la 4e semaine de stage, qui correspond à la pause hivernale.  \n",
    "Le semaine 5 est courte, le labo étant fermé lundi (ferié) et mardi.  \n",
    "L'absence pendant une semaine + la semaine courte me met encore plus en retard que je ne l'étais déjà.  \n",
    "\n",
    "Pour répondre à la thématique du stage (modélisation du comportement de la voie magnocellulaire), je pense qu'il faut que j'ai dans ma biblio au moins une review décrivant ce comportement."
   ]
  },
  {
   "cell_type": "markdown",
   "metadata": {},
   "source": [
    "---\n",
    "# To Do\n",
    "+ Se renseigner sur Mendeley pour gérer la biblio, la partager en ligne avec Daucé et Perrinet\n",
    "+ S'inscrire sur la liste de diffusion privée de l'INS\n",
    "+ Trouver une review complète sur le comportement de la voie magnocellulaire"
   ]
  },
  {
   "cell_type": "markdown",
   "metadata": {},
   "source": [
    "---\n",
    "# A lire\n",
    "+ http://bethgelab.org/media/publications/Kuemmerer_High_Low_Level_Fixations_ICCV_2017.pdf\n",
    "+ https://pdfs.semanticscholar.org/0182/5573781674bcf85d0f5d2ec456842f75ad3c.pdf\n",
    "+ Schmidhuber, 1991 (voir mail Daucé)\n",
    "+ Parr and Friston, 2017 (voir mail Perrinet)\n",
    "+ http://journals.plos.org/ploscompbiol/article?id=10.1371/journal.pcbi.1003005#s1"
   ]
  }
 ],
 "metadata": {
  "kernelspec": {
   "display_name": "Python 3",
   "language": "python",
   "name": "python3"
  },
  "language_info": {
   "codemirror_mode": {
    "name": "ipython",
    "version": 3
   },
   "file_extension": ".py",
   "mimetype": "text/x-python",
   "name": "python",
   "nbconvert_exporter": "python",
   "pygments_lexer": "ipython3",
   "version": "3.5.2"
  }
 },
 "nbformat": 4,
 "nbformat_minor": 2
}
