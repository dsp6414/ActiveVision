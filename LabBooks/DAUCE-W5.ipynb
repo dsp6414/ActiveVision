{
 "cells": [
  {
   "cell_type": "markdown",
   "metadata": {},
   "source": [
    "# 2018-01-03\n",
    "---\n",
    "Pas de Notebook pour la 4e semaine de stage, qui correspond à la pause hivernale.  \n",
    "Le semaine 5 est courte, le labo étant fermé lundi (ferié) et mardi.  \n",
    "L'absence pendant une semaine + la semaine courte me met encore plus en retard que je ne l'étais déjà.  \n",
    "\n",
    "Pour répondre à la thématique du stage (modélisation du comportement de la voie magnocellulaire), je pense qu'il faut que j'ai dans ma biblio au moins une review décrivant ce comportement.  \n",
    "\n",
    "J'ai trouvé quelques articles intéressants, que je place dans la section \"A lire\".  \n",
    "\n",
    "Le script *Waveimage tensorflow-pow3-encoding* que m'a envoyé Daucé utilise un kernel Python2, mais j'utilise habituellement un kernel Python3, ce qui fait qu'il me manque un certain nombre de dépendances pour le lancer. Je le traduit pas à pas en Python3 pour pouvoir le lancer et l'utiliser parce qu'il ne semble pas possible de modifier le kernel d'un script après sa création sous Jupyter.  \n",
    "\n",
    "Le script *Waveimage-tensorflow-pow3-encoding_P3ver* permet donc d'obtenir un échantillon d'images provenant de MNIST, de modifier la taille et l'emplacement du stimulus dans l'image et de simuler une vue fovéale via une dégradation de la qualité de l'image avec la distance du point central (via l'application de wavelets).  \n",
    "Il faut maintenant que j'écrive un script pouvant détecter la position de la cible, en premier lieu via une régression linéaire ([linear discriminant analysis](https://en.wikipedia.org/wiki/Linear_discriminant_analysis) ?) pour ensuite imposer une action entrainant le mouvement du centre de fixation vers le lieu prédit de la cible.  \n",
    "\n",
    "Essai d'algorythmique pour m'aider à avancer : \n",
    "\n",
    "    RECOIT valeurs vecteurs pow3_one_hot d'une image (X) OU valeurs individuelles des pixels (X)\n",
    "    CALCULE région de plus grande valeur :\n",
    "        SI valeur pixel n > valeur autres pixels\n",
    "        ALORS coordonnées pixel n == coordonnées d'intérêt\n",
    "    TANT QUE coordonnées d'intéret != coordonnées point de fixation :\n",
    "        ALORS coordonnées point de fixation (y) == coordonnées d'intérêt\n",
    "        \n",
    "Le codage one-hot me semble présenter une limite : dans une perception bruitée ou écologique, ce codage ne représentera pas forcément la localisation d'un stimulus d'intéret."
   ]
  },
  {
   "cell_type": "markdown",
   "metadata": {},
   "source": [
    "---\n",
    "# To Do\n",
    "+ Se renseigner sur Mendeley pour gérer la biblio, la partager en ligne avec Daucé et Perrinet\n",
    "+ S'inscrire sur la liste de diffusion privée de l'INS\n",
    "+ ~~Trouver une review complète sur le comportement de la voie magnocellulaire~~"
   ]
  },
  {
   "cell_type": "markdown",
   "metadata": {},
   "source": [
    "---\n",
    "# A lire\n",
    "+ http://bethgelab.org/media/publications/Kuemmerer_High_Low_Level_Fixations_ICCV_2017.pdf\n",
    "+ https://pdfs.semanticscholar.org/0182/5573781674bcf85d0f5d2ec456842f75ad3c.pdf\n",
    "+ Schmidhuber, 1991 (voir mail Daucé)\n",
    "+ Parr and Friston, 2017 (voir mail Perrinet)\n",
    "+ http://journals.plos.org/ploscompbiol/article?id=10.1371/journal.pcbi.1003005#s1  \n",
    "### Magnocellular pathway function  \n",
    "+ [Selective suppression of the magnocellular visual pathway during saccadic eye movements](http://www.nature.com.lama.univ-amu.fr/articles/371511a0), Burr1994\n",
    "+ [Functional mapping of the magnocellular and parvocellular subdivisions of human LGN](http://www.sciencedirect.com.lama.univ-amu.fr/science/article/pii/S1053811914005916?_rdoc=1&_fmt=high&_origin=gateway&_docanchor=&md5=b8429449ccfc9c30159a5f9aeaa92ffb&ccp=y), Denison2014\n",
    "+ [On Identifying Magnocellular and Parvocellular Responses on the Basis of Contrast-Response Functions](https://www.ncbi.nlm.nih.gov/pmc/articles/PMC3004196/), Skottun2011\n",
    "+ [Review: Steady and pulsed pedestals, the how and why of post-receptoral pathway separation](http://jov.arvojournals.org/article.aspx?articleid=2191890), Pokorny2011\n",
    "+ [An evolving view of duplex vision: separate but interacting cortical pathways for perception and action](http://www.sciencedirect.com/science/article/pii/S0959438804000340?via%3Dihub), Goodale2004"
   ]
  }
 ],
 "metadata": {
  "kernelspec": {
   "display_name": "Python 3",
   "language": "python",
   "name": "python3"
  },
  "language_info": {
   "codemirror_mode": {
    "name": "ipython",
    "version": 3
   },
   "file_extension": ".py",
   "mimetype": "text/x-python",
   "name": "python",
   "nbconvert_exporter": "python",
   "pygments_lexer": "ipython3",
   "version": "3.5.2"
  }
 },
 "nbformat": 4,
 "nbformat_minor": 2
}
