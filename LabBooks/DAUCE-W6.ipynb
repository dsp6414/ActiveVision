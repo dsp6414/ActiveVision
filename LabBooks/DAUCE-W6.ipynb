{
 "cells": [
  {
   "cell_type": "markdown",
   "metadata": {},
   "source": [
    "# 2018-01-08\n",
    "---\n",
    "Pas de notes, travail sur le script Waveimage-tensorflow-pow3-encoding_P3ver.ipynb"
   ]
  },
  {
   "cell_type": "markdown",
   "metadata": {},
   "source": [
    "# 2018-01-09 - benchmarking parametre alpha\n",
    "---\n",
    "Hier, j'ai bossé sur le script Waveimage-tensorflow-pow3-encoding_P3ver.ipynb, et ai fini par réaliser un benchmarking de l'effet du paramètre alpha sur l'apprentissage.\n",
    "\n",
    "Ce matin j'ai vu que de nouvelles modifications (f86a6eb et 74820bc) étaient présentes et j'ai pullé les fichiers de ActiveVision/Notebooks/\n",
    "\n",
    "Depuis, le script ne semble pas s'ouvrir et sous Jupyter affiche l'erreur suivante:\n",
    "\n",
    "    Unreadable Notebook: /home/pimt/Documents/Notebooks/Waveimage-tensorflow-pow3-encoding_P3ver.ipynb \n",
    "    NotJSONError('Notebook does not appear to be JSON: \\'{\\\\n \"cells\": [\\\\n {\\\\n \"cell_type\": \"m...',)\n",
    "    \n",
    "J'ai retourné spécifiquement (sans le reste des commits) ce fichier à une version antérieure (edd56fe) qui semble fonctionner correctement et comprendre mon benchmarking accompli, en suivant ces [instructions](https://stackoverflow.com/questions/2733873/reverting-a-single-file-to-a-previous-version-in-git#2734035).  \n",
    "\n",
    "    cd Documents/Notebooks/\n",
    "    git checkout edd56fe78fe8b0c978ddff87b6adeaccdd116d43 ./Waveimage-tensorflow-pow3-encoding_P3ver.ipynb\n",
    "    git commit -m 'revert'\n",
    "    git push origin master"
   ]
  },
  {
   "cell_type": "markdown",
   "metadata": {},
   "source": [
    "# 2018-01-10\n",
    "---\n",
    "Dans le script mnist-logPolar-encoding.ipynb, dans mon segment \"Apprentissage par regression lineaire\", la ligne :\n",
    "\n",
    "    image = mnist_reshape_128(x, i_offset=i_offset, j_offset=j_offset)\n",
    "    \n",
    "Semblait retourner un ensemble de type np.zeros :\n",
    "\n",
    "    print(image)\n",
    "    [[0, 0, 0, 0, ..., 0, 0, 0, 0]\n",
    "    [0, 0, 0, 0, ..., 0, 0, 0, 0]\n",
    "    [0, 0, 0, 0, ..., 0, 0, 0, 0]]\n",
    "    \n",
    "Mais une impression complète de l'array permet de voir que la variable contient bien des valeurs différentes de 0.  \n",
    "L'impression complète est possible grace aux lignes suivantes :\n",
    "\n",
    "    import numpy as np\n",
    "    np.set_printoptions(threshold=np.nan)"
   ]
  },
  {
   "cell_type": "markdown",
   "metadata": {},
   "source": [
    "---\n",
    "# To Do\n",
    "+ Se renseigner sur Mendeley pour gérer la biblio, la partager en ligne avec Daucé et Perrinet\n",
    "+ S'inscrire sur la liste de diffusion privée de l'INS"
   ]
  },
  {
   "cell_type": "markdown",
   "metadata": {},
   "source": [
    "---\n",
    "# A lire\n",
    "+ http://bethgelab.org/media/publications/Kuemmerer_High_Low_Level_Fixations_ICCV_2017.pdf\n",
    "+ https://pdfs.semanticscholar.org/0182/5573781674bcf85d0f5d2ec456842f75ad3c.pdf\n",
    "+ Schmidhuber, 1991 (voir mail Daucé)\n",
    "+ Parr and Friston, 2017 (voir mail Perrinet)\n",
    "+ http://journals.plos.org/ploscompbiol/article?id=10.1371/journal.pcbi.1003005#s1  \n",
    "### Magnocellular pathway function  \n",
    "+ [Selective suppression of the magnocellular visual pathway during saccadic eye movements](http://www.nature.com.lama.univ-amu.fr/articles/371511a0), Burr1994\n",
    "+ [On Identifying Magnocellular and Parvocellular Responses on the Basis of Contrast-Response Functions](https://www.ncbi.nlm.nih.gov/pmc/articles/PMC3004196/), Skottun2011\n",
    "+ [Review: Steady and pulsed pedestals, the how and why of post-receptoral pathway separation](http://jov.arvojournals.org/article.aspx?articleid=2191890), Pokorny2011\n",
    "+ [An evolving view of duplex vision: separate but interacting cortical pathways for perception and action](http://www.sciencedirect.com/science/article/pii/S0959438804000340?via%3Dihub), Goodale2004"
   ]
  },
  {
   "cell_type": "markdown",
   "metadata": {},
   "source": [
    "# Satellites\n",
    "- Utiliser le deep-learning pour reconstruire des images vues ou imaginées (imagerie mentale) à partir de données d'imagerie cérébrale ([source](https://www.biorxiv.org/content/biorxiv/early/2017/12/30/240317.full.pdf))."
   ]
  }
 ],
 "metadata": {
  "kernelspec": {
   "display_name": "Python 3",
   "language": "python",
   "name": "python3"
  },
  "language_info": {
   "codemirror_mode": {
    "name": "ipython",
    "version": 3
   },
   "file_extension": ".py",
   "mimetype": "text/x-python",
   "name": "python",
   "nbconvert_exporter": "python",
   "pygments_lexer": "ipython3",
   "version": "3.5.2"
  }
 },
 "nbformat": 4,
 "nbformat_minor": 2
}
