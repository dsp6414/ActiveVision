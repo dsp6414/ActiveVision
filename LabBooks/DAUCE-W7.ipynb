{
 "cells": [
  {
   "cell_type": "markdown",
   "metadata": {},
   "source": [
    "# 2018-01-15\n",
    "---\n",
    "Pour obtenir des courbes moins précises mais plus lisibles, je pourrais mettre en place du [curve fitting](https://en.wikipedia.org/wiki/Curve_fitting).  \n",
    "\n",
    "Pour améliorer ma biblio, j'ai cherché un livre pouvant servir de review complète sur le sujet des saccades oculaires biologiques.  \n",
    "J'ai trouvé [ce livre](https://global.oup.com/academic/product/the-neurology-of-eye-movements-9780199969289?cc=fr&lang=en&) qui correspond parfaitement à ce que je cherchais mais il ne semble pas disponible ni en ligne, ni en version physique (dans le réseau AMU). Je n'ai trouvé que ses [versions antérieures](http://www.sciencedirect.com.lama.univ-amu.fr/science/article/pii/S0002939401008625?_rdoc=1&_fmt=high&_origin=gateway&_docanchor=&md5=b8429449ccfc9c30159a5f9aeaa92ffb&ccp=y) et une [preview](https://books.google.fr/books?hl=fr&lr=&id=v2s0BwAAQBAJ&oi=fnd&pg=PP1&dq=eye+saccadic+movement&ots=4qqnU9APtE&sig=EJwKIj_C_qeMnLOUEIg-lOJskeA#v=onepage&q&f=false) incomplète.  \n",
    "\n",
    "Il semblerait que l'on peut facilement changer le style graphique (notamment passer en fond noir avec écritures blanches) de Jupyter (et bien d'autres sites) à l'aide de [Stylish](https://stackoverflow.com/questions/37668936/shared-configuration-for-jupyter-notebook-for-multiple-servers#39987225)."
   ]
  },
  {
   "cell_type": "markdown",
   "metadata": {},
   "source": [
    "---\n",
    "# To Do\n",
    "+ Se renseigner sur Mendeley pour gérer la biblio, la partager en ligne avec Daucé et Perrinet\n",
    "+ S'inscrire sur la liste de diffusion privée de l'INS\n",
    "### Waveimage-tensorflow-pow3-encoding_P3ver\n",
    "+ Créer un graphique : nombre de saccades nécessaires à atteindre la cible en fonction de sa distance du point de fixation\n",
    "+ Réaliser à nouveau les benchmarkings du paramètre alpha : le titre débordait de la figure\n",
    "+ Réaliser une transformation coordonnée -> degrés et adapter le modèle pour les utiliser\n",
    "### mnist-logPolar-encoding\n",
    "+ Ecrire un script réalisant un apprentissage par régression linéaire en utilisant les sorties de la partie \"Energy\"\n",
    "+ Intégrer un bruit écologique aux images (indices : Najemnik2005 (chercher dans les sources); librairie [SLIP](https://nbviewer.jupyter.org/github/bicv/SLIP/blob/master/SLIP.ipynb) de Laurent)\n",
    "### Rapport M2a\n",
    "+ Construire le squelette .tex du rapport"
   ]
  },
  {
   "cell_type": "markdown",
   "metadata": {},
   "source": [
    "---\n",
    "# A lire\n",
    "+ http://bethgelab.org/media/publications/Kuemmerer_High_Low_Level_Fixations_ICCV_2017.pdf\n",
    "+ https://pdfs.semanticscholar.org/0182/5573781674bcf85d0f5d2ec456842f75ad3c.pdf\n",
    "+ Schmidhuber, 1991 (voir mail Daucé)\n",
    "+ Parr and Friston, 2017 (voir mail Perrinet)\n",
    "+ http://journals.plos.org/ploscompbiol/article?id=10.1371/journal.pcbi.1003005#s1  \n",
    "### Magnocellular pathway function  \n",
    "+ [Selective suppression of the magnocellular visual pathway during saccadic eye movements](http://www.nature.com.lama.univ-amu.fr/articles/371511a0), Burr1994\n",
    "+ [On Identifying Magnocellular and Parvocellular Responses on the Basis of Contrast-Response Functions](https://www.ncbi.nlm.nih.gov/pmc/articles/PMC3004196/), Skottun2011\n",
    "+ [Review: Steady and pulsed pedestals, the how and why of post-receptoral pathway separation](http://jov.arvojournals.org/article.aspx?articleid=2191890), Pokorny2011\n",
    "+ [An evolving view of duplex vision: separate but interacting cortical pathways for perception and action](http://www.sciencedirect.com/science/article/pii/S0959438804000340?via%3Dihub), Goodale2004\n",
    "+ [Quantitative measurement of saccade amplitude, duration, and velocity](http://n.neurology.org/content/25/11/1065), Baloh1975"
   ]
  },
  {
   "cell_type": "markdown",
   "metadata": {},
   "source": [
    "---\n",
    "# Satellites\n",
    "- [Dropout:  A Simple Way to Prevent Neural Networks from\n",
    "Overfitting](https://www.cs.toronto.edu/~hinton/absps/JMLRdropout.pdf), Srivastava2004"
   ]
  }
 ],
 "metadata": {
  "kernelspec": {
   "display_name": "Python 3",
   "language": "python",
   "name": "python3"
  },
  "language_info": {
   "codemirror_mode": {
    "name": "ipython",
    "version": 3
   },
   "file_extension": ".py",
   "mimetype": "text/x-python",
   "name": "python",
   "nbconvert_exporter": "python",
   "pygments_lexer": "ipython3",
   "version": "3.5.2"
  }
 },
 "nbformat": 4,
 "nbformat_minor": 2
}
