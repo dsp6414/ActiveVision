{
 "cells": [
  {
   "cell_type": "markdown",
   "metadata": {},
   "source": [
    "# 2018-01-22\n",
    "---\n",
    "J'ai emprunté à la BU Timone trois livres qui me serviront de sources notamment pour mon introduction, ma discussion et ma conclusion : \n",
    "+ \"Neuromathematics of Vision\" de G. Citti et A. S. Sarti (2014)\n",
    "+ \"Understanding Vision - Theory, models and data\" de Li Zhaoping (2014)\n",
    "+ \"The new visual neurosciences\" édité par J. S. Werner et L. M. Chapula (2014)  \n",
    "\n",
    "Ce sont les livres les plus complets et les plus récents que j'ai pu trouver en emprun physique.  \n",
    "Le dernier est particulièrement imposant (~1700 pages) et est édité par le MIT. "
   ]
  },
  {
   "cell_type": "markdown",
   "metadata": {},
   "source": [
    "---\n",
    "# To Do\n",
    "+ Se renseigner sur Mendeley pour gérer la biblio, la partager en ligne avec Daucé et Perrinet\n",
    "+ S'inscrire sur la liste de diffusion privée de l'INS\n",
    "### Waveimage-tensorflow-pow3-encoding_P3ver\n",
    "+ Créer un graphique : nombre de saccades nécessaires à atteindre la cible en fonction de sa distance du point de fixation\n",
    "+ Réaliser à nouveau les benchmarkings du paramètre alpha : le titre débordait de la figure\n",
    "+ Réaliser une transformation coordonnée -> degrés et adapter le modèle pour les utiliser\n",
    "### mnist-logPolar-encoding\n",
    "+ Ecrire un script réalisant un apprentissage par régression linéaire en utilisant les sorties de la partie \"Energy\"\n",
    "+ Intégrer un bruit écologique aux images (indices : Najemnik2005 (chercher dans les sources); librairie [SLIP](https://nbviewer.jupyter.org/github/bicv/SLIP/blob/master/SLIP.ipynb) de Laurent)\n",
    "### Rapport M2a\n",
    "+ ~~Construire le squelette .tex du rapport~~\n",
    "+ Ecrire une ébauche d'introduction"
   ]
  },
  {
   "cell_type": "markdown",
   "metadata": {},
   "source": [
    "---\n",
    "# A lire\n",
    "+ http://bethgelab.org/media/publications/Kuemmerer_High_Low_Level_Fixations_ICCV_2017.pdf\n",
    "+ https://pdfs.semanticscholar.org/0182/5573781674bcf85d0f5d2ec456842f75ad3c.pdf\n",
    "+ Schmidhuber, 1991 (voir mail Daucé)\n",
    "+ Parr and Friston, 2017 (voir mail Perrinet)\n",
    "+ http://journals.plos.org/ploscompbiol/article?id=10.1371/journal.pcbi.1003005#s1  \n",
    "### Magnocellular pathway function  \n",
    "+ [Selective suppression of the magnocellular visual pathway during saccadic eye movements](http://www.nature.com.lama.univ-amu.fr/articles/371511a0), Burr1994\n",
    "+ [On Identifying Magnocellular and Parvocellular Responses on the Basis of Contrast-Response Functions](https://www.ncbi.nlm.nih.gov/pmc/articles/PMC3004196/), Skottun2011\n",
    "+ [Review: Steady and pulsed pedestals, the how and why of post-receptoral pathway separation](http://jov.arvojournals.org/article.aspx?articleid=2191890), Pokorny2011\n",
    "+ [An evolving view of duplex vision: separate but interacting cortical pathways for perception and action](http://www.sciencedirect.com/science/article/pii/S0959438804000340?via%3Dihub), Goodale2004\n",
    "+ [Quantitative measurement of saccade amplitude, duration, and velocity](http://n.neurology.org/content/25/11/1065), Baloh1975"
   ]
  },
  {
   "cell_type": "markdown",
   "metadata": {},
   "source": [
    "---\n",
    "# Satellites\n",
    "- [Cooperating with machines](https://www.nature.com/articles/s41467-017-02597-8); Crandall et al., 2018"
   ]
  }
 ],
 "metadata": {
  "kernelspec": {
   "display_name": "Python 3",
   "language": "python",
   "name": "python3"
  },
  "language_info": {
   "codemirror_mode": {
    "name": "ipython",
    "version": 3
   },
   "file_extension": ".py",
   "mimetype": "text/x-python",
   "name": "python",
   "nbconvert_exporter": "python",
   "pygments_lexer": "ipython3",
   "version": "3.5.2"
  }
 },
 "nbformat": 4,
 "nbformat_minor": 2
}
