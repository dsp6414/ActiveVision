{
 "cells": [
  {
   "cell_type": "markdown",
   "metadata": {},
   "source": [
    "# 2018-01-29 - Intégration d'un classifier MNIST\n",
    "---\n",
    "J'ai résolu le problème d'assignation des données à x_train en créant toute la base d'apprentissage dans une boucle for.  \n",
    "Nouveau problème : je n'arrive pas à réaliser correctement la multiplication des poids (theta) et des valeurs (x) pour calculer les hypothèses à l'aide de la fonction :\n",
    "\n",
    "    tf.matmul()\n",
    "    \n",
    "Ce [lien](https://stackoverflow.com/questions/40717614/multiplication-of-tensors-in-a-python-list-with-a-constant-variable-in-tensorflo) propose d'utiliser la fonction ([API](https://www.tensorflow.org/api_docs/python/tf/map_fn)) :\n",
    "\n",
    "    tf.map_fn()"
   ]
  },
  {
   "cell_type": "markdown",
   "metadata": {},
   "source": [
    "# 2018-01-30\n",
    "---"
   ]
  },
  {
   "cell_type": "markdown",
   "metadata": {},
   "source": [
    "---\n",
    "# To Do\n",
    "+ Partager le groupe Mendely avec Daucé et Perrinet\n",
    "+ S'inscrire sur la liste de diffusion de l'INS\n",
    "+ Traduire le rapport en anglais?\n",
    "+ ~~Signer fiche de présence du mois de janvier~~\n",
    "### Waveimage_TensorFlow\n",
    "+ Traduire le script de régression linéaire haut-niveau en script bas-niveau\n",
    "    + ~~Résoudre le problème d'assignation des données à x_train~~\n",
    "    + ~~Résoudre le problème de calcul matriciel pour l'élaboration de l'hypothèse~~\n",
    "+ Créer un classifier pour stopper les saccades lorsque la cible est identifiée\n",
    "+ Créer une ou plusieurs méthodes pour introduire du bruit dans les images\n",
    "+ Traduire le modèle en modèle probabiliste\n",
    "### Waveimage-tensorflow-pow3-encoding_P3ver\n",
    "+ Créer un graphique : nombre de saccades nécessaires à atteindre la cible en fonction de sa distance du point de fixation\n",
    "+ Créer un classifier pour stopper les saccades lorsque la cible est identifiée\n",
    "    + ~~Créer le classifier~~\n",
    "    + Entrainer le classifier\n",
    "    + Evaluer les performances du classifier\n",
    "+ Traduire le modèle en modèle probabiliste\n",
    "+ Créer une ou plusieurs méthodes pour introduire du bruit dans les images\n",
    "+ Réaliser une transformation coordonnée -> degrés et adapter le modèle pour les utiliser\n",
    "### mnist-logPolar-encoding\n",
    "+ Ecrire un script réalisant un apprentissage par régression linéaire en utilisant les sorties de la partie \"Energy\"\n",
    "+ Intégrer un bruit écologique aux images (cf Najemnik2005 (chercher la méthode utilisée dans les sources); librairie [SLIP](https://nbviewer.jupyter.org/github/bicv/SLIP/blob/master/SLIP.ipynb) de Laurent)\n",
    "### Rapport M2a\n",
    "+ Ecrire une ébauche d'introduction\n",
    "+ Créer les fichers pour les autres chapitres\n",
    "    + ~~Matériel et méthodes~~\n",
    "    + Résultats\n",
    "    + Discussion\n",
    "    + Annexes\n",
    "+ Ecrire une ébauche de matériel\n",
    "+ Ecrire une ébauche de méthodes"
   ]
  },
  {
   "cell_type": "markdown",
   "metadata": {},
   "source": [
    "---\n",
    "# A lire\n",
    "+ http://bethgelab.org/media/publications/Kuemmerer_High_Low_Level_Fixations_ICCV_2017.pdf\n",
    "+ https://pdfs.semanticscholar.org/0182/5573781674bcf85d0f5d2ec456842f75ad3c.pdf\n",
    "+ Schmidhuber, 1991 (voir mail Daucé)\n",
    "+ Parr and Friston, 2017 (voir mail Perrinet)\n",
    "+ http://journals.plos.org/ploscompbiol/article?id=10.1371/journal.pcbi.1003005#s1\n",
    "+ http://rpg.ifi.uzh.ch/docs/RAL18_Loquercio.pdf\n",
    "+ https://www.nature.com/articles/sdata2016126\n",
    "### Magnocellular pathway function  \n",
    "+ [Selective suppression of the magnocellular visual pathway during saccadic eye movements](http://www.nature.com.lama.univ-amu.fr/articles/371511a0), Burr1994\n",
    "+ [On Identifying Magnocellular and Parvocellular Responses on the Basis of Contrast-Response Functions](https://www.ncbi.nlm.nih.gov/pmc/articles/PMC3004196/), Skottun2011\n",
    "+ [Review: Steady and pulsed pedestals, the how and why of post-receptoral pathway separation](http://jov.arvojournals.org/article.aspx?articleid=2191890), Pokorny2011\n",
    "+ [An evolving view of duplex vision: separate but interacting cortical pathways for perception and action](http://www.sciencedirect.com/science/article/pii/S0959438804000340?via%3Dihub), Goodale2004\n",
    "+ [Quantitative measurement of saccade amplitude, duration, and velocity](http://n.neurology.org/content/25/11/1065), Baloh1975"
   ]
  },
  {
   "cell_type": "markdown",
   "metadata": {},
   "source": [
    "---\n",
    "# Satellites"
   ]
  }
 ],
 "metadata": {
  "kernelspec": {
   "display_name": "Python 3",
   "language": "python",
   "name": "python3"
  },
  "language_info": {
   "codemirror_mode": {
    "name": "ipython",
    "version": 3
   },
   "file_extension": ".py",
   "mimetype": "text/x-python",
   "name": "python",
   "nbconvert_exporter": "python",
   "pygments_lexer": "ipython3",
   "version": "3.5.2"
  }
 },
 "nbformat": 4,
 "nbformat_minor": 2
}
