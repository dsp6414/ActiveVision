{
 "cells": [
  {
   "cell_type": "markdown",
   "metadata": {},
   "source": [
    "# 2018-03-12 - Graphiques Mode 'Multiple'\n",
    "---\n",
    "Premier jour de stage, initialisation du rapport de stage (copie+nettoyage du rapport M2a pour conserver la même structure) et du premier notebook de notes personnelles.  \n",
    "Transmission de la liste de tâches à réaliser + d'articles à lire.\n",
    "\n",
    "J'ai réussi à résoudre le problème de chargement des données dans le cadre 'Multiple' (comparaison des filtres), en remplacant les lignes : \n",
    "\n",
    "    weights_detect_wl = tf.Variable(tf.random_normal([76,2], stddev=0.01), name='weights_detect_wl')    # poids (coordonnées)\n",
    "    weights_classif_wl = tf.Variable(tf.random_normal([76,10], stddev=0.01), name='weights_classif_wl') # poids (classes)\n",
    "\n",
    "Par :\n",
    "\n",
    "    weights_detect = [...]\n",
    "    weights_classif = [...]\n",
    "\n",
    "Et en réalisant une réinitialisation du graph après chaque fermeture de session :\n",
    "\n",
    "    sess_wl.close()\n",
    "    tf.reset_default_graph()"
   ]
  },
  {
   "cell_type": "markdown",
   "metadata": {},
   "source": [
    "# 2018-03-13 - Graphiques Mode 'Multiple'\n",
    "---\n",
    "Aujourd'hui j'ai pu terminer l'intégration de la majorité des graphiques pour le Mode 'Multiple' (comparaison de la performance des filtres).  \n",
    "L'optimiseur d'apprentissage [Adam](https://www.tensorflow.org/api_docs/python/tf/train/AdamOptimizer) est basé sur les travaux de [Kingma et Lei Ba, 2017](https://arxiv.org/pdf/1412.6980.pdf) et semble intéressant à intégrer à la place d'une simple descente de gradient."
   ]
  },
  {
   "cell_type": "markdown",
   "metadata": {},
   "source": [
    "# 2018-03-14 - Classifier_Mapping_TensorFlow\n",
    "---\n",
    "[SGD](https://en.wikipedia.org/wiki/Stochastic_gradient_descent) = Stochastic gradient descent ; Corresponds à une approximation de la méthode de descente de gradient  \n",
    "[CUDA](https://developer.nvidia.com/cuda-education-training) ; Outil d'optimisation de l'apprentissage par l'utilisation de GPU pour réaliser les calculs  \n",
    "[Doc](https://docs.python.org/2/library/functions.html#super) de la fonction super()  \n",
    "\n",
    "Lorsqu'on utilise l'optimiseur Adam, il est nécessaire de réaliser l'initialisation des variables après sa création, car il défini implicitement de nouvelles variables (beta_1 et beta_2):\n",
    "    \n",
    "    optimizer = tf.train.AdamOptimizer(alpha).minimize(cost)\n",
    "    sess.run(tf.global_variable_initializer())"
   ]
  },
  {
   "cell_type": "markdown",
   "metadata": {},
   "source": [
    "# 2018-03-15 - TensorFlow bugged\n",
    "---\n",
    "Récupération de l'ordinateur fixe INV-OPE-IMO3 sur lequel j'ai bossé l'année dernière. Clonage du repo ActiveVision pour bosser sur les deux ordis à la fois.\n",
    "\n",
    "    cd Documents/\n",
    "    git clone https://github.com/pierrealbiges/ActiveVision\n",
    "    Username : ...\n",
    "    Password : ...\n",
    "    \n",
    "J'ai un problème lorsque je tente de lancer tensorflow sur la machine INV-OPE-IM03, le script crash et output:\n",
    "\n",
    "    Illegal instruction (core dumped)"
   ]
  },
  {
   "cell_type": "markdown",
   "metadata": {},
   "source": [
    "# 2018-03-16 \n",
    "---\n",
    "J'ai passé l'après-midi d'hier à essayer de régler mon problème avec Tensorflow. Malgré tous mes efforts, je n'arrive pas à le faire tourner sur la machine INV-OPE-IM03. D'après mes recherches, le problème proviendrait d'une incompatibilité entre TensorFlow et le CPU de la machine..."
   ]
  },
  {
   "cell_type": "markdown",
   "metadata": {},
   "source": [
    "---\n",
    "# To Do\n",
    "+ Traduire le rapport en anglais?\n",
    "### mnist-logPolar-encoding\n",
    "+ Créer un classifier pour stopper les saccades lorsque la cible est identifiée\n",
    "    + Améliorer la méthode d'apprentissage du classifieur (performances très faibles)\n",
    "+ Créer une ou plusieurs méthodes pour introduire du bruit écologique dans les images (cf Najemnik2005 (chercher la méthode utilisée dans les sources); librairie [SLIP](https://nbviewer.jupyter.org/github/bicv/SLIP/blob/master/SLIP.ipynb) de Laurent)\n",
    "+ Traduire en modèle probabiliste\n",
    "+ Introduire le whitening de l'image dans l'apprentissage\n",
    "+ ~~Se renseigner sur l'[optimiseur Adam](https://www.tensorflow.org/api_docs/python/tf/train/AdamOptimizer) pour améliorer l'apprentissage du détecteur~~\n",
    "+ ~~Intégrer le filtre WaveImage pour réaliser des comparaisons quantitatives WaveImage/LogPolar~~\n",
    "    + ~~Intégrer les blocs spécifiques à la comparaison (création de double-graphiques)~~ \n",
    "    + ~~Résoudre le problème de chargement des données dans le cadre 'Multiple'~~\n",
    "+ Créer graphique : quantité d'informations original de l'image et pour chaque filtre\n",
    "+ Créer graphique : économie de bande-passante pour chaque filtre\n",
    "+ Réaliser une transformation coordonnées -> degrés et adapter le modèle pour les utiliser\n",
    "+ Remplacer la descente de gradient par un optimiseur Adam\n",
    "+ Se renseigner sur l'intégration d'un biais à l'apprentissage\n",
    "### Rapport M2b\n",
    "+ Ecrire une ébauche d'introduction"
   ]
  },
  {
   "cell_type": "markdown",
   "metadata": {},
   "source": [
    "---\n",
    "# A lire\n",
    "+ http://bethgelab.org/media/publications/Kuemmerer_High_Low_Level_Fixations_ICCV_2017.pdf\n",
    "+ https://pdfs.semanticscholar.org/0182/5573781674bcf85d0f5d2ec456842f75ad3c.pdf\n",
    "+ Schmidhuber, 1991 (voir mail Daucé)\n",
    "+ Parr and Friston, 2017 (voir mail Perrinet)\n",
    "+ http://journals.plos.org/ploscompbiol/article?id=10.1371/journal.pcbi.1003005#s1\n",
    "+ http://rpg.ifi.uzh.ch/docs/RAL18_Loquercio.pdf\n",
    "+ https://www.nature.com/articles/sdata2016126\n",
    "+ [Liu et al., 2016](http://ieeexplore.ieee.org/document/7762165/?reload=true) : Learning to Predict Eye Fixations via Multiresolution Convolutional Neural Networks\n",
    "+ [Papier utilisant une méthode similaire à la notre + intégration en robotique](https://www.researchgate.net/publication/220934961_Fast_Object_Detection_with_Foveated_Imaging_and_Virtual_Saccades_on_Resource_Limited_Robots)\n",
    "### Magnocellular pathway function  \n",
    "+ [Selective suppression of the magnocellular visual pathway during saccadic eye movements](http://www.nature.com.lama.univ-amu.fr/articles/371511a0), Burr1994\n",
    "+ [On Identifying Magnocellular and Parvocellular Responses on the Basis of Contrast-Response Functions](https://www.ncbi.nlm.nih.gov/pmc/articles/PMC3004196/), Skottun2011\n",
    "+ [Review: Steady and pulsed pedestals, the how and why of post-receptoral pathway separation](http://jov.arvojournals.org/article.aspx?articleid=2191890), Pokorny2011\n",
    "+ [An evolving view of duplex vision: separate but interacting cortical pathways for perception and action](http://www.sciencedirect.com/science/article/pii/S0959438804000340?via%3Dihub), Goodale2004\n",
    "+ [Quantitative measurement of saccade amplitude, duration, and velocity](http://n.neurology.org/content/25/11/1065), Baloh1975\n",
    "### Peripherical vision function\n",
    "+ [The Role of Peripheral Vision in Configural Spatial Knowledge Acquisition](https://etd.ohiolink.edu/pg_10?0::NO:10:P10_ACCESSION_NUM:wright1496188017928082), Douglas2017"
   ]
  },
  {
   "cell_type": "markdown",
   "metadata": {},
   "source": [
    "---\n",
    "# Satellites"
   ]
  }
 ],
 "metadata": {
  "kernelspec": {
   "display_name": "Python 3",
   "language": "python",
   "name": "python3"
  },
  "language_info": {
   "codemirror_mode": {
    "name": "ipython",
    "version": 3
   },
   "file_extension": ".py",
   "mimetype": "text/x-python",
   "name": "python",
   "nbconvert_exporter": "python",
   "pygments_lexer": "ipython3",
   "version": "3.5.2"
  }
 },
 "nbformat": 4,
 "nbformat_minor": 2
}
