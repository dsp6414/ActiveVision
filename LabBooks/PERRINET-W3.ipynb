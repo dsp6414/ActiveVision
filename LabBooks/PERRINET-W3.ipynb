{
 "cells": [
  {
   "cell_type": "markdown",
   "metadata": {},
   "source": [
    "# 2018-03-26\n",
    "---\n",
    "Journal Club InVibe Notes  \n",
    "    Functional brain networks for learning predictive statistics, ? et al., 2017  \n",
    "Only apparition probabilities are kept, signs-letter relation is randomized and changed between subjects and sessions.  \n",
    "0th order markov paradigm (no memory but fixed non-equiprobable probabilities) then 1st order markov paradigm (apparition probabilities directly depends on the last sign that appared).  \n",
    "Notable time differencies between train and evaluation steps, not totally explained by f%RI constraints (unloy used during evaluation steps).   \n",
    "Kullback-Lieber methode used to compute differences between data distributions.  \n",
    "High performance variability between subjects.  \n",
    "Performance seems better when using the maximization (vs matching) strategy but results are too weaks to make any conclusion.  \n",
    "Paprer contrains weird (too far?) interpretations considering methods and results.  \n",
    "Actived areas are differents for strategies and for markov paradigm used.  \n",
    "Biais of using students (not explicit, but subjects have a mean age of 21) for a study investigating learning methodes and implicated cerebral areas?  "
   ]
  },
  {
   "cell_type": "markdown",
   "metadata": {},
   "source": [
    "---\n",
    "# To Do\n",
    "+ **Traduire le modèle de TensorFlow vers Pytorch**\n",
    "### mnist-logPolar-encoding\n",
    "+ Créer un classifier pour stopper les saccades lorsque la cible est identifiée\n",
    "    + ~~Améliorer la méthode d'apprentissage du classifieur (performances très faibles)~~\n",
    "+ Créer une ou plusieurs méthodes pour introduire du bruit écologique dans les images (cf Najemnik2005 (chercher la méthode utilisée dans les sources); librairie [SLIP](https://nbviewer.jupyter.org/github/bicv/SLIP/blob/master/SLIP.ipynb) de Laurent)\n",
    "+ Traduire en modèle probabiliste\n",
    "### Rapport M2b\n",
    "+ **Ecrire une ébauche d'introduction**"
   ]
  },
  {
   "cell_type": "markdown",
   "metadata": {},
   "source": [
    "---\n",
    "# A lire\n",
    "+ http://bethgelab.org/media/publications/Kuemmerer_High_Low_Level_Fixations_ICCV_2017.pdf\n",
    "+ https://pdfs.semanticscholar.org/0182/5573781674bcf85d0f5d2ec456842f75ad3c.pdf\n",
    "+ Schmidhuber, 1991 (voir mail Daucé)\n",
    "+ Parr and Friston, 2017 (voir mail Perrinet)\n",
    "+ http://journals.plos.org/ploscompbiol/article?id=10.1371/journal.pcbi.1003005#s1\n",
    "+ http://rpg.ifi.uzh.ch/docs/RAL18_Loquercio.pdf\n",
    "+ https://www.nature.com/articles/sdata2016126\n",
    "+ [Liu et al., 2016](http://ieeexplore.ieee.org/document/7762165/?reload=true) : Learning to Predict Eye Fixations via Multiresolution Convolutional Neural Networks\n",
    "+ [Papier utilisant une méthode similaire à la notre + intégration en robotique](https://www.researchgate.net/publication/220934961_Fast_Object_Detection_with_Foveated_Imaging_and_Virtual_Saccades_on_Resource_Limited_Robots)\n",
    "### Magnocellular pathway function  \n",
    "+ [Selective suppression of the magnocellular visual pathway during saccadic eye movements](http://www.nature.com.lama.univ-amu.fr/articles/371511a0), Burr1994\n",
    "+ [On Identifying Magnocellular and Parvocellular Responses on the Basis of Contrast-Response Functions](https://www.ncbi.nlm.nih.gov/pmc/articles/PMC3004196/), Skottun2011\n",
    "+ [Review: Steady and pulsed pedestals, the how and why of post-receptoral pathway separation](http://jov.arvojournals.org/article.aspx?articleid=2191890), Pokorny2011\n",
    "+ [An evolving view of duplex vision: separate but interacting cortical pathways for perception and action](http://www.sciencedirect.com/science/article/pii/S0959438804000340?via%3Dihub), Goodale2004\n",
    "+ [Quantitative measurement of saccade amplitude, duration, and velocity](http://n.neurology.org/content/25/11/1065), Baloh1975\n",
    "### Peripherical vision function\n",
    "+ [The Role of Peripheral Vision in Configural Spatial Knowledge Acquisition](https://etd.ohiolink.edu/pg_10?0::NO:10:P10_ACCESSION_NUM:wright1496188017928082), Douglas2017"
   ]
  },
  {
   "cell_type": "markdown",
   "metadata": {},
   "source": [
    "---\n",
    "# Satellites"
   ]
  }
 ],
 "metadata": {
  "kernelspec": {
   "display_name": "Python 3",
   "language": "python",
   "name": "python3"
  },
  "language_info": {
   "codemirror_mode": {
    "name": "ipython",
    "version": 3
   },
   "file_extension": ".py",
   "mimetype": "text/x-python",
   "name": "python",
   "nbconvert_exporter": "python",
   "pygments_lexer": "ipython3",
   "version": "3.5.2"
  }
 },
 "nbformat": 4,
 "nbformat_minor": 2
}
