{
 "cells": [
  {
   "cell_type": "markdown",
   "metadata": {},
   "source": [
    "### Programme principal\n",
    "Ecriture du script py"
   ]
  },
  {
   "cell_type": "code",
   "execution_count": 15,
   "metadata": {
    "scrolled": true
   },
   "outputs": [
    {
     "name": "stdout",
     "output_type": "stream",
     "text": [
      "Overwriting Cert_detect.py\n"
     ]
    }
   ],
   "source": [
    "%%writefile Cert_detect.py\n",
    "import argparse\n",
    "import torch\n",
    "import torch.nn as nn\n",
    "import torch.nn.functional as F\n",
    "import torch.optim as optim\n",
    "from torchvision import datasets, transforms\n",
    "from torch.autograd import Variable\n",
    "from LogGabor import LogGabor\n",
    "import numpy as np\n",
    "import time\n",
    "\n",
    "# Init PyTorch arguments\n",
    "parser = argparse.ArgumentParser(description='PyTorch MNIST detector from certainty map')\n",
    "parser.add_argument('--batch_size', type=int, default=100, metavar='N',\n",
    "                   help='training batch size used as input (default: 100)')\n",
    "parser.add_argument('--epoch', type=int, default=10, metavar='N',\n",
    "                   help='number of training epochs (default: 10)')\n",
    "parser.add_argument('--lr', type=float, default=0.01, metavar='LR',\n",
    "                   help='learning rate (default: 0.01)')\n",
    "parser.add_argument('--momentum', type=float, default=0.5, metavar='M',\n",
    "                    help='SGD momentum (default: 0.5)')\n",
    "parser.add_argument('--no_cuda', action='store_true', default=False,\n",
    "                   help='disables use of GPU acceleration (default: False)')\n",
    "parser.add_argument('--seed', type=int, default=1, metavar='S',\n",
    "                   help='random number seed (default: 1)')\n",
    "parser.add_argument('--log-interval', type=int, default=50, metavar='N',\n",
    "                   help='how many batches to wait before logging training status (default: 50)')\n",
    "args = parser.parse_args()\n",
    "args.cuda = not args.no_cuda and torch.cuda.is_available() # check if GPU processing is available\n",
    "\n",
    "torch.manual_seed(args.seed)\n",
    "if args.cuda:\n",
    "    torch.cuda.manual_seed(args.seed)\n",
    "    #torch.cuda.empty_cache()\n",
    "        \n",
    "    \n",
    "kwargs = {'num_workers': 1, 'pin_memory': True} if args.cuda else {} # set some cuda parameters if cuda is activated\n",
    "\n",
    "# Defining how the training data will be loaded\n",
    "train_loader = torch.utils.data.DataLoader(\n",
    "    datasets.MNIST('/tmp/data', \n",
    "                   train=True, \n",
    "                   download=True,\n",
    "                   transform=transforms.Compose([\n",
    "                       transforms.ToTensor(),\n",
    "                       transforms.Normalize((0.1307,), (0.3081,))])),\n",
    "                batch_size=args.batch_size, \n",
    "                shuffle=True, \n",
    "                **kwargs)\n",
    "\n",
    "# Defining how the test data will be loaded\n",
    "eval_loader = torch.utils.data.DataLoader(\n",
    "    datasets.MNIST('/tmp/data', \n",
    "                   train=False,\n",
    "                   download=True,\n",
    "                   transform=transforms.Compose([\n",
    "                       transforms.ToTensor(),\n",
    "                       transforms.Normalize((0.1307,), (0.3081,))])),\n",
    "                batch_size=args.batch_size, \n",
    "                shuffle=True, \n",
    "                **kwargs)\n",
    "\n",
    "# Defining the categorization neural network\n",
    "class What(nn.Module):\n",
    "    def __init__(self):\n",
    "        super(What, self).__init__()\n",
    "        self.conv1 = nn.Conv2d(1, 50, kernel_size=5)\n",
    "        self.conv2 = nn.Conv2d(50, 20, kernel_size=5)\n",
    "        self.conv2_drop = nn.Dropout2d()\n",
    "        self.fc1 = nn.Linear(16820, 50)\n",
    "        self.fc2 = nn.Linear(50, 10)\n",
    "\n",
    "    def forward(self, x):\n",
    "        x = F.relu(F.max_pool2d(self.conv1(x), 2))\n",
    "        x = F.relu(F.max_pool2d(self.conv2_drop(self.conv2(x)), 2))\n",
    "        x = x.view(-1, 16820)\n",
    "        x = F.relu(self.fc1(x))\n",
    "        x = F.dropout(x, training=self.training)\n",
    "        x = self.fc2(x)\n",
    "        return F.log_softmax(x, dim=1)\n",
    "\n",
    "# Defining the localization neural network\n",
    "class Where(nn.Module):\n",
    "    # Defining the layers contained within the network\n",
    "    def __init__(self):\n",
    "        super(Where, self).__init__()\n",
    "        self.conv1 = nn.Conv1d(1, 20, kernel_size=5)  # First convolutional layer        \n",
    "        self.conv2 = nn.Conv1d(20, 50, kernel_size=5) # Second convolutional layer\n",
    "        self.conv2_drop = nn.Dropout()                # Dropout layer (randomly zeroes some of the input elements)\n",
    "        self.fc1 = nn.Linear(5850, 150)                # First linear layer (applies a linear transformation)\n",
    "        self.fc2 = nn.Linear(150, 2)                   # Second linear layer\n",
    "    \n",
    "    # Defining the actions that'll be submitted to the network\n",
    "    def forward(self, x):    \n",
    "        x = F.relu(F.max_pool1d(self.conv1(x),2))                   # F.relu applies the rectified linear unit function element-wise\n",
    "        x = F.relu(F.max_pool1d(self.conv2_drop(self.conv2(x)), 2)) # F.max_pool1d applies 1d max pooling over an input signal\n",
    "        x = x.view(-1, 5850)\n",
    "        x = F.relu(self.fc1(x))\n",
    "        x = F.dropout(x, training=self.training)\n",
    "        x = self.fc2(x)\n",
    "        return x\n",
    "    \n",
    "def mnist_reshape_128(x, i_off=0, j_off=0):\n",
    "    # Function that take a 28x28 pixels image and integrate it inside a blank 128*128 image\n",
    "    # on coordinates defined by the i_off and j_off arguments\n",
    "    N_pix = 28\n",
    "    assert x.shape == (N_pix,N_pix)\n",
    "    x_translate = np.zeros((N_pix*(128/N_pix), N_pix*(128/N_pix)))\n",
    "    x_translate[(N_pix+22+i_off):(2*N_pix+22+i_off), (N_pix+22+j_off):(2*N_pix+22+j_off)] = x[2,-1]/(np.mean(x[2,-1]))\n",
    "    return x_translate\n",
    "\n",
    "def minmax(value, border):\n",
    "    # Function that take a value and make sure it isn't superior\n",
    "    # to a value defined by the border argument (or inferior of its inverse)\n",
    "    value = max(value, -border)\n",
    "    value = min(value, border)\n",
    "    return value\n",
    "\n",
    "def vectorization(N_theta, N_orient, N_scale, N_phase, N_X, N_Y):\n",
    "    # Function that applies the LogPolar filter on an image, decreasing its resolution\n",
    "    # with the excentricity compared to its center.\n",
    "    # N_theta, N_orient, N_scale and N_phase define the filter shape\n",
    "    phi = np.zeros((N_theta, N_orient, N_scale, N_phase, N_X*N_Y))\n",
    "    parameterfile = 'https://raw.githubusercontent.com/bicv/LogGabor/master/default_param.py'\n",
    "    lg = LogGabor(parameterfile)\n",
    "    lg.set_size((N_X, N_Y))\n",
    "    params= {'sf_0':.1, 'B_sf': lg.pe.B_sf, 'theta':np.pi* 5 / 7., 'B_theta': lg.pe.B_theta}\n",
    "    phase = np.pi/4\n",
    "    edge = lg.normalize(lg.invert(lg.loggabor(N_X/3, 3*N_Y/4, **params)*np.exp(-1j*phase)))\n",
    "    \n",
    "    for i_theta in range(N_theta):\n",
    "        for i_orient in range(N_orient):\n",
    "            for i_scale in range(N_scale):\n",
    "                ecc =  .5**(N_scale - i_scale)\n",
    "                r = np.sqrt(N_X**2+N_Y**2) / 2 * ecc # radius\n",
    "                sf_0 = 0.5 * 0.03 / ecc\n",
    "                x = N_X/2 + r * np.cos((i_orient+(i_scale % 2)*.5)*np.pi*2 / N_orient)\n",
    "                y = N_Y/2 + r * np.sin((i_orient+(i_scale % 2)*.5)*np.pi*2 / N_orient)            \n",
    "                for i_phase in range(N_phase):\n",
    "                    params= {'sf_0':sf_0, 'B_sf': lg.pe.B_sf, 'theta':i_theta*np.pi/N_theta, 'B_theta': np.pi/N_theta/2}\n",
    "                    phase = i_phase * np.pi/2\n",
    "                    phi[i_theta, i_orient, i_scale, i_phase, :] = lg.normalize(lg.invert(lg.loggabor(x, y, **params)*np.exp(-1j*phase))).ravel()            \n",
    "    return phi\n",
    "\n",
    "def train_classifier(epoch):\n",
    "    t0 = time.time()\n",
    "    model.train()\n",
    "    \n",
    "    for batch_idx, (data, LABEL) in enumerate(train_loader):\n",
    "        if args.cuda:        \n",
    "            LABEL = LABEL.cuda()           \n",
    "        INPUT = data.min() * np.ones((args.batch_size, 1, 128, 128))\n",
    "\n",
    "        for idx in range(args.batch_size):\n",
    "            i_offset, j_offset = minmax(int(np.random.randn()*0), 2), minmax(int(np.random.randn()*0), 2)\n",
    "            data_reshaped = mnist_reshape_128(data[idx,0,:], i_offset, j_offset)\n",
    "            INPUT[idx, 0, :] = data_reshaped\n",
    "            \n",
    "        INPUT = torch.FloatTensor(INPUT)\n",
    "        #normalize = transforms.Normalize((0.1307,), (0.3081,))\n",
    "        INPUT, LABEL = Variable(INPUT), Variable(LABEL)\n",
    "        if args.cuda: INPUT = INPUT.cuda()\n",
    "        \n",
    "        optimizer.zero_grad()\n",
    "        \n",
    "        OUTPUT = model(INPUT)\n",
    "        \n",
    "        loss = F.nll_loss(OUTPUT, LABEL)\n",
    "        loss.backward()\n",
    "        optimizer.step()\n",
    "        \n",
    "        if batch_idx % args.log_interval == 0:\n",
    "            print('Train Epoch: {} [{}/{} ({:.0f}%)]\\tLoss: {:.6f}\\tElapsed time: {:.2f} mn'.format(\n",
    "                epoch, batch_idx * len(data), len(train_loader.dataset),\n",
    "                100. * batch_idx / len(train_loader), loss.data[0], (time.time()-t0)/60))\n",
    "\n",
    "def eval_classifier(epoch):\n",
    "    t0 = time.time()\n",
    "    model.eval()\n",
    "    eval_loss, correct = 0, 0\n",
    "    for batch_idx, (data, LABEL) in enumerate(eval_loader):\n",
    "        if args.cuda: \n",
    "            LABEL = LABEL.cuda() \n",
    "        LABEL = Variable(LABEL)\n",
    "        INPUT = np.zeros((args.batch_size, 1, 128, 128))\n",
    "        \n",
    "        for idx in range(args.batch_size):\n",
    "            i_offset, j_offset = minmax(int(np.random.randn()*0), 2), minmax(int(np.random.randn()*0), 2)\n",
    "            data_reshaped = mnist_reshape_128(data[idx,0,:], i_offset, j_offset)\n",
    "            INPUT[idx,0,:] = data_reshaped\n",
    "            \n",
    "        INPUT = torch.FloatTensor(INPUT)\n",
    "        INPUT = Variable(INPUT)\n",
    "        if args.cuda: INPUT = INPUT.cuda()\n",
    "        \n",
    "        OUTPUT = model(INPUT)\n",
    "        eval_loss += F.nll_loss(OUTPUT, LABEL, size_average=False).data[0]\n",
    "        pred = OUTPUT.data.max(1, keepdim=True)[1]\n",
    "        correct += pred.eq(LABEL.data.view_as(pred)).cpu().sum()\n",
    "\n",
    "    eval_loss /= len(eval_loader.dataset)\n",
    "    print('Test set: Average loss: {:.4f}, Accuracy: {}/{} ({:.0f}%), Elapsed time: {:.2f} mn\\n'.format(eval_loss, \n",
    "                                                                                 correct, \n",
    "                                                                                 len(eval_loader.dataset),\n",
    "                                                                                 100. * correct / len(eval_loader.dataset),\n",
    "                                                                                 (time.time()-t0)/60))\n",
    "         \n",
    "def map_classifier():\n",
    "    t0 = time.time()\n",
    "    t1 = time.time()\n",
    "    model.eval()\n",
    "    accuracy_map = np.zeros((128,128))\n",
    "\n",
    "    for batch_idx, (data, LABEL) in enumerate(eval_loader):\n",
    "        if args.cuda:\n",
    "            LABEL = LABEL.cuda()\n",
    "        LABEL = Variable(LABEL)\n",
    "\n",
    "        for i_offset in range(-30, 30, 1):\n",
    "            for j_offset in range(-30, 30, 1):\n",
    "                pred, correct = 0, 0\n",
    "                INPUT = np.zeros((args.batch_size,1,128,128))\n",
    "                for idx in range(args.batch_size):\n",
    "                    data_reshaped = mnist_reshape_128(data[idx,0,:], i_offset, j_offset)\n",
    "                    INPUT[idx,0,:] =  data_reshaped\n",
    "\n",
    "                INPUT = torch.FloatTensor(INPUT)\n",
    "                INPUT = Variable(INPUT)\n",
    "                if args.cuda:\n",
    "                    INPUT = INPUT.cuda()\n",
    "\n",
    "                OUTPUT = model(INPUT)\n",
    "                pred = OUTPUT.data.max(1, keepdim=True)[1]\n",
    "                correct = pred.eq(LABEL.data.view_as(pred)).sum()\n",
    "                accuracy_map[i_offset+64-1][j_offset+64-1] += (correct / args.batch_size)\n",
    "                if i_offset == 15 and j_offset == 15:\n",
    "                    print(i_offset, j_offset, correct, accuracy_map[i_offset+64-1][j_offset+64-1])\n",
    "\n",
    "                if time.time() - t1 > 30: \n",
    "                    print('i: {}, j: {}, elapsed time: {:.2f} mn'.format(i_offset, j_offset, (time.time()-t0)/60))\n",
    "                    t1 = time.time()\n",
    "        break\n",
    "                \n",
    "    return accuracy_map\n",
    "        \n",
    "            \n",
    "model = What()\n",
    "print('cuda:', args.cuda)\n",
    "if args.cuda:\n",
    "    model.cuda()\n",
    "    \n",
    "# Defining the optimizer that'll train the network\n",
    "optimizer = optim.SGD(model.parameters(),\n",
    "                      lr=args.lr,\n",
    "                      momentum=args.momentum)"
   ]
  },
  {
   "cell_type": "code",
   "execution_count": 16,
   "metadata": {
    "scrolled": true
   },
   "outputs": [
    {
     "name": "stdout",
     "output_type": "stream",
     "text": [
      "cuda: True\n"
     ]
    }
   ],
   "source": [
    "%run Cert_detect.py --epoch=3 --lr=5\n",
    "path = 'Cert_detector.pt'"
   ]
  },
  {
   "cell_type": "markdown",
   "metadata": {},
   "source": [
    "### Entrainement + Evaluation\n",
    "Chargement des données si l'entrainement a déjà été réalisé."
   ]
  },
  {
   "cell_type": "code",
   "execution_count": 2,
   "metadata": {
    "scrolled": true
   },
   "outputs": [
    {
     "name": "stdout",
     "output_type": "stream",
     "text": [
      "Training...\n",
      "Train Epoch: 1 [0/60000 (0%)]\tLoss: 2.310353\tElapsed time: 0.02 mn\n",
      "Train Epoch: 1 [5000/60000 (8%)]\tLoss: 2.281910\tElapsed time: 0.14 mn\n",
      "Train Epoch: 1 [10000/60000 (17%)]\tLoss: 2.300485\tElapsed time: 0.25 mn\n",
      "Train Epoch: 1 [15000/60000 (25%)]\tLoss: 2.307182\tElapsed time: 0.37 mn\n",
      "Train Epoch: 1 [20000/60000 (33%)]\tLoss: 2.334751\tElapsed time: 0.48 mn\n",
      "Train Epoch: 1 [25000/60000 (42%)]\tLoss: 2.314589\tElapsed time: 0.59 mn\n",
      "Train Epoch: 1 [30000/60000 (50%)]\tLoss: 2.378581\tElapsed time: 0.71 mn\n",
      "Train Epoch: 1 [35000/60000 (58%)]\tLoss: 2.329533\tElapsed time: 0.82 mn\n",
      "Train Epoch: 1 [40000/60000 (67%)]\tLoss: 2.325985\tElapsed time: 0.94 mn\n",
      "Train Epoch: 1 [45000/60000 (75%)]\tLoss: 2.359250\tElapsed time: 1.05 mn\n",
      "Train Epoch: 1 [50000/60000 (83%)]\tLoss: 2.297672\tElapsed time: 1.16 mn\n",
      "Train Epoch: 1 [55000/60000 (92%)]\tLoss: 2.334803\tElapsed time: 1.28 mn\n",
      "Test set: Average loss: 2.3221, Accuracy: 982/10000 (10%), Elapsed time: 0.10 mn\n",
      "\n",
      "Train Epoch: 2 [0/60000 (0%)]\tLoss: 2.313906\tElapsed time: 0.00 mn\n",
      "Train Epoch: 2 [5000/60000 (8%)]\tLoss: 2.314380\tElapsed time: 0.12 mn\n",
      "Train Epoch: 2 [10000/60000 (17%)]\tLoss: 2.321564\tElapsed time: 0.23 mn\n",
      "Train Epoch: 2 [15000/60000 (25%)]\tLoss: 2.356605\tElapsed time: 0.35 mn\n",
      "Train Epoch: 2 [20000/60000 (33%)]\tLoss: 2.337945\tElapsed time: 0.46 mn\n",
      "Train Epoch: 2 [25000/60000 (42%)]\tLoss: 2.274864\tElapsed time: 0.57 mn\n",
      "Train Epoch: 2 [30000/60000 (50%)]\tLoss: 2.322968\tElapsed time: 0.69 mn\n",
      "Train Epoch: 2 [35000/60000 (58%)]\tLoss: 2.334337\tElapsed time: 0.80 mn\n",
      "Train Epoch: 2 [40000/60000 (67%)]\tLoss: 2.309564\tElapsed time: 0.92 mn\n",
      "Train Epoch: 2 [45000/60000 (75%)]\tLoss: 2.310578\tElapsed time: 1.03 mn\n",
      "Train Epoch: 2 [50000/60000 (83%)]\tLoss: 2.327393\tElapsed time: 1.14 mn\n",
      "Train Epoch: 2 [55000/60000 (92%)]\tLoss: 2.311847\tElapsed time: 1.26 mn\n",
      "Test set: Average loss: 2.3239, Accuracy: 1028/10000 (10%), Elapsed time: 0.10 mn\n",
      "\n",
      "Train Epoch: 3 [0/60000 (0%)]\tLoss: 2.326878\tElapsed time: 0.00 mn\n",
      "Train Epoch: 3 [5000/60000 (8%)]\tLoss: 2.337278\tElapsed time: 0.12 mn\n",
      "Train Epoch: 3 [10000/60000 (17%)]\tLoss: 2.319110\tElapsed time: 0.23 mn\n",
      "Train Epoch: 3 [15000/60000 (25%)]\tLoss: 2.310269\tElapsed time: 0.35 mn\n",
      "Train Epoch: 3 [20000/60000 (33%)]\tLoss: 2.299656\tElapsed time: 0.46 mn\n",
      "Train Epoch: 3 [25000/60000 (42%)]\tLoss: 2.290840\tElapsed time: 0.57 mn\n",
      "Train Epoch: 3 [30000/60000 (50%)]\tLoss: 2.342989\tElapsed time: 0.69 mn\n",
      "Train Epoch: 3 [35000/60000 (58%)]\tLoss: 2.375972\tElapsed time: 0.80 mn\n",
      "Train Epoch: 3 [40000/60000 (67%)]\tLoss: 2.305106\tElapsed time: 0.92 mn\n",
      "Train Epoch: 3 [45000/60000 (75%)]\tLoss: 2.319938\tElapsed time: 1.03 mn\n",
      "Train Epoch: 3 [50000/60000 (83%)]\tLoss: 2.305176\tElapsed time: 1.14 mn\n",
      "Train Epoch: 3 [55000/60000 (92%)]\tLoss: 2.328193\tElapsed time: 1.26 mn\n",
      "Test set: Average loss: 2.3178, Accuracy: 1010/10000 (10%), Elapsed time: 0.10 mn\n",
      "\n",
      "Training saved in Cert_detector.pt\n"
     ]
    }
   ],
   "source": [
    "import os\n",
    "if os.path.isfile(path):\n",
    "    print('Loading training values from', path)\n",
    "    model.load_state_dict(torch.load(path))\n",
    "\n",
    "else:\n",
    "    print('Training...')\n",
    "    for epoch in range(1, args.epoch+1):\n",
    "        train_classifier(epoch)\n",
    "        eval_classifier(epoch)\n",
    "    torch.save(model.state_dict(), path)\n",
    "    print('Training saved in', path)"
   ]
  },
  {
   "cell_type": "markdown",
   "metadata": {},
   "source": [
    "### Evaluation seule"
   ]
  },
  {
   "cell_type": "code",
   "execution_count": 19,
   "metadata": {},
   "outputs": [
    {
     "name": "stdout",
     "output_type": "stream",
     "text": [
      "Evaluation...\n",
      "\n",
      "Test set: Average loss: 2.3015, Accuracy: 1135/10000 (11%), Elapsed time: 1.481396 mn\n"
     ]
    }
   ],
   "source": [
    "print('Evaluation...')\n",
    "for epoch in range(1, args.epoch+1):\n",
    "    eval_classifier(epoch)"
   ]
  },
  {
   "cell_type": "markdown",
   "metadata": {},
   "source": [
    "### Construction de la carte de certitude\n",
    "Travail en cours"
   ]
  },
  {
   "cell_type": "code",
   "execution_count": 17,
   "metadata": {
    "scrolled": true
   },
   "outputs": [
    {
     "name": "stdout",
     "output_type": "stream",
     "text": [
      "Accuracy map construction...\n",
      "i: -15, j: -9, elapsed time: 0.50 mn\n",
      "i: 0, j: -8, elapsed time: 1.00 mn\n",
      "i: 15, j: 11, elapsed time: 1.50 mn\n",
      "15 15 9 0.09\n",
      "i: 24, j: 24, elapsed time: 2.00 mn\n"
     ]
    },
    {
     "data": {
      "text/plain": [
       "<matplotlib.colorbar.Colorbar at 0x7f560128f0f0>"
      ]
     },
     "execution_count": 17,
     "metadata": {},
     "output_type": "execute_result"
    },
    {
     "data": {
      "image/png": "[encoded data removed]",
      "text/plain": [
       "<matplotlib.figure.Figure at 0x7f560171d8d0>"
      ]
     },
     "metadata": {},
     "output_type": "display_data"
    }
   ],
   "source": [
    "import matplotlib.pyplot as plt\n",
    "\n",
    "print('Accuracy map construction...')\n",
    "N_pix = 128//2\n",
    "fig, ax = plt.subplots(figsize=(13, 10.725))\n",
    "data = map_classifier()\n",
    "cmap = ax.pcolor(np.arange(-N_pix, N_pix), np.arange(-N_pix, N_pix), data)\n",
    "ax.axis('equal')\n",
    "fig.colorbar(cmap)"
   ]
  }
 ],
 "metadata": {
  "kernelspec": {
   "display_name": "Python 3",
   "language": "python",
   "name": "python3"
  },
  "language_info": {
   "codemirror_mode": {
    "name": "ipython",
    "version": 3
   },
   "file_extension": ".py",
   "mimetype": "text/x-python",
   "name": "python",
   "nbconvert_exporter": "python",
   "pygments_lexer": "ipython3",
   "version": "3.5.2"
  }
 },
 "nbformat": 4,
 "nbformat_minor": 2
}
