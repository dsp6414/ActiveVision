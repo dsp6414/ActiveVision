{
 "cells": [
  {
   "cell_type": "markdown",
   "metadata": {},
   "source": [
    "### Charger les valeurs d'accuracy construites dans un précédent script (2018-02-16_clasiffier)"
   ]
  },
  {
   "cell_type": "code",
   "execution_count": 1,
   "metadata": {
    "ExecuteTime": {
     "end_time": "2018-04-24T07:57:46.791399Z",
     "start_time": "2018-04-24T07:57:46.725562Z"
    }
   },
   "outputs": [
    {
     "name": "stdout",
     "output_type": "stream",
     "text": [
      "Loading accuracy...\n",
      "[[0.0974 0.0974 0.0974 ... 0.0974 0.0974 0.0974]\n",
      " [0.0974 0.0974 0.0974 ... 0.0974 0.0974 0.0974]\n",
      " [0.0974 0.0974 0.0974 ... 0.0974 0.0974 0.0974]\n",
      " ...\n",
      " [0.0974 0.0974 0.0974 ... 0.0974 0.0974 0.0974]\n",
      " [0.0974 0.0974 0.0974 ... 0.0974 0.0974 0.0974]\n",
      " [0.0974 0.0974 0.0974 ... 0.0974 0.0974 0.0974]]\n"
     ]
    }
   ],
   "source": [
    "import numpy as np\n",
    "import os\n",
    "\n",
    "path = \"MNIST_accuracy.npy\"\n",
    "if os.path.isfile(path):\n",
    "    print('Loading accuracy...')\n",
    "    accuracy =  np.load(path)\n",
    "    print(accuracy)"
   ]
  },
  {
   "cell_type": "markdown",
   "metadata": {},
   "source": [
    "### Préparer l'apprentissage"
   ]
  },
  {
   "cell_type": "code",
   "execution_count": 2,
   "metadata": {
    "ExecuteTime": {
     "end_time": "2018-04-24T07:57:50.073692Z",
     "start_time": "2018-04-24T07:57:46.793028Z"
    }
   },
   "outputs": [],
   "source": [
    "import torch\n",
    "import matplotlib.pyplot as plt\n",
    "import numpy as np\n",
    "from torchvision import datasets, transforms\n",
    "from LogGabor import LogGabor\n",
    "\n",
    "def vectorization(N_theta, N_azimuth, N_scale, N_phase, N_X, N_Y, rho = 1.61803):\n",
    "    phi = np.zeros((N_theta, N_azimuth, N_scale, N_phase, N_X*N_Y))\n",
    "    parameterfile = 'https://raw.githubusercontent.com/bicv/LogGabor/master/default_param.py'\n",
    "    lg = LogGabor(parameterfile)\n",
    "    lg.set_size((N_X, N_Y))\n",
    "    params= {'sf_0':.1, 'B_sf': lg.pe.B_sf, 'theta':np.pi* 5 / 7., 'B_theta': lg.pe.B_theta}\n",
    "    phase = np.pi/4\n",
    "    edge = lg.normalize(lg.invert(lg.loggabor(N_X/3, 3*N_Y/4, **params)*np.exp(-1j*phase)))\n",
    "    \n",
    "    for i_theta in range(N_theta):\n",
    "        for i_azimuth in range(N_azimuth):\n",
    "            for i_scale in range(N_scale):\n",
    "                ecc =  (1/rho)**(N_scale - i_scale)\n",
    "                r = np.sqrt(N_X**2+N_Y**2) / 2 * ecc # radius\n",
    "                sf_0 = 0.5 * 0.03 / ecc\n",
    "                x = N_X/2 + r * np.cos((i_azimuth+(i_scale % 2)*.5)*np.pi*2 / N_azimuth)\n",
    "                y = N_Y/2 + r * np.sin((i_azimuth+(i_scale % 2)*.5)*np.pi*2 / N_azimuth)            \n",
    "                for i_phase in range(N_phase):\n",
    "                    params= {'sf_0':sf_0, 'B_sf': lg.pe.B_sf, 'theta':i_theta*np.pi/N_theta, 'B_theta': np.pi/N_theta/2}\n",
    "                    phase = i_phase * np.pi/2\n",
    "                    phi[i_theta, i_azimuth, i_scale, i_phase, :] = lg.normalize(lg.invert(lg.loggabor(x, y, **params)*np.exp(-1j*phase))).ravel()            \n",
    "    return phi\n",
    "\n",
    "N_theta, N_azimuth, N_scale, N_phase, N_X, N_Y = 6, 8, 5, 2, 128, 128\n",
    "\n",
    "phi = vectorization(N_theta, N_azimuth, N_scale, N_phase, N_X, N_Y)\n",
    "phi_vector = phi.reshape((N_theta*N_azimuth*N_scale*N_phase, N_X*N_Y))\n",
    "phi_plus = np.linalg.pinv(phi_vector)\n",
    "\n",
    "energy = (phi**2).sum(axis=(0,3)) \n",
    "energy /= energy.sum(axis=-1)[:, :, None]\n",
    "energy_vector = energy.reshape((N_azimuth*N_scale, N_X*N_Y))\n",
    "energy_plus = np.linalg.pinv(energy_vector)\n",
    "\n",
    "def accuracy_128(i_offset, j_offset, N_pic=128):\n",
    "    \n",
    "    center = (N_pic-55)//2\n",
    "    \n",
    "    accuracy_128 = 0.1 * np.ones((N_pic, N_pic))\n",
    "    accuracy_128[int(center+i_offset):int(center+55+i_offset),int(center+j_offset):int(center+55+j_offset)] = accuracy\n",
    "    \n",
    "    accuracy_LP = energy_vector @ np.ravel(accuracy_128)\n",
    "    \n",
    "    return accuracy_LP\n",
    "\n",
    "def mnist_128(data, i_offset, j_offset, N_pic=128):\n",
    "    center = (N_pic-28)//2\n",
    "    \n",
    "    data_128 = data.min() * np.ones((N_pic, N_pic))\n",
    "    data_128[int(center+i_offset):int(center+28+i_offset),int(center+j_offset):int(center+28+j_offset)] = data\n",
    "\n",
    "    data_LP = phi_vector @ np.ravel(data_128)\n",
    "     \n",
    "    return data_LP\n",
    "\n",
    "def couples(data, i_offset, j_offset):\n",
    "    v = mnist_128(data, i_offset, j_offset)\n",
    "    a = accuracy_128(i_offset, j_offset)\n",
    "    \n",
    "    return (v,a)\n",
    "\n",
    "def minmax(value, border):\n",
    "    value = max(value, -border)\n",
    "    value = min(value, border)\n",
    "    return value"
   ]
  },
  {
   "cell_type": "markdown",
   "metadata": {},
   "source": [
    "### Construire un modèle simple de régression linéaire pour apprendre la correspondance v/a"
   ]
  },
  {
   "cell_type": "code",
   "execution_count": 3,
   "metadata": {
    "ExecuteTime": {
     "end_time": "2018-04-24T07:57:50.117964Z",
     "start_time": "2018-04-24T07:57:50.075382Z"
    }
   },
   "outputs": [],
   "source": [
    "import argparse\n",
    "import torch\n",
    "import torch.nn as nn\n",
    "import torch.nn.functional as F\n",
    "import torch.optim as optim\n",
    "from torchvision import datasets, transforms\n",
    "from torch.autograd import Variable\n",
    "from LogGabor import LogGabor\n",
    "import numpy as np\n",
    "import time\n",
    "\n",
    "sample_size = 100 #quantity of examples that'll be processed\n",
    "\n",
    "data_loader = torch.utils.data.DataLoader(\n",
    "    datasets.MNIST('/tmp/data', \n",
    "                   train=True,    #def the dataset as training data \n",
    "                   download=True, #download if dataset not present on disk\n",
    "                   transform=transforms.Compose([\n",
    "                       transforms.ToTensor(),\n",
    "                       transforms.Normalize((0.1307,), (0.3081,))])),\n",
    "                   batch_size=sample_size, \n",
    "                   shuffle=True)\n",
    "\n",
    "class Net(torch.nn.Module):\n",
    "    def __init__(self, n_feature, n_hidden, n_output):\n",
    "        super(Net, self).__init__()\n",
    "        self.hidden = torch.nn.Linear(n_feature, n_hidden)\n",
    "        self.predict = torch.nn.Linear(n_hidden, n_output)\n",
    "        \n",
    "    def forward(self, data):\n",
    "        data = F.relu(self.hidden(data))\n",
    "        data = self.predict(data)\n",
    "        data = F.sigmoid(data)\n",
    "        return data\n",
    "    \n",
    "net = Net(n_feature=480, n_hidden=260, n_output=40)\n",
    "optimizer = torch.optim.SGD(net.parameters(), lr=0.3)\n",
    "loss_func = torch.nn.MSELoss()\n",
    "#loss_func = torch.nn.CrossEntropyLoss()\n",
    "\n",
    "def train(epoch_nb, sample_size):\n",
    "    t_start = time.time()\n",
    "    print('Starting training...')\n",
    "    for epoch in range(epoch_nb):\n",
    "        for batch_idx, (data, label) in enumerate(data_loader):\n",
    "            data_v, data_a = np.zeros((sample_size, 1, 480)), np.zeros((sample_size, 1, 40))\n",
    "            for idx in range(sample_size):\n",
    "                i_offset, j_offset = minmax(np.random.randn()*5, 35), minmax(np.random.randn()*5, 35)\n",
    "                v, a = couples(data[idx,0,:], i_offset, j_offset)\n",
    "                data_v[idx,0,:], data_a[idx,0,:] = v, a\n",
    "\n",
    "            data_v, data_a = torch.FloatTensor(data_v), torch.FloatTensor(data_a)\n",
    "            data_v, data_a = Variable(data_v), Variable(data_a)\n",
    "\n",
    "            prediction = net(data_v)\n",
    "            loss = loss_func(prediction, data_a)\n",
    "\n",
    "            optimizer.zero_grad()\n",
    "            loss.backward()\n",
    "            optimizer.step()\n",
    "\n",
    "            if batch_idx % 100 == 0:\n",
    "                print('Epoch {}: [{}/{}] Loss: {} Time: {:.2f} mn'.format(\n",
    "                    epoch, batch_idx*sample_size, len(data_loader.dataset), \n",
    "                    loss.data.numpy(), (time.time()-t_start)/60))\n",
    "    print('...Training done')\n",
    "    \n",
    "def evaluation():\n",
    "    print('Starting evaluation...')\n",
    "    for batch_idx, (data, label) in enumerate(data_loader):\n",
    "        data_v, data_a = np.zeros((1, 1, 480)), np.zeros((1, 1, 40))\n",
    "\n",
    "        i_offset, j_offset = minmax(np.random.randn()*10, 30), minmax(np.random.randn()*10, 30)\n",
    "        print('i_offset: {}, j_offset: {}'.format(i_offset, j_offset))\n",
    "        v, a = couples(data[0,0,:], i_offset, j_offset)\n",
    "        data_v[0,0,:], data_a[0,0,:] = v, a\n",
    "\n",
    "        data_v, data_a = torch.FloatTensor(data_v), torch.FloatTensor(data_a)\n",
    "        data_v, data_a = Variable(data_v), Variable(data_a)\n",
    "\n",
    "        prediction = net(data_v)\n",
    "        \n",
    "        pred_data = prediction.data.numpy()[-1][-1]\n",
    "\n",
    "        image = energy_plus @ pred_data\n",
    "        image_reshaped = image.reshape(128,128)\n",
    "        \n",
    "        fig, ax = plt.subplots(figsize=(13,10.725))\n",
    "        cmap = ax.pcolor(np.arange(-64,64), np.arange(-64,64), image_reshaped)\n",
    "        fig.colorbar(cmap)\n",
    "        \n",
    "        for i_offset in range(-65,64):\n",
    "            for j_offset in range(-64,64):\n",
    "                if image_reshaped[i_offset][j_offset] == image_reshaped.max():\n",
    "                    print(i_offset, j_offset, image_reshaped.max())\n",
    "        \n",
    "        print('...Evaluation done')\n",
    "        break"
   ]
  },
  {
   "cell_type": "code",
   "execution_count": 4,
   "metadata": {
    "ExecuteTime": {
     "end_time": "2018-04-24T07:57:50.125151Z",
     "start_time": "2018-04-24T07:57:50.119761Z"
    }
   },
   "outputs": [
    {
     "name": "stdout",
     "output_type": "stream",
     "text": [
      "Loading file...\n"
     ]
    }
   ],
   "source": [
    "path = 'regression_couples.pt'\n",
    "\n",
    "if os.path.isfile(path):\n",
    "    print('Loading file...')\n",
    "    net.load_state_dict(torch.load(path))\n",
    "else:\n",
    "    print('Training model...')\n",
    "    epoch_nb = 2      #number of training epochs\n",
    "    train(epoch_nb, sample_size)\n",
    "    torch.save(net.state_dict(), path)"
   ]
  },
  {
   "cell_type": "code",
   "execution_count": 5,
   "metadata": {
    "ExecuteTime": {
     "end_time": "2018-04-24T07:57:50.898274Z",
     "start_time": "2018-04-24T07:57:50.126640Z"
    }
   },
   "outputs": [
    {
     "name": "stdout",
     "output_type": "stream",
     "text": [
      "Starting evaluation...\n",
      "i_offset: -4.459477114437447, j_offset: 10.355188020816577\n",
      "59 -53 1.794540491520202\n",
      "...Evaluation done\n"
     ]
    },
    {
     "data": {
      "image/png": "[encoded data removed]",
      "text/plain": [
       "<Figure size 936x772.2 with 2 Axes>"
      ]
     },
     "metadata": {},
     "output_type": "display_data"
    }
   ],
   "source": [
    "evaluation()"
   ]
  }
 ],
 "metadata": {
  "kernelspec": {
   "display_name": "Python 3",
   "language": "python",
   "name": "python3"
  },
  "language_info": {
   "codemirror_mode": {
    "name": "ipython",
    "version": 3
   },
   "file_extension": ".py",
   "mimetype": "text/x-python",
   "name": "python",
   "nbconvert_exporter": "python",
   "pygments_lexer": "ipython3",
   "version": "3.6.5"
  },
  "toc": {
   "base_numbering": 1,
   "nav_menu": {},
   "number_sections": true,
   "sideBar": true,
   "skip_h1_title": false,
   "title_cell": "Table of Contents",
   "title_sidebar": "Contents",
   "toc_cell": false,
   "toc_position": {},
   "toc_section_display": true,
   "toc_window_display": false
  }
 },
 "nbformat": 4,
 "nbformat_minor": 2
}
