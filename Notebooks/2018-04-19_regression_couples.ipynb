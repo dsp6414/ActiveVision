{
 "cells": [
  {
   "cell_type": "markdown",
   "metadata": {},
   "source": [
    "### Charger les valeurs d'accuracy construites dans un précédent script (2018-02-16_clasiffier)"
   ]
  },
  {
   "cell_type": "code",
   "execution_count": 1,
   "metadata": {
    "ExecuteTime": {
     "end_time": "2018-04-17T14:27:09.951959Z",
     "start_time": "2018-04-17T14:27:09.506895Z"
    }
   },
   "outputs": [
    {
     "name": "stdout",
     "output_type": "stream",
     "text": [
      "Loading accuracy...\n",
      "[[ 0.0974  0.0974  0.0974 ...,  0.0974  0.0974  0.0974]\n",
      " [ 0.0974  0.0974  0.0974 ...,  0.0974  0.0974  0.0974]\n",
      " [ 0.0974  0.0974  0.0974 ...,  0.0974  0.0974  0.0974]\n",
      " ..., \n",
      " [ 0.0974  0.0974  0.0974 ...,  0.0974  0.0974  0.0974]\n",
      " [ 0.0974  0.0974  0.0974 ...,  0.0974  0.0974  0.0974]\n",
      " [ 0.0974  0.0974  0.0974 ...,  0.0974  0.0974  0.0974]]\n"
     ]
    }
   ],
   "source": [
    "import numpy as np\n",
    "import os\n",
    "\n",
    "path = \"MNIST_accuracy.npy\"\n",
    "if os.path.isfile(path):\n",
    "    print('Loading accuracy...')\n",
    "    accuracy =  np.load(path)\n",
    "    print(accuracy)"
   ]
  },
  {
   "cell_type": "markdown",
   "metadata": {},
   "source": [
    "### Préparer l'apprentissage"
   ]
  },
  {
   "cell_type": "code",
   "execution_count": 2,
   "metadata": {
    "ExecuteTime": {
     "end_time": "2018-04-17T14:28:24.425493Z",
     "start_time": "2018-04-17T14:28:19.465448Z"
    }
   },
   "outputs": [],
   "source": [
    "import torch\n",
    "import matplotlib.pyplot as plt\n",
    "import numpy as np\n",
    "from torchvision import datasets, transforms\n",
    "from LogGabor import LogGabor\n",
    "\n",
    "def vectorization(N_theta, N_orient, N_scale, N_phase, N_X, N_Y):\n",
    "    phi = np.zeros((N_theta, N_orient, N_scale, N_phase, N_X*N_Y))\n",
    "    parameterfile = 'https://raw.githubusercontent.com/bicv/LogGabor/master/default_param.py'\n",
    "    lg = LogGabor(parameterfile)\n",
    "    lg.set_size((N_X, N_Y))\n",
    "    params= {'sf_0':.1, 'B_sf': lg.pe.B_sf, 'theta':np.pi* 5 / 7., 'B_theta': lg.pe.B_theta}\n",
    "    phase = np.pi/4\n",
    "    edge = lg.normalize(lg.invert(lg.loggabor(N_X/3, 3*N_Y/4, **params)*np.exp(-1j*phase)))\n",
    "    \n",
    "    for i_theta in range(N_theta):\n",
    "        for i_orient in range(N_orient):\n",
    "            for i_scale in range(N_scale):\n",
    "                ecc =  .5**(N_scale - i_scale)\n",
    "                r = np.sqrt(N_X**2+N_Y**2) / 2 * ecc # radius\n",
    "                sf_0 = 0.5 * 0.03 / ecc\n",
    "                x = N_X/2 + r * np.cos((i_orient+(i_scale % 2)*.5)*np.pi*2 / N_orient)\n",
    "                y = N_Y/2 + r * np.sin((i_orient+(i_scale % 2)*.5)*np.pi*2 / N_orient)            \n",
    "                for i_phase in range(N_phase):\n",
    "                    params= {'sf_0':sf_0, 'B_sf': lg.pe.B_sf, 'theta':i_theta*np.pi/N_theta, 'B_theta': np.pi/N_theta/2}\n",
    "                    phase = i_phase * np.pi/2\n",
    "                    phi[i_theta, i_orient, i_scale, i_phase, :] = lg.normalize(lg.invert(lg.loggabor(x, y, **params)*np.exp(-1j*phase))).ravel()            \n",
    "    return phi\n",
    "\n",
    "N_theta, N_orient, N_scale, N_phase, N_X, N_Y = 6, 8, 5, 2, 128, 128\n",
    "phi = vectorization(N_theta, N_orient, N_scale, N_phase, N_X, N_Y)\n",
    "phi_vector = phi.reshape((N_theta*N_orient*N_scale*N_phase, N_X*N_Y))\n",
    "phi_plus = np.linalg.pinv(phi_vector)\n",
    "\n",
    "energy = (phi**2).sum(axis=(0,3)) \n",
    "energy /= energy.sum(axis=-1)[:, :, None]\n",
    "energy_vector = energy.reshape((N_orient*N_scale, N_X*N_Y))\n",
    "energy_plus = np.linalg.pinv(energy_vector)\n",
    "\n",
    "def accuracy_128(i_offset, j_offset):\n",
    "    N_pic = 128\n",
    "    center = (128-55)//2\n",
    "    \n",
    "    accuracy_128 = 0.1 * np.ones((N_pic,N_pic))\n",
    "    accuracy_128[(center+i_offset):(center+55+i_offset),(center+j_offset):(center+55+j_offset)] = accuracy\n",
    "    \n",
    "    accuracy_LP = energy_vector @ np.ravel(accuracy_128)\n",
    "    \n",
    "    return accuracy_LP\n",
    "\n",
    "def mnist_128(data, i_offset, j_offset):\n",
    "    N_pic = 128\n",
    "    center = (128-28)//2\n",
    "    \n",
    "    data_128 = data.min() * np.ones((128,128))\n",
    "    data_128[(center+i_offset):(center+28+i_offset),(center+j_offset):(center+28+j_offset)] = data\n",
    "\n",
    "    data_LP = phi_vector @ np.ravel(data_128)\n",
    "     \n",
    "    return data_LP\n",
    "\n",
    "def couples(data, i_offset, j_offset):\n",
    "    v = mnist_128(data, i_offset, j_offset)\n",
    "    a = accuracy_128(i_offset, j_offset)\n",
    "    \n",
    "    return (v,a)\n",
    "\n",
    "def minmax(value, border):\n",
    "    value = max(value, -border)\n",
    "    value = min(value, border)\n",
    "    return value"
   ]
  },
  {
   "cell_type": "markdown",
   "metadata": {},
   "source": [
    "### Construire un modèle simple de régression linéaire pour apprendre la correspondance v/a"
   ]
  },
  {
   "cell_type": "code",
   "execution_count": 23,
   "metadata": {},
   "outputs": [],
   "source": [
    "import argparse\n",
    "import torch\n",
    "import torch.nn as nn\n",
    "import torch.nn.functional as F\n",
    "import torch.optim as optim\n",
    "from torchvision import datasets, transforms\n",
    "from torch.autograd import Variable\n",
    "from LogGabor import LogGabor\n",
    "import numpy as np\n",
    "import time\n",
    "\n",
    "sample_size = 100 #quantity of examples that'll be processed\n",
    "\n",
    "data_loader = torch.utils.data.DataLoader(\n",
    "    datasets.MNIST('/tmp/data', \n",
    "                   train=True,    #def the dataset as training data \n",
    "                   download=True, #download if dataset not present on disk\n",
    "                   transform=transforms.Compose([\n",
    "                       transforms.ToTensor(),\n",
    "                       transforms.Normalize((0.1307,), (0.3081,))])),\n",
    "                   batch_size=sample_size, \n",
    "                   shuffle=True)\n",
    "\n",
    "class Net(torch.nn.Module):\n",
    "    def __init__(self, n_feature, n_hidden, n_output):\n",
    "        super(Net, self).__init__()\n",
    "        self.hidden = torch.nn.Linear(n_feature, n_hidden)\n",
    "        self.predict = torch.nn.Linear(n_hidden, n_output)\n",
    "        \n",
    "    def forward(self, data):\n",
    "        data = F.relu(self.hidden(data))\n",
    "        data = self.predict(data)\n",
    "        data = F.sigmoid(data)\n",
    "        return data\n",
    "    \n",
    "net = Net(n_feature=480, n_hidden=200, n_output=40)\n",
    "optimizer = torch.optim.SGD(net.parameters(), lr=0.3)\n",
    "loss_func = torch.nn.MSELoss()\n",
    "#loss_func = torch.nn.CrossEntropyLoss()\n",
    "\n",
    "def train(epoch_nb, sample_size):\n",
    "    t_start = time.time()\n",
    "    print('Starting training...')\n",
    "    for epoch in range(epoch_nb):\n",
    "        for batch_idx, (data, label) in enumerate(data_loader):\n",
    "            data_v, data_a = np.zeros((sample_size, 1, 480)), np.zeros((sample_size, 1, 40))\n",
    "            for idx in range(sample_size):\n",
    "                i_offset, j_offset = minmax(np.random.randn()*10, 30), minmax(np.random.randn()*10, 30)\n",
    "                v, a = couples(data[idx,0,:], i_offset, j_offset)\n",
    "                data_v[idx,0,:], data_a[idx,0,:] = v, a\n",
    "\n",
    "            data_v, data_a = torch.FloatTensor(data_v), torch.FloatTensor(data_a)\n",
    "            data_v, data_a = Variable(data_v), Variable(data_a)\n",
    "\n",
    "            prediction = net(data_v)\n",
    "            loss = loss_func(prediction, data_a)\n",
    "\n",
    "            optimizer.zero_grad()\n",
    "            loss.backward()\n",
    "            optimizer.step()\n",
    "\n",
    "            if batch_idx % 50 == 0:\n",
    "                print('Epoch {}: [{}/{}] Loss: {} Time: {:.2f} mn'.format(\n",
    "                    epoch, batch_idx*sample_size, len(data_loader.dataset), \n",
    "                    loss.data.numpy(), (time.time()-t_start)/60))\n",
    "    print('...Training done')\n",
    "    \n",
    "def evaluation():\n",
    "    print('Starting evaluation...')\n",
    "    for batch_idx, (data, label) in enumerate(data_loader):\n",
    "        data_v, data_a = np.zeros((1, 1, 480)), np.zeros((1, 1, 40))\n",
    "\n",
    "        i_offset, j_offset = minmax(np.random.randn()*10, 30), minmax(np.random.randn()*10, 30)\n",
    "        print('i_offset: {}, j_offset: {}'.format(i_offset, j_offset))\n",
    "        v, a = couples(data[0,0,:], i_offset, j_offset)\n",
    "        data_v[0,0,:], data_a[0,0,:] = v, a\n",
    "\n",
    "        data_v, data_a = torch.FloatTensor(data_v), torch.FloatTensor(data_a)\n",
    "        data_v, data_a = Variable(data_v), Variable(data_a)\n",
    "\n",
    "        prediction = net(data_v)\n",
    "        \n",
    "        pred_data = prediction.data.numpy()[-1][-1]\n",
    "\n",
    "        image = energy_plus @ pred_data\n",
    "        #for value in image: value = 1/(1+((1/0.1-1))*np.exp(-value))\n",
    "        fig, ax = plt.subplots(figsize=(13,10.725))\n",
    "        cmap = ax.pcolor(np.arange(-64,64), np.arange(-64,64), image.reshape(128,128))\n",
    "        fig.colorbar(cmap)\n",
    "        \n",
    "        print('...Evaluation done')\n",
    "        break"
   ]
  },
  {
   "cell_type": "code",
   "execution_count": 25,
   "metadata": {},
   "outputs": [
    {
     "name": "stdout",
     "output_type": "stream",
     "text": [
      "Starting training...\n",
      "Epoch 0: [0/60000] Loss: [ 0.26285189] Time: 0.02 mn\n",
      "Epoch 0: [5000/60000] Loss: [ 0.01370041] Time: 0.81 mn\n",
      "Epoch 0: [10000/60000] Loss: [ 0.0115312] Time: 1.61 mn\n",
      "Epoch 0: [15000/60000] Loss: [ 0.00916455] Time: 2.41 mn\n",
      "Epoch 0: [20000/60000] Loss: [ 0.00867938] Time: 3.21 mn\n",
      "Epoch 0: [25000/60000] Loss: [ 0.00784699] Time: 4.01 mn\n",
      "Epoch 0: [30000/60000] Loss: [ 0.00805599] Time: 4.81 mn\n",
      "Epoch 0: [35000/60000] Loss: [ 0.00731458] Time: 5.61 mn\n",
      "Epoch 0: [40000/60000] Loss: [ 0.00717177] Time: 6.41 mn\n",
      "Epoch 0: [45000/60000] Loss: [ 0.00683601] Time: 7.21 mn\n",
      "Epoch 0: [50000/60000] Loss: [ 0.00633366] Time: 8.01 mn\n",
      "Epoch 0: [55000/60000] Loss: [ 0.00626605] Time: 8.81 mn\n",
      "...Training done\n"
     ]
    }
   ],
   "source": [
    "epoch_nb = 1      #number of training epochs\n",
    "train(epoch_nb, sample_size)"
   ]
  },
  {
   "cell_type": "code",
   "execution_count": 30,
   "metadata": {},
   "outputs": [
    {
     "name": "stdout",
     "output_type": "stream",
     "text": [
      "Starting evaluation...\n",
      "i_offset: -7.452349109217261, j_offset: -8.749944033235774\n",
      "...Evaluation done\n"
     ]
    },
    {
     "data": {
      "image/png": "[encoded data removed]",
      "text/plain": [
       "<matplotlib.figure.Figure at 0x7fcca634d5c0>"
      ]
     },
     "metadata": {},
     "output_type": "display_data"
    }
   ],
   "source": [
    "evaluation()"
   ]
  }
 ],
 "metadata": {
  "kernelspec": {
   "display_name": "Python 3",
   "language": "python",
   "name": "python3"
  },
  "language_info": {
   "codemirror_mode": {
    "name": "ipython",
    "version": 3
   },
   "file_extension": ".py",
   "mimetype": "text/x-python",
   "name": "python",
   "nbconvert_exporter": "python",
   "pygments_lexer": "ipython3",
   "version": "3.5.2"
  },
  "toc": {
   "base_numbering": 1,
   "nav_menu": {},
   "number_sections": true,
   "sideBar": true,
   "skip_h1_title": false,
   "title_cell": "Table of Contents",
   "title_sidebar": "Contents",
   "toc_cell": false,
   "toc_position": {},
   "toc_section_display": true,
   "toc_window_display": false
  }
 },
 "nbformat": 4,
 "nbformat_minor": 2
}
