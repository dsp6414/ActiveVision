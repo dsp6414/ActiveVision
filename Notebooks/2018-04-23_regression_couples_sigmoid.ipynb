{
 "cells": [
  {
   "cell_type": "code",
   "execution_count": 1,
   "metadata": {},
   "outputs": [
    {
     "name": "stdout",
     "output_type": "stream",
     "text": [
      "Loading accuracy...\n",
      "[[ 0.0974  0.0974  0.0974 ...,  0.0974  0.0974  0.0974]\n",
      " [ 0.0974  0.0974  0.0974 ...,  0.0974  0.0974  0.0974]\n",
      " [ 0.0974  0.0974  0.0974 ...,  0.0974  0.0974  0.0974]\n",
      " ..., \n",
      " [ 0.0974  0.0974  0.0974 ...,  0.0974  0.0974  0.0974]\n",
      " [ 0.0974  0.0974  0.0974 ...,  0.0974  0.0974  0.0974]\n",
      " [ 0.0974  0.0974  0.0974 ...,  0.0974  0.0974  0.0974]]\n"
     ]
    }
   },
   "outputs": [],
   "source": [
    "import numpy as np\n",
    "import os\n",
    "\n",
    "path = \"MNIST_accuracy.npy\"\n",
    "if os.path.isfile(path):\n",
    "    print('Loading accuracy...')\n",
    "    accuracy =  np.load(path)\n",
    "    print(accuracy)"
   ]
  },
  {
   "cell_type": "markdown",
   "metadata": {},
   "source": [
    "### Préparer l'apprentissage"
   ]
  },
  {
   "cell_type": "code",
   "execution_count": 2,
   "metadata": {
    "ExecuteTime": {
     "end_time": "2018-04-24T08:02:52.122874Z",
     "start_time": "2018-04-24T08:02:47.459035Z"
    }
   },
   "outputs": [],
   "source": [
    "import torch\n",
    "import matplotlib.pyplot as plt\n",
    "import numpy as np\n",
    "from torchvision import datasets, transforms\n",
    "from LogGabor import LogGabor\n",
    "\n",
    "def vectorization(N_theta, N_orient, N_scale, N_phase, N_X, N_Y, rho=1.61803):\n",
    "    phi = np.zeros((N_theta, N_orient, N_scale, N_phase, N_X*N_Y))\n",
    "    parameterfile = 'https://raw.githubusercontent.com/bicv/LogGabor/master/default_param.py'\n",
    "    lg = LogGabor(parameterfile)\n",
    "    lg.set_size((N_X, N_Y))\n",
    "    params= {'sf_0':.1, 'B_sf': lg.pe.B_sf, 'theta':np.pi* 5 / 7., 'B_theta': lg.pe.B_theta}\n",
    "    phase = np.pi/4\n",
    "    edge = lg.normalize(lg.invert(lg.loggabor(N_X/3, 3*N_Y/4, **params)*np.exp(-1j*phase)))\n",
    "    \n",
    "    for i_theta in range(N_theta):\n",
    "        for i_orient in range(N_orient):\n",
    "            for i_scale in range(N_scale):\n",
    "                ecc =  (1/rho)**(N_scale - i_scale)\n",
    "                r = np.sqrt(N_X**2+N_Y**2) / 2 * ecc # radius\n",
    "                sf_0 = 0.5 * 0.03 / ecc\n",
    "                x = N_X/2 + r * np.cos((i_orient+(i_scale % 2)*.5)*np.pi*2 / N_orient)\n",
    "                y = N_Y/2 + r * np.sin((i_orient+(i_scale % 2)*.5)*np.pi*2 / N_orient)            \n",
    "                for i_phase in range(N_phase):\n",
    "                    params= {'sf_0':sf_0, 'B_sf': lg.pe.B_sf, 'theta':i_theta*np.pi/N_theta, 'B_theta': np.pi/N_theta/2}\n",
    "                    phase = i_phase * np.pi/2\n",
    "                    phi[i_theta, i_orient, i_scale, i_phase, :] = lg.normalize(lg.invert(lg.loggabor(x, y, **params)*np.exp(-1j*phase))).ravel()            \n",
    "    return phi\n",
    "\n",
    "N_theta, N_orient, N_scale, N_phase, N_X, N_Y = 6, 12, 5, 2, 128, 128\n",
    "phi = vectorization(N_theta, N_orient, N_scale, N_phase, N_X, N_Y)\n",
    "phi_vector = phi.reshape((N_theta*N_orient*N_scale*N_phase, N_X*N_Y))\n",
    "phi_plus = np.linalg.pinv(phi_vector)\n",
    "\n",
    "energy = (phi**2).sum(axis=(0,3)) \n",
    "energy /= energy.sum(axis=-1)[:, :, None]\n",
    "energy_vector = energy.reshape((N_orient*N_scale, N_X*N_Y))\n",
    "energy_plus = np.linalg.pinv(energy_vector)\n",
    "\n",
    "def accuracy_128(i_offset, j_offset):\n",
    "    N_pic = 128\n",
    "    center = (128-55)//2\n",
    "    \n",
    "    accuracy_128 = 0.1 * np.ones((N_pic,N_pic))\n",
    "    accuracy_128[(center+i_offset):(center+55+i_offset),(center+j_offset):(center+55+j_offset)] = accuracy\n",
    "    \n",
    "    accuracy_LP = energy_vector @ np.ravel(accuracy_128)    \n",
    "    return accuracy_LP\n",
    "\n",
    "def mnist_128(data, i_offset, j_offset):\n",
    "    N_pic = 128\n",
    "    center = (128-28)//2\n",
    "    \n",
    "    data_128 = data.min() * np.ones((128,128))\n",
    "    data_128[(center+i_offset):(center+28+i_offset),(center+j_offset):(center+28+j_offset)] = data\n",
    "\n",
    "    data_LP = phi_vector @ np.ravel(data_128)     \n",
    "    return data_LP\n",
    "\n",
    "def couples(data, i_offset, j_offset):\n",
    "    v = mnist_128(data, i_offset, j_offset)\n",
    "    a = accuracy_128(i_offset, j_offset)    \n",
    "    return (v,a)\n",
    "\n",
    "def minmax(value, border):\n",
    "    value = max(value, -border)\n",
    "    value = min(value, border)\n",
    "    return value\n",
    "\n",
    "def sigmoid(values):\n",
    "    values = 1 / (1 + ((1 / 0.1) - 1) * np.exp(-values))\n",
    "    return values\n",
    "\n",
    "def distance(coord1, coord2):\n",
    "    dist = np.sqrt((coord1[0] - coord2[0])**2 + (coord1[1] - coord2[1])**2)\n",
    "    return dist"
   ]
  },
  {
   "cell_type": "markdown",
   "metadata": {},
   "source": [
    "### Construction du nn apprenant la correspondance input/certitude avec transformées LogPol"
   ]
  },
  {
   "cell_type": "code",
   "execution_count": 3,
   "metadata": {
    "ExecuteTime": {
     "end_time": "2018-04-24T08:02:52.169070Z",
     "start_time": "2018-04-24T08:02:52.124431Z"
    }
   },
   "outputs": [],
   "source": [
    "import argparse\n",
    "import torch\n",
    "import torch.nn as nn\n",
    "import torch.nn.functional as F\n",
    "import torch.optim as optim\n",
    "from torchvision import datasets, transforms\n",
    "from torch.autograd import Variable\n",
    "from LogGabor import LogGabor\n",
    "import numpy as np\n",
    "import time\n",
    "\n",
    "sample_size = 100 #quantity of examples that'll be processed\n",
    "\n",
    "data_loader = torch.utils.data.DataLoader(\n",
    "    datasets.MNIST('/tmp/data', \n",
    "                   train=True,    #def the dataset as training data \n",
    "                   download=True, #download if dataset not present on disk\n",
    "                   transform=transforms.Compose([\n",
    "                       transforms.ToTensor(),\n",
    "                       transforms.Normalize((0.1307,), (0.3081,))])),\n",
    "                   batch_size=sample_size, \n",
    "                   shuffle=True)\n",
    "\n",
    "class Net(torch.nn.Module):\n",
    "    def __init__(self, n_feature, n_hidden, n_output):\n",
    "        super(Net, self).__init__()\n",
    "        self.hidden = torch.nn.Linear(n_feature, n_hidden)\n",
    "        self.predict = torch.nn.Linear(n_hidden, n_output)\n",
    "        \n",
    "    def forward(self, data):\n",
    "        data = F.relu(self.hidden(data))\n",
    "        data = self.predict(data)\n",
    "        data = F.sigmoid(data)\n",
    "        return data\n",
    "    \n",
    "net = Net(n_feature=720, n_hidden=260, n_output=60)\n",
    "optimizer = torch.optim.SGD(net.parameters(), lr=0.3)\n",
    "loss_func = torch.nn.MSELoss()\n",
    "#loss_func = torch.nn.CrossEntropyLoss()\n",
    "\n",
    "def train(epoch_nb, sample_size):\n",
    "    t_start = time.time()\n",
    "    print('Starting training...')\n",
    "    for epoch in range(epoch_nb):\n",
    "        for batch_idx, (data, label) in enumerate(data_loader):\n",
    "            data_v, data_a = np.zeros((sample_size, 1, 720)), np.zeros((sample_size, 1, 60))\n",
    "            for idx in range(sample_size):\n",
    "                i_offset, j_offset = minmax(np.random.randn()*5, 35), minmax(np.random.randn()*5, 35)\n",
    "                v, a = couples(data[idx,0,:], i_offset, j_offset)\n",
    "                data_v[idx,0,:], data_a[idx,0,:] = v, a\n",
    "\n",
    "            data_v, data_a = torch.FloatTensor(data_v), torch.FloatTensor(data_a)\n",
    "            data_v, data_a = Variable(data_v), Variable(data_a)\n",
    "\n",
    "            prediction = net(data_v)\n",
    "            loss = loss_func(prediction, data_a)\n",
    "\n",
    "            optimizer.zero_grad()\n",
    "            loss.backward()\n",
    "            optimizer.step()\n",
    "\n",
    "            if batch_idx % 100 == 0:\n",
    "                print('Epoch {}: [{}/{}] Loss: {} Time: {:.2f} mn'.format(\n",
    "                    epoch, batch_idx*sample_size, len(data_loader.dataset), \n",
    "                    loss.data.numpy(), (time.time()-t_start)/60))\n",
    "    print('...Training done')\n",
    "    \n",
    "def eval_one():\n",
    "    print('Starting evaluation...')\n",
    "    for batch_idx, (data, label) in enumerate(data_loader):\n",
    "        data_v, data_a = np.zeros((1, 1, 720)), np.zeros((1, 1, 60))\n",
    "\n",
    "        i_offset, j_offset = minmax(np.random.randn()*10, 30), minmax(np.random.randn()*10, 30)\n",
    "        print('i_offset: {}, j_offset: {}'.format(i_offset, j_offset))\n",
    "        v, a = couples(data[0,0,:], i_offset, j_offset)\n",
    "        data_v[0,0,:], data_a[0,0,:] = v, a\n",
    "\n",
    "        data_v, data_a = torch.FloatTensor(data_v), torch.FloatTensor(data_a)\n",
    "        data_v, data_a = Variable(data_v), Variable(data_a)\n",
    "\n",
    "        prediction = net(data_v)\n",
    "        \n",
    "        pred_data = prediction.data.numpy()[-1][-1]\n",
    "\n",
    "        image = energy_plus @ pred_data\n",
    "        image = sigmoid(image)\n",
    "        image_reshaped = image.reshape(128,128)\n",
    "        \n",
    "        fig, ax = plt.subplots(figsize=(13,10.725))\n",
    "        cmap = ax.pcolor(np.arange(-64,64), np.arange(-64,64), image_reshaped)\n",
    "        fig.colorbar(cmap)\n",
    "        plt.axvline(j_offset, c='k'); plt.axhline(i_offset, c='k')\n",
    "        \n",
    "        for i_pred in range(0,128):\n",
    "            for j_pred in range(0,128):\n",
    "                if image_reshaped[i_pred][j_pred] == image_reshaped.max():\n",
    "                    print(i_pred-64, j_pred-64)\n",
    "                    plt.axvline(j_pred-64, c='r'); plt.axhline(i_pred-64, c='r')\n",
    "                    dist_err = distance((i_offset, j_offset),(i_pred-64, j_pred-64))\n",
    "                    print('Distance real / predicted coordinates:', dist_err)\n",
    "                    break\n",
    "        \n",
    "        print('...Evaluation done')\n",
    "        break\n",
    "        \n",
    "def evaluation(sample_size):\n",
    "    print('Starting evaluation...')\n",
    "    dist_err = []\n",
    "    for batch_idx, (data, label) in enumerate(data_loader):\n",
    "        data_v, data_a = np.zeros((sample_size,1,720)), np.zeros((sample_size,1,60))\n",
    "        \n",
    "        for idx in range(sample_size):\n",
    "            coord_offset = (minmax(np.random.randn()*10, 30), minmax(np.random.randn()*10, 30))\n",
    "            data_v[idx,0,:], data_a[idx,0,:] = couples(data[idx,0,:], coord_offset[0], coord_offset[1])\n",
    "        \n",
    "        data_v, data_a = Variable(torch.FloatTensor(data_v)), Variable(torch.FloatTensor(data_a))\n",
    "        prediction = net(data_v)\n",
    "        \n",
    "        for idx in range(sample_size):\n",
    "            prediction_data = prediction.data.numpy()[idx][-1]\n",
    "            data_reshaped = sigmoid(energy_plus @ prediction_data).reshape(128,128)\n",
    "            \n",
    "            for i_pred in range(0,128):\n",
    "                for j_pred in range(0,128):\n",
    "                    if data_reshaped[i_pred][j_pred] == data_reshaped.max():\n",
    "                        dist = distance(coord_offset,(i_pred-64, j_pred-64))\n",
    "                        dist_err += [dist]\n",
    "                        break\n",
    "                        \n",
    "    print('...Ending evaluation')\n",
    "    return dist_err"
   ]
  },
  {
   "cell_type": "markdown",
   "metadata": {},
   "source": [
    "### Lancement apprentissage/évaluation"
   ]
  },
  {
   "cell_type": "code",
   "execution_count": 4,
   "metadata": {
    "ExecuteTime": {
     "end_time": "2018-04-24T08:02:52.309404Z",
     "start_time": "2018-04-24T08:02:52.170586Z"
    }
   },
   "outputs": [
    {
     "name": "stdout",
     "output_type": "stream",
     "text": [
      "Training model...\n",
      "Starting training...\n"
     ]
    },
    {
     "ename": "TypeError",
     "evalue": "slice indices must be integers or None or have an __index__ method",
     "output_type": "error",
     "traceback": [
      "\u001b[0;31m---------------------------------------------------------------------------\u001b[0m",
      "\u001b[0;31mTypeError\u001b[0m                                 Traceback (most recent call last)",
      "\u001b[0;32m<ipython-input-4-501b592f9431>\u001b[0m in \u001b[0;36m<module>\u001b[0;34m()\u001b[0m\n\u001b[1;32m      7\u001b[0m     \u001b[0mprint\u001b[0m\u001b[0;34m(\u001b[0m\u001b[0;34m'Training model...'\u001b[0m\u001b[0;34m)\u001b[0m\u001b[0;34m\u001b[0m\u001b[0m\n\u001b[1;32m      8\u001b[0m     \u001b[0mepoch_nb\u001b[0m \u001b[0;34m=\u001b[0m \u001b[0;36m1\u001b[0m      \u001b[0;31m#number of training epochs\u001b[0m\u001b[0;34m\u001b[0m\u001b[0m\n\u001b[0;32m----> 9\u001b[0;31m     \u001b[0mtrain\u001b[0m\u001b[0;34m(\u001b[0m\u001b[0mepoch_nb\u001b[0m\u001b[0;34m,\u001b[0m \u001b[0msample_size\u001b[0m\u001b[0;34m)\u001b[0m\u001b[0;34m\u001b[0m\u001b[0m\n\u001b[0m\u001b[1;32m     10\u001b[0m     \u001b[0mtorch\u001b[0m\u001b[0;34m.\u001b[0m\u001b[0msave\u001b[0m\u001b[0;34m(\u001b[0m\u001b[0mnet\u001b[0m\u001b[0;34m.\u001b[0m\u001b[0mstate_dict\u001b[0m\u001b[0;34m(\u001b[0m\u001b[0;34m)\u001b[0m\u001b[0;34m,\u001b[0m \u001b[0mpath\u001b[0m\u001b[0;34m)\u001b[0m\u001b[0;34m\u001b[0m\u001b[0m\n\u001b[1;32m     11\u001b[0m     \u001b[0mprint\u001b[0m\u001b[0;34m(\u001b[0m\u001b[0;34m'Model saved at'\u001b[0m\u001b[0;34m,\u001b[0m \u001b[0mpath\u001b[0m\u001b[0;34m)\u001b[0m\u001b[0;34m\u001b[0m\u001b[0m\n",
      "\u001b[0;32m<ipython-input-3-2df629f6d23a>\u001b[0m in \u001b[0;36mtrain\u001b[0;34m(epoch_nb, sample_size)\u001b[0m\n\u001b[1;32m     47\u001b[0m             \u001b[0;32mfor\u001b[0m \u001b[0midx\u001b[0m \u001b[0;32min\u001b[0m \u001b[0mrange\u001b[0m\u001b[0;34m(\u001b[0m\u001b[0msample_size\u001b[0m\u001b[0;34m)\u001b[0m\u001b[0;34m:\u001b[0m\u001b[0;34m\u001b[0m\u001b[0m\n\u001b[1;32m     48\u001b[0m                 \u001b[0mi_offset\u001b[0m\u001b[0;34m,\u001b[0m \u001b[0mj_offset\u001b[0m \u001b[0;34m=\u001b[0m \u001b[0mminmax\u001b[0m\u001b[0;34m(\u001b[0m\u001b[0mnp\u001b[0m\u001b[0;34m.\u001b[0m\u001b[0mrandom\u001b[0m\u001b[0;34m.\u001b[0m\u001b[0mrandn\u001b[0m\u001b[0;34m(\u001b[0m\u001b[0;34m)\u001b[0m\u001b[0;34m*\u001b[0m\u001b[0;36m5\u001b[0m\u001b[0;34m,\u001b[0m \u001b[0;36m35\u001b[0m\u001b[0;34m)\u001b[0m\u001b[0;34m,\u001b[0m \u001b[0mminmax\u001b[0m\u001b[0;34m(\u001b[0m\u001b[0mnp\u001b[0m\u001b[0;34m.\u001b[0m\u001b[0mrandom\u001b[0m\u001b[0;34m.\u001b[0m\u001b[0mrandn\u001b[0m\u001b[0;34m(\u001b[0m\u001b[0;34m)\u001b[0m\u001b[0;34m*\u001b[0m\u001b[0;36m5\u001b[0m\u001b[0;34m,\u001b[0m \u001b[0;36m35\u001b[0m\u001b[0;34m)\u001b[0m\u001b[0;34m\u001b[0m\u001b[0m\n\u001b[0;32m---> 49\u001b[0;31m                 \u001b[0mv\u001b[0m\u001b[0;34m,\u001b[0m \u001b[0ma\u001b[0m \u001b[0;34m=\u001b[0m \u001b[0mcouples\u001b[0m\u001b[0;34m(\u001b[0m\u001b[0mdata\u001b[0m\u001b[0;34m[\u001b[0m\u001b[0midx\u001b[0m\u001b[0;34m,\u001b[0m\u001b[0;36m0\u001b[0m\u001b[0;34m,\u001b[0m\u001b[0;34m:\u001b[0m\u001b[0;34m]\u001b[0m\u001b[0;34m,\u001b[0m \u001b[0mi_offset\u001b[0m\u001b[0;34m,\u001b[0m \u001b[0mj_offset\u001b[0m\u001b[0;34m)\u001b[0m\u001b[0;34m\u001b[0m\u001b[0m\n\u001b[0m\u001b[1;32m     50\u001b[0m                 \u001b[0mdata_v\u001b[0m\u001b[0;34m[\u001b[0m\u001b[0midx\u001b[0m\u001b[0;34m,\u001b[0m\u001b[0;36m0\u001b[0m\u001b[0;34m,\u001b[0m\u001b[0;34m:\u001b[0m\u001b[0;34m]\u001b[0m\u001b[0;34m,\u001b[0m \u001b[0mdata_a\u001b[0m\u001b[0;34m[\u001b[0m\u001b[0midx\u001b[0m\u001b[0;34m,\u001b[0m\u001b[0;36m0\u001b[0m\u001b[0;34m,\u001b[0m\u001b[0;34m:\u001b[0m\u001b[0;34m]\u001b[0m \u001b[0;34m=\u001b[0m \u001b[0mv\u001b[0m\u001b[0;34m,\u001b[0m \u001b[0ma\u001b[0m\u001b[0;34m\u001b[0m\u001b[0m\n\u001b[1;32m     51\u001b[0m \u001b[0;34m\u001b[0m\u001b[0m\n",
      "\u001b[0;32m<ipython-input-2-d3fcfd863eac>\u001b[0m in \u001b[0;36mcouples\u001b[0;34m(data, i_offset, j_offset)\u001b[0m\n\u001b[1;32m     59\u001b[0m \u001b[0;34m\u001b[0m\u001b[0m\n\u001b[1;32m     60\u001b[0m \u001b[0;32mdef\u001b[0m \u001b[0mcouples\u001b[0m\u001b[0;34m(\u001b[0m\u001b[0mdata\u001b[0m\u001b[0;34m,\u001b[0m \u001b[0mi_offset\u001b[0m\u001b[0;34m,\u001b[0m \u001b[0mj_offset\u001b[0m\u001b[0;34m)\u001b[0m\u001b[0;34m:\u001b[0m\u001b[0;34m\u001b[0m\u001b[0m\n\u001b[0;32m---> 61\u001b[0;31m     \u001b[0mv\u001b[0m \u001b[0;34m=\u001b[0m \u001b[0mmnist_128\u001b[0m\u001b[0;34m(\u001b[0m\u001b[0mdata\u001b[0m\u001b[0;34m,\u001b[0m \u001b[0mi_offset\u001b[0m\u001b[0;34m,\u001b[0m \u001b[0mj_offset\u001b[0m\u001b[0;34m)\u001b[0m\u001b[0;34m\u001b[0m\u001b[0m\n\u001b[0m\u001b[1;32m     62\u001b[0m     \u001b[0ma\u001b[0m \u001b[0;34m=\u001b[0m \u001b[0maccuracy_128\u001b[0m\u001b[0;34m(\u001b[0m\u001b[0mi_offset\u001b[0m\u001b[0;34m,\u001b[0m \u001b[0mj_offset\u001b[0m\u001b[0;34m)\u001b[0m\u001b[0;34m\u001b[0m\u001b[0m\n\u001b[1;32m     63\u001b[0m     \u001b[0;32mreturn\u001b[0m \u001b[0;34m(\u001b[0m\u001b[0mv\u001b[0m\u001b[0;34m,\u001b[0m\u001b[0ma\u001b[0m\u001b[0;34m)\u001b[0m\u001b[0;34m\u001b[0m\u001b[0m\n",
      "\u001b[0;32m<ipython-input-2-d3fcfd863eac>\u001b[0m in \u001b[0;36mmnist_128\u001b[0;34m(data, i_offset, j_offset)\u001b[0m\n\u001b[1;32m     53\u001b[0m \u001b[0;34m\u001b[0m\u001b[0m\n\u001b[1;32m     54\u001b[0m     \u001b[0mdata_128\u001b[0m \u001b[0;34m=\u001b[0m \u001b[0mdata\u001b[0m\u001b[0;34m.\u001b[0m\u001b[0mmin\u001b[0m\u001b[0;34m(\u001b[0m\u001b[0;34m)\u001b[0m \u001b[0;34m*\u001b[0m \u001b[0mnp\u001b[0m\u001b[0;34m.\u001b[0m\u001b[0mones\u001b[0m\u001b[0;34m(\u001b[0m\u001b[0;34m(\u001b[0m\u001b[0;36m128\u001b[0m\u001b[0;34m,\u001b[0m\u001b[0;36m128\u001b[0m\u001b[0;34m)\u001b[0m\u001b[0;34m)\u001b[0m\u001b[0;34m\u001b[0m\u001b[0m\n\u001b[0;32m---> 55\u001b[0;31m     \u001b[0mdata_128\u001b[0m\u001b[0;34m[\u001b[0m\u001b[0;34m(\u001b[0m\u001b[0mcenter\u001b[0m\u001b[0;34m+\u001b[0m\u001b[0mi_offset\u001b[0m\u001b[0;34m)\u001b[0m\u001b[0;34m:\u001b[0m\u001b[0;34m(\u001b[0m\u001b[0mcenter\u001b[0m\u001b[0;34m+\u001b[0m\u001b[0;36m28\u001b[0m\u001b[0;34m+\u001b[0m\u001b[0mi_offset\u001b[0m\u001b[0;34m)\u001b[0m\u001b[0;34m,\u001b[0m\u001b[0;34m(\u001b[0m\u001b[0mcenter\u001b[0m\u001b[0;34m+\u001b[0m\u001b[0mj_offset\u001b[0m\u001b[0;34m)\u001b[0m\u001b[0;34m:\u001b[0m\u001b[0;34m(\u001b[0m\u001b[0mcenter\u001b[0m\u001b[0;34m+\u001b[0m\u001b[0;36m28\u001b[0m\u001b[0;34m+\u001b[0m\u001b[0mj_offset\u001b[0m\u001b[0;34m)\u001b[0m\u001b[0;34m]\u001b[0m \u001b[0;34m=\u001b[0m \u001b[0mdata\u001b[0m\u001b[0;34m\u001b[0m\u001b[0m\n\u001b[0m\u001b[1;32m     56\u001b[0m \u001b[0;34m\u001b[0m\u001b[0m\n\u001b[1;32m     57\u001b[0m     \u001b[0mdata_LP\u001b[0m \u001b[0;34m=\u001b[0m \u001b[0mphi_vector\u001b[0m \u001b[0;34m@\u001b[0m \u001b[0mnp\u001b[0m\u001b[0;34m.\u001b[0m\u001b[0mravel\u001b[0m\u001b[0;34m(\u001b[0m\u001b[0mdata_128\u001b[0m\u001b[0;34m)\u001b[0m\u001b[0;34m\u001b[0m\u001b[0m\n",
      "\u001b[0;31mTypeError\u001b[0m: slice indices must be integers or None or have an __index__ method"
     ]
    }
   ],
   "source": [
    "path = 'regression_couples.pt'\n",
    "\n",
    "if os.path.isfile(path):\n",
    "    print('Loading file', path)\n",
    "    net.load_state_dict(torch.load(path))\n",
    "else:\n",
    "    print('Training model...')\n",
    "    epoch_nb = 1      #number of training epochs\n",
    "    train(epoch_nb, sample_size)\n",
    "    torch.save(net.state_dict(), path)\n",
    "    print('Model saved at', path)"
   ]
  },
  {
   "cell_type": "code",
   "execution_count": 5,
   "metadata": {},
   "outputs": [
    {
     "name": "stdout",
     "output_type": "stream",
     "text": [
      "Starting evaluation...\n",
      "i_offset: 12.76768941491543, j_offset: 0.09496862129740319\n",
      "-3 2\n",
      "Distance real / predicted coordinates: 15.8823541718\n",
      "...Evaluation done\n"
     ]
    },
    {
     "data": {
      "image/png": "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\n",
      "text/plain": [
       "<matplotlib.figure.Figure at 0x7f41a1d78e48>"
      ]
     },
     "metadata": {},
     "output_type": "display_data"
    }
   ],
   "source": [
    "eval_one()"
   ]
  },
  {
   "cell_type": "code",
   "execution_count": null,
   "metadata": {},
   "outputs": [
    {
     "name": "stdout",
     "output_type": "stream",
     "text": [
      "Starting evaluation...\n"
     ]
    }
   },
   "outputs": [],
   "source": [
    "evaluation(100)"
   ]
  },
  {
   "cell_type": "code",
   "execution_count": null,
   "metadata": {},
   "outputs": [],
   "source": [
    "x = np.arange(-10,10,0.2)\n",
    "y = 1 / (1 + ((1 / 0.1) - 1) * np.exp(-x))\n",
    "plt.plot(y)"
   ]
  }
 ],
 "metadata": {
  "kernelspec": {
   "display_name": "Python 3",
   "language": "python",
   "name": "python3"
  },
  "language_info": {
   "codemirror_mode": {
    "name": "ipython",
    "version": 3
   },
   "file_extension": ".py",
   "mimetype": "text/x-python",
   "name": "python",
   "nbconvert_exporter": "python",
   "pygments_lexer": "ipython3",
   "version": "3.6.5"
  },
  "toc": {
   "base_numbering": 1,
   "nav_menu": {},
   "number_sections": true,
   "sideBar": true,
   "skip_h1_title": false,
   "title_cell": "Table of Contents",
   "title_sidebar": "Contents",
   "toc_cell": false,
   "toc_position": {},
   "toc_section_display": true,
   "toc_window_display": false
  }
 },
 "nbformat": 4,
 "nbformat_minor": 2
}
