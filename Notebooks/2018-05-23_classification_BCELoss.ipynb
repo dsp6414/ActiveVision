{
 "cells": [
  {
   "cell_type": "code",
   "execution_count": 1,
   "metadata": {
    "ExecuteTime": {
     "end_time": "2018-05-23T12:48:07.719392Z",
     "start_time": "2018-05-23T12:48:06.321600Z"
    }
   },
   "outputs": [],
   "source": [
    "import os\n",
    "import time\n",
    "import matplotlib.pyplot as plt\n",
    "import numpy as np\n",
    "import argparse\n",
    "import noise\n",
    "import torch\n",
    "import torch.nn as nn\n",
    "import torch.nn.functional as F\n",
    "import torch.optim as optim\n",
    "import MotionClouds as mc\n",
    "from torchvision import datasets, transforms\n",
    "from torch.autograd import Variable\n",
    "from LogGabor import LogGabor"
   ]
  },
  {
   "cell_type": "markdown",
   "metadata": {},
   "source": [
    "## Charger la matrice de certitude"
   ]
  },
  {
   "cell_type": "code",
   "execution_count": 2,
   "metadata": {
    "ExecuteTime": {
     "end_time": "2018-05-23T12:48:07.798260Z",
     "start_time": "2018-05-23T12:48:07.759455Z"
    }
   },
   "outputs": [
    {
     "name": "stdout",
     "output_type": "stream",
     "text": [
      "Loading accuracy...\n",
      "[[0.0974 0.0974 0.0974 ... 0.0974 0.0974 0.0974]\n",
      " [0.0974 0.0974 0.0974 ... 0.0974 0.0974 0.0974]\n",
      " [0.0974 0.0974 0.0974 ... 0.0974 0.0974 0.0974]\n",
      " ...\n",
      " [0.0974 0.0974 0.0974 ... 0.0974 0.0974 0.0974]\n",
      " [0.0974 0.0974 0.0974 ... 0.0974 0.0974 0.0974]\n",
      " [0.0974 0.0974 0.0974 ... 0.0974 0.0974 0.0974]]\n"
     ]
    }
   ],
   "source": [
    "path = \"MNIST_accuracy.npy\"\n",
    "if os.path.isfile(path):\n",
    "    print('Loading accuracy...')\n",
    "    accuracy =  np.load(path)\n",
    "    print(accuracy)\n",
    "else:\n",
    "    print('No accuracy data found.')"
   ]
  },
  {
   "cell_type": "markdown",
   "metadata": {},
   "source": [
    "## Préparer l'apprentissage et les fonctions nécessaires au fonctionnement du script"
   ]
  },
  {
   "cell_type": "code",
   "execution_count": 3,
   "metadata": {
    "ExecuteTime": {
     "end_time": "2018-05-23T12:48:13.146359Z",
     "start_time": "2018-05-23T12:48:07.807303Z"
    }
   },
   "outputs": [],
   "source": [
    "N_theta, N_orient, N_scale, N_phase, N_X, N_Y, rho = 6, 12, 5, 2, 128, 128, 1.61803\n",
    "\n",
    "def vectorization(N_theta, N_orient, N_scale, N_phase, N_X, N_Y, rho):\n",
    "    phi = np.zeros((N_theta, N_orient, N_scale, N_phase, N_X*N_Y))\n",
    "    parameterfile = 'https://raw.githubusercontent.com/bicv/LogGabor/master/default_param.py'\n",
    "    lg = LogGabor(parameterfile)\n",
    "    lg.set_size((N_X, N_Y))\n",
    "    params = {'sf_0': .1, 'B_sf': 2*lg.pe.B_sf,\n",
    "              'theta': np.pi * 5 / 7., 'B_theta': 2*lg.pe.B_theta}\n",
    "    phase = np.pi/4\n",
    "    edge = lg.normalize(lg.invert(lg.loggabor(\n",
    "        N_X/3, 3*N_Y/4, **params)*np.exp(-1j*phase)))\n",
    "\n",
    "    for i_theta in range(N_theta):\n",
    "        for i_orient in range(N_orient):\n",
    "            for i_scale in range(N_scale):\n",
    "                ecc = (1/rho)**(N_scale - i_scale)\n",
    "                r = np.sqrt(N_X**2+N_Y**2) / 2 * ecc  # radius\n",
    "                sf_0 = 0.5 * 0.03 / ecc\n",
    "                x = N_X/2 + r * \\\n",
    "                    np.cos((i_orient+(i_scale % 2)*.5)*np.pi*2 / N_orient)\n",
    "                y = N_Y/2 + r * \\\n",
    "                    np.sin((i_orient+(i_scale % 2)*.5)*np.pi*2 / N_orient)\n",
    "                for i_phase in range(N_phase):\n",
    "                    params = {'sf_0': sf_0, 'B_sf': lg.pe.B_sf,\n",
    "                              'theta': i_theta*np.pi/N_theta, 'B_theta': np.pi/N_theta/2}\n",
    "                    phase = i_phase * np.pi/2\n",
    "                    phi[i_theta, i_orient, i_scale, i_phase, :] = lg.normalize(\n",
    "                        lg.invert(lg.loggabor(x, y, **params)*np.exp(-1j*phase))).ravel()\n",
    "    return phi\n",
    "\n",
    "\n",
    "phi = vectorization(N_theta, N_orient, N_scale, N_phase, N_X, N_Y, rho)\n",
    "phi_vector = phi.reshape((N_theta*N_orient*N_scale*N_phase, N_X*N_Y))\n",
    "phi_plus = np.linalg.pinv(phi_vector)\n",
    "\n",
    "energy = (phi**2).sum(axis=(0, 3))\n",
    "energy /= energy.sum(axis=-1)[:, :, None]\n",
    "energy_vector = energy.reshape((N_orient*N_scale, N_X*N_Y))\n",
    "energy_plus = np.linalg.pinv(energy_vector)\n",
    "\n",
    "def accuracy_128(i_offset, j_offset, N_pic=128, N_stim=55):\n",
    "    center = (N_pic-N_stim)//2\n",
    "\n",
    "    accuracy_128 = 0.1 * np.ones((N_pic, N_pic))\n",
    "    accuracy_128[(center+i_offset):(center+N_stim+i_offset),\n",
    "                 (center+j_offset):(center+N_stim+j_offset)] = accuracy\n",
    "\n",
    "    accuracy_LP = energy_vector @ np.ravel(accuracy_128)\n",
    "    return accuracy_LP\n",
    "\n",
    "\n",
    "def mnist_128(data, i_offset, j_offset, N_pic=128, N_stim=28, noise=True, noise_type='MotionCloud'):\n",
    "    center = (N_pic-N_stim)//2\n",
    "    #data_128 = np.zeros((N_pic, N_pic))\n",
    "    data_128 = (data.min().numpy()) * np.ones((N_pic, N_pic))\n",
    "\n",
    "    data_128[int(center+i_offset):int(center+N_stim+i_offset),\n",
    "             int(center+j_offset):int(center+N_stim+j_offset)] = data\n",
    "\n",
    "    if noise:\n",
    "        if noise_type == 'MotionCloud':\n",
    "            data_LP = phi_vector @ np.ravel(data_128 + MotionCloudNoise())\n",
    "        elif noise_type == 'Perlin':\n",
    "            data_LP = phi_vector @ np.ravel(\n",
    "                data_128 + randomized_perlin_noise())\n",
    "    else:\n",
    "        data_LP = phi_vector @ np.ravel(data_128)\n",
    "    return data_LP\n",
    "\n",
    "\n",
    "def couples(data, i_offset, j_offset):\n",
    "    v = mnist_128(data, i_offset, j_offset)\n",
    "    a = accuracy_128(i_offset, j_offset)\n",
    "    return (v, a)\n",
    "\n",
    "\n",
    "def minmax(value, border):\n",
    "    value = max(value, -border)\n",
    "    value = min(value, border)\n",
    "    return value\n",
    "\n",
    "\n",
    "def sigmoid(values):\n",
    "    values = 1 / (1 + ((1 / 0.1) - 1) * np.exp(-values))\n",
    "    return values\n",
    "\n",
    "\n",
    "def randomized_perlin_noise(shape=(128, 128), scale=10, octaves=6, persistence=0.5, lacunarity=2.0, base=0):\n",
    "    noise_vector = np.zeros(shape)\n",
    "    for i in range(shape[0]):\n",
    "        for j in range(shape[1]):\n",
    "            noise_vector[i][j] = noise.pnoise2(i/scale,\n",
    "                                               j/scale,\n",
    "                                               octaves=int(\n",
    "                                                   octave * abs(np.random.randn()))+1,\n",
    "                                               persistence=persistence *\n",
    "                                               abs(np.random.randn()),\n",
    "                                               lacunarity=lacunarity *\n",
    "                                               abs(np.random.randn()),\n",
    "                                               repeatx=shape[0],\n",
    "                                               repeaty=shape[1],\n",
    "                                               base=base)\n",
    "    return noise_vector\n",
    "\n",
    "\n",
    "def MotionCloudNoise(sf_0=0.125, B_sf=3.):\n",
    "    mc.N_X, mc.N_Y, mc.N_frame = 128, 128, 1\n",
    "    fx, fy, ft = mc.get_grids(mc.N_X, mc.N_Y, mc.N_frame)\n",
    "    name = 'static'\n",
    "    env = mc.envelope_gabor(fx, fy, ft, sf_0=sf_0, B_sf=B_sf,\n",
    "                            B_theta=np.inf, V_X=0., V_Y=0., B_V=0, alpha=.5)\n",
    "\n",
    "    z = mc.rectif(mc.random_cloud(env))\n",
    "    z = z.reshape((mc.N_X, mc.N_Y))\n",
    "    return z\n"
   ]
  },
  {
   "cell_type": "markdown",
   "metadata": {},
   "source": [
    "## Réseau de neurones"
   ]
  },
  {
   "cell_type": "raw",
   "metadata": {},
   "source": [
    "\n",
    "# cf 2018-05-17_classification_relu_network\n",
    "class Net(torch.nn.Module):\n",
    "    def __init__(self, n_feature, n_hidden1, n_hidden2, n_hidden3, n_output):\n",
    "        super(Net, self).__init__()\n",
    "        self.hidden1 = torch.nn.Linear(n_feature, n_hidden1)\n",
    "        self.hidden2 = torch.nn.Linear(n_hidden1, n_hidden2)\n",
    "        self.hidden3 = torch.nn.Linear(n_hidden2, n_hidden3)\n",
    "        self.predict = torch.nn.Linear(n_hidden3, n_output)\n",
    "\n",
    "    def forward(self, data):\n",
    "        data = F.leaky_relu(self.hidden1(data))\n",
    "        data = F.leaky_relu(self.hidden2(data))\n",
    "        data = F.leaky_relu(self.hidden3(data))\n",
    "        data = self.predict(data)\n",
    "        data = F.sigmoid(data)\n",
    "        return data\n",
    "\n",
    "\n",
    "class Net(torch.nn.Module):\n",
    "    def __init__(self, n_feature, n_hidden1, n_RNN, n_hidden2, n_output):\n",
    "        super(Net, self).__init__()\n",
    "        self.hidden1 = torch.nn.Linear(n_feature, n_hidden1)\n",
    "        self.RNN = torch.nn.RNN(\n",
    "        n_hidden1, n_RNN, nonlinearity='relu', bias=True, bidirectional=False)\n",
    "        self.hidden2 = torch.nn.Linear(n_RNN, n_hidden1)\n",
    "        self.predict = torch.nn.Linear(n_hidden2, n_output)\n",
    "\n",
    "    def forward(self, data):\n",
    "        data = F.leaky_relu(self.hidden1(data))\n",
    "        #data, weights = self.RNN(data)\n",
    "        data = F.leaky_relu(self.hidden2(data))\n",
    "        data = self.predict(data)\n",
    "        data = F.sigmoid(data)\n",
    "        return data\n",
    "\n",
    "\n"
   ]
  },
  {
   "cell_type": "code",
   "execution_count": 37,
   "metadata": {
    "ExecuteTime": {
     "end_time": "2018-05-23T12:48:13.240171Z",
     "start_time": "2018-05-23T12:48:13.167086Z"
    }
   },
   "outputs": [],
   "source": [
    "sample_size = 200  # quantity of examples that'll be processed\n",
    "lr = 0.9\n",
    "n_hidden1 = 550\n",
    "n_hidden2 = 300\n",
    "n_hidden3 = 150\n",
    "offset_max = 40\n",
    "\n",
    "\n",
    "data_loader = torch.utils.data.DataLoader(\n",
    "    datasets.MNIST('/tmp/data',\n",
    "                   train=True,  # def the dataset as training data\n",
    "                   download=True,  # download if dataset not present on disk\n",
    "                   transform=transforms.Compose([\n",
    "                       transforms.ToTensor(),\n",
    "                       transforms.Normalize((0.1307,), (0.3081,))])),\n",
    "    batch_size=sample_size,\n",
    "    shuffle=True)\n",
    "\n",
    "\n",
    "class Net(torch.nn.Module):\n",
    "    def __init__(self, n_feature, n_hidden1, n_hidden2, n_hidden3, n_output):\n",
    "        super(Net, self).__init__()\n",
    "        self.hidden1 = torch.nn.Linear(n_feature, n_hidden1)\n",
    "        self.hidden2 = torch.nn.Linear(n_hidden1, n_hidden2)\n",
    "        self.hidden3 = torch.nn.Linear(n_hidden2, n_hidden3)\n",
    "        self.predict = torch.nn.Linear(n_hidden3, n_output)\n",
    "\n",
    "    def forward(self, data):\n",
    "        data = F.leaky_relu(self.hidden1(data))\n",
    "        data = F.leaky_relu(self.hidden2(data))\n",
    "        data = F.leaky_relu(self.hidden3(data))\n",
    "        data = self.predict(data)\n",
    "        data = F.sigmoid(data)\n",
    "        return data\n",
    "\n",
    "net = Net(n_feature=N_theta*N_orient*N_scale*N_phase, n_hidden1=n_hidden1, n_hidden2=n_hidden2, n_hidden3=n_hidden3, n_output=N_orient*N_scale)\n",
    "optimizer = torch.optim.SGD(net.parameters(), lr=lr)\n",
    "loss_func = torch.nn.BCEWithLogitsLoss()\n",
    "\n",
    "\n",
    "def train(sample_size, optimizer=optimizer, vsize=N_theta*N_orient*N_scale*N_phase, asize=N_orient*N_scale, offset_std=10, offset_max=25, verbose=1):\n",
    "    t_start = time.time()\n",
    "    if verbose: print('Starting training...')\n",
    "    for batch_idx, (data, label) in enumerate(data_loader):\n",
    "        input, a_data = np.zeros((sample_size, 1, vsize)), np.zeros((sample_size, 1, asize))\n",
    "        target = np.zeros((sample_size, asize))\n",
    "        for idx in range(sample_size):\n",
    "            i_offset, j_offset = int(minmax(np.random.randn()*offset_std, offset_max)), int(minmax(np.random.randn()*offset_std, offset_max))\n",
    "            input[idx, 0, :], a_data[idx, 0, :] = couples(data[idx, 0, :], i_offset, j_offset)\n",
    "        target[idx, :] = a_data[idx, 0, :]\n",
    "\n",
    "        input, target = Variable(torch.FloatTensor(input)), Variable(torch.FloatTensor(a_data))\n",
    "\n",
    "        prediction = net(input)\n",
    "        loss = loss_func(prediction, target)\n",
    "\n",
    "        optimizer.zero_grad()\n",
    "        loss.backward()\n",
    "        optimizer.step()\n",
    "\n",
    "        if verbose and batch_idx % 100 == 0:\n",
    "            print('Epoch {}: [{}/{}] Loss: {} Time: {:.2f} mn'.format(\n",
    "                epoch, batch_idx*sample_size, len(data_loader.dataset),\n",
    "                loss.data.numpy(), (time.time()-t_start)/60))\n",
    "    #return loss.data.numpy()\n",
    "\n",
    "\n",
    "def eval_sacc(vsize=N_theta*N_orient*N_scale*N_phase, asize=N_orient*N_scale, N_pic=N_X, sacc_lim=5, fovea_size=10, fig_type='cmap'):\n",
    "    for batch_idx, (data, label) in enumerate(data_loader):\n",
    "        i_offset, j_offset = int(\n",
    "            minmax(np.random.randn()*10, 35)), int(minmax(np.random.randn()*10, 35))\n",
    "        print('Stimulus position: ({},{})'.format(i_offset, j_offset))\n",
    "        a_data_in_fovea = False\n",
    "        sacc_count = 0\n",
    "\n",
    "        while not a_data_in_fovea:\n",
    "            input, a_data = np.zeros((1, 1, vsize)), np.zeros((1, 1, asize))\n",
    "            input[0, 0, :], a_data[0, 0, :] = couples(\n",
    "                data[0, 0, :], i_offset, j_offset)\n",
    "            input, a_data = Variable(torch.FloatTensor(\n",
    "                input)), Variable(torch.FloatTensor(a_data))\n",
    "\n",
    "            prediction = net(input)\n",
    "            pred_data = prediction.data.numpy()[-1][-1]\n",
    "\n",
    "            if fig_type == 'cmap':\n",
    "                image = energy_plus @ pred_data\n",
    "                image_reshaped = image.reshape(N_pic, N_pic)\n",
    "\n",
    "                fig, ax = plt.subplots(figsize=(13, 10.725))\n",
    "                cmap = ax.pcolor(np.arange(-(N_pic/2), (N_pic/2)),\n",
    "                                 np.arange(-(N_pic/2), (N_pic/2)), image_reshaped)\n",
    "                fig.colorbar(cmap)\n",
    "                plt.axvline(j_offset, c='k')\n",
    "                plt.axhline(i_offset, c='k')\n",
    "\n",
    "                for i_pred in range(0, N_pic):\n",
    "                    for j_pred in range(0, N_pic):\n",
    "                        if image_reshaped[i_pred][j_pred] == image_reshaped.max():\n",
    "                            i_hat, j_hat = i_pred-(N_pic/2), j_pred-(N_pic/2)\n",
    "                            print('Position prediction: ({},{})'.format(\n",
    "                                i_hat, j_hat))\n",
    "                            if fig_type == 'cmap':\n",
    "                                plt.axvline(j_hat, c='r')\n",
    "                                plt.axhline(i_hat, c='r')\n",
    "                            break\n",
    "\n",
    "                # check if number of saccades is beyond threshold\n",
    "                if sacc_count == sacc_lim:\n",
    "                    print('Stimulus position not found, break')\n",
    "                    break\n",
    "\n",
    "                # saccades\n",
    "                i_offset, j_offset = (i_offset - i_hat), (j_offset - j_hat)\n",
    "                sacc_count += 1\n",
    "                print('Stimulus position after saccade: ({}, {})'.format(\n",
    "                    i_offset, j_offset))\n",
    "\n",
    "                # check if the image position is predicted within the fovea\n",
    "                if i_hat <= (fovea_size/2) and j_hat <= (fovea_size/2):\n",
    "                    if i_hat >= -(fovea_size/2) and j_hat >= -(fovea_size/2):\n",
    "                        a_data_in_fovea = True\n",
    "                        print(\n",
    "                            'a_data predicted in fovea, stopping the saccadic exploration')\n",
    "\n",
    "            if fig_type == 'log':\n",
    "                code = energy_plus @ pred_data #np.ravel(pred_data)\n",
    "                global_energy = energy_vector @ code\n",
    "                global_energy = global_energy.reshape(N_scale, N_orient)\n",
    "\n",
    "                log_r_a_data = 1 + \\\n",
    "                    np.log(np.sqrt(i_offset**2 + j_offset**2) /\n",
    "                           np.sqrt(N_X**2 + N_Y**2) / 2) / 5\n",
    "                if j_offset != 0:\n",
    "                    theta_a_data = np.arctan(-i_offset / j_offset)\n",
    "                else:\n",
    "                    theta_a_data = np.sign(-i_offset) * np.pi/2\n",
    "                print('a_data position (log_r, theta) = ({},{})'.format(\n",
    "                    log_r_a_data, theta_a_data))\n",
    "                log_r, theta = np.meshgrid(np.linspace(\n",
    "                    0, 1, N_scale+1), np.linspace(-np.pi*.625, np.pi*1.375, N_orient+1))\n",
    "\n",
    "                fig, ax = plt.subplots(subplot_kw=dict(projection='polar'))\n",
    "                ax.pcolor(theta, log_r, np.fliplr(global_energy))\n",
    "                ax.plot(theta_a_data, log_r_a_data, 'r+')\n",
    "\n",
    "                for n_orient in range(N_orient):\n",
    "                    for n_scale in range(N_scale):\n",
    "                        if global_energy[n_orient][n_scale] == np.max(global_energy):\n",
    "                            print('Position prediction (orient, scale) = ({},{})'.format(\n",
    "                                n_orient, n_scale))\n",
    "\n",
    "                a_data_in_fovea = True\n",
    "\n",
    "        print('*' * 50)\n",
    "        return prediction"
   ]
  },
  {
   "cell_type": "markdown",
   "metadata": {},
   "source": [
    "### Lancer l'apprentissage ou charger les données"
   ]
  },
  {
   "cell_type": "code",
   "execution_count": 41,
   "metadata": {
    "ExecuteTime": {
     "end_time": "2018-05-23T12:48:13.271531Z",
     "start_time": "2018-05-23T12:48:13.242558Z"
    }
   },
   "outputs": [],
   "source": [
    "path = '2018-05-30_classification_BCELoss.pt'"
   ]
  },
  {
   "cell_type": "code",
   "execution_count": 42,
   "metadata": {
    "ExecuteTime": {
     "end_time": "2018-05-23T12:48:13.793074Z",
     "start_time": "2018-05-23T12:48:13.313716Z"
    }
   },
   "outputs": [
    {
     "name": "stdout",
     "output_type": "stream",
     "text": [
      "ls: cannot access '2018-05-30_classification_BCELoss.pt': No such file or directory\n",
      "rm: cannot remove '2018-05-30_classification_BCELoss.pt': No such file or directory\n"
     ]
    }
   ],
   "source": [
    "!ls -l {path}\n",
    "!rm {path}"
   ]
  },
  {
   "cell_type": "code",
   "execution_count": 43,
   "metadata": {
    "scrolled": false
   },
   "outputs": [
    {
     "name": "stdout",
     "output_type": "stream",
     "text": [
      "Training model... with lr= 0.09000000000000001\n",
      "Starting training...\n",
      "Epoch 0: [0/60000] Loss: 0.9402458667755127 Time: 0.04 mn\n",
      "Epoch 0: [20000/60000] Loss: 0.6939840316772461 Time: 4.13 mn\n",
      "Epoch 0: [40000/60000] Loss: 0.6934486627578735 Time: 8.79 mn\n",
      "Starting training...\n",
      "Epoch 1: [0/60000] Loss: 0.6933403015136719 Time: 0.05 mn\n",
      "Epoch 1: [20000/60000] Loss: 0.6933016777038574 Time: 4.79 mn\n",
      "Epoch 1: [40000/60000] Loss: 0.6932448744773865 Time: 9.45 mn\n",
      "Starting training...\n",
      "Epoch 2: [0/60000] Loss: 0.693217396736145 Time: 0.05 mn\n",
      "Epoch 2: [20000/60000] Loss: 0.6932047605514526 Time: 4.82 mn\n",
      "Epoch 2: [40000/60000] Loss: 0.6931858062744141 Time: 9.38 mn\n",
      "Training model... with lr= 0.16004514690350308\n",
      "Starting training...\n",
      "Epoch 0: [0/60000] Loss: 0.9269722700119019 Time: 0.05 mn\n",
      "Epoch 0: [20000/60000] Loss: 0.6936029195785522 Time: 4.79 mn\n",
      "Epoch 0: [40000/60000] Loss: 0.6932802796363831 Time: 9.34 mn\n",
      "Starting training...\n",
      "Epoch 1: [0/60000] Loss: 0.6932570338249207 Time: 0.04 mn\n",
      "Epoch 1: [20000/60000] Loss: 0.693189799785614 Time: 3.63 mn\n",
      "Epoch 1: [40000/60000] Loss: 0.6932070255279541 Time: 7.63 mn\n",
      "Starting training...\n",
      "Epoch 2: [0/60000] Loss: 0.6931977868080139 Time: 0.04 mn\n",
      "Epoch 2: [20000/60000] Loss: 0.6931783556938171 Time: 3.66 mn\n",
      "Epoch 2: [40000/60000] Loss: 0.6931726932525635 Time: 7.25 mn\n",
      "Training model... with lr= 0.28460498941515416\n",
      "Starting training...\n",
      "Epoch 0: [0/60000] Loss: 0.9426465034484863 Time: 0.04 mn\n",
      "Epoch 0: [20000/60000] Loss: 0.6933118104934692 Time: 3.62 mn\n",
      "Epoch 0: [40000/60000] Loss: 0.6932209730148315 Time: 7.25 mn\n",
      "Starting training...\n",
      "Epoch 1: [0/60000] Loss: 0.6932148337364197 Time: 0.04 mn\n",
      "Epoch 1: [20000/60000] Loss: 0.6931807398796082 Time: 3.62 mn\n",
      "Epoch 1: [40000/60000] Loss: 0.6931666731834412 Time: 7.20 mn\n",
      "Starting training...\n",
      "Epoch 2: [0/60000] Loss: 0.6931678652763367 Time: 0.04 mn\n",
      "Epoch 2: [20000/60000] Loss: 0.6931642293930054 Time: 3.64 mn\n",
      "Epoch 2: [40000/60000] Loss: 0.693159818649292 Time: 7.23 mn\n",
      "Training model... with lr= 0.5061071926713142\n",
      "Starting training...\n",
      "Epoch 0: [0/60000] Loss: 0.8995538949966431 Time: 0.04 mn\n",
      "Epoch 0: [20000/60000] Loss: 0.6932273507118225 Time: 3.62 mn\n",
      "Epoch 0: [40000/60000] Loss: 0.6931796073913574 Time: 7.23 mn\n",
      "Starting training...\n",
      "Epoch 1: [0/60000] Loss: 0.6931625008583069 Time: 0.04 mn\n",
      "Epoch 1: [20000/60000] Loss: 0.6931639909744263 Time: 3.62 mn\n",
      "Epoch 1: [40000/60000] Loss: 0.6931606531143188 Time: 7.23 mn\n",
      "Starting training...\n",
      "Epoch 2: [0/60000] Loss: 0.693154513835907 Time: 0.04 mn\n",
      "Epoch 2: [20000/60000] Loss: 0.6931556463241577 Time: 3.62 mn\n",
      "Epoch 2: [40000/60000] Loss: 0.6931539177894592 Time: 7.24 mn\n",
      "Training model... with lr= 0.9\n",
      "Starting training...\n",
      "Epoch 0: [0/60000] Loss: 0.9326398372650146 Time: 0.04 mn\n",
      "Epoch 0: [20000/60000] Loss: 0.6931963562965393 Time: 3.64 mn\n",
      "Epoch 0: [40000/60000] Loss: 0.6931639313697815 Time: 7.29 mn\n",
      "Starting training...\n",
      "Epoch 1: [0/60000] Loss: 0.6931638121604919 Time: 0.04 mn\n",
      "Epoch 1: [20000/60000] Loss: 0.693159282207489 Time: 3.67 mn\n",
      "Epoch 1: [40000/60000] Loss: 0.6931535005569458 Time: 7.25 mn\n",
      "Starting training...\n",
      "Epoch 2: [0/60000] Loss: 0.6931541562080383 Time: 0.04 mn\n",
      "Epoch 2: [20000/60000] Loss: 0.6931505799293518 Time: 3.62 mn\n",
      "Epoch 2: [40000/60000] Loss: 0.6931517124176025 Time: 7.23 mn\n",
      "Training model... with lr= 1.6004514690350304\n",
      "Starting training...\n",
      "Epoch 0: [0/60000] Loss: 0.91854327917099 Time: 0.04 mn\n",
      "Epoch 0: [20000/60000] Loss: 0.6931648850440979 Time: 3.63 mn\n",
      "Epoch 0: [40000/60000] Loss: 0.6931555867195129 Time: 7.29 mn\n",
      "Starting training...\n",
      "Epoch 1: [0/60000] Loss: 0.6931520104408264 Time: 0.04 mn\n",
      "Epoch 1: [20000/60000] Loss: 0.6931535005569458 Time: 3.64 mn\n",
      "Epoch 1: [40000/60000] Loss: 0.693149983882904 Time: 7.28 mn\n",
      "Starting training...\n",
      "Epoch 2: [0/60000] Loss: 0.6931511759757996 Time: 0.04 mn\n",
      "Epoch 2: [20000/60000] Loss: 0.6931502819061279 Time: 3.66 mn\n",
      "Epoch 2: [40000/60000] Loss: 0.6931493282318115 Time: 7.28 mn\n",
      "Training model... with lr= 2.8460498941515415\n",
      "Starting training...\n",
      "Epoch 0: [0/60000] Loss: 0.9276534914970398 Time: 0.05 mn\n",
      "Epoch 0: [20000/60000] Loss: 0.6931554675102234 Time: 3.67 mn\n",
      "Epoch 0: [40000/60000] Loss: 0.6931514739990234 Time: 7.27 mn\n",
      "Starting training...\n",
      "Epoch 1: [0/60000] Loss: 0.6931496262550354 Time: 0.04 mn\n",
      "Epoch 1: [20000/60000] Loss: 0.693149209022522 Time: 3.70 mn\n",
      "Epoch 1: [40000/60000] Loss: 0.6931484937667847 Time: 7.31 mn\n",
      "Starting training...\n",
      "Epoch 2: [0/60000] Loss: 0.6931481957435608 Time: 0.04 mn\n",
      "Epoch 2: [20000/60000] Loss: 0.6931488513946533 Time: 3.65 mn\n",
      "Epoch 2: [40000/60000] Loss: 0.6931478977203369 Time: 7.30 mn\n",
      "Training model... with lr= 5.061071926713142\n",
      "Starting training...\n",
      "Epoch 0: [0/60000] Loss: 0.9239217042922974 Time: 0.04 mn\n",
      "Epoch 0: [20000/60000] Loss: 0.6931506395339966 Time: 3.63 mn\n",
      "Epoch 0: [40000/60000] Loss: 0.693149983882904 Time: 7.26 mn\n",
      "Starting training...\n",
      "Epoch 1: [0/60000] Loss: 0.6931480765342712 Time: 0.04 mn\n",
      "Epoch 1: [20000/60000] Loss: 0.693148136138916 Time: 3.63 mn\n",
      "Epoch 1: [40000/60000] Loss: 0.6931475400924683 Time: 7.21 mn\n",
      "Starting training...\n",
      "Epoch 2: [0/60000] Loss: 0.6931477785110474 Time: 0.04 mn\n",
      "Epoch 2: [20000/60000] Loss: 0.6931477785110474 Time: 3.64 mn\n",
      "Epoch 2: [40000/60000] Loss: 0.6931477785110474 Time: 7.25 mn\n",
      "Training model... with lr= 9.0\n",
      "Starting training...\n",
      "Epoch 0: [0/60000] Loss: 0.9113104939460754 Time: 0.04 mn\n",
      "Epoch 0: [20000/60000] Loss: 0.6931471824645996 Time: 3.68 mn\n",
      "Epoch 0: [40000/60000] Loss: 0.6931471824645996 Time: 7.28 mn\n",
      "Starting training...\n",
      "Epoch 1: [0/60000] Loss: 0.6931472420692444 Time: 0.04 mn\n",
      "Epoch 1: [20000/60000] Loss: 0.6931471824645996 Time: 3.68 mn\n",
      "Epoch 1: [40000/60000] Loss: 0.6931471824645996 Time: 7.27 mn\n",
      "Starting training...\n",
      "Epoch 2: [0/60000] Loss: 0.6931471824645996 Time: 0.04 mn\n",
      "Epoch 2: [20000/60000] Loss: 0.6931471824645996 Time: 3.63 mn\n",
      "Epoch 2: [40000/60000] Loss: 0.6931471824645996 Time: 7.25 mn\n"
     ]
    }
   ],
   "source": [
    "for lr_ in lr*np.logspace(-1, 1, 9, base=10):\n",
    "    net = Net(n_feature=N_theta*N_orient*N_scale*N_phase, n_hidden1=n_hidden1, n_hidden2=n_hidden2, n_hidden3=n_hidden3, n_output=N_orient*N_scale)\n",
    "    optimizer = torch.optim.SGD(net.parameters(), lr=lr_)\n",
    "    loss_func = torch.nn.BCEWithLogitsLoss()\n",
    "\n",
    "    print('Training model... with lr=', lr_)\n",
    "    N_epochs = 3\n",
    "    for epoch in range(N_epochs):          #max number of training epochs\n",
    "        train(sample_size, optimizer=optimizer)                 #starting the learning"
   ]
  },
  {
   "cell_type": "code",
   "execution_count": 44,
   "metadata": {
    "ExecuteTime": {
     "start_time": "2018-05-23T12:48:06.295Z"
    }
   },
   "outputs": [
    {
     "name": "stdout",
     "output_type": "stream",
     "text": [
      "Training model...\n",
      "Starting training...\n",
      "Epoch 0: [0/60000] Loss: 0.6931471824645996 Time: 0.04 mn\n",
      "Epoch 0: [20000/60000] Loss: 0.6931471824645996 Time: 3.62 mn\n",
      "Epoch 0: [40000/60000] Loss: 0.6931471824645996 Time: 7.25 mn\n",
      "Model saved at 2018-05-30_classification_BCELoss.pt\n",
      "Starting training...\n",
      "Epoch 1: [0/60000] Loss: 0.6931471824645996 Time: 0.04 mn\n",
      "Epoch 1: [20000/60000] Loss: 0.6931471824645996 Time: 3.62 mn\n",
      "Epoch 1: [40000/60000] Loss: 0.6931471824645996 Time: 7.18 mn\n",
      "Model saved at 2018-05-30_classification_BCELoss.pt\n",
      "Starting training...\n",
      "Epoch 2: [0/60000] Loss: 0.6931471824645996 Time: 0.04 mn\n",
      "Epoch 2: [20000/60000] Loss: 0.6931471824645996 Time: 3.67 mn\n",
      "Epoch 2: [40000/60000] Loss: 0.6931471824645996 Time: 7.25 mn\n",
      "Model saved at 2018-05-30_classification_BCELoss.pt\n",
      "Starting training...\n",
      "Epoch 3: [0/60000] Loss: 0.6931471824645996 Time: 0.04 mn\n",
      "Epoch 3: [20000/60000] Loss: 0.6931471824645996 Time: 3.66 mn\n",
      "Epoch 3: [40000/60000] Loss: 0.6931471824645996 Time: 7.22 mn\n",
      "Model saved at 2018-05-30_classification_BCELoss.pt\n",
      "Starting training...\n",
      "Epoch 4: [0/60000] Loss: 0.6931471824645996 Time: 0.04 mn\n",
      "Epoch 4: [20000/60000] Loss: 0.6931471824645996 Time: 3.66 mn\n",
      "Epoch 4: [40000/60000] Loss: 0.6931471824645996 Time: 7.28 mn\n",
      "Model saved at 2018-05-30_classification_BCELoss.pt\n",
      "Starting training...\n",
      "Epoch 5: [0/60000] Loss: 0.6931471824645996 Time: 0.04 mn\n",
      "Epoch 5: [20000/60000] Loss: 0.6931471824645996 Time: 3.60 mn\n",
      "Epoch 5: [40000/60000] Loss: 0.6931471824645996 Time: 7.23 mn\n",
      "Model saved at 2018-05-30_classification_BCELoss.pt\n",
      "Starting training...\n",
      "Epoch 6: [0/60000] Loss: 0.6931471824645996 Time: 0.04 mn\n",
      "Epoch 6: [20000/60000] Loss: 0.6931471824645996 Time: 3.60 mn\n",
      "Epoch 6: [40000/60000] Loss: 0.6931471824645996 Time: 7.19 mn\n",
      "Model saved at 2018-05-30_classification_BCELoss.pt\n",
      "Starting training...\n",
      "Epoch 7: [0/60000] Loss: 0.6931471824645996 Time: 0.04 mn\n",
      "Epoch 7: [20000/60000] Loss: 0.6931471824645996 Time: 3.62 mn\n",
      "Epoch 7: [40000/60000] Loss: 0.6931471824645996 Time: 7.18 mn\n",
      "Model saved at 2018-05-30_classification_BCELoss.pt\n",
      "Starting training...\n",
      "Epoch 8: [0/60000] Loss: 0.6931471824645996 Time: 0.04 mn\n",
      "Epoch 8: [20000/60000] Loss: 0.6931471824645996 Time: 3.62 mn\n",
      "Epoch 8: [40000/60000] Loss: 0.6931471824645996 Time: 7.21 mn\n",
      "Model saved at 2018-05-30_classification_BCELoss.pt\n",
      "Starting training...\n",
      "Epoch 9: [0/60000] Loss: 0.6931471824645996 Time: 0.04 mn\n",
      "Epoch 9: [20000/60000] Loss: 0.6931471824645996 Time: 3.67 mn\n",
      "Epoch 9: [40000/60000] Loss: 0.6931471824645996 Time: 7.25 mn\n",
      "Model saved at 2018-05-30_classification_BCELoss.pt\n"
     ]
    }
   ],
   "source": [
    "if os.path.isfile(path):\n",
    "    net.load_state_dict(torch.load(path))\n",
    "    print('Loading file', path)\n",
    "else:\n",
    "    print('Training model...')\n",
    "    N_epochs = 10\n",
    "    for epoch in range(N_epochs):          #max number of training epochs\n",
    "        train(sample_size)                 #starting the learning\n",
    "        torch.save(net.state_dict(), path) #save the neural network state\n",
    "        print('Model saved at', path)"
   ]
  },
  {
   "cell_type": "markdown",
   "metadata": {},
   "source": [
    "### Lancer l'évaluation"
   ]
  },
  {
   "cell_type": "code",
   "execution_count": 45,
   "metadata": {
    "ExecuteTime": {
     "start_time": "2018-05-23T12:48:06.297Z"
    }
   },
   "outputs": [
    {
     "name": "stdout",
     "output_type": "stream",
     "text": [
      "Stimulus position: (15,4)\n",
      "Position prediction: (-10.0,36.0)\n",
      "Stimulus position after saccade: (25.0, -32.0)\n"
     ]
    },
    {
     "ename": "TypeError",
     "evalue": "slice indices must be integers or None or have an __index__ method",
     "output_type": "error",
     "traceback": [
      "\u001b[0;31m---------------------------------------------------------------------------\u001b[0m",
      "\u001b[0;31mTypeError\u001b[0m                                 Traceback (most recent call last)",
      "\u001b[0;32m<ipython-input-45-3db72c3145e8>\u001b[0m in \u001b[0;36m<module>\u001b[0;34m()\u001b[0m\n\u001b[1;32m      2\u001b[0m \u001b[0;34m\u001b[0m\u001b[0m\n\u001b[1;32m      3\u001b[0m \u001b[0;32mfor\u001b[0m \u001b[0m_\u001b[0m \u001b[0;32min\u001b[0m \u001b[0mrange\u001b[0m\u001b[0;34m(\u001b[0m\u001b[0mN_test\u001b[0m\u001b[0;34m)\u001b[0m\u001b[0;34m:\u001b[0m\u001b[0;34m\u001b[0m\u001b[0m\n\u001b[0;32m----> 4\u001b[0;31m     \u001b[0meval_sacc\u001b[0m\u001b[0;34m(\u001b[0m\u001b[0;34m)\u001b[0m\u001b[0;34m\u001b[0m\u001b[0m\n\u001b[0m\u001b[1;32m      5\u001b[0m     \u001b[0mplt\u001b[0m\u001b[0;34m.\u001b[0m\u001b[0mshow\u001b[0m\u001b[0;34m(\u001b[0m\u001b[0;34m)\u001b[0m\u001b[0;34m\u001b[0m\u001b[0m\n",
      "\u001b[0;32m<ipython-input-37-31971452cc8d>\u001b[0m in \u001b[0;36meval_sacc\u001b[0;34m(vsize, asize, N_pic, sacc_lim, fovea_size, fig_type)\u001b[0m\n\u001b[1;32m     77\u001b[0m             \u001b[0minput\u001b[0m\u001b[0;34m,\u001b[0m \u001b[0ma_data\u001b[0m \u001b[0;34m=\u001b[0m \u001b[0mnp\u001b[0m\u001b[0;34m.\u001b[0m\u001b[0mzeros\u001b[0m\u001b[0;34m(\u001b[0m\u001b[0;34m(\u001b[0m\u001b[0;36m1\u001b[0m\u001b[0;34m,\u001b[0m \u001b[0;36m1\u001b[0m\u001b[0;34m,\u001b[0m \u001b[0mvsize\u001b[0m\u001b[0;34m)\u001b[0m\u001b[0;34m)\u001b[0m\u001b[0;34m,\u001b[0m \u001b[0mnp\u001b[0m\u001b[0;34m.\u001b[0m\u001b[0mzeros\u001b[0m\u001b[0;34m(\u001b[0m\u001b[0;34m(\u001b[0m\u001b[0;36m1\u001b[0m\u001b[0;34m,\u001b[0m \u001b[0;36m1\u001b[0m\u001b[0;34m,\u001b[0m \u001b[0masize\u001b[0m\u001b[0;34m)\u001b[0m\u001b[0;34m)\u001b[0m\u001b[0;34m\u001b[0m\u001b[0m\n\u001b[1;32m     78\u001b[0m             input[0, 0, :], a_data[0, 0, :] = couples(\n\u001b[0;32m---> 79\u001b[0;31m                 data[0, 0, :], i_offset, j_offset)\n\u001b[0m\u001b[1;32m     80\u001b[0m             input, a_data = Variable(torch.FloatTensor(\n\u001b[1;32m     81\u001b[0m                 input)), Variable(torch.FloatTensor(a_data))\n",
      "\u001b[0;32m<ipython-input-3-1886af5a2838>\u001b[0m in \u001b[0;36mcouples\u001b[0;34m(data, i_offset, j_offset)\u001b[0m\n\u001b[1;32m     70\u001b[0m \u001b[0;32mdef\u001b[0m \u001b[0mcouples\u001b[0m\u001b[0;34m(\u001b[0m\u001b[0mdata\u001b[0m\u001b[0;34m,\u001b[0m \u001b[0mi_offset\u001b[0m\u001b[0;34m,\u001b[0m \u001b[0mj_offset\u001b[0m\u001b[0;34m)\u001b[0m\u001b[0;34m:\u001b[0m\u001b[0;34m\u001b[0m\u001b[0m\n\u001b[1;32m     71\u001b[0m     \u001b[0mv\u001b[0m \u001b[0;34m=\u001b[0m \u001b[0mmnist_128\u001b[0m\u001b[0;34m(\u001b[0m\u001b[0mdata\u001b[0m\u001b[0;34m,\u001b[0m \u001b[0mi_offset\u001b[0m\u001b[0;34m,\u001b[0m \u001b[0mj_offset\u001b[0m\u001b[0;34m)\u001b[0m\u001b[0;34m\u001b[0m\u001b[0m\n\u001b[0;32m---> 72\u001b[0;31m     \u001b[0ma\u001b[0m \u001b[0;34m=\u001b[0m \u001b[0maccuracy_128\u001b[0m\u001b[0;34m(\u001b[0m\u001b[0mi_offset\u001b[0m\u001b[0;34m,\u001b[0m \u001b[0mj_offset\u001b[0m\u001b[0;34m)\u001b[0m\u001b[0;34m\u001b[0m\u001b[0m\n\u001b[0m\u001b[1;32m     73\u001b[0m     \u001b[0;32mreturn\u001b[0m \u001b[0;34m(\u001b[0m\u001b[0mv\u001b[0m\u001b[0;34m,\u001b[0m \u001b[0ma\u001b[0m\u001b[0;34m)\u001b[0m\u001b[0;34m\u001b[0m\u001b[0m\n\u001b[1;32m     74\u001b[0m \u001b[0;34m\u001b[0m\u001b[0m\n",
      "\u001b[0;32m<ipython-input-3-1886af5a2838>\u001b[0m in \u001b[0;36maccuracy_128\u001b[0;34m(i_offset, j_offset, N_pic, N_stim)\u001b[0m\n\u001b[1;32m     43\u001b[0m     \u001b[0maccuracy_128\u001b[0m \u001b[0;34m=\u001b[0m \u001b[0;36m0.1\u001b[0m \u001b[0;34m*\u001b[0m \u001b[0mnp\u001b[0m\u001b[0;34m.\u001b[0m\u001b[0mones\u001b[0m\u001b[0;34m(\u001b[0m\u001b[0;34m(\u001b[0m\u001b[0mN_pic\u001b[0m\u001b[0;34m,\u001b[0m \u001b[0mN_pic\u001b[0m\u001b[0;34m)\u001b[0m\u001b[0;34m)\u001b[0m\u001b[0;34m\u001b[0m\u001b[0m\n\u001b[1;32m     44\u001b[0m     accuracy_128[(center+i_offset):(center+N_stim+i_offset),\n\u001b[0;32m---> 45\u001b[0;31m                  (center+j_offset):(center+N_stim+j_offset)] = accuracy\n\u001b[0m\u001b[1;32m     46\u001b[0m \u001b[0;34m\u001b[0m\u001b[0m\n\u001b[1;32m     47\u001b[0m     \u001b[0maccuracy_LP\u001b[0m \u001b[0;34m=\u001b[0m \u001b[0menergy_vector\u001b[0m \u001b[0;34m@\u001b[0m \u001b[0mnp\u001b[0m\u001b[0;34m.\u001b[0m\u001b[0mravel\u001b[0m\u001b[0;34m(\u001b[0m\u001b[0maccuracy_128\u001b[0m\u001b[0;34m)\u001b[0m\u001b[0;34m\u001b[0m\u001b[0m\n",
      "\u001b[0;31mTypeError\u001b[0m: slice indices must be integers or None or have an __index__ method"
     ]
    },
    {
     "data": {
      "image/png": "[encoded data removed]",
      "text/plain": [
       "<Figure size 936x772.2 with 2 Axes>"
      ]
     },
     "metadata": {},
     "output_type": "display_data"
    }
   ],
   "source": [
    "N_test = 100\n",
    "\n",
    "for _ in range(N_test):\n",
    "    eval_sacc()\n",
    "    plt.show()    "
   ]
  },
  {
   "cell_type": "code",
   "execution_count": 37,
   "metadata": {
    "ExecuteTime": {
     "start_time": "2018-05-23T12:48:06.299Z"
    }
   },
   "outputs": [
    {
     "name": "stdout",
     "output_type": "stream",
     "text": [
      "Stimulus position: (-7,1)\n",
      "a_data position (log_r, theta) = (0.2128520935909075,1.4288992721907328)\n"
     ]
    },
    {
     "ename": "TypeError",
     "evalue": "Dimensions of C (5, 12) are incompatible with X (6) and/or Y (13); see help(pcolor)",
     "output_type": "error",
     "traceback": [
      "\u001b[0;31m---------------------------------------------------------------------------\u001b[0m",
      "\u001b[0;31mTypeError\u001b[0m                                 Traceback (most recent call last)",
      "\u001b[0;32m<ipython-input-37-36b761319df1>\u001b[0m in \u001b[0;36m<module>\u001b[0;34m()\u001b[0m\n\u001b[1;32m      1\u001b[0m \u001b[0;32mfor\u001b[0m \u001b[0m_\u001b[0m \u001b[0;32min\u001b[0m \u001b[0mrange\u001b[0m\u001b[0;34m(\u001b[0m\u001b[0mN_test\u001b[0m\u001b[0;34m)\u001b[0m\u001b[0;34m:\u001b[0m\u001b[0;34m\u001b[0m\u001b[0m\n\u001b[0;32m----> 2\u001b[0;31m     \u001b[0meval_sacc\u001b[0m\u001b[0;34m(\u001b[0m\u001b[0mfig_type\u001b[0m\u001b[0;34m=\u001b[0m\u001b[0;34m'log'\u001b[0m\u001b[0;34m)\u001b[0m\u001b[0;34m\u001b[0m\u001b[0m\n\u001b[0m\u001b[1;32m      3\u001b[0m     \u001b[0mplt\u001b[0m\u001b[0;34m.\u001b[0m\u001b[0mshow\u001b[0m\u001b[0;34m(\u001b[0m\u001b[0;34m)\u001b[0m\u001b[0;34m\u001b[0m\u001b[0m\n",
      "\u001b[0;32m<ipython-input-28-348521f3a021>\u001b[0m in \u001b[0;36meval_sacc\u001b[0;34m(vsize, asize, N_pic, sacc_lim, fovea_size, fig_type)\u001b[0m\n\u001b[1;32m    143\u001b[0m \u001b[0;34m\u001b[0m\u001b[0m\n\u001b[1;32m    144\u001b[0m                 \u001b[0mfig\u001b[0m\u001b[0;34m,\u001b[0m \u001b[0max\u001b[0m \u001b[0;34m=\u001b[0m \u001b[0mplt\u001b[0m\u001b[0;34m.\u001b[0m\u001b[0msubplots\u001b[0m\u001b[0;34m(\u001b[0m\u001b[0msubplot_kw\u001b[0m\u001b[0;34m=\u001b[0m\u001b[0mdict\u001b[0m\u001b[0;34m(\u001b[0m\u001b[0mprojection\u001b[0m\u001b[0;34m=\u001b[0m\u001b[0;34m'polar'\u001b[0m\u001b[0;34m)\u001b[0m\u001b[0;34m)\u001b[0m\u001b[0;34m\u001b[0m\u001b[0m\n\u001b[0;32m--> 145\u001b[0;31m                 \u001b[0max\u001b[0m\u001b[0;34m.\u001b[0m\u001b[0mpcolor\u001b[0m\u001b[0;34m(\u001b[0m\u001b[0mtheta\u001b[0m\u001b[0;34m,\u001b[0m \u001b[0mlog_r\u001b[0m\u001b[0;34m,\u001b[0m \u001b[0mnp\u001b[0m\u001b[0;34m.\u001b[0m\u001b[0mfliplr\u001b[0m\u001b[0;34m(\u001b[0m\u001b[0mglobal_energy\u001b[0m\u001b[0;34m)\u001b[0m\u001b[0;34m)\u001b[0m\u001b[0;34m\u001b[0m\u001b[0m\n\u001b[0m\u001b[1;32m    146\u001b[0m                 \u001b[0max\u001b[0m\u001b[0;34m.\u001b[0m\u001b[0mplot\u001b[0m\u001b[0;34m(\u001b[0m\u001b[0mtheta_a_data\u001b[0m\u001b[0;34m,\u001b[0m \u001b[0mlog_r_a_data\u001b[0m\u001b[0;34m,\u001b[0m \u001b[0;34m'r+'\u001b[0m\u001b[0;34m)\u001b[0m\u001b[0;34m\u001b[0m\u001b[0m\n\u001b[1;32m    147\u001b[0m \u001b[0;34m\u001b[0m\u001b[0m\n",
      "\u001b[0;32m~/.local/lib/python3.5/site-packages/matplotlib/__init__.py\u001b[0m in \u001b[0;36minner\u001b[0;34m(ax, *args, **kwargs)\u001b[0m\n\u001b[1;32m   1853\u001b[0m                         \u001b[0;34m\"the Matplotlib list!)\"\u001b[0m \u001b[0;34m%\u001b[0m \u001b[0;34m(\u001b[0m\u001b[0mlabel_namer\u001b[0m\u001b[0;34m,\u001b[0m \u001b[0mfunc\u001b[0m\u001b[0;34m.\u001b[0m\u001b[0m__name__\u001b[0m\u001b[0;34m)\u001b[0m\u001b[0;34m,\u001b[0m\u001b[0;34m\u001b[0m\u001b[0m\n\u001b[1;32m   1854\u001b[0m                         RuntimeWarning, stacklevel=2)\n\u001b[0;32m-> 1855\u001b[0;31m             \u001b[0;32mreturn\u001b[0m \u001b[0mfunc\u001b[0m\u001b[0;34m(\u001b[0m\u001b[0max\u001b[0m\u001b[0;34m,\u001b[0m \u001b[0;34m*\u001b[0m\u001b[0margs\u001b[0m\u001b[0;34m,\u001b[0m \u001b[0;34m**\u001b[0m\u001b[0mkwargs\u001b[0m\u001b[0;34m)\u001b[0m\u001b[0;34m\u001b[0m\u001b[0m\n\u001b[0m\u001b[1;32m   1856\u001b[0m \u001b[0;34m\u001b[0m\u001b[0m\n\u001b[1;32m   1857\u001b[0m         inner.__doc__ = _add_data_doc(inner.__doc__,\n",
      "\u001b[0;32m~/.local/lib/python3.5/site-packages/matplotlib/axes/_axes.py\u001b[0m in \u001b[0;36mpcolor\u001b[0;34m(self, *args, **kwargs)\u001b[0m\n\u001b[1;32m   5730\u001b[0m         \u001b[0mvmax\u001b[0m \u001b[0;34m=\u001b[0m \u001b[0mkwargs\u001b[0m\u001b[0;34m.\u001b[0m\u001b[0mpop\u001b[0m\u001b[0;34m(\u001b[0m\u001b[0;34m'vmax'\u001b[0m\u001b[0;34m,\u001b[0m \u001b[0;32mNone\u001b[0m\u001b[0;34m)\u001b[0m\u001b[0;34m\u001b[0m\u001b[0m\n\u001b[1;32m   5731\u001b[0m \u001b[0;34m\u001b[0m\u001b[0m\n\u001b[0;32m-> 5732\u001b[0;31m         \u001b[0mX\u001b[0m\u001b[0;34m,\u001b[0m \u001b[0mY\u001b[0m\u001b[0;34m,\u001b[0m \u001b[0mC\u001b[0m \u001b[0;34m=\u001b[0m \u001b[0mself\u001b[0m\u001b[0;34m.\u001b[0m\u001b[0m_pcolorargs\u001b[0m\u001b[0;34m(\u001b[0m\u001b[0;34m'pcolor'\u001b[0m\u001b[0;34m,\u001b[0m \u001b[0;34m*\u001b[0m\u001b[0margs\u001b[0m\u001b[0;34m,\u001b[0m \u001b[0mallmatch\u001b[0m\u001b[0;34m=\u001b[0m\u001b[0;32mFalse\u001b[0m\u001b[0;34m)\u001b[0m\u001b[0;34m\u001b[0m\u001b[0m\n\u001b[0m\u001b[1;32m   5733\u001b[0m         \u001b[0mNy\u001b[0m\u001b[0;34m,\u001b[0m \u001b[0mNx\u001b[0m \u001b[0;34m=\u001b[0m \u001b[0mX\u001b[0m\u001b[0;34m.\u001b[0m\u001b[0mshape\u001b[0m\u001b[0;34m\u001b[0m\u001b[0m\n\u001b[1;32m   5734\u001b[0m \u001b[0;34m\u001b[0m\u001b[0m\n",
      "\u001b[0;32m~/.local/lib/python3.5/site-packages/matplotlib/axes/_axes.py\u001b[0m in \u001b[0;36m_pcolorargs\u001b[0;34m(funcname, *args, **kw)\u001b[0m\n\u001b[1;32m   5574\u001b[0m                 raise TypeError('Dimensions of C %s are incompatible with'\n\u001b[1;32m   5575\u001b[0m                                 ' X (%d) and/or Y (%d); see help(%s)' % (\n\u001b[0;32m-> 5576\u001b[0;31m                                     C.shape, Nx, Ny, funcname))\n\u001b[0m\u001b[1;32m   5577\u001b[0m             \u001b[0mC\u001b[0m \u001b[0;34m=\u001b[0m \u001b[0mC\u001b[0m\u001b[0;34m[\u001b[0m\u001b[0;34m:\u001b[0m\u001b[0mNy\u001b[0m \u001b[0;34m-\u001b[0m \u001b[0;36m1\u001b[0m\u001b[0;34m,\u001b[0m \u001b[0;34m:\u001b[0m\u001b[0mNx\u001b[0m \u001b[0;34m-\u001b[0m \u001b[0;36m1\u001b[0m\u001b[0;34m]\u001b[0m\u001b[0;34m\u001b[0m\u001b[0m\n\u001b[1;32m   5578\u001b[0m         \u001b[0mC\u001b[0m \u001b[0;34m=\u001b[0m \u001b[0mcbook\u001b[0m\u001b[0;34m.\u001b[0m\u001b[0msafe_masked_invalid\u001b[0m\u001b[0;34m(\u001b[0m\u001b[0mC\u001b[0m\u001b[0;34m)\u001b[0m\u001b[0;34m\u001b[0m\u001b[0m\n",
      "\u001b[0;31mTypeError\u001b[0m: Dimensions of C (5, 12) are incompatible with X (6) and/or Y (13); see help(pcolor)"
     ]
    },
    {
     "data": {
      "image/png": "[encoded data removed]",
      "text/plain": [
       "<Figure size 432x288 with 1 Axes>"
      ]
     },
     "metadata": {},
     "output_type": "display_data"
    }
   ],
   "source": [
    "for _ in range(N_test):\n",
    "    eval_sacc(fig_type='log')\n",
    "    plt.show()    "
   ]
  }
 ],
 "metadata": {
  "kernelspec": {
   "display_name": "Python 3",
   "language": "python",
   "name": "python3"
  },
  "language_info": {
   "codemirror_mode": {
    "name": "ipython",
    "version": 3
   },
   "file_extension": ".py",
   "mimetype": "text/x-python",
   "name": "python",
   "nbconvert_exporter": "python",
   "pygments_lexer": "ipython3",
   "version": "3.5.2"
  },
  "toc": {
   "base_numbering": 1,
   "nav_menu": {},
   "number_sections": true,
   "sideBar": true,
   "skip_h1_title": false,
   "title_cell": "Table of Contents",
   "title_sidebar": "Contents",
   "toc_cell": false,
   "toc_position": {},
   "toc_section_display": true,
   "toc_window_display": false
  }
 },
 "nbformat": 4,
 "nbformat_minor": 2
}
