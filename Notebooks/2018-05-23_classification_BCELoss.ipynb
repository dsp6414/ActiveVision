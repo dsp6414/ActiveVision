{
 "cells": [
  {
   "cell_type": "code",
   "execution_count": 1,
   "metadata": {
    "ExecuteTime": {
     "end_time": "2018-05-31T07:59:53.914066Z",
     "start_time": "2018-05-31T07:59:53.060930Z"
    }
   },
   "outputs": [],
   "source": [
    "import os\n",
    "import time\n",
    "import matplotlib.pyplot as plt\n",
    "import numpy as np\n",
    "import argparse\n",
    "import noise\n",
    "import torch\n",
    "import torch.nn as nn\n",
    "import torch.nn.functional as F\n",
    "import torch.optim as optim\n",
    "import MotionClouds as mc\n",
    "from torchvision import datasets, transforms\n",
    "from torch.autograd import Variable\n",
    "from LogGabor import LogGabor"
   ]
  },
  {
   "cell_type": "markdown",
   "metadata": {},
   "source": [
    "## Charger la matrice de certitude"
   ]
  },
  {
   "cell_type": "code",
   "execution_count": 2,
   "metadata": {
    "ExecuteTime": {
     "end_time": "2018-05-31T07:59:53.922981Z",
     "start_time": "2018-05-31T07:59:53.915674Z"
    }
   },
   "outputs": [
    {
     "name": "stdout",
     "output_type": "stream",
     "text": [
      "Loading accuracy...\n",
      "[[0.0974 0.0974 0.0974 ... 0.0974 0.0974 0.0974]\n",
      " [0.0974 0.0974 0.0974 ... 0.0974 0.0974 0.0974]\n",
      " [0.0974 0.0974 0.0974 ... 0.0974 0.0974 0.0974]\n",
      " ...\n",
      " [0.0974 0.0974 0.0974 ... 0.0974 0.0974 0.0974]\n",
      " [0.0974 0.0974 0.0974 ... 0.0974 0.0974 0.0974]\n",
      " [0.0974 0.0974 0.0974 ... 0.0974 0.0974 0.0974]]\n"
     ]
    }
   ],
   "source": [
    "path = \"MNIST_accuracy.npy\"\n",
    "if os.path.isfile(path):\n",
    "    print('Loading accuracy...')\n",
    "    accuracy =  np.load(path)\n",
    "    print(accuracy)\n",
    "else:\n",
    "    print('No accuracy data found.')"
   ]
  },
  {
   "cell_type": "markdown",
   "metadata": {},
   "source": [
    "## Préparer l'apprentissage et les fonctions nécessaires au fonctionnement du script"
   ]
  },
  {
   "cell_type": "code",
   "execution_count": 3,
   "metadata": {
    "ExecuteTime": {
     "end_time": "2018-05-31T07:59:59.966694Z",
     "start_time": "2018-05-31T07:59:53.926035Z"
    }
   },
   "outputs": [],
   "source": [
    "N_theta, N_orient, N_scale, N_phase, N_X, N_Y, rho = 6, 12, 5, 2, 128, 128, 1.61803\n",
    "\n",
    "def vectorization(N_theta, N_orient, N_scale, N_phase, N_X, N_Y, rho):\n",
    "    phi = np.zeros((N_theta, N_orient, N_scale, N_phase, N_X*N_Y))\n",
    "    parameterfile = 'https://raw.githubusercontent.com/bicv/LogGabor/master/default_param.py'\n",
    "    lg = LogGabor(parameterfile)\n",
    "    lg.set_size((N_X, N_Y))\n",
    "    params = {'sf_0': .1, 'B_sf': 2*lg.pe.B_sf,\n",
    "              'theta': np.pi * 5 / 7., 'B_theta': 2*lg.pe.B_theta}\n",
    "    phase = np.pi/4\n",
    "    edge = lg.normalize(lg.invert(lg.loggabor(\n",
    "        N_X/3, 3*N_Y/4, **params)*np.exp(-1j*phase)))\n",
    "\n",
    "    for i_theta in range(N_theta):\n",
    "        for i_orient in range(N_orient):\n",
    "            for i_scale in range(N_scale):\n",
    "                ecc = (1/rho)**(N_scale - i_scale)\n",
    "                r = np.sqrt(N_X**2+N_Y**2) / 2 * ecc  # radius\n",
    "                sf_0 = 0.5 * 0.03 / ecc\n",
    "                x = N_X/2 + r * \\\n",
    "                    np.cos((i_orient+(i_scale % 2)*.5)*np.pi*2 / N_orient)\n",
    "                y = N_Y/2 + r * \\\n",
    "                    np.sin((i_orient+(i_scale % 2)*.5)*np.pi*2 / N_orient)\n",
    "                for i_phase in range(N_phase):\n",
    "                    params = {'sf_0': sf_0, 'B_sf': lg.pe.B_sf,\n",
    "                              'theta': i_theta*np.pi/N_theta, 'B_theta': np.pi/N_theta/2}\n",
    "                    phase = i_phase * np.pi/2\n",
    "                    phi[i_theta, i_orient, i_scale, i_phase, :] = lg.normalize(\n",
    "                        lg.invert(lg.loggabor(x, y, **params)*np.exp(-1j*phase))).ravel()\n",
    "    return phi\n",
    "\n",
    "\n",
    "phi = vectorization(N_theta, N_orient, N_scale, N_phase, N_X, N_Y, rho)\n",
    "phi_vector = phi.reshape((N_theta*N_orient*N_scale*N_phase, N_X*N_Y))\n",
    "phi_plus = np.linalg.pinv(phi_vector)\n",
    "\n",
    "energy = (phi**2).sum(axis=(0, 3))\n",
    "energy /= energy.sum(axis=-1)[:, :, None]\n",
    "energy_vector = energy.reshape((N_orient*N_scale, N_X*N_Y))\n",
    "energy_plus = np.linalg.pinv(energy_vector)\n",
    "\n",
    "def accuracy_128(i_offset, j_offset, N_pic=128, N_stim=55):\n",
    "    center = (N_pic-N_stim)//2\n",
    "\n",
    "    accuracy_128 = 0.1 * np.ones((N_pic, N_pic))\n",
    "    accuracy_128[int(center+i_offset):int(center+N_stim+i_offset),\n",
    "                 int(center+j_offset):int(center+N_stim+j_offset)] = accuracy\n",
    "\n",
    "    accuracy_LP = energy_vector @ np.ravel(accuracy_128)\n",
    "    return accuracy_LP\n",
    "\n",
    "\n",
    "def mnist_128(data, i_offset, j_offset, N_pic=128, N_stim=28, noise=True, noise_type='MotionCloud'):\n",
    "    center = (N_pic-N_stim)//2\n",
    "    #data_128 = np.zeros((N_pic, N_pic))\n",
    "    data_128 = (data.min().numpy()) * np.ones((N_pic, N_pic))\n",
    "\n",
    "    data_128[int(center+i_offset):int(center+N_stim+i_offset),\n",
    "             int(center+j_offset):int(center+N_stim+j_offset)] = data\n",
    "\n",
    "    if noise:\n",
    "        if noise_type == 'MotionCloud':\n",
    "            data_LP = phi_vector @ np.ravel(data_128 + MotionCloudNoise())\n",
    "        elif noise_type == 'Perlin':\n",
    "            data_LP = phi_vector @ np.ravel(\n",
    "                data_128 + randomized_perlin_noise())\n",
    "    else:\n",
    "        data_LP = phi_vector @ np.ravel(data_128)\n",
    "    return data_LP\n",
    "\n",
    "\n",
    "def couples(data, i_offset, j_offset):\n",
    "    v = mnist_128(data, i_offset, j_offset)\n",
    "    a = accuracy_128(i_offset, j_offset)\n",
    "    return (v, a)\n",
    "\n",
    "\n",
    "def minmax(value, border):\n",
    "    value = max(value, -border)\n",
    "    value = min(value, border)\n",
    "    return value\n",
    "\n",
    "\n",
    "def sigmoid(values):\n",
    "    values = 1 / (1 + ((1 / 0.1) - 1) * np.exp(-values))\n",
    "    return values\n",
    "\n",
    "\n",
    "def randomized_perlin_noise(shape=(128, 128), scale=10, octaves=6, persistence=0.5, lacunarity=2.0, base=0):\n",
    "    noise_vector = np.zeros(shape)\n",
    "    for i in range(shape[0]):\n",
    "        for j in range(shape[1]):\n",
    "            noise_vector[i][j] = noise.pnoise2(i/scale,\n",
    "                                               j/scale,\n",
    "                                               octaves=int(\n",
    "                                                   octave * abs(np.random.randn()))+1,\n",
    "                                               persistence=persistence *\n",
    "                                               abs(np.random.randn()),\n",
    "                                               lacunarity=lacunarity *\n",
    "                                               abs(np.random.randn()),\n",
    "                                               repeatx=shape[0],\n",
    "                                               repeaty=shape[1],\n",
    "                                               base=base)\n",
    "    return noise_vector\n",
    "\n",
    "\n",
    "def MotionCloudNoise(sf_0=0.125, B_sf=3.):\n",
    "    mc.N_X, mc.N_Y, mc.N_frame = 128, 128, 1\n",
    "    fx, fy, ft = mc.get_grids(mc.N_X, mc.N_Y, mc.N_frame)\n",
    "    name = 'static'\n",
    "    env = mc.envelope_gabor(fx, fy, ft, sf_0=sf_0, B_sf=B_sf,\n",
    "                            B_theta=np.inf, V_X=0., V_Y=0., B_V=0, alpha=.5)\n",
    "\n",
    "    z = mc.rectif(mc.random_cloud(env))\n",
    "    z = z.reshape((mc.N_X, mc.N_Y))\n",
    "    return z\n"
   ]
  },
  {
   "cell_type": "markdown",
   "metadata": {},
   "source": [
    "## Réseau de neurones"
   ]
  },
  {
   "cell_type": "raw",
   "metadata": {},
   "source": [
    "\n",
    "# cf 2018-05-17_classification_relu_network\n",
    "class Net(torch.nn.Module):\n",
    "    def __init__(self, n_feature, n_hidden1, n_hidden2, n_hidden3, n_output):\n",
    "        super(Net, self).__init__()\n",
    "        self.hidden1 = torch.nn.Linear(n_feature, n_hidden1)\n",
    "        self.hidden2 = torch.nn.Linear(n_hidden1, n_hidden2)\n",
    "        self.hidden3 = torch.nn.Linear(n_hidden2, n_hidden3)\n",
    "        self.predict = torch.nn.Linear(n_hidden3, n_output)\n",
    "\n",
    "    def forward(self, data):\n",
    "        data = F.leaky_relu(self.hidden1(data))\n",
    "        data = F.leaky_relu(self.hidden2(data))\n",
    "        data = F.leaky_relu(self.hidden3(data))\n",
    "        data = self.predict(data)\n",
    "        data = F.sigmoid(data)\n",
    "        return data\n",
    "\n",
    "\n",
    "class Net(torch.nn.Module):\n",
    "    def __init__(self, n_feature, n_hidden1, n_RNN, n_hidden2, n_output):\n",
    "        super(Net, self).__init__()\n",
    "        self.hidden1 = torch.nn.Linear(n_feature, n_hidden1)\n",
    "        self.RNN = torch.nn.RNN(\n",
    "        n_hidden1, n_RNN, nonlinearity='relu', bias=True, bidirectional=False)\n",
    "        self.hidden2 = torch.nn.Linear(n_RNN, n_hidden1)\n",
    "        self.predict = torch.nn.Linear(n_hidden2, n_output)\n",
    "\n",
    "    def forward(self, data):\n",
    "        data = F.leaky_relu(self.hidden1(data))\n",
    "        #data, weights = self.RNN(data)\n",
    "        data = F.leaky_relu(self.hidden2(data))\n",
    "        data = self.predict(data)\n",
    "        data = F.sigmoid(data)\n",
    "        return data\n",
    "\n",
    "\n"
   ]
  },
  {
   "cell_type": "code",
   "execution_count": 4,
   "metadata": {
    "ExecuteTime": {
     "end_time": "2018-05-31T08:00:11.983422Z",
     "start_time": "2018-05-31T07:59:59.968575Z"
    }
   },
   "outputs": [
    {
     "name": "stdout",
     "output_type": "stream",
     "text": [
      "Downloading http://yann.lecun.com/exdb/mnist/train-images-idx3-ubyte.gz\n",
      "Downloading http://yann.lecun.com/exdb/mnist/train-labels-idx1-ubyte.gz\n",
      "Downloading http://yann.lecun.com/exdb/mnist/t10k-images-idx3-ubyte.gz\n",
      "Downloading http://yann.lecun.com/exdb/mnist/t10k-labels-idx1-ubyte.gz\n",
      "Processing...\n",
      "Done!\n"
     ]
    }
   ],
   "source": [
    "sample_size = 200  # quantity of examples that'll be processed\n",
    "lr = 0.9\n",
    "n_hidden1 = 550\n",
    "n_hidden2 = 300\n",
    "n_hidden3 = 150\n",
    "offset_max = 40\n",
    "\n",
    "\n",
    "data_loader = torch.utils.data.DataLoader(\n",
    "    datasets.MNIST('/tmp/data',\n",
    "                   train=True,  # def the dataset as training data\n",
    "                   download=True,  # download if dataset not present on disk\n",
    "                   transform=transforms.Compose([\n",
    "                       transforms.ToTensor(),\n",
    "                       transforms.Normalize((0.1307,), (0.3081,))])),\n",
    "    batch_size=sample_size,\n",
    "    shuffle=True)\n",
    "\n",
    "\n",
    "class Net(torch.nn.Module):\n",
    "    def __init__(self, n_feature, n_hidden1, n_hidden2, n_hidden3, n_output):\n",
    "        super(Net, self).__init__()\n",
    "        self.hidden1 = torch.nn.Linear(n_feature, n_hidden1)\n",
    "        self.hidden2 = torch.nn.Linear(n_hidden1, n_hidden2)\n",
    "        self.hidden3 = torch.nn.Linear(n_hidden2, n_hidden3)\n",
    "        self.predict = torch.nn.Linear(n_hidden3, n_output)\n",
    "\n",
    "    def forward(self, data):\n",
    "        data = F.leaky_relu(self.hidden1(data))\n",
    "        data = F.leaky_relu(self.hidden2(data))\n",
    "        data = F.leaky_relu(self.hidden3(data))\n",
    "        data = self.predict(data)\n",
    "        data = F.sigmoid(data)\n",
    "        return data\n",
    "\n",
    "net = Net(n_feature=N_theta*N_orient*N_scale*N_phase, n_hidden1=n_hidden1, n_hidden2=n_hidden2, n_hidden3=n_hidden3, n_output=N_orient*N_scale)\n",
    "optimizer = torch.optim.SGD(net.parameters(), lr=lr)\n",
    "loss_func = torch.nn.BCEWithLogitsLoss()\n",
    "\n",
    "\n",
    "def train(sample_size, optimizer=optimizer, vsize=N_theta*N_orient*N_scale*N_phase, asize=N_orient*N_scale, offset_std=10, offset_max=25, verbose=1):\n",
    "    t_start = time.time()\n",
    "    if verbose: print('Starting training...')\n",
    "    for batch_idx, (data, label) in enumerate(data_loader):\n",
    "        input, a_data = np.zeros((sample_size, 1, vsize)), np.zeros((sample_size, 1, asize))\n",
    "        target = np.zeros((sample_size, asize))\n",
    "        for idx in range(sample_size):\n",
    "            i_offset, j_offset = int(minmax(np.random.randn()*offset_std, offset_max)), int(minmax(np.random.randn()*offset_std, offset_max))\n",
    "            input[idx, 0, :], a_data[idx, 0, :] = couples(data[idx, 0, :], i_offset, j_offset)\n",
    "        target[idx, :] = a_data[idx, 0, :]\n",
    "\n",
    "        input, target = Variable(torch.FloatTensor(input)), Variable(torch.FloatTensor(a_data))\n",
    "\n",
    "        prediction = net(input)\n",
    "        loss = loss_func(prediction, target)\n",
    "\n",
    "        optimizer.zero_grad()\n",
    "        loss.backward()\n",
    "        optimizer.step()\n",
    "\n",
    "        if verbose and batch_idx % 100 == 0:\n",
    "            print('Epoch {}: [{}/{}] Loss: {} Time: {:.2f} mn'.format(\n",
    "                epoch, batch_idx*sample_size, len(data_loader.dataset),\n",
    "                loss.data.numpy(), (time.time()-t_start)/60))\n",
    "    #return loss.data.numpy()\n",
    "\n",
    "\n",
    "def eval_sacc(vsize=N_theta*N_orient*N_scale*N_phase, asize=N_orient*N_scale, N_pic=N_X, sacc_lim=5, fovea_size=10, fig_type='cmap'):\n",
    "    for batch_idx, (data, label) in enumerate(data_loader):\n",
    "        i_offset, j_offset = int(\n",
    "            minmax(np.random.randn()*10, 35)), int(minmax(np.random.randn()*10, 35))\n",
    "        print('Stimulus position: ({},{})'.format(i_offset, j_offset))\n",
    "        a_data_in_fovea = False\n",
    "        sacc_count = 0\n",
    "\n",
    "        while not a_data_in_fovea:\n",
    "            input, a_data = np.zeros((1, 1, vsize)), np.zeros((1, 1, asize))\n",
    "            input[0, 0, :], a_data[0, 0, :] = couples(\n",
    "                data[0, 0, :], i_offset, j_offset)\n",
    "            input, a_data = Variable(torch.FloatTensor(\n",
    "                input)), Variable(torch.FloatTensor(a_data))\n",
    "\n",
    "            prediction = net(input)\n",
    "            pred_data = prediction.data.numpy()[-1][-1]\n",
    "\n",
    "            if fig_type == 'cmap':\n",
    "                image = energy_plus @ pred_data\n",
    "                image_reshaped = image.reshape(N_pic, N_pic)\n",
    "\n",
    "                fig, ax = plt.subplots(figsize=(13, 10.725))\n",
    "                cmap = ax.pcolor(np.arange(-(N_pic/2), (N_pic/2)),\n",
    "                                 np.arange(-(N_pic/2), (N_pic/2)), image_reshaped)\n",
    "                fig.colorbar(cmap)\n",
    "                plt.axvline(j_offset, c='k')\n",
    "                plt.axhline(i_offset, c='k')\n",
    "\n",
    "                for i_pred in range(0, N_pic):\n",
    "                    for j_pred in range(0, N_pic):\n",
    "                        if image_reshaped[i_pred][j_pred] == image_reshaped.max():\n",
    "                            i_hat, j_hat = i_pred-(N_pic/2), j_pred-(N_pic/2)\n",
    "                            print('Position prediction: ({},{})'.format(\n",
    "                                i_hat, j_hat))\n",
    "                            if fig_type == 'cmap':\n",
    "                                plt.axvline(j_hat, c='r')\n",
    "                                plt.axhline(i_hat, c='r')\n",
    "                            break\n",
    "\n",
    "                # check if number of saccades is beyond threshold\n",
    "                if sacc_count == sacc_lim:\n",
    "                    print('Stimulus position not found, break')\n",
    "                    break\n",
    "\n",
    "                # saccades\n",
    "                i_offset, j_offset = (i_offset - i_hat), (j_offset - j_hat)\n",
    "                sacc_count += 1\n",
    "                print('Stimulus position after saccade: ({}, {})'.format(\n",
    "                    i_offset, j_offset))\n",
    "\n",
    "                # check if the image position is predicted within the fovea\n",
    "                if i_hat <= (fovea_size/2) and j_hat <= (fovea_size/2):\n",
    "                    if i_hat >= -(fovea_size/2) and j_hat >= -(fovea_size/2):\n",
    "                        a_data_in_fovea = True\n",
    "                        print(\n",
    "                            'a_data predicted in fovea, stopping the saccadic exploration')\n",
    "\n",
    "            if fig_type == 'log':\n",
    "                code = energy_plus @ pred_data #np.ravel(pred_data)\n",
    "                global_energy = energy_vector @ code\n",
    "                global_energy = global_energy.reshape(N_scale, N_orient)\n",
    "\n",
    "                log_r_a_data = 1 + \\\n",
    "                    np.log(np.sqrt(i_offset**2 + j_offset**2) /\n",
    "                           np.sqrt(N_X**2 + N_Y**2) / 2) / 5\n",
    "                if j_offset != 0:\n",
    "                    theta_a_data = np.arctan(-i_offset / j_offset)\n",
    "                else:\n",
    "                    theta_a_data = np.sign(-i_offset) * np.pi/2\n",
    "                print('a_data position (log_r, theta) = ({},{})'.format(\n",
    "                    log_r_a_data, theta_a_data))\n",
    "                log_r, theta = np.meshgrid(np.linspace(\n",
    "                    0, 1, N_scale+1), np.linspace(-np.pi*.625, np.pi*1.375, N_orient+1))\n",
    "\n",
    "                fig, ax = plt.subplots(subplot_kw=dict(projection='polar'))\n",
    "                ax.pcolor(theta, log_r, np.fliplr(global_energy))\n",
    "                ax.plot(theta_a_data, log_r_a_data, 'r+')\n",
    "\n",
    "                for n_orient in range(N_orient):\n",
    "                    for n_scale in range(N_scale):\n",
    "                        if global_energy[n_orient][n_scale] == np.max(global_energy):\n",
    "                            print('Position prediction (orient, scale) = ({},{})'.format(\n",
    "                                n_orient, n_scale))\n",
    "\n",
    "                a_data_in_fovea = True\n",
    "\n",
    "        print('*' * 50)\n",
    "        return prediction"
   ]
  },
  {
   "cell_type": "markdown",
   "metadata": {},
   "source": [
    "### Lancer l'apprentissage ou charger les données"
   ]
  },
  {
   "cell_type": "code",
   "execution_count": 5,
   "metadata": {
    "ExecuteTime": {
     "end_time": "2018-05-31T08:00:11.987413Z",
     "start_time": "2018-05-31T08:00:11.985296Z"
    }
   },
   "outputs": [],
   "source": [
    "path = '2018-05-30_classification_BCELoss.pt'"
   ]
  },
  {
   "cell_type": "code",
   "execution_count": 6,
   "metadata": {
    "ExecuteTime": {
     "end_time": "2018-05-31T08:00:12.241482Z",
     "start_time": "2018-05-31T08:00:11.989186Z"
    }
   },
   "outputs": [
    {
     "name": "stdout",
     "output_type": "stream",
     "text": [
      "ls: 2018-05-30_classification_BCELoss.pt: No such file or directory\n",
      "rm: 2018-05-30_classification_BCELoss.pt: No such file or directory\n"
     ]
    }
   ],
   "source": [
    "!ls -l {path}\n",
    "!rm {path}"
   ]
  },
  {
   "cell_type": "code",
   "execution_count": 7,
   "metadata": {
    "ExecuteTime": {
     "end_time": "2018-05-31T15:04:59.866105Z",
     "start_time": "2018-05-31T08:00:12.243560Z"
    },
    "scrolled": false
   },
   "outputs": [
    {
     "name": "stdout",
     "output_type": "stream",
     "text": [
      "Training model... with lr= 0.09000000000000001\n",
      "Starting training...\n",
      "Epoch 0: [0/60000] Loss: 0.9022290110588074 Time: 0.05 mn\n",
      "Epoch 0: [20000/60000] Loss: 0.693861722946167 Time: 4.61 mn\n",
      "Epoch 0: [40000/60000] Loss: 0.6934309005737305 Time: 9.15 mn\n",
      "Starting training...\n",
      "Epoch 1: [0/60000] Loss: 0.6932981014251709 Time: 0.04 mn\n",
      "Epoch 1: [20000/60000] Loss: 0.6932722330093384 Time: 4.54 mn\n",
      "Epoch 1: [40000/60000] Loss: 0.693242609500885 Time: 9.01 mn\n",
      "Starting training...\n",
      "Epoch 2: [0/60000] Loss: 0.6932252049446106 Time: 0.05 mn\n",
      "Epoch 2: [20000/60000] Loss: 0.6932103633880615 Time: 4.55 mn\n",
      "Epoch 2: [40000/60000] Loss: 0.6931893825531006 Time: 9.01 mn\n",
      "Training model... with lr= 0.16004514690350308\n",
      "Starting training...\n",
      "Epoch 0: [0/60000] Loss: 0.9053353667259216 Time: 0.05 mn\n",
      "Epoch 0: [20000/60000] Loss: 0.693443238735199 Time: 4.44 mn\n",
      "Epoch 0: [40000/60000] Loss: 0.6933603286743164 Time: 10.76 mn\n",
      "Starting training...\n",
      "Epoch 1: [0/60000] Loss: 0.693231463432312 Time: 0.06 mn\n",
      "Epoch 1: [20000/60000] Loss: 0.6932095289230347 Time: 6.80 mn\n",
      "Epoch 1: [40000/60000] Loss: 0.6931971311569214 Time: 13.45 mn\n",
      "Starting training...\n",
      "Epoch 2: [0/60000] Loss: 0.6931893825531006 Time: 0.07 mn\n",
      "Epoch 2: [20000/60000] Loss: 0.6931852102279663 Time: 6.81 mn\n",
      "Epoch 2: [40000/60000] Loss: 0.6931745409965515 Time: 13.51 mn\n",
      "Training model... with lr= 0.28460498941515416\n",
      "Starting training...\n",
      "Epoch 0: [0/60000] Loss: 0.9206122756004333 Time: 0.07 mn\n",
      "Epoch 0: [20000/60000] Loss: 0.6933030486106873 Time: 6.75 mn\n",
      "Epoch 0: [40000/60000] Loss: 0.6932073831558228 Time: 12.51 mn\n",
      "Starting training...\n",
      "Epoch 1: [0/60000] Loss: 0.6931948661804199 Time: 0.06 mn\n",
      "Epoch 1: [20000/60000] Loss: 0.6931951642036438 Time: 5.20 mn\n",
      "Epoch 1: [40000/60000] Loss: 0.6931718587875366 Time: 9.74 mn\n",
      "Starting training...\n",
      "Epoch 2: [0/60000] Loss: 0.6931636929512024 Time: 0.04 mn\n",
      "Epoch 2: [20000/60000] Loss: 0.6931614875793457 Time: 5.17 mn\n",
      "Epoch 2: [40000/60000] Loss: 0.6931623220443726 Time: 12.13 mn\n",
      "Training model... with lr= 0.5061071926713142\n",
      "Starting training...\n",
      "Epoch 0: [0/60000] Loss: 0.90665602684021 Time: 0.06 mn\n",
      "Epoch 0: [20000/60000] Loss: 0.6932359933853149 Time: 5.75 mn\n",
      "Epoch 0: [40000/60000] Loss: 0.6932035684585571 Time: 11.52 mn\n",
      "Starting training...\n",
      "Epoch 1: [0/60000] Loss: 0.6931705474853516 Time: 0.04 mn\n",
      "Epoch 1: [20000/60000] Loss: 0.6931696534156799 Time: 4.50 mn\n",
      "Epoch 1: [40000/60000] Loss: 0.69315505027771 Time: 8.95 mn\n",
      "Starting training...\n",
      "Epoch 2: [0/60000] Loss: 0.6931552290916443 Time: 0.04 mn\n",
      "Epoch 2: [20000/60000] Loss: 0.6931548714637756 Time: 4.52 mn\n",
      "Epoch 2: [40000/60000] Loss: 0.693153440952301 Time: 9.19 mn\n",
      "Training model... with lr= 0.9\n",
      "Starting training...\n",
      "Epoch 0: [0/60000] Loss: 0.9225307703018188 Time: 0.06 mn\n",
      "Epoch 0: [20000/60000] Loss: 0.6932076811790466 Time: 5.94 mn\n",
      "Epoch 0: [40000/60000] Loss: 0.6931668519973755 Time: 11.84 mn\n",
      "Starting training...\n",
      "Epoch 1: [0/60000] Loss: 0.6931591629981995 Time: 0.06 mn\n",
      "Epoch 1: [20000/60000] Loss: 0.6931564807891846 Time: 5.55 mn\n",
      "Epoch 1: [40000/60000] Loss: 0.6931518912315369 Time: 10.76 mn\n",
      "Starting training...\n",
      "Epoch 2: [0/60000] Loss: 0.693152666091919 Time: 0.04 mn\n",
      "Epoch 2: [20000/60000] Loss: 0.6931523680686951 Time: 4.43 mn\n",
      "Epoch 2: [40000/60000] Loss: 0.6931503415107727 Time: 8.87 mn\n",
      "Training model... with lr= 1.6004514690350304\n",
      "Starting training...\n",
      "Epoch 0: [0/60000] Loss: 0.9200951457023621 Time: 0.04 mn\n",
      "Epoch 0: [20000/60000] Loss: 0.6931698322296143 Time: 4.43 mn\n",
      "Epoch 0: [40000/60000] Loss: 0.693156361579895 Time: 8.83 mn\n",
      "Starting training...\n",
      "Epoch 1: [0/60000] Loss: 0.6931555867195129 Time: 0.04 mn\n",
      "Epoch 1: [20000/60000] Loss: 0.6931525468826294 Time: 4.43 mn\n",
      "Epoch 1: [40000/60000] Loss: 0.6931495666503906 Time: 8.80 mn\n",
      "Starting training...\n",
      "Epoch 2: [0/60000] Loss: 0.693149745464325 Time: 0.04 mn\n",
      "Epoch 2: [20000/60000] Loss: 0.6931489706039429 Time: 4.47 mn\n",
      "Epoch 2: [40000/60000] Loss: 0.6931505799293518 Time: 8.91 mn\n",
      "Training model... with lr= 2.8460498941515415\n",
      "Starting training...\n",
      "Epoch 0: [0/60000] Loss: 0.9450449347496033 Time: 0.05 mn\n",
      "Epoch 0: [20000/60000] Loss: 0.69315505027771 Time: 4.56 mn\n",
      "Epoch 0: [40000/60000] Loss: 0.69315105676651 Time: 9.03 mn\n",
      "Starting training...\n",
      "Epoch 1: [0/60000] Loss: 0.6931489706039429 Time: 0.04 mn\n",
      "Epoch 1: [20000/60000] Loss: 0.6931492686271667 Time: 4.49 mn\n",
      "Epoch 1: [40000/60000] Loss: 0.693148136138916 Time: 9.50 mn\n",
      "Starting training...\n",
      "Epoch 2: [0/60000] Loss: 0.6931484341621399 Time: 0.05 mn\n",
      "Epoch 2: [20000/60000] Loss: 0.6931480765342712 Time: 5.32 mn\n",
      "Epoch 2: [40000/60000] Loss: 0.6931480765342712 Time: 10.57 mn\n",
      "Training model... with lr= 5.061071926713142\n",
      "Starting training...\n",
      "Epoch 0: [0/60000] Loss: 0.9216274619102478 Time: 0.05 mn\n",
      "Epoch 0: [20000/60000] Loss: 0.6931523680686951 Time: 5.37 mn\n",
      "Epoch 0: [40000/60000] Loss: 0.6931493878364563 Time: 10.58 mn\n",
      "Starting training...\n",
      "Epoch 1: [0/60000] Loss: 0.6931493878364563 Time: 0.06 mn\n",
      "Epoch 1: [20000/60000] Loss: 0.6931483745574951 Time: 5.30 mn\n",
      "Epoch 1: [40000/60000] Loss: 0.6931489109992981 Time: 10.60 mn\n",
      "Starting training...\n",
      "Epoch 2: [0/60000] Loss: 0.6931478977203369 Time: 0.05 mn\n",
      "Epoch 2: [20000/60000] Loss: 0.693147599697113 Time: 5.60 mn\n",
      "Epoch 2: [40000/60000] Loss: 0.6931473612785339 Time: 11.04 mn\n",
      "Training model... with lr= 9.0\n",
      "Starting training...\n",
      "Epoch 0: [0/60000] Loss: 0.9127518534660339 Time: 0.06 mn\n",
      "Epoch 0: [20000/60000] Loss: 0.6931472420692444 Time: 5.29 mn\n",
      "Epoch 0: [40000/60000] Loss: 0.6931472420692444 Time: 10.58 mn\n",
      "Starting training...\n",
      "Epoch 1: [0/60000] Loss: 0.6931472420692444 Time: 0.07 mn\n",
      "Epoch 1: [20000/60000] Loss: 0.6931471824645996 Time: 6.28 mn\n",
      "Epoch 1: [40000/60000] Loss: 0.6931472420692444 Time: 12.17 mn\n",
      "Starting training...\n",
      "Epoch 2: [0/60000] Loss: 0.6931471824645996 Time: 0.06 mn\n",
      "Epoch 2: [20000/60000] Loss: 0.6931471824645996 Time: 5.96 mn\n",
      "Epoch 2: [40000/60000] Loss: 0.6931471824645996 Time: 11.85 mn\n"
     ]
    }
   ],
   "source": [
    "for lr_ in lr*np.logspace(-1, 1, 9, base=10):\n",
    "    net = Net(n_feature=N_theta*N_orient*N_scale*N_phase, n_hidden1=n_hidden1, n_hidden2=n_hidden2, n_hidden3=n_hidden3, n_output=N_orient*N_scale)\n",
    "    optimizer = torch.optim.SGD(net.parameters(), lr=lr_)\n",
    "    loss_func = torch.nn.BCEWithLogitsLoss()\n",
    "\n",
    "    print('Training model... with lr=', lr_)\n",
    "    N_epochs = 3\n",
    "    for epoch in range(N_epochs):          #max number of training epochs\n",
    "        train(sample_size, optimizer=optimizer)                 #starting the learning"
   ]
  },
  {
   "cell_type": "code",
   "execution_count": 8,
   "metadata": {
    "ExecuteTime": {
     "end_time": "2018-05-31T18:16:01.345223Z",
     "start_time": "2018-05-31T15:04:59.871082Z"
    }
   },
   "outputs": [
    {
     "name": "stdout",
     "output_type": "stream",
     "text": [
      "Training model...\n",
      "Starting training...\n",
      "Epoch 0: [0/60000] Loss: 0.6931471824645996 Time: 0.06 mn\n",
      "Epoch 0: [20000/60000] Loss: 0.6931471824645996 Time: 6.00 mn\n",
      "Epoch 0: [40000/60000] Loss: 0.6931471824645996 Time: 12.72 mn\n",
      "Model saved at 2018-05-30_classification_BCELoss.pt\n",
      "Starting training...\n",
      "Epoch 1: [0/60000] Loss: 0.6931471824645996 Time: 0.07 mn\n",
      "Epoch 1: [20000/60000] Loss: 0.6931471824645996 Time: 7.45 mn\n",
      "Epoch 1: [40000/60000] Loss: 0.6931471824645996 Time: 14.82 mn\n",
      "Model saved at 2018-05-30_classification_BCELoss.pt\n",
      "Starting training...\n",
      "Epoch 2: [0/60000] Loss: 0.6931471824645996 Time: 0.08 mn\n",
      "Epoch 2: [20000/60000] Loss: 0.6931472420692444 Time: 7.47 mn\n",
      "Epoch 2: [40000/60000] Loss: 0.6931471824645996 Time: 14.86 mn\n",
      "Model saved at 2018-05-30_classification_BCELoss.pt\n",
      "Starting training...\n",
      "Epoch 3: [0/60000] Loss: 0.6931471824645996 Time: 0.07 mn\n",
      "Epoch 3: [20000/60000] Loss: 0.6931471824645996 Time: 7.48 mn\n",
      "Epoch 3: [40000/60000] Loss: 0.6931471824645996 Time: 14.14 mn\n",
      "Model saved at 2018-05-30_classification_BCELoss.pt\n",
      "Starting training...\n",
      "Epoch 4: [0/60000] Loss: 0.6931471824645996 Time: 0.07 mn\n",
      "Epoch 4: [20000/60000] Loss: 0.6931471824645996 Time: 6.68 mn\n",
      "Epoch 4: [40000/60000] Loss: 0.6931471824645996 Time: 13.28 mn\n",
      "Model saved at 2018-05-30_classification_BCELoss.pt\n",
      "Starting training...\n",
      "Epoch 5: [0/60000] Loss: 0.6931472420692444 Time: 0.07 mn\n",
      "Epoch 5: [20000/60000] Loss: 0.6931471824645996 Time: 6.72 mn\n",
      "Epoch 5: [40000/60000] Loss: 0.6931471824645996 Time: 13.34 mn\n",
      "Model saved at 2018-05-30_classification_BCELoss.pt\n",
      "Starting training...\n",
      "Epoch 6: [0/60000] Loss: 0.6931471824645996 Time: 0.07 mn\n",
      "Epoch 6: [20000/60000] Loss: 0.6931471824645996 Time: 6.69 mn\n",
      "Epoch 6: [40000/60000] Loss: 0.6931471824645996 Time: 12.73 mn\n",
      "Model saved at 2018-05-30_classification_BCELoss.pt\n",
      "Starting training...\n",
      "Epoch 7: [0/60000] Loss: 0.6931471824645996 Time: 0.05 mn\n",
      "Epoch 7: [20000/60000] Loss: 0.6931471824645996 Time: 5.46 mn\n",
      "Epoch 7: [40000/60000] Loss: 0.6931471824645996 Time: 10.85 mn\n",
      "Model saved at 2018-05-30_classification_BCELoss.pt\n",
      "Starting training...\n",
      "Epoch 8: [0/60000] Loss: 0.6931471824645996 Time: 0.05 mn\n",
      "Epoch 8: [20000/60000] Loss: 0.6931471824645996 Time: 5.43 mn\n",
      "Epoch 8: [40000/60000] Loss: 0.6931471824645996 Time: 10.76 mn\n",
      "Model saved at 2018-05-30_classification_BCELoss.pt\n",
      "Starting training...\n",
      "Epoch 9: [0/60000] Loss: 0.6931471824645996 Time: 0.05 mn\n",
      "Epoch 9: [20000/60000] Loss: 0.6931472420692444 Time: 5.39 mn\n",
      "Epoch 9: [40000/60000] Loss: 0.6931471824645996 Time: 10.78 mn\n",
      "Model saved at 2018-05-30_classification_BCELoss.pt\n"
     ]
    }
   ],
   "source": [
    "if os.path.isfile(path):\n",
    "    net.load_state_dict(torch.load(path))\n",
    "    print('Loading file', path)\n",
    "else:\n",
    "    print('Training model...')\n",
    "    N_epochs = 10\n",
    "    for epoch in range(N_epochs):          #max number of training epochs\n",
    "        train(sample_size)                 #starting the learning\n",
    "        torch.save(net.state_dict(), path) #save the neural network state\n",
    "        print('Model saved at', path)"
   ]
  },
  {
   "cell_type": "markdown",
   "metadata": {},
   "source": [
    "### Lancer l'évaluation"
   ]
  },
  {
   "cell_type": "code",
   "execution_count": 9,
   "metadata": {
    "ExecuteTime": {
     "end_time": "2018-05-31T18:16:02.801023Z",
     "start_time": "2018-05-31T18:16:01.347719Z"
    }
   },
   "outputs": [
    {
     "name": "stdout",
     "output_type": "stream",
     "text": [
      "Stimulus position: (13,-4)\n",
      "Position prediction: (-36.0,-11.0)\n",
      "Stimulus position after saccade: (49.0, 7.0)\n"
     ]
    },
    {
     "ename": "ValueError",
     "evalue": "could not broadcast input array from shape (55,55) into shape (43,55)",
     "output_type": "error",
     "traceback": [
      "\u001b[0;31m---------------------------------------------------------------------------\u001b[0m",
      "\u001b[0;31mValueError\u001b[0m                                Traceback (most recent call last)",
      "\u001b[0;32m<ipython-input-9-3db72c3145e8>\u001b[0m in \u001b[0;36m<module>\u001b[0;34m()\u001b[0m\n\u001b[1;32m      2\u001b[0m \u001b[0;34m\u001b[0m\u001b[0m\n\u001b[1;32m      3\u001b[0m \u001b[0;32mfor\u001b[0m \u001b[0m_\u001b[0m \u001b[0;32min\u001b[0m \u001b[0mrange\u001b[0m\u001b[0;34m(\u001b[0m\u001b[0mN_test\u001b[0m\u001b[0;34m)\u001b[0m\u001b[0;34m:\u001b[0m\u001b[0;34m\u001b[0m\u001b[0m\n\u001b[0;32m----> 4\u001b[0;31m     \u001b[0meval_sacc\u001b[0m\u001b[0;34m(\u001b[0m\u001b[0;34m)\u001b[0m\u001b[0;34m\u001b[0m\u001b[0m\n\u001b[0m\u001b[1;32m      5\u001b[0m     \u001b[0mplt\u001b[0m\u001b[0;34m.\u001b[0m\u001b[0mshow\u001b[0m\u001b[0;34m(\u001b[0m\u001b[0;34m)\u001b[0m\u001b[0;34m\u001b[0m\u001b[0m\n",
      "\u001b[0;32m<ipython-input-4-31971452cc8d>\u001b[0m in \u001b[0;36meval_sacc\u001b[0;34m(vsize, asize, N_pic, sacc_lim, fovea_size, fig_type)\u001b[0m\n\u001b[1;32m     77\u001b[0m             \u001b[0minput\u001b[0m\u001b[0;34m,\u001b[0m \u001b[0ma_data\u001b[0m \u001b[0;34m=\u001b[0m \u001b[0mnp\u001b[0m\u001b[0;34m.\u001b[0m\u001b[0mzeros\u001b[0m\u001b[0;34m(\u001b[0m\u001b[0;34m(\u001b[0m\u001b[0;36m1\u001b[0m\u001b[0;34m,\u001b[0m \u001b[0;36m1\u001b[0m\u001b[0;34m,\u001b[0m \u001b[0mvsize\u001b[0m\u001b[0;34m)\u001b[0m\u001b[0;34m)\u001b[0m\u001b[0;34m,\u001b[0m \u001b[0mnp\u001b[0m\u001b[0;34m.\u001b[0m\u001b[0mzeros\u001b[0m\u001b[0;34m(\u001b[0m\u001b[0;34m(\u001b[0m\u001b[0;36m1\u001b[0m\u001b[0;34m,\u001b[0m \u001b[0;36m1\u001b[0m\u001b[0;34m,\u001b[0m \u001b[0masize\u001b[0m\u001b[0;34m)\u001b[0m\u001b[0;34m)\u001b[0m\u001b[0;34m\u001b[0m\u001b[0m\n\u001b[1;32m     78\u001b[0m             input[0, 0, :], a_data[0, 0, :] = couples(\n\u001b[0;32m---> 79\u001b[0;31m                 data[0, 0, :], i_offset, j_offset)\n\u001b[0m\u001b[1;32m     80\u001b[0m             input, a_data = Variable(torch.FloatTensor(\n\u001b[1;32m     81\u001b[0m                 input)), Variable(torch.FloatTensor(a_data))\n",
      "\u001b[0;32m<ipython-input-3-953223a7f553>\u001b[0m in \u001b[0;36mcouples\u001b[0;34m(data, i_offset, j_offset)\u001b[0m\n\u001b[1;32m     70\u001b[0m \u001b[0;32mdef\u001b[0m \u001b[0mcouples\u001b[0m\u001b[0;34m(\u001b[0m\u001b[0mdata\u001b[0m\u001b[0;34m,\u001b[0m \u001b[0mi_offset\u001b[0m\u001b[0;34m,\u001b[0m \u001b[0mj_offset\u001b[0m\u001b[0;34m)\u001b[0m\u001b[0;34m:\u001b[0m\u001b[0;34m\u001b[0m\u001b[0m\n\u001b[1;32m     71\u001b[0m     \u001b[0mv\u001b[0m \u001b[0;34m=\u001b[0m \u001b[0mmnist_128\u001b[0m\u001b[0;34m(\u001b[0m\u001b[0mdata\u001b[0m\u001b[0;34m,\u001b[0m \u001b[0mi_offset\u001b[0m\u001b[0;34m,\u001b[0m \u001b[0mj_offset\u001b[0m\u001b[0;34m)\u001b[0m\u001b[0;34m\u001b[0m\u001b[0m\n\u001b[0;32m---> 72\u001b[0;31m     \u001b[0ma\u001b[0m \u001b[0;34m=\u001b[0m \u001b[0maccuracy_128\u001b[0m\u001b[0;34m(\u001b[0m\u001b[0mi_offset\u001b[0m\u001b[0;34m,\u001b[0m \u001b[0mj_offset\u001b[0m\u001b[0;34m)\u001b[0m\u001b[0;34m\u001b[0m\u001b[0m\n\u001b[0m\u001b[1;32m     73\u001b[0m     \u001b[0;32mreturn\u001b[0m \u001b[0;34m(\u001b[0m\u001b[0mv\u001b[0m\u001b[0;34m,\u001b[0m \u001b[0ma\u001b[0m\u001b[0;34m)\u001b[0m\u001b[0;34m\u001b[0m\u001b[0m\n\u001b[1;32m     74\u001b[0m \u001b[0;34m\u001b[0m\u001b[0m\n",
      "\u001b[0;32m<ipython-input-3-953223a7f553>\u001b[0m in \u001b[0;36maccuracy_128\u001b[0;34m(i_offset, j_offset, N_pic, N_stim)\u001b[0m\n\u001b[1;32m     43\u001b[0m     \u001b[0maccuracy_128\u001b[0m \u001b[0;34m=\u001b[0m \u001b[0;36m0.1\u001b[0m \u001b[0;34m*\u001b[0m \u001b[0mnp\u001b[0m\u001b[0;34m.\u001b[0m\u001b[0mones\u001b[0m\u001b[0;34m(\u001b[0m\u001b[0;34m(\u001b[0m\u001b[0mN_pic\u001b[0m\u001b[0;34m,\u001b[0m \u001b[0mN_pic\u001b[0m\u001b[0;34m)\u001b[0m\u001b[0;34m)\u001b[0m\u001b[0;34m\u001b[0m\u001b[0m\n\u001b[1;32m     44\u001b[0m     accuracy_128[int(center+i_offset):int(center+N_stim+i_offset),\n\u001b[0;32m---> 45\u001b[0;31m                  int(center+j_offset):int(center+N_stim+j_offset)] = accuracy\n\u001b[0m\u001b[1;32m     46\u001b[0m \u001b[0;34m\u001b[0m\u001b[0m\n\u001b[1;32m     47\u001b[0m     \u001b[0maccuracy_LP\u001b[0m \u001b[0;34m=\u001b[0m \u001b[0menergy_vector\u001b[0m \u001b[0;34m@\u001b[0m \u001b[0mnp\u001b[0m\u001b[0;34m.\u001b[0m\u001b[0mravel\u001b[0m\u001b[0;34m(\u001b[0m\u001b[0maccuracy_128\u001b[0m\u001b[0;34m)\u001b[0m\u001b[0;34m\u001b[0m\u001b[0m\n",
      "\u001b[0;31mValueError\u001b[0m: could not broadcast input array from shape (55,55) into shape (43,55)"
     ]
    },
    {
     "data": {
      "image/png": "[encoded data removed]",
      "text/plain": [
       "<Figure size 936x772.2 with 2 Axes>"
      ]
     },
     "metadata": {},
     "output_type": "display_data"
    }
   ],
   "source": [
    "N_test = 100\n",
    "\n",
    "for _ in range(N_test):\n",
    "    eval_sacc()\n",
    "    plt.show()    "
   ]
  },
  {
   "cell_type": "code",
   "execution_count": null,
   "metadata": {
    "ExecuteTime": {
     "end_time": "2018-05-31T18:16:02.801853Z",
     "start_time": "2018-05-31T07:59:53.107Z"
    }
   },
   "outputs": [],
   "source": [
    "for _ in range(N_test):\n",
    "    eval_sacc(fig_type='log')\n",
    "    plt.show()    "
   ]
  }
 ],
 "metadata": {
  "kernelspec": {
   "display_name": "Python 3",
   "language": "python",
   "name": "python3"
  },
  "language_info": {
   "codemirror_mode": {
    "name": "ipython",
    "version": 3
   },
   "file_extension": ".py",
   "mimetype": "text/x-python",
   "name": "python",
   "nbconvert_exporter": "python",
   "pygments_lexer": "ipython3",
   "version": "3.6.5"
  },
  "toc": {
   "base_numbering": 1,
   "nav_menu": {},
   "number_sections": true,
   "sideBar": true,
   "skip_h1_title": false,
   "title_cell": "Table of Contents",
   "title_sidebar": "Contents",
   "toc_cell": false,
   "toc_position": {},
   "toc_section_display": true,
   "toc_window_display": false
  }
 },
 "nbformat": 4,
 "nbformat_minor": 2
}
