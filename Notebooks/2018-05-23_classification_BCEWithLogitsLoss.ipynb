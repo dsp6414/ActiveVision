{
 "cells": [
  {
   "cell_type": "markdown",
   "metadata": {},
   "source": [
    "From https://pytorch.org/docs/0.3.1/nn.html?highlight=crossentropy#bcewithlogitsloss\n",
    "\n",
    "This loss combines a Sigmoid layer and the BCELoss in one single class. This version is more numerically stable than using a plain Sigmoid followed by a BCELoss as, by combining the operations into one layer, we take advantage of the log-sum-exp trick for numerical stability.\n",
    "\n",
    "The loss can be described as:\n",
    "ℓ(x,y)=L={l1,…,lN}⊤,ln=−wn[tn⋅logσ(xn)+(1−tn)⋅log(1−σ(xn))],\n",
    "\n",
    "where N\n",
    "\n",
    "is the batch size. If reduce is True, then\n",
    "ℓ(x,y)={mean(L),sum(L),ifsize_average=True,ifsize_average=False.\n",
    "\n",
    "This is used for measuring the error of a reconstruction in for example an auto-encoder. Note that the targets t[i] should be numbers between 0 and 1.\n",
    "Parameters:\t\n",
    "\n",
    "    weight (Tensor, optional) – a manual rescaling weight given to the loss of each batch element. If given, has to be a Tensor of size “nbatch”.\n",
    "    size_average – By default, the losses are averaged over observations for each minibatch. However, if the field size_average is set to False, the losses are instead summed for each minibatch. Default: True\n",
    "\n"
   ]
  },
  {
   "cell_type": "code",
   "execution_count": 1,
   "metadata": {
    "ExecuteTime": {
     "end_time": "2018-05-31T08:45:44.344276Z",
     "start_time": "2018-05-31T08:45:37.493964Z"
    }
   },
   "outputs": [
    {
     "name": "stdout",
     "output_type": "stream",
     "text": [
      "Loading accuracy...\n"
     ]
    }
   ],
   "source": [
    "from Where import *"
   ]
  },
  {
   "cell_type": "markdown",
   "metadata": {},
   "source": [
    "## Réseau de neurones"
   ]
  },
  {
   "cell_type": "markdown",
   "metadata": {},
   "source": [
    "### Lancer l'apprentissage ou charger les données"
   ]
  },
  {
   "cell_type": "code",
   "execution_count": 2,
   "metadata": {
    "ExecuteTime": {
     "end_time": "2018-05-31T08:45:44.354030Z",
     "start_time": "2018-05-31T08:45:44.347152Z"
    }
   },
   "outputs": [],
   "source": [
    "path = '2018-05-23_classification_BCELoss.pt'"
   ]
  },
  {
   "cell_type": "code",
   "execution_count": 3,
   "metadata": {
    "ExecuteTime": {
     "end_time": "2018-05-31T08:45:44.628869Z",
     "start_time": "2018-05-31T08:45:44.356374Z"
    }
   },
   "outputs": [
    {
     "name": "stdout",
     "output_type": "stream",
     "text": [
      "ls: 2018-05-23_classification_BCELoss.pt: No such file or directory\n",
      "rm: 2018-05-23_classification_BCELoss.pt: No such file or directory\n"
     ]
    }
   ],
   "source": [
    "!ls -l {path}\n",
    "!rm {path}"
   ]
  },
  {
   "cell_type": "code",
   "execution_count": null,
   "metadata": {
    "ExecuteTime": {
     "start_time": "2018-05-31T08:45:37.469Z"
    }
   },
   "outputs": [
    {
     "name": "stdout",
     "output_type": "stream",
     "text": [
      "Training model...\n",
      "Starting training...\n",
      "[0/60000] Loss: 1.1179420948028564 Time: 0.02 mn\n",
      "[10000/60000] Loss: 0.37663018703460693 Time: 3.44 mn\n",
      "[20000/60000] Loss: 0.3653940260410309 Time: 6.72 mn\n",
      "[30000/60000] Loss: 0.3637272119522095 Time: 10.03 mn\n",
      "[40000/60000] Loss: 0.3610510528087616 Time: 13.29 mn\n",
      "[50000/60000] Loss: 0.36067473888397217 Time: 16.62 mn\n",
      "Model saved at 2018-05-23_classification_BCELoss.pt\n",
      "Starting training...\n",
      "[0/60000] Loss: 0.3580529987812042 Time: 0.04 mn\n",
      "[10000/60000] Loss: 0.3562711179256439 Time: 3.36 mn\n",
      "[20000/60000] Loss: 0.35797181725502014 Time: 6.59 mn\n",
      "[30000/60000] Loss: 0.3562498688697815 Time: 9.89 mn\n",
      "[40000/60000] Loss: 0.3570691645145416 Time: 13.18 mn\n",
      "[50000/60000] Loss: 0.35554468631744385 Time: 16.52 mn\n",
      "Model saved at 2018-05-23_classification_BCELoss.pt\n",
      "Starting training...\n",
      "[0/60000] Loss: 0.35420316457748413 Time: 0.04 mn\n",
      "[10000/60000] Loss: 0.3559962809085846 Time: 3.34 mn\n",
      "[20000/60000] Loss: 0.3541884124279022 Time: 6.63 mn\n",
      "[30000/60000] Loss: 0.355520635843277 Time: 9.94 mn\n",
      "[40000/60000] Loss: 0.35226452350616455 Time: 13.20 mn\n",
      "[50000/60000] Loss: 0.35642868280410767 Time: 16.46 mn\n",
      "Model saved at 2018-05-23_classification_BCELoss.pt\n",
      "Starting training...\n",
      "[0/60000] Loss: 0.352525919675827 Time: 0.03 mn\n",
      "[10000/60000] Loss: 0.3540821671485901 Time: 2.70 mn\n",
      "[20000/60000] Loss: 0.3521007299423218 Time: 5.68 mn\n",
      "[30000/60000] Loss: 0.35387974977493286 Time: 8.67 mn\n",
      "[40000/60000] Loss: 0.3539729714393616 Time: 11.49 mn\n",
      "[50000/60000] Loss: 0.3536915183067322 Time: 14.20 mn\n",
      "Model saved at 2018-05-23_classification_BCELoss.pt\n",
      "Starting training...\n",
      "[0/60000] Loss: 0.3512569069862366 Time: 0.02 mn\n",
      "[10000/60000] Loss: 0.35457250475883484 Time: 2.25 mn\n",
      "[20000/60000] Loss: 0.35163751244544983 Time: 4.53 mn\n",
      "[30000/60000] Loss: 0.35362496972084045 Time: 6.89 mn\n",
      "[40000/60000] Loss: 0.3532662093639374 Time: 9.13 mn\n",
      "[50000/60000] Loss: 0.3531317412853241 Time: 11.45 mn\n",
      "Model saved at 2018-05-23_classification_BCELoss.pt\n",
      "Starting training...\n",
      "[0/60000] Loss: 0.3517954349517822 Time: 0.04 mn\n",
      "[10000/60000] Loss: 0.35250574350357056 Time: 3.52 mn\n",
      "[20000/60000] Loss: 0.35388895869255066 Time: 7.00 mn\n",
      "[30000/60000] Loss: 0.3515135943889618 Time: 10.41 mn\n",
      "[40000/60000] Loss: 0.3527670204639435 Time: 13.23 mn\n",
      "[50000/60000] Loss: 0.35395073890686035 Time: 16.08 mn\n",
      "Model saved at 2018-05-23_classification_BCELoss.pt\n",
      "Starting training...\n",
      "[0/60000] Loss: 0.35266727209091187 Time: 0.03 mn\n",
      "[10000/60000] Loss: 0.3509797751903534 Time: 2.90 mn\n",
      "[20000/60000] Loss: 0.35185936093330383 Time: 5.78 mn\n",
      "[30000/60000] Loss: 0.3514031767845154 Time: 8.34 mn\n",
      "[40000/60000] Loss: 0.3521431088447571 Time: 10.58 mn\n",
      "[50000/60000] Loss: 0.35115623474121094 Time: 12.79 mn\n",
      "Model saved at 2018-05-23_classification_BCELoss.pt\n",
      "Starting training...\n",
      "[0/60000] Loss: 0.3523899018764496 Time: 0.02 mn\n",
      "[10000/60000] Loss: 0.35167980194091797 Time: 2.24 mn\n",
      "[20000/60000] Loss: 0.35172000527381897 Time: 4.47 mn\n",
      "[30000/60000] Loss: 0.351860374212265 Time: 6.71 mn\n",
      "[40000/60000] Loss: 0.35042986273765564 Time: 8.95 mn\n",
      "[50000/60000] Loss: 0.350622296333313 Time: 11.19 mn\n",
      "Model saved at 2018-05-23_classification_BCELoss.pt\n",
      "Starting training...\n",
      "[0/60000] Loss: 0.34978407621383667 Time: 0.02 mn\n",
      "[10000/60000] Loss: 0.35044240951538086 Time: 2.29 mn\n",
      "[20000/60000] Loss: 0.35060879588127136 Time: 4.79 mn\n",
      "[30000/60000] Loss: 0.35137078166007996 Time: 7.57 mn\n",
      "[40000/60000] Loss: 0.35132837295532227 Time: 10.50 mn\n",
      "[50000/60000] Loss: 0.3511998653411865 Time: 13.43 mn\n",
      "Model saved at 2018-05-23_classification_BCELoss.pt\n",
      "Starting training...\n",
      "[0/60000] Loss: 0.3524949252605438 Time: 0.03 mn\n",
      "[10000/60000] Loss: 0.35192129015922546 Time: 2.98 mn\n",
      "[20000/60000] Loss: 0.35122498869895935 Time: 5.93 mn\n",
      "[30000/60000] Loss: 0.3509575426578522 Time: 8.89 mn\n",
      "[40000/60000] Loss: 0.34900036454200745 Time: 11.83 mn\n",
      "[50000/60000] Loss: 0.35018905997276306 Time: 14.58 mn\n",
      "Model saved at 2018-05-23_classification_BCELoss.pt\n",
      "Starting training...\n",
      "[0/60000] Loss: 0.3508060872554779 Time: 0.03 mn\n",
      "[10000/60000] Loss: 0.3517264723777771 Time: 2.62 mn\n",
      "[20000/60000] Loss: 0.35073137283325195 Time: 5.23 mn\n",
      "[30000/60000] Loss: 0.3520118296146393 Time: 7.60 mn\n",
      "[40000/60000] Loss: 0.3499778211116791 Time: 9.79 mn\n",
      "[50000/60000] Loss: 0.3517036437988281 Time: 11.98 mn\n",
      "Model saved at 2018-05-23_classification_BCELoss.pt\n",
      "Starting training...\n",
      "[0/60000] Loss: 0.35056155920028687 Time: 0.02 mn\n",
      "[10000/60000] Loss: 0.35141316056251526 Time: 2.22 mn\n",
      "[20000/60000] Loss: 0.349890798330307 Time: 4.46 mn\n"
     ]
    }
   ],
   "source": [
    "if os.path.isfile(path):\n",
    "    net.load_state_dict(torch.load(path))\n",
    "    print('Loading file', path)\n",
    "else:\n",
    "    print('Training model...')\n",
    "    N_epochs = 30\n",
    "    for epoch in range(N_epochs):          #max number of training epochs\n",
    "        net = train(net, sample_size)                 #starting the learning\n",
    "        torch.save(net.state_dict(), path) #save the neural network state\n",
    "        print('Model saved at', path)"
   ]
  },
  {
   "cell_type": "markdown",
   "metadata": {},
   "source": [
    "### Lancer l'évaluation"
   ]
  },
  {
   "cell_type": "code",
   "execution_count": null,
   "metadata": {
    "ExecuteTime": {
     "start_time": "2018-05-31T08:45:37.471Z"
    }
   },
   "outputs": [],
   "source": [
    "N_test = 10\n",
    "\n",
    "for _ in range(N_test):\n",
    "    eval_sacc()\n",
    "    plt.show()    "
   ]
  },
  {
   "cell_type": "code",
   "execution_count": null,
   "metadata": {
    "ExecuteTime": {
     "start_time": "2018-05-31T08:45:37.473Z"
    }
   },
   "outputs": [],
   "source": [
    "for _ in range(N_test):\n",
    "    eval_sacc(fig_type='log')\n",
    "    plt.show()    "
   ]
  },
  {
   "cell_type": "code",
   "execution_count": null,
   "metadata": {},
   "outputs": [],
   "source": []
  }
 ],
 "metadata": {
  "kernelspec": {
   "display_name": "Python 3",
   "language": "python",
   "name": "python3"
  },
  "language_info": {
   "codemirror_mode": {
    "name": "ipython",
    "version": 3
   },
   "file_extension": ".py",
   "mimetype": "text/x-python",
   "name": "python",
   "nbconvert_exporter": "python",
   "pygments_lexer": "ipython3",
   "version": "3.6.5"
  },
  "toc": {
   "base_numbering": 1,
   "nav_menu": {},
   "number_sections": true,
   "sideBar": true,
   "skip_h1_title": false,
   "title_cell": "Table of Contents",
   "title_sidebar": "Contents",
   "toc_cell": false,
   "toc_position": {},
   "toc_section_display": true,
   "toc_window_display": false
  }
 },
 "nbformat": 4,
 "nbformat_minor": 2
}
