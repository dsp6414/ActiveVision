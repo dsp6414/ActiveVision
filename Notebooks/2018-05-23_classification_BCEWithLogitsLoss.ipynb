{
 "cells": [
  {
   "cell_type": "markdown",
   "metadata": {},
   "source": [
    "From https://pytorch.org/docs/0.3.1/nn.html?highlight=crossentropy#bcewithlogitsloss\n",
    "\n",
    "This loss combines a Sigmoid layer and the BCELoss in one single class. This version is more numerically stable than using a plain Sigmoid followed by a BCELoss as, by combining the operations into one layer, we take advantage of the log-sum-exp trick for numerical stability.\n",
    "\n",
    "The loss can be described as:\n",
    "ℓ(x,y)=L={l1,…,lN}⊤,ln=−wn[tn⋅logσ(xn)+(1−tn)⋅log(1−σ(xn))],\n",
    "\n",
    "where N\n",
    "\n",
    "is the batch size. If reduce is True, then\n",
    "ℓ(x,y)={mean(L),sum(L),ifsize_average=True,ifsize_average=False.\n",
    "\n",
    "This is used for measuring the error of a reconstruction in for example an auto-encoder. Note that the targets t[i] should be numbers between 0 and 1.\n",
    "Parameters:\t\n",
    "\n",
    "    weight (Tensor, optional) – a manual rescaling weight given to the loss of each batch element. If given, has to be a Tensor of size “nbatch”.\n",
    "    size_average – By default, the losses are averaged over observations for each minibatch. However, if the field size_average is set to False, the losses are instead summed for each minibatch. Default: True\n",
    "\n"
   ]
  },
  {
   "cell_type": "code",
   "execution_count": 1,
   "metadata": {
    "ExecuteTime": {
     "end_time": "2018-05-31T08:45:44.344276Z",
     "start_time": "2018-05-31T08:45:37.493964Z"
    }
   },
   "outputs": [
    {
     "name": "stdout",
     "output_type": "stream",
     "text": [
      "Loading accuracy...\n"
     ]
    }
   ],
   "source": [
    "from Where import *"
   ]
  },
  {
   "cell_type": "markdown",
   "metadata": {},
   "source": [
    "## Réseau de neurones"
   ]
  },
  {
   "cell_type": "markdown",
   "metadata": {},
   "source": [
    "### Lancer l'apprentissage ou charger les données"
   ]
  },
  {
   "cell_type": "code",
   "execution_count": 2,
   "metadata": {
    "ExecuteTime": {
     "end_time": "2018-05-31T08:45:44.354030Z",
     "start_time": "2018-05-31T08:45:44.347152Z"
    }
   },
   "outputs": [],
   "source": [
    "path = '2018-05-23_classification_BCELoss.pt'"
   ]
  },
  {
   "cell_type": "code",
   "execution_count": 3,
   "metadata": {
    "ExecuteTime": {
     "end_time": "2018-05-31T08:45:44.628869Z",
     "start_time": "2018-05-31T08:45:44.356374Z"
    }
   },
   "outputs": [
    {
     "name": "stdout",
     "output_type": "stream",
     "text": [
      "ls: 2018-05-23_classification_BCELoss.pt: No such file or directory\n",
      "rm: 2018-05-23_classification_BCELoss.pt: No such file or directory\n"
     ]
    }
   ],
   "source": [
    "!ls -l {path}\n",
    "!rm {path}"
   ]
  },
  {
   "cell_type": "code",
   "execution_count": null,
   "metadata": {
    "ExecuteTime": {
     "start_time": "2018-05-31T08:45:37.469Z"
    }
   },
   "outputs": [
    {
     "name": "stdout",
     "output_type": "stream",
     "text": [
      "Training model...\n",
      "Starting training...\n",
      "[0/60000] Loss: 1.1179420948028564 Time: 0.02 mn\n"
     ]
    }
   ],
   "source": [
    "if os.path.isfile(path):\n",
    "    net.load_state_dict(torch.load(path))\n",
    "    print('Loading file', path)\n",
    "else:\n",
    "    print('Training model...')\n",
    "    N_epochs = 30\n",
    "    for epoch in range(N_epochs):          #max number of training epochs\n",
    "        net = train(net, sample_size)                 #starting the learning\n",
    "        torch.save(net.state_dict(), path) #save the neural network state\n",
    "        print('Model saved at', path)"
   ]
  },
  {
   "cell_type": "markdown",
   "metadata": {},
   "source": [
    "### Lancer l'évaluation"
   ]
  },
  {
   "cell_type": "code",
   "execution_count": null,
   "metadata": {
    "ExecuteTime": {
     "start_time": "2018-05-31T08:45:37.471Z"
    }
   },
   "outputs": [],
   "source": [
    "N_test = 10\n",
    "\n",
    "for _ in range(N_test):\n",
    "    eval_sacc()\n",
    "    plt.show()    "
   ]
  },
  {
   "cell_type": "code",
   "execution_count": null,
   "metadata": {
    "ExecuteTime": {
     "start_time": "2018-05-31T08:45:37.473Z"
    }
   },
   "outputs": [],
   "source": [
    "for _ in range(N_test):\n",
    "    eval_sacc(fig_type='log')\n",
    "    plt.show()    "
   ]
  },
  {
   "cell_type": "code",
   "execution_count": null,
   "metadata": {},
   "outputs": [],
   "source": []
  }
 ],
 "metadata": {
  "kernelspec": {
   "display_name": "Python 3",
   "language": "python",
   "name": "python3"
  },
  "language_info": {
   "codemirror_mode": {
    "name": "ipython",
    "version": 3
   },
   "file_extension": ".py",
   "mimetype": "text/x-python",
   "name": "python",
   "nbconvert_exporter": "python",
   "pygments_lexer": "ipython3",
   "version": "3.6.5"
  },
  "toc": {
   "base_numbering": 1,
   "nav_menu": {},
   "number_sections": true,
   "sideBar": true,
   "skip_h1_title": false,
   "title_cell": "Table of Contents",
   "title_sidebar": "Contents",
   "toc_cell": false,
   "toc_position": {},
   "toc_section_display": true,
   "toc_window_display": false
  }
 },
 "nbformat": 4,
 "nbformat_minor": 2
}
