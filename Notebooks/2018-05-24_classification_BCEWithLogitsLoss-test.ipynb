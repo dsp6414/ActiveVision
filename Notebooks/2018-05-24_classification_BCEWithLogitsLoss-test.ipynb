{
 "cells": [
  {
   "cell_type": "markdown",
   "metadata": {},
   "source": [
    "From https://pytorch.org/docs/0.3.1/nn.html?highlight=crossentropy#bcewithlogitsloss\n",
    "\n",
    "This loss combines a Sigmoid layer and the BCELoss in one single class. This version is more numerically stable than using a plain Sigmoid followed by a BCELoss as, by combining the operations into one layer, we take advantage of the log-sum-exp trick for numerical stability.\n",
    "\n",
    "The loss can be described as:\n",
    "ℓ(x,y)=L={l1,…,lN}⊤,ln=−wn[tn⋅logσ(xn)+(1−tn)⋅log(1−σ(xn))],\n",
    "\n",
    "where N\n",
    "\n",
    "is the batch size. If reduce is True, then\n",
    "ℓ(x,y)={mean(L),sum(L),ifsize_average=True,ifsize_average=False.\n",
    "\n",
    "This is used for measuring the error of a reconstruction in for example an auto-encoder. Note that the targets t[i] should be numbers between 0 and 1.\n",
    "Parameters:\t\n",
    "\n",
    "    weight (Tensor, optional) – a manual rescaling weight given to the loss of each batch element. If given, has to be a Tensor of size “nbatch”.\n",
    "    size_average – By default, the losses are averaged over observations for each minibatch. However, if the field size_average is set to False, the losses are instead summed for each minibatch. Default: True\n",
    "\n"
   ]
  },
  {
   "cell_type": "markdown",
   "metadata": {},
   "source": [
    "## Réseau de neurones"
   ]
  },
  {
   "cell_type": "markdown",
   "metadata": {},
   "source": [
    "### Lancer l'apprentissage ou charger les données"
   ]
  },
  {
   "cell_type": "code",
   "execution_count": 1,
   "metadata": {
    "ExecuteTime": {
     "end_time": "2018-05-24T07:18:23.589602Z",
     "start_time": "2018-05-24T07:18:23.463428Z"
    }
   },
   "outputs": [
    {
     "name": "stdout",
     "output_type": "stream",
     "text": [
      "ls: {path}: No such file or directory\n"
     ]
    }
   ],
   "source": [
    "!ls -l {path}\n",
    "#!rm {path}"
   ]
  },
  {
   "cell_type": "code",
   "execution_count": 2,
   "metadata": {
    "ExecuteTime": {
     "end_time": "2018-05-24T07:18:23.600072Z",
     "start_time": "2018-05-24T07:18:23.591665Z"
    }
   },
   "outputs": [
    {
     "name": "stdout",
     "output_type": "stream",
     "text": [
      "Writing scan.py\n"
     ]
    }
   ],
   "source": [
    "%%writefile scan.py\n",
    "from Where import *\n",
    "\n",
    "path = '2018-05-23_classification_BCELoss.pt'\n",
    "\n",
    "\n",
    "\n",
    "for lr_ in lr*np.logspace(-1, 1, 9, base=10):\n",
    "    path_ = path + str(lr_)\n",
    "    if os.path.isfile(path_):\n",
    "        net.load_state_dict(torch.load(path_))\n",
    "        #print('Loading file', path)\n",
    "    else:\n",
    "        net = Net(n_feature=N_theta*N_orient*N_scale*N_phase, n_hidden1=n_hidden1, n_RNN=n_RNN, n_hidden2=n_hidden2, n_output=N_orient*N_scale)\n",
    "        optimizer = torch.optim.SGD(net.parameters(), lr=lr_)\n",
    "        loss_func = torch.nn.BCEWithLogitsLoss()\n",
    "\n",
    "        print('Training model... with lr=', lr_)\n",
    "        N_epochs = 2\n",
    "        for epoch in range(N_epochs):          #max number of training epochs\n",
    "            net = train(net, sample_size, optimizer=optimizer, verbose=0)                 #starting the learning\n",
    "            torch.save(net.state_dict(), path_) #save the neural network state\n",
    "            \n",
    "    print('Training model... with lr=', lr_, 'Final loss= ', evaluate(net, sample_size, optimizer=optimizer))                 #starting the learning\n"
   ]
  },
  {
   "cell_type": "code",
   "execution_count": null,
   "metadata": {
    "ExecuteTime": {
     "start_time": "2018-05-24T07:18:23.441Z"
    }
   },
   "outputs": [
    {
     "name": "stdout",
     "output_type": "stream",
     "text": [
      "Loading accuracy...\n",
      "[[0.0974 0.0974 0.0974 ... 0.0974 0.0974 0.0974]\n",
      " [0.0974 0.0974 0.0974 ... 0.0974 0.0974 0.0974]\n",
      " [0.0974 0.0974 0.0974 ... 0.0974 0.0974 0.0974]\n",
      " ...\n",
      " [0.0974 0.0974 0.0974 ... 0.0974 0.0974 0.0974]\n",
      " [0.0974 0.0974 0.0974 ... 0.0974 0.0974 0.0974]\n",
      " [0.0974 0.0974 0.0974 ... 0.0974 0.0974 0.0974]]\n",
      "Training model... with lr= 0.005000000000000001\n",
      "Training model... with lr= 0.005000000000000001 Final loss=  0.39047462\n",
      "Training model... with lr= 0.008891397050194615\n",
      "Training model... with lr= 0.008891397050194615 Final loss=  0.37456182\n",
      "Training model... with lr= 0.0158113883008419\n",
      "Training model... with lr= 0.0158113883008419 Final loss=  0.36864588\n",
      "Training model... with lr= 0.028117066259517456\n"
     ]
    }
   ],
   "source": [
    "%run scan.py"
   ]
  }
 ],
 "metadata": {
  "kernelspec": {
   "display_name": "Python 3",
   "language": "python",
   "name": "python3"
  },
  "language_info": {
   "codemirror_mode": {
    "name": "ipython",
    "version": 3
   },
   "file_extension": ".py",
   "mimetype": "text/x-python",
   "name": "python",
   "nbconvert_exporter": "python",
   "pygments_lexer": "ipython3",
   "version": "3.6.5"
  },
  "toc": {
   "base_numbering": 1,
   "nav_menu": {},
   "number_sections": true,
   "sideBar": true,
   "skip_h1_title": false,
   "title_cell": "Table of Contents",
   "title_sidebar": "Contents",
   "toc_cell": false,
   "toc_position": {},
   "toc_section_display": true,
   "toc_window_display": false
  }
 },
 "nbformat": 4,
 "nbformat_minor": 2
}
