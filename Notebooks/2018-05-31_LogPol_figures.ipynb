{
 "cells": [
  {
   "cell_type": "code",
   "execution_count": 1,
   "metadata": {
    "ExecuteTime": {
     "end_time": "2018-06-06T07:54:30.105180Z",
     "start_time": "2018-06-06T07:54:30.061397Z"
    }
   },
   "outputs": [],
   "source": [
    "%load_ext autoreload\n",
    "%autoreload 2"
   ]
  },
  {
   "cell_type": "markdown",
   "metadata": {},
   "source": [
    "## Initialisation"
   ]
  },
  {
   "cell_type": "code",
   "execution_count": 2,
   "metadata": {
    "ExecuteTime": {
     "end_time": "2018-06-06T07:54:33.828067Z",
     "start_time": "2018-06-06T07:54:30.111742Z"
    }
   },
   "outputs": [
    {
     "ename": "ModuleNotFoundError",
     "evalue": "No module named 'noise'",
     "output_type": "error",
     "traceback": [
      "\u001b[0;31m---------------------------------------------------------------------------\u001b[0m",
      "\u001b[0;31mModuleNotFoundError\u001b[0m                       Traceback (most recent call last)",
      "\u001b[0;32m<ipython-input-2-007dcdaa8e1b>\u001b[0m in \u001b[0;36m<module>\u001b[0;34m()\u001b[0m\n\u001b[1;32m      5\u001b[0m \u001b[0;32mfrom\u001b[0m \u001b[0mtorchvision\u001b[0m \u001b[0;32mimport\u001b[0m \u001b[0mdatasets\u001b[0m\u001b[0;34m,\u001b[0m \u001b[0mtransforms\u001b[0m\u001b[0;34m\u001b[0m\u001b[0m\n\u001b[1;32m      6\u001b[0m \u001b[0;32mimport\u001b[0m \u001b[0mos\u001b[0m\u001b[0;34m\u001b[0m\u001b[0m\n\u001b[0;32m----> 7\u001b[0;31m \u001b[0;32mimport\u001b[0m \u001b[0mnoise\u001b[0m\u001b[0;34m\u001b[0m\u001b[0m\n\u001b[0m\u001b[1;32m      8\u001b[0m \u001b[0;32mimport\u001b[0m \u001b[0mMotionClouds\u001b[0m \u001b[0;32mas\u001b[0m \u001b[0mmc\u001b[0m\u001b[0;34m\u001b[0m\u001b[0m\n",
      "\u001b[0;31mModuleNotFoundError\u001b[0m: No module named 'noise'"
     ]
    }
   ],
   "source": [
    "import matplotlib.pyplot as plt\n",
    "import numpy as np\n",
    "from LogGabor import LogGabor\n",
    "import torch\n",
    "from torchvision import datasets, transforms\n",
    "import os\n",
    "import noise\n",
    "import MotionClouds as mc"
   ]
  },
  {
   "cell_type": "code",
   "execution_count": null,
   "metadata": {
    "ExecuteTime": {
     "end_time": "2018-06-06T07:54:33.830184Z",
     "start_time": "2018-06-06T07:54:30.038Z"
    }
   },
   "outputs": [],
   "source": [
    "from Where import *"
   ]
  },
  {
   "cell_type": "raw",
   "metadata": {},
   "source": [
    "def MotionCloudNoise(sf_0=0.125, B_sf=3.):\n",
    "    mc.N_X, mc.N_Y, mc.N_frame = 128, 128, 1\n",
    "    fx, fy, ft = mc.get_grids(mc.N_X, mc.N_Y, mc.N_frame)\n",
    "    name = 'static'\n",
    "    env = mc.envelope_gabor(fx, fy, ft, sf_0=sf_0, B_sf=B_sf, B_theta=np.inf, V_X=0., V_Y=0., B_V=0, alpha=.5)\n",
    "    \n",
    "    z = mc.rectif(mc.random_cloud(env))\n",
    "    z = z.reshape((mc.N_X, mc.N_Y))\n",
    "    return z\n",
    "\n",
    "def randomized_perlin_noise(shape=(128,128), scale=10, octaves=6, persistence=0.5, lacunarity=2.0, base=0):\n",
    "    noise_vector = np.zeros(shape)\n",
    "    for i in range(shape[0]):\n",
    "        for j in range(shape[1]):\n",
    "            noise_vector[i][j] = noise.pnoise2(i/scale,\n",
    "                                        j/scale,\n",
    "                                        octaves=int(octaves * abs(np.random.randn()))+1,\n",
    "                                        persistence=persistence * abs(np.random.randn()),\n",
    "                                        lacunarity=lacunarity * abs(np.random.randn()),\n",
    "                                        repeatx=shape[0], \n",
    "                                        repeaty=shape[1], \n",
    "                                        base=base)           \n",
    "\n",
    "    return noise_vector\n",
    "\n",
    "def vectorization(N_theta, N_orient, N_scale, N_phase, N_X, N_Y, rho):\n",
    "    phi = np.zeros((N_theta, N_orient, N_scale, N_phase, N_X*N_Y))\n",
    "    parameterfile = 'https://raw.githubusercontent.com/bicv/LogGabor/master/default_param.py'\n",
    "    lg = LogGabor(parameterfile)\n",
    "    lg.set_size((N_X, N_Y))\n",
    "    params= {'sf_0':.1, 'B_sf': lg.pe.B_sf, 'theta':np.pi* 5 / 7., 'B_theta': lg.pe.B_theta}\n",
    "    phase = np.pi/4\n",
    "    edge = lg.normalize(lg.invert(lg.loggabor(N_X/3, 3*N_Y/4, **params)*np.exp(-1j*phase)))\n",
    "    \n",
    "    for i_theta in range(N_theta):\n",
    "        for i_orient in range(N_orient):\n",
    "            for i_scale in range(N_scale):\n",
    "                ecc =  (1/rho)**(N_scale - i_scale)\n",
    "                r = np.sqrt(N_X**2+N_Y**2) / 2 * ecc # radius\n",
    "                sf_0 = 0.5 * 0.03 / ecc\n",
    "                x = N_X/2 + r * np.cos((i_orient+(i_scale % 2)*.5)*np.pi*2 / N_orient)\n",
    "                y = N_Y/2 + r * np.sin((i_orient+(i_scale % 2)*.5)*np.pi*2 / N_orient)            \n",
    "                for i_phase in range(N_phase):\n",
    "                    params= {'sf_0':sf_0, 'B_sf': lg.pe.B_sf, 'theta':i_theta*np.pi/N_theta, 'B_theta': np.pi/N_theta/2}\n",
    "                    phase = i_phase * np.pi/2\n",
    "                    phi[i_theta, i_orient, i_scale, i_phase, :] = lg.normalize(lg.invert(lg.loggabor(x, y, **params)*np.exp(-1j*phase))).ravel()            \n",
    "    return phi\n",
    "\n",
    "def minmax(value, border):\n",
    "    value = max(value, -border)\n",
    "    value = min(value, border)\n",
    "    return value\n",
    "\n",
    "def mnist_128(i_offset, j_offset, N_pic=128, N_stim=28, noise=True, noise_type='MotionCloud', figure_type='cmap'):\n",
    "    center = (N_pic-N_stim)//2\n",
    "    \n",
    "    for batch_idx, (data, target) in enumerate(data_loader):\n",
    "        data_128 = np.float(data.min()) * np.ones((N_pic,N_pic))\n",
    "        data_128[(center+i_offset):(center+N_stim+i_offset),(center+j_offset):(center+N_stim+j_offset)] = data\n",
    "\n",
    "        if noise == True:\n",
    "            if noise_type == 'Perlin':\n",
    "                data_LP = phi_vector @ np.ravel(data_128 + randomized_perlin_noise())\n",
    "            if noise_type == 'MotionCloud':\n",
    "                data_LP = phi_vector @ np.ravel(data_128 + MotionCloudNoise())\n",
    "        else:\n",
    "            data_LP = phi_vector @ np.ravel(data_128)\n",
    "        \n",
    "        if figure_type == 'cmap':\n",
    "            image_hat = phi_plus @ data_LP\n",
    "            fig, ax = plt.subplots(figsize=(13, 10.725))\n",
    "            cmap = ax.pcolor(np.arange(-N_pic/2, N_pic/2), np.arange(-N_pic/2, N_pic/2), image_hat.reshape((N_X, N_Y)))\n",
    "            fig.colorbar(cmap)\n",
    "            \n",
    "        if figure_type == 'log':\n",
    "            code = phi @ np.ravel(data_128)\n",
    "            global_energy = (code**2).sum(axis=(0, -1))\n",
    "            print(code.shape, global_energy.shape)\n",
    "            \n",
    "            log_r_target = 1 + np.log(np.sqrt(i_offset**2 + j_offset**2) / np.sqrt(N_X**2 + N_Y**2) / 2) / 5\n",
    "            if j_offset != 0:\n",
    "                theta_target = np.arctan(-i_offset / j_offset)\n",
    "            else:\n",
    "                theta_target = np.sign(-i_offset) * np.pi/2\n",
    "            log_r, theta = np.meshgrid(np.linspace(0, 1, N_scale+1), np.linspace(-np.pi*.625, np.pi*1.375, N_orient+1))\n",
    "            \n",
    "            fig, ax = plt.subplots(subplot_kw=dict(projection='polar'))\n",
    "            ax.pcolor(theta, log_r, np.fliplr(global_energy))\n",
    "            ax.plot(theta_target, log_r_target, 'r+')\n",
    "            \n",
    "        break\n",
    "        \n",
    "def mnist_128_meth2(i_offset, j_offset, N_pic=128, N_stim=28, noise=True, noise_type='MotionCloud', figure_type='cmap'):\n",
    "    center = (N_pic-N_stim)//2\n",
    "    \n",
    "    for batch_idx, (data, target) in enumerate(data_loader):\n",
    "        data_128 = np.float(data.min()) * np.ones((N_pic,N_pic))\n",
    "        data_128[(center):(center+N_stim),(center):(center+N_stim)] = data\n",
    "        data_128 = np.roll(data_128, i_offset, axis=1) #i_offset shift\n",
    "        data_128 = np.roll(data_128, j_offset, axis=0) #j_offset shift\n",
    "\n",
    "        if noise == True:\n",
    "            if noise_type == 'Perlin':\n",
    "                data_LP = phi_vector @ np.ravel(data_128 + randomized_perlin_noise())\n",
    "            if noise_type == 'MotionCloud':\n",
    "                data_LP = phi_vector @ np.ravel(data_128 + MotionCloudNoise())\n",
    "        else:\n",
    "            data_LP = phi_vector @ np.ravel(data_128)\n",
    "        \n",
    "        if figure_type == 'cmap':\n",
    "            image_hat = phi_plus @ data_LP\n",
    "            fig, ax = plt.subplots(figsize=(13, 10.725))\n",
    "            cmap = ax.pcolor(np.arange(-N_pic/2, N_pic/2), np.arange(-N_pic/2, N_pic/2), image_hat.reshape((N_X, N_Y)))\n",
    "            fig.colorbar(cmap)\n",
    "            \n",
    "        if figure_type == 'log':\n",
    "            code = phi @ np.ravel(data_128)\n",
    "            global_energy = (code**2).sum(axis=(0, -1))\n",
    "            print(code.shape, global_energy.shape)\n",
    "            \n",
    "            log_r_target = 1 + np.log(np.sqrt(i_offset**2 + j_offset**2) / np.sqrt(N_X**2 + N_Y**2) / 2) / 5\n",
    "            if j_offset != 0:\n",
    "                theta_target = np.arctan(-i_offset / j_offset)\n",
    "            else:\n",
    "                theta_target = np.sign(-i_offset) * np.pi/2\n",
    "            log_r, theta = np.meshgrid(np.linspace(0, 1, N_scale+1), np.linspace(-np.pi*.625, np.pi*1.375, N_orient+1))\n",
    "            \n",
    "            fig, ax = plt.subplots(subplot_kw=dict(projection='polar'))\n",
    "            ax.pcolor(theta, log_r, np.fliplr(global_energy))\n",
    "            ax.plot(theta_target, log_r_target, 'r+')\n",
    "            \n",
    "        break\n",
    "        \n",
    "def accuracy_128(i_offset, j_offset, N_pic = 128):    \n",
    "    center = (N_pic-55)//2\n",
    "    \n",
    "    accuracy_128 = accuracy[0][0] * np.ones((N_pic,N_pic))\n",
    "    accuracy_128[(center+i_offset):(center+55+i_offset),(center+j_offset):(center+55+j_offset)] = accuracy\n",
    "    \n",
    "    accuracy_LP = energy_vector @ np.ravel(accuracy_128)\n",
    "    \n",
    "    image_hat = energy_plus @ accuracy_LP   \n",
    "    fig, ax = plt.subplots(figsize=(13, 10.725))\n",
    "    cmap = ax.pcolor(np.arange(-N_pic/2, N_pic/2), np.arange(-N_pic/2, N_pic/2), image_hat.reshape((N_X, N_Y)))\n",
    "    fig.colorbar(cmap)"
   ]
  },
  {
   "cell_type": "raw",
   "metadata": {},
   "source": [
    "\n",
    "def randomized_perlin_noise(shape=(128,128), scale=10, octaves=6, persistence=0.5, lacunarity=2.0, base=0):\n",
    "    noise_vector = np.zeros(shape)\n",
    "    for i in range(shape[0]):\n",
    "        for j in range(shape[1]):\n",
    "            noise_vector[i][j] = noise.pnoise2(i/scale,\n",
    "                                        j/scale,\n",
    "                                        octaves=int(octaves * abs(np.random.randn()))+1,\n",
    "                                        persistence=persistence * abs(np.random.randn()),\n",
    "                                        lacunarity=lacunarity * abs(np.random.randn()),\n",
    "                                        repeatx=shape[0], \n",
    "                                        repeaty=shape[1], \n",
    "                                        base=base)           \n",
    "\n",
    "    return noise_vector\n",
    "\n",
    "#MNIST_128\n",
    "path = 'MNIST_128.pdf'\n",
    "N_pic = 128\n",
    "center = (128-28)//2\n",
    "\n",
    "for batch_idx, (data, target) in enumerate(data_loader):\n",
    "    data_128 = np.float(data.min()) * np.ones((128,128))\n",
    "    data_128[(center+i_offset):(center+28+i_offset),(center+j_offset):(center+28+j_offset)] = data\n",
    "    fig, ax = plt.subplots(figsize=(13, 10.725))\n",
    "    cmap = ax.pcolor(np.arange(-N_pic/2, N_pic/2), np.arange(-N_pic/2, N_pic/2), data_128)\n",
    "    fig.colorbar(cmap)\n",
    "    plt.savefig(path)\n",
    "    break\n",
    "    "
   ]
  },
  {
   "cell_type": "raw",
   "metadata": {},
   "source": [
    "# LogPolar filter parameters\n",
    "N_theta, N_orient, N_scale, N_phase = 6, 12, 5, 2\n",
    "rho = 1.61803 \n",
    "N_X, N_Y = 128, 128\n",
    "\n",
    "phi = vectorization(N_theta, N_orient, N_scale, N_phase, N_X, N_Y, rho)\n",
    "phi_vector = phi.reshape((N_theta*N_orient*N_scale*N_phase, N_X*N_Y))\n",
    "phi_plus = np.linalg.pinv(phi_vector)"
   ]
  },
  {
   "cell_type": "code",
   "execution_count": null,
   "metadata": {
    "ExecuteTime": {
     "end_time": "2018-06-06T07:54:33.834125Z",
     "start_time": "2018-06-06T07:54:31.071Z"
    }
   },
   "outputs": [],
   "source": [
    "i_offset, j_offset = 15, 15"
   ]
  },
  {
   "cell_type": "markdown",
   "metadata": {},
   "source": [
    "### MNIST_28"
   ]
  },
  {
   "cell_type": "code",
   "execution_count": null,
   "metadata": {
    "ExecuteTime": {
     "end_time": "2018-06-06T07:54:33.840636Z",
     "start_time": "2018-06-06T07:54:31.081Z"
    }
   },
   "outputs": [],
   "source": [
    "path = 'MNIST_28.pdf'\n",
    "N_pic = 28\n",
    "for batch_idx, (data, target) in enumerate(data_loader):\n",
    "    data_28 = data[-1][-1]\n",
    "    fig, ax = plt.subplots(figsize=(13, 10.725))\n",
    "    cmap = ax.pcolor(np.arange(-N_pic/2, N_pic/2), np.arange(-N_pic/2, N_pic/2), np.flipud(data_28), cmap='Greys_r')\n",
    "    fig.colorbar(cmap)\n",
    "    #plt.savefig(path)\n",
    "    break"
   ]
  },
  {
   "cell_type": "markdown",
   "metadata": {},
   "source": [
    "### MNIST_128"
   ]
  },
  {
   "cell_type": "code",
   "execution_count": null,
   "metadata": {
    "ExecuteTime": {
     "end_time": "2018-06-06T07:54:33.844490Z",
     "start_time": "2018-06-06T07:54:31.098Z"
    }
   },
   "outputs": [],
   "source": [
    "mnist_fullfield(data_28, i_offset, j_offset, figure_type='128')"
   ]
  },
  {
   "cell_type": "markdown",
   "metadata": {},
   "source": [
    "### Bruit perlin"
   ]
  },
  {
   "cell_type": "code",
   "execution_count": null,
   "metadata": {
    "ExecuteTime": {
     "end_time": "2018-06-06T07:54:33.848191Z",
     "start_time": "2018-06-06T07:54:31.117Z"
    },
    "scrolled": false
   },
   "outputs": [],
   "source": [
    "fig, ax = plt.subplots(figsize=(13, 10.725))\n",
    "cmap = ax.pcolor(np.arange(-N_pic/2, N_pic/2), np.arange(-N_pic/2, N_pic/2), randomized_perlin_noise())\n",
    "fig.colorbar(cmap)"
   ]
  },
  {
   "cell_type": "markdown",
   "metadata": {},
   "source": [
    "### Bruit MotionCloud"
   ]
  },
  {
   "cell_type": "code",
   "execution_count": null,
   "metadata": {
    "ExecuteTime": {
     "end_time": "2018-06-06T07:54:33.851151Z",
     "start_time": "2018-06-06T07:54:31.125Z"
    }
   },
   "outputs": [],
   "source": [
    "MotionCloudNoise(figure_type='cmap')"
   ]
  },
  {
   "cell_type": "markdown",
   "metadata": {},
   "source": [
    "### Filtre LogPol classique"
   ]
  },
  {
   "cell_type": "raw",
   "metadata": {},
   "source": [
    "# parameterfile = 'https://raw.githubusercontent.com/bicv/LogGabor/master/default_param.py'\n",
    "lg = LogGabor(parameterfile)\n",
    "lg.set_size((N_X, N_Y))\n",
    "params= {'sf_0':.1, 'B_sf': lg.pe.B_sf, 'theta':np.pi* 5 / 7., 'B_theta': lg.pe.B_theta}\n",
    "phase = np.pi/4\n",
    "edge = lg.normalize(lg.invert(lg.loggabor(N_X/3, 3*N_Y/4, **params)*np.exp(-1j*phase)))\n",
    "\n",
    "for i_theta in range(N_theta):\n",
    "    for i_orient in range(N_orient):\n",
    "        for i_scale in range(N_scale):\n",
    "            ecc =  (1 / rho) **(N_scale - i_scale)\n",
    "            r = np.sqrt(N_X**2+N_Y**2) / 2 * ecc # radius\n",
    "            sf_0 = 0.5 * 0.03 / ecc\n",
    "            x = N_X/2 + r * np.cos((i_orient+(i_scale % 2)*.5)*np.pi*2 / N_orient)\n",
    "            y = N_Y/2 + r * np.sin((i_orient+(i_scale % 2)*.5)*np.pi*2 / N_orient)            \n",
    "            for i_phase in range(N_phase):\n",
    "                params= {'sf_0':sf_0, 'B_sf': lg.pe.B_sf, 'theta':i_theta*np.pi/N_theta, 'B_theta': np.pi/N_theta/2}\n",
    "                phase = i_phase * np.pi/2\n",
    "                phi[i_theta, i_orient, i_scale, i_phase, :] = lg.normalize(lg.invert(lg.loggabor(x, y, **params)*np.exp(-1j*phase))).ravel() \n",
    "                \n",
    "FIG_WIDTH = 10\n",
    "fig, ax = plt.subplots(figsize=(FIG_WIDTH, FIG_WIDTH))\n",
    "for i_theta in range(N_theta):\n",
    "    for i_azimuth in range(N_azimuth):\n",
    "        for i_eccentricity in range(N_eccentricity):\n",
    "            env = np.sqrt(retina[i_theta, i_azimuth, i_eccentricity, 0, :]**2 + retina[i_theta, i_azimuth, i_eccentricity, 1, :]**2).reshape((N_X, N_Y))\n",
    "            ax.contourf(env, levels=[env.max()/1.2, env.max()/1.00001], lw=1, colors=[plt.cm.viridis(i_theta/(N_theta))], alpha=.1)\n",
    "fig.suptitle('Tiling of visual space using the retinal filters')\n",
    "ax.set_xlabel(r'$Y$')\n",
    "ax.set_ylabel(r'$X$')\n",
    "ax.axis('equal')\n",
    "plt.tight_layout()\n",
    "plt.savefig('logpol_filter.pdf')"
   ]
  },
  {
   "cell_type": "code",
   "execution_count": null,
   "metadata": {
    "ExecuteTime": {
     "end_time": "2018-06-06T07:54:33.856822Z",
     "start_time": "2018-06-06T07:54:31.415Z"
    }
   },
   "outputs": [],
   "source": [
    "vectorization(figure_type='retina')"
   ]
  },
  {
   "cell_type": "markdown",
   "metadata": {},
   "source": [
    "### Filtre LogPol classique + image"
   ]
  },
  {
   "cell_type": "code",
   "execution_count": null,
   "metadata": {
    "ExecuteTime": {
     "end_time": "2018-06-06T07:54:33.863204Z",
     "start_time": "2018-06-06T07:54:31.426Z"
    }
   },
   "outputs": [],
   "source": [
    "mnist_fullfield(data_28, i_offset, j_offset, figure_type='cmap')"
   ]
  },
  {
   "cell_type": "markdown",
   "metadata": {},
   "source": [
    "### Filtre LogPol classique + image + bruit perlin"
   ]
  },
  {
   "cell_type": "code",
   "execution_count": null,
   "metadata": {
    "ExecuteTime": {
     "end_time": "2018-06-06T07:54:33.875037Z",
     "start_time": "2018-06-06T07:54:31.442Z"
    }
   },
   "outputs": [],
   "source": [
    "mnist_128(i_offset,j_offset, noise=True, noise_type='Perlin')"
   ]
  },
  {
   "cell_type": "markdown",
   "metadata": {},
   "source": [
    "### Filtre LogPol classique + image + bruit MotionCloud"
   ]
  },
  {
   "cell_type": "code",
   "execution_count": null,
   "metadata": {
    "ExecuteTime": {
     "end_time": "2018-06-06T07:54:33.878284Z",
     "start_time": "2018-06-06T07:54:31.449Z"
    }
   },
   "outputs": [],
   "source": [
    "mnist_fullfield(data_28, i_offset, j_offset, noise=1., figure_type='cmap')\n",
    "#plt.savefig('mnist_128_LP_MotionCloud.pdf')"
   ]
  },
  {
   "cell_type": "markdown",
   "metadata": {},
   "source": [
    "### Filtre LogPolaire + image + MotionCloud (méthode alternative de déplacement de MNIST au sein de l'image)"
   ]
  },
  {
   "cell_type": "code",
   "execution_count": null,
   "metadata": {
    "ExecuteTime": {
     "end_time": "2018-06-06T07:54:33.883830Z",
     "start_time": "2018-06-06T07:54:31.458Z"
    }
   },
   "outputs": [],
   "source": [
    "mnist_128_meth2(i_offset, j_offset)"
   ]
  },
  {
   "cell_type": "markdown",
   "metadata": {},
   "source": [
    "### Filtre LogPol + orientations moyennées"
   ]
  },
  {
   "cell_type": "code",
   "execution_count": null,
   "metadata": {
    "ExecuteTime": {
     "end_time": "2018-06-06T07:54:33.887452Z",
     "start_time": "2018-06-06T07:54:31.467Z"
    }
   },
   "outputs": [],
   "source": [
    "\"\"\"\n",
    "colliculus = (retina**2).sum(axis=(0,3)) \n",
    "colliculus /= colliculus.sum(axis=-1)[:, :, None]\n",
    "colliculus_vector = colliculus.reshape((N_azimuth*N_eccentricity, N_X*N_Y))\n",
    "colliculus_inverse = np.linalg.pinv(colliculus_vector)\n",
    "\n",
    "fig, ax = plt.subplots(figsize=(FIG_WIDTH, FIG_WIDTH))\n",
    "for i_azimuth in range(N_azimuth):\n",
    "    for i_eccentricity in range(N_eccentricity):\n",
    "        env = np.sqrt(colliculus[i_azimuth, i_eccentricity, :]**2.5).reshape((N_X, N_Y))\n",
    "        ax.contour(colliculus[i_azimuth, i_eccentricity, :].reshape((N_X, N_Y)), levels=[env.max()/2], lw=1, colors=[plt.cm.viridis(i_theta/(N_theta))])\n",
    "fig.suptitle('Tiling of visual space using energy')\n",
    "ax.set_xlabel(r'$Y$')\n",
    "ax.set_ylabel(r'$X$')\n",
    "ax.axis('equal')\n",
    "plt.tight_layout()\n",
    "\"\"\"\n",
    "vectorization(figure_type='colliculus')\n",
    "#plt.savefig('logpol_energy_filter.pdf')"
   ]
  },
  {
   "cell_type": "markdown",
   "metadata": {},
   "source": [
    "### Filtre LogPol + orientations moyennées + accuracy"
   ]
  },
  {
   "cell_type": "code",
   "execution_count": null,
   "metadata": {
    "ExecuteTime": {
     "end_time": "2018-06-06T07:54:33.891277Z",
     "start_time": "2018-06-06T07:54:31.482Z"
    },
    "scrolled": false
   },
   "outputs": [],
   "source": [
    "accuracy_fullfield(accuracy, i_offset, j_offset, figure_type='colliculus')"
   ]
  },
  {
   "cell_type": "markdown",
   "metadata": {},
   "source": [
    "### Couples"
   ]
  },
  {
   "cell_type": "code",
   "execution_count": null,
   "metadata": {
    "ExecuteTime": {
     "end_time": "2018-06-06T07:54:33.895370Z",
     "start_time": "2018-06-06T07:54:31.490Z"
    }
   },
   "outputs": [],
   "source": [
    "fig, (ax1, ax2, ax3) = plt.subplots(1, 3, figsize=(20,7))\n",
    "\n",
    "N_pic = 28\n",
    "for batch_idx, (data, target) in enumerate(data_loader):\n",
    "    data_28 = data[-1][-1]\n",
    "    cmap = ax1.pcolor(np.arange(-N_pic/2, N_pic/2), np.arange(-N_pic/2, N_pic/2), np.flipud(data_28), cmap='Greys_r')\n",
    "    fig.colorbar(cmap)\n",
    "    break\n",
    "\n",
    "N_stim = data_28.shape[0]\n",
    "N_pic = 128\n",
    "center = (N_pic-N_stim)//2\n",
    "data_fullfield = (data_28.min().numpy()) * np.ones((N_pic, N_pic))\n",
    "data_fullfield[int(center+i_offset):int(center+N_stim+i_offset), int(center+j_offset):int(center+N_stim+j_offset)] = data_28\n",
    "cmap = ax2.pcolor(np.arange(-N_pic/2, N_pic/2), np.arange(-N_pic/2, N_pic/2), np.flipud(data_fullfield), cmap='Greys_r')\n",
    "\n",
    "N_stim = accuracy.shape[0]\n",
    "center = (N_pic-N_stim)//2\n",
    "accuracy_fullfield = 0.1 * np.ones((N_pic, N_pic))\n",
    "accuracy_fullfield[int(center+i_offset):int(center+N_stim+i_offset), int(center+j_offset):int(center+N_stim+j_offset)] = accuracy\n",
    "cmap = ax3.pcolor(np.arange(-N_pic/2, N_pic/2), np.arange(-N_pic/2, N_pic/2), np.flipud(accuracy_fullfield), cmap='Greys_r')\n",
    "\n",
    "plt.savefig('couples_a-v.pdf')"
   ]
  },
  {
   "cell_type": "markdown",
   "metadata": {},
   "source": [
    "### LogPolar view"
   ]
  },
  {
   "cell_type": "code",
   "execution_count": null,
   "metadata": {
    "ExecuteTime": {
     "end_time": "2018-06-06T07:54:33.899117Z",
     "start_time": "2018-06-06T07:54:31.498Z"
    },
    "scrolled": false
   },
   "outputs": [],
   "source": [
    "mnist_128(i_offset,j_offset, noise=False, figure_type='log')\n",
    "plt.savefig('mnist_log_nonoise.pdf')"
   ]
  },
  {
   "cell_type": "markdown",
   "metadata": {},
   "source": [
    "### LogPolar view + noise"
   ]
  },
  {
   "cell_type": "code",
   "execution_count": null,
   "metadata": {
    "ExecuteTime": {
     "end_time": "2018-06-06T07:54:33.903491Z",
     "start_time": "2018-06-06T07:54:31.507Z"
    }
   },
   "outputs": [],
   "source": [
    "mnist_128(i_offset, j_offset, figure_type='log')\n",
    "plt.savefig('mnist_log_motioncloud.pdf')"
   ]
  }
 ],
 "metadata": {
  "kernelspec": {
   "display_name": "Python 3",
   "language": "python",
   "name": "python3"
  },
  "language_info": {
   "codemirror_mode": {
    "name": "ipython",
    "version": 3
   },
   "file_extension": ".py",
   "mimetype": "text/x-python",
   "name": "python",
   "nbconvert_exporter": "python",
   "pygments_lexer": "ipython3",
   "version": "3.6.5"
  },
  "toc": {
   "base_numbering": 1,
   "nav_menu": {},
   "number_sections": true,
   "sideBar": true,
   "skip_h1_title": false,
   "title_cell": "Table of Contents",
   "title_sidebar": "Contents",
   "toc_cell": false,
   "toc_position": {},
   "toc_section_display": true,
   "toc_window_display": false
  }
 },
 "nbformat": 4,
 "nbformat_minor": 2
}
