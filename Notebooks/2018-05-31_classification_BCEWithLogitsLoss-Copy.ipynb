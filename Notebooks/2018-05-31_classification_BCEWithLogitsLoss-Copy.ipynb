{
 "cells": [
  {
   "cell_type": "code",
   "execution_count": 1,
   "metadata": {
    "ExecuteTime": {
     "end_time": "2018-05-31T13:00:42.778431Z",
     "start_time": "2018-05-31T13:00:42.760698Z"
    }
   },
   "outputs": [],
   "source": [
    "%load_ext autoreload\n",
    "%autoreload 2"
   ]
  },
  {
   "cell_type": "code",
   "execution_count": 2,
   "metadata": {
    "ExecuteTime": {
     "end_time": "2018-05-31T13:00:54.295525Z",
     "start_time": "2018-05-31T13:00:42.782038Z"
    }
   },
   "outputs": [
    {
     "name": "stdout",
     "output_type": "stream",
     "text": [
      "Loading accuracy... min, max= 0.0145 0.9852\n"
     ]
    }
   ],
   "source": [
    "from Where import *"
   ]
  },
  {
   "cell_type": "code",
   "execution_count": null,
   "metadata": {
    "ExecuteTime": {
     "start_time": "2018-05-31T13:00:42.738Z"
    },
    "scrolled": false
   },
   "outputs": [
    {
     "name": "stdout",
     "output_type": "stream",
     "text": [
      "Training model... with lr= 0.002\n",
      "Starting training...\n",
      "[0/60000] Loss: 0.8200039267539978 Time: 0.02 mn\n",
      "[10000/60000] Loss: 0.5390669703483582 Time: 1.53 mn\n",
      "[20000/60000] Loss: 0.4573204219341278 Time: 3.04 mn\n",
      "[30000/60000] Loss: 0.4278338849544525 Time: 4.56 mn\n",
      "[40000/60000] Loss: 0.42143622040748596 Time: 7.01 mn\n",
      "[50000/60000] Loss: 0.4174264073371887 Time: 10.11 mn\n",
      "Starting training...\n",
      "[0/60000] Loss: 0.4152185022830963 Time: 0.03 mn\n",
      "[10000/60000] Loss: 0.4059232771396637 Time: 3.09 mn\n",
      "[20000/60000] Loss: 0.4029652774333954 Time: 6.28 mn\n",
      "[30000/60000] Loss: 0.4023497700691223 Time: 9.37 mn\n",
      "[40000/60000] Loss: 0.40185245871543884 Time: 12.54 mn\n",
      "[50000/60000] Loss: 0.39996272325515747 Time: 15.83 mn\n",
      "Starting training...\n",
      "[0/60000] Loss: 0.40021392703056335 Time: 0.04 mn\n",
      "[10000/60000] Loss: 0.39931708574295044 Time: 4.67 mn\n",
      "[20000/60000] Loss: 0.39777249097824097 Time: 9.52 mn\n",
      "[30000/60000] Loss: 0.3957965075969696 Time: 14.47 mn\n",
      "[40000/60000] Loss: 0.3974663317203522 Time: 19.28 mn\n",
      "[50000/60000] Loss: 0.39506232738494873 Time: 24.04 mn\n",
      "Training model... with lr= 0.003\n",
      "Starting training...\n",
      "[0/60000] Loss: 0.9359844326972961 Time: 0.05 mn\n",
      "[10000/60000] Loss: 0.4924917221069336 Time: 4.96 mn\n",
      "[20000/60000] Loss: 0.4246668815612793 Time: 9.85 mn\n",
      "[30000/60000] Loss: 0.40719377994537354 Time: 14.76 mn\n",
      "[40000/60000] Loss: 0.40524277091026306 Time: 19.61 mn\n",
      "[50000/60000] Loss: 0.39598917961120605 Time: 24.90 mn\n",
      "Starting training...\n",
      "[0/60000] Loss: 0.3990369737148285 Time: 0.08 mn\n",
      "[10000/60000] Loss: 0.40178778767585754 Time: 7.24 mn\n",
      "[20000/60000] Loss: 0.39473041892051697 Time: 14.02 mn\n",
      "[30000/60000] Loss: 0.39236703515052795 Time: 20.75 mn\n",
      "[40000/60000] Loss: 0.3982769250869751 Time: 27.46 mn\n",
      "[50000/60000] Loss: 0.3912786841392517 Time: 34.33 mn\n",
      "Starting training...\n",
      "[0/60000] Loss: 0.39413318037986755 Time: 0.06 mn\n",
      "[10000/60000] Loss: 0.3932066261768341 Time: 6.90 mn\n",
      "[20000/60000] Loss: 0.3906133770942688 Time: 14.35 mn\n",
      "[30000/60000] Loss: 0.39420098066329956 Time: 23.44 mn\n",
      "[40000/60000] Loss: 0.393024206161499 Time: 31.89 mn\n",
      "[50000/60000] Loss: 0.39267581701278687 Time: 38.54 mn\n",
      "Training model... with lr= 0.005\n",
      "Starting training...\n",
      "[0/60000] Loss: 0.92976975440979 Time: 0.07 mn\n",
      "[10000/60000] Loss: 0.4201827943325043 Time: 6.59 mn\n",
      "[20000/60000] Loss: 0.4092350900173187 Time: 13.06 mn\n",
      "[30000/60000] Loss: 0.4010932743549347 Time: 19.29 mn\n",
      "[40000/60000] Loss: 0.3987296223640442 Time: 25.73 mn\n",
      "[50000/60000] Loss: 0.39380910992622375 Time: 32.16 mn\n",
      "Starting training...\n",
      "[0/60000] Loss: 0.3907342255115509 Time: 0.06 mn\n",
      "[10000/60000] Loss: 0.39288249611854553 Time: 5.68 mn\n",
      "[20000/60000] Loss: 0.3908306360244751 Time: 10.80 mn\n",
      "[30000/60000] Loss: 0.387067973613739 Time: 16.18 mn\n",
      "[40000/60000] Loss: 0.390377938747406 Time: 21.39 mn\n",
      "[50000/60000] Loss: 0.3885480463504791 Time: 26.52 mn\n"
     ]
    }
   ],
   "source": [
    "for lr_ in lr*np.logspace(-1, 1, 9, base=10):\n",
    "    net = Net(n_feature=N_theta*N_azimuth*N_eccentricity*N_phase, n_hidden1=n_hidden1, n_hidden2=n_hidden2, n_output=N_azimuth*N_eccentricity)\n",
    "    optimizer = torch.optim.SGD(net.parameters(), lr=lr_)\n",
    "    loss_func = torch.nn.BCEWithLogitsLoss()\n",
    "\n",
    "    print('Training model... with lr=', '%.3f' % lr_)\n",
    "    N_epochs = 3\n",
    "    for epoch in range(N_epochs):                       #max number of training epochs\n",
    "        train(net, minibatch_size, optimizer=optimizer) #starting the learning"
   ]
  }
 ],
 "metadata": {
  "kernelspec": {
   "display_name": "Python 3",
   "language": "python",
   "name": "python3"
  },
  "language_info": {
   "codemirror_mode": {
    "name": "ipython",
    "version": 3
   },
   "file_extension": ".py",
   "mimetype": "text/x-python",
   "name": "python",
   "nbconvert_exporter": "python",
   "pygments_lexer": "ipython3",
   "version": "3.5.2"
  },
  "toc": {
   "base_numbering": 1,
   "nav_menu": {},
   "number_sections": true,
   "sideBar": true,
   "skip_h1_title": false,
   "title_cell": "Table of Contents",
   "title_sidebar": "Contents",
   "toc_cell": false,
   "toc_position": {},
   "toc_section_display": true,
   "toc_window_display": false
  }
 },
 "nbformat": 4,
 "nbformat_minor": 2
}
