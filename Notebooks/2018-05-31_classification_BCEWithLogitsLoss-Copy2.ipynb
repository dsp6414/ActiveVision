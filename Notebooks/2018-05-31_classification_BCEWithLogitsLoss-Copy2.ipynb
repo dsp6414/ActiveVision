{
 "cells": [
  {
   "cell_type": "code",
   "execution_count": 1,
   "metadata": {
    "ExecuteTime": {
     "end_time": "2018-05-31T13:00:42.778431Z",
     "start_time": "2018-05-31T13:00:42.760698Z"
    }
   },
   "outputs": [],
   "source": [
    "%load_ext autoreload\n",
    "%autoreload 2"
   ]
  },
  {
   "cell_type": "code",
   "execution_count": 2,
   "metadata": {
    "ExecuteTime": {
     "end_time": "2018-05-31T13:00:54.295525Z",
     "start_time": "2018-05-31T13:00:42.782038Z"
    }
   },
   "outputs": [
    {
     "name": "stdout",
     "output_type": "stream",
     "text": [
      "Loading accuracy... min, max= 0.0145 0.9852\n"
     ]
    }
   ],
   "source": [
    "from Where import *"
   ]
  },
  {
   "cell_type": "code",
   "execution_count": null,
   "metadata": {
    "ExecuteTime": {
     "start_time": "2018-05-31T13:00:42.738Z"
    },
    "scrolled": false
   },
   "outputs": [
    {
     "name": "stdout",
     "output_type": "stream",
     "text": [
      "Training model... with lr= 0.002\n",
      "Starting training...\n",
      "[0/60000] Loss: 0.9502933621406555 Time: 0.02 mn\n",
      "[10000/60000] Loss: 0.5636418461799622 Time: 1.66 mn\n",
      "[20000/60000] Loss: 0.46231645345687866 Time: 3.33 mn\n",
      "[30000/60000] Loss: 0.4246501624584198 Time: 4.91 mn\n",
      "[40000/60000] Loss: 0.41315513849258423 Time: 6.49 mn\n",
      "[50000/60000] Loss: 0.40987953543663025 Time: 8.14 mn\n",
      "Starting training...\n",
      "[0/60000] Loss: 0.41066664457321167 Time: 0.02 mn\n",
      "[10000/60000] Loss: 0.4068544805049896 Time: 1.58 mn\n",
      "[20000/60000] Loss: 0.403903603553772 Time: 3.18 mn\n",
      "[30000/60000] Loss: 0.4039213955402374 Time: 4.75 mn\n",
      "[40000/60000] Loss: 0.4026217460632324 Time: 6.33 mn\n",
      "[50000/60000] Loss: 0.40075603127479553 Time: 7.91 mn\n",
      "Starting training...\n",
      "[0/60000] Loss: 0.40006816387176514 Time: 0.02 mn\n",
      "[10000/60000] Loss: 0.3973454236984253 Time: 1.59 mn\n",
      "[20000/60000] Loss: 0.39867839217185974 Time: 3.17 mn\n",
      "[30000/60000] Loss: 0.3961098790168762 Time: 4.85 mn\n",
      "[40000/60000] Loss: 0.39320459961891174 Time: 6.79 mn\n",
      "[50000/60000] Loss: 0.3963525891304016 Time: 8.73 mn\n",
      "Training model... with lr= 0.003\n",
      "Starting training...\n",
      "[0/60000] Loss: 0.8417040705680847 Time: 0.02 mn\n",
      "[10000/60000] Loss: 0.474568635225296 Time: 1.98 mn\n",
      "[20000/60000] Loss: 0.4214709997177124 Time: 3.94 mn\n",
      "[30000/60000] Loss: 0.413541704416275 Time: 5.92 mn\n",
      "[40000/60000] Loss: 0.40773463249206543 Time: 7.86 mn\n",
      "[50000/60000] Loss: 0.4070952236652374 Time: 9.82 mn\n",
      "Starting training...\n",
      "[0/60000] Loss: 0.40051254630088806 Time: 0.02 mn\n",
      "[10000/60000] Loss: 0.4013805389404297 Time: 1.79 mn\n",
      "[20000/60000] Loss: 0.39961302280426025 Time: 3.61 mn\n",
      "[30000/60000] Loss: 0.3927670121192932 Time: 5.24 mn\n",
      "[40000/60000] Loss: 0.39720168709754944 Time: 7.05 mn\n",
      "[50000/60000] Loss: 0.39293408393859863 Time: 8.78 mn\n",
      "Starting training...\n",
      "[0/60000] Loss: 0.39179283380508423 Time: 0.02 mn\n",
      "[10000/60000] Loss: 0.39919260144233704 Time: 1.99 mn\n",
      "[20000/60000] Loss: 0.3891664743423462 Time: 3.81 mn\n",
      "[30000/60000] Loss: 0.3882995545864105 Time: 5.67 mn\n",
      "[40000/60000] Loss: 0.38996264338493347 Time: 7.51 mn\n",
      "[50000/60000] Loss: 0.38730525970458984 Time: 9.44 mn\n",
      "Training model... with lr= 0.005\n",
      "Starting training...\n",
      "[0/60000] Loss: 0.8718369007110596 Time: 0.02 mn\n",
      "[10000/60000] Loss: 0.42827120423316956 Time: 1.88 mn\n",
      "[20000/60000] Loss: 0.41075143218040466 Time: 3.82 mn\n",
      "[30000/60000] Loss: 0.40263915061950684 Time: 5.80 mn\n",
      "[40000/60000] Loss: 0.3998953700065613 Time: 7.91 mn\n",
      "[50000/60000] Loss: 0.39423856139183044 Time: 9.96 mn\n",
      "Starting training...\n",
      "[0/60000] Loss: 0.3965206742286682 Time: 0.02 mn\n",
      "[10000/60000] Loss: 0.3926960825920105 Time: 1.94 mn\n",
      "[20000/60000] Loss: 0.39710697531700134 Time: 3.70 mn\n",
      "[30000/60000] Loss: 0.38658279180526733 Time: 5.59 mn\n",
      "[40000/60000] Loss: 0.38464513421058655 Time: 7.69 mn\n",
      "[50000/60000] Loss: 0.3932712972164154 Time: 9.69 mn\n",
      "Starting training...\n",
      "[0/60000] Loss: 0.3870121240615845 Time: 0.02 mn\n",
      "[10000/60000] Loss: 0.39002540707588196 Time: 2.00 mn\n",
      "[20000/60000] Loss: 0.3852967917919159 Time: 3.86 mn\n",
      "[30000/60000] Loss: 0.3816336393356323 Time: 5.46 mn\n",
      "[40000/60000] Loss: 0.38630151748657227 Time: 7.04 mn\n",
      "[50000/60000] Loss: 0.3872326612472534 Time: 8.64 mn\n",
      "Training model... with lr= 0.009\n",
      "Starting training...\n",
      "[0/60000] Loss: 0.8708169460296631 Time: 0.02 mn\n",
      "[10000/60000] Loss: 0.40729281306266785 Time: 1.64 mn\n",
      "[20000/60000] Loss: 0.40200915932655334 Time: 3.26 mn\n",
      "[30000/60000] Loss: 0.39935946464538574 Time: 4.86 mn\n",
      "[40000/60000] Loss: 0.39206910133361816 Time: 6.67 mn\n",
      "[50000/60000] Loss: 0.392222136259079 Time: 8.64 mn\n",
      "Starting training...\n",
      "[0/60000] Loss: 0.3840194642543793 Time: 0.02 mn\n",
      "[10000/60000] Loss: 0.3894197642803192 Time: 1.95 mn\n",
      "[20000/60000] Loss: 0.38768911361694336 Time: 3.88 mn\n",
      "[30000/60000] Loss: 0.3861159086227417 Time: 5.67 mn\n",
      "[40000/60000] Loss: 0.38456296920776367 Time: 7.25 mn\n",
      "[50000/60000] Loss: 0.38583824038505554 Time: 9.14 mn\n",
      "Starting training...\n",
      "[0/60000] Loss: 0.3817344307899475 Time: 0.02 mn\n",
      "[10000/60000] Loss: 0.38237476348876953 Time: 1.94 mn\n",
      "[20000/60000] Loss: 0.3816900849342346 Time: 3.91 mn\n",
      "[30000/60000] Loss: 0.38210514187812805 Time: 5.89 mn\n",
      "[40000/60000] Loss: 0.38613229990005493 Time: 8.55 mn\n",
      "[50000/60000] Loss: 0.380333811044693 Time: 11.64 mn\n",
      "Training model... with lr= 0.016\n",
      "Starting training...\n",
      "[0/60000] Loss: 0.8295467495918274 Time: 0.03 mn\n",
      "[10000/60000] Loss: 0.40506047010421753 Time: 3.11 mn\n",
      "[20000/60000] Loss: 0.39578506350517273 Time: 6.21 mn\n",
      "[30000/60000] Loss: 0.3836827576160431 Time: 9.37 mn\n",
      "[40000/60000] Loss: 0.38939136266708374 Time: 12.44 mn\n",
      "[50000/60000] Loss: 0.3861680328845978 Time: 15.51 mn\n",
      "Starting training...\n",
      "[0/60000] Loss: 0.3913800120353699 Time: 0.03 mn\n",
      "[10000/60000] Loss: 0.38558104634284973 Time: 3.14 mn\n",
      "[20000/60000] Loss: 0.38234764337539673 Time: 6.23 mn\n",
      "[30000/60000] Loss: 0.3827330470085144 Time: 9.21 mn\n",
      "[40000/60000] Loss: 0.37899965047836304 Time: 12.27 mn\n",
      "[50000/60000] Loss: 0.3784821927547455 Time: 15.42 mn\n",
      "Starting training...\n",
      "[0/60000] Loss: 0.37927258014678955 Time: 0.03 mn\n",
      "[10000/60000] Loss: 0.38044312596321106 Time: 3.15 mn\n",
      "[20000/60000] Loss: 0.37840554118156433 Time: 6.24 mn\n",
      "[30000/60000] Loss: 0.3768903315067291 Time: 9.40 mn\n"
     ]
    }
   ],
   "source": [
    "for lr_ in lr*np.logspace(-1, 1, 9, base=10):\n",
    "    net = Net(n_feature=N_theta*N_azimuth*N_eccentricity*N_phase, n_hidden1=n_hidden1, n_hidden2=n_hidden2, n_output=N_azimuth*N_eccentricity)\n",
    "    optimizer = torch.optim.SGD(net.parameters(), lr=lr_)\n",
    "    loss_func = torch.nn.BCEWithLogitsLoss()\n",
    "\n",
    "    print('Training model... with lr=', '%.3f' % lr_)\n",
    "    N_epochs = 3\n",
    "    for epoch in range(N_epochs):          #max number of training epochs\n",
    "        train(net, minibatch_size, optimizer=optimizer)                 #starting the learning\n",
    "        "
   ]
  },
  {
   "cell_type": "code",
   "execution_count": null,
   "metadata": {},
   "outputs": [],
   "source": []
  }
 ],
 "metadata": {
  "kernelspec": {
   "display_name": "Python 3",
   "language": "python",
   "name": "python3"
  },
  "language_info": {
   "codemirror_mode": {
    "name": "ipython",
    "version": 3
   },
   "file_extension": ".py",
   "mimetype": "text/x-python",
   "name": "python",
   "nbconvert_exporter": "python",
   "pygments_lexer": "ipython3",
   "version": "3.5.2"
  },
  "toc": {
   "base_numbering": 1,
   "nav_menu": {},
   "number_sections": true,
   "sideBar": true,
   "skip_h1_title": false,
   "title_cell": "Table of Contents",
   "title_sidebar": "Contents",
   "toc_cell": false,
   "toc_position": {},
   "toc_section_display": true,
   "toc_window_display": false
  }
 },
 "nbformat": 4,
 "nbformat_minor": 2
}
