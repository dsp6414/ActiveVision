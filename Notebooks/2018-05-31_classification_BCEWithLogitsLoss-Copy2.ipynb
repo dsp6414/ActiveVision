{
 "cells": [
  {
   "cell_type": "code",
   "execution_count": 1,
   "metadata": {
    "ExecuteTime": {
     "end_time": "2018-05-31T13:00:42.778431Z",
     "start_time": "2018-05-31T13:00:42.760698Z"
    }
   },
   "outputs": [],
   "source": [
    "%load_ext autoreload\n",
    "%autoreload 2"
   ]
  },
  {
   "cell_type": "code",
   "execution_count": 2,
   "metadata": {
    "ExecuteTime": {
     "end_time": "2018-05-31T13:00:54.295525Z",
     "start_time": "2018-05-31T13:00:42.782038Z"
    }
   },
   "outputs": [
    {
     "name": "stdout",
     "output_type": "stream",
     "text": [
      "Loading accuracy... min, max= 0.0145 0.9852\n"
     ]
    }
   ],
   "source": [
    "from Where import *"
   ]
  },
  {
   "cell_type": "code",
   "execution_count": null,
   "metadata": {
    "ExecuteTime": {
     "start_time": "2018-05-31T13:00:42.738Z"
    }
   },
   "outputs": [
    {
     "name": "stdout",
     "output_type": "stream",
     "text": [
      "Training model... with lr= 0.005000000000000001\n",
      "Starting training...\n",
      "[0/60000] Loss: 0.9145913124084473 Time: 0.01 mn\n",
      "[10000/60000] Loss: 0.9117414355278015 Time: 1.20 mn\n",
      "[20000/60000] Loss: 0.9117147922515869 Time: 2.44 mn\n",
      "[30000/60000] Loss: 0.9106831550598145 Time: 3.69 mn\n",
      "[40000/60000] Loss: 0.9114256501197815 Time: 4.94 mn\n",
      "[50000/60000] Loss: 0.9109002351760864 Time: 6.07 mn\n",
      "Starting training...\n",
      "[0/60000] Loss: 0.9106523990631104 Time: 0.01 mn\n",
      "[10000/60000] Loss: 0.9118435382843018 Time: 0.87 mn\n",
      "[20000/60000] Loss: 0.9087079763412476 Time: 1.74 mn\n",
      "[30000/60000] Loss: 0.9087156653404236 Time: 2.60 mn\n",
      "[40000/60000] Loss: 0.9102849364280701 Time: 3.46 mn\n",
      "[50000/60000] Loss: 0.9076477289199829 Time: 4.32 mn\n",
      "Starting training...\n",
      "[0/60000] Loss: 0.9073305130004883 Time: 0.01 mn\n",
      "[10000/60000] Loss: 0.9074525237083435 Time: 0.87 mn\n",
      "[20000/60000] Loss: 0.9069943428039551 Time: 1.74 mn\n",
      "[30000/60000] Loss: 0.9072049260139465 Time: 2.60 mn\n",
      "[40000/60000] Loss: 0.9057007431983948 Time: 3.46 mn\n"
     ]
    }
   ],
   "source": [
    "for lr_ in lr*np.logspace(-1, 1, 9, base=10):\n",
    "    net = Net(n_feature=N_theta*N_azimuth*N_eccentricty*N_phase, n_hidden1=n_hidden1, n_hidden2=n_hidden2, n_output=N_azimuth*N_eccentricty)\n",
    "    optimizer = torch.optim.SGD(net.parameters(), lr=lr_)\n",
    "    loss_func = torch.nn.BCEWithLogitsLoss()\n",
    "\n",
    "    print('Training model... with lr=', '%.3f' % lr_)\n",
    "    N_epochs = 3\n",
    "    for epoch in range(N_epochs):          #max number of training epochs\n",
    "        train(net, minibatch_size, optimizer=optimizer)                 #starting the learning\n",
    "        "
   ]
  },
  {
   "cell_type": "code",
   "execution_count": null,
   "metadata": {},
   "outputs": [],
   "source": []
  }
 ],
 "metadata": {
  "kernelspec": {
   "display_name": "Python 3",
   "language": "python",
   "name": "python3"
  },
  "language_info": {
   "codemirror_mode": {
    "name": "ipython",
    "version": 3
   },
   "file_extension": ".py",
   "mimetype": "text/x-python",
   "name": "python",
   "nbconvert_exporter": "python",
   "pygments_lexer": "ipython3",
   "version": "3.6.5"
  },
  "toc": {
   "base_numbering": 1,
   "nav_menu": {},
   "number_sections": true,
   "sideBar": true,
   "skip_h1_title": false,
   "title_cell": "Table of Contents",
   "title_sidebar": "Contents",
   "toc_cell": false,
   "toc_position": {},
   "toc_section_display": true,
   "toc_window_display": false
  }
 },
 "nbformat": 4,
 "nbformat_minor": 2
}
