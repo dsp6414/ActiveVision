{
 "cells": [
  {
   "cell_type": "code",
   "execution_count": 1,
   "metadata": {
    "ExecuteTime": {
     "end_time": "2018-06-04T14:08:49.961493Z",
     "start_time": "2018-06-04T14:08:49.923816Z"
    }
   },
   "outputs": [],
   "source": [
    "%load_ext autoreload\n",
    "%autoreload 2"
   ]
  },
  {
   "cell_type": "code",
   "execution_count": 2,
   "metadata": {
    "ExecuteTime": {
     "end_time": "2018-06-04T14:09:31.570342Z",
     "start_time": "2018-06-04T14:08:49.967678Z"
    }
   },
   "outputs": [
    {
     "name": "stdout",
     "output_type": "stream",
     "text": [
      "Loading accuracy... min, max= 0.0145 0.9852\n"
     ]
    }
   ],
   "source": [
    "from Where import *"
   ]
  },
  {
   "cell_type": "markdown",
   "metadata": {},
   "source": [
    "## Réseau de neurones"
   ]
  },
  {
   "cell_type": "markdown",
   "metadata": {},
   "source": [
    "### Lancer l'apprentissage ou charger les données"
   ]
  },
  {
   "cell_type": "code",
   "execution_count": 3,
   "metadata": {
    "ExecuteTime": {
     "end_time": "2018-06-04T14:09:31.625148Z",
     "start_time": "2018-06-04T14:09:31.575431Z"
    }
   },
   "outputs": [],
   "source": [
    "path = '2018-05-31_classification_BCELoss_test.pt'"
   ]
  },
  {
   "cell_type": "code",
   "execution_count": 4,
   "metadata": {
    "ExecuteTime": {
     "end_time": "2018-06-04T14:09:31.849122Z",
     "start_time": "2018-06-04T14:09:31.630227Z"
    }
   },
   "outputs": [
    {
     "name": "stdout",
     "output_type": "stream",
     "text": [
      "ls: 2018-05-31_classification_BCELoss_test.pt: No such file or directory\r\n"
     ]
    }
   ],
   "source": [
    "!ls -l {path}\n",
    "#!rm {path}"
   ]
  },
  {
   "cell_type": "code",
   "execution_count": null,
   "metadata": {
    "ExecuteTime": {
     "start_time": "2018-06-04T14:08:49.882Z"
    }
   },
   "outputs": [
    {
     "name": "stdout",
     "output_type": "stream",
     "text": [
      "Training model...\n",
      "Starting training...\n",
      "[0/60000] Loss: 0.900113582611084 Time: 0.03 mn\n",
      "[10000/60000] Loss: 0.39759185910224915 Time: 3.35 mn\n",
      "[20000/60000] Loss: 0.39003849029541016 Time: 6.64 mn\n",
      "[30000/60000] Loss: 0.38892701268196106 Time: 9.88 mn\n",
      "[40000/60000] Loss: 0.3876059651374817 Time: 13.16 mn\n",
      "[50000/60000] Loss: 0.38264894485473633 Time: 16.40 mn\n",
      "Model saved at 2018-05-31_classification_BCELoss_test.pt\n",
      "Starting training...\n",
      "[0/60000] Loss: 0.3850058615207672 Time: 0.03 mn\n",
      "[10000/60000] Loss: 0.38355425000190735 Time: 3.17 mn\n",
      "[20000/60000] Loss: 0.38395100831985474 Time: 6.34 mn\n"
     ]
    }
   ],
   "source": [
    "if os.path.isfile(path):\n",
    "    net.load_state_dict(torch.load(path))\n",
    "    print('Loading file', path)\n",
    "else:\n",
    "    print('Training model...')\n",
    "    N_epochs = 100\n",
    "    for epoch in range(N_epochs):          #max number of training epochs\n",
    "        net = train(net, minibatch_size)                 #starting the learning\n",
    "        torch.save(net.state_dict(), path) #save the neural network state\n",
    "        print('Model saved at', path)"
   ]
  },
  {
   "cell_type": "code",
   "execution_count": null,
   "metadata": {
    "ExecuteTime": {
     "start_time": "2018-06-04T14:08:49.886Z"
    }
   },
   "outputs": [],
   "source": [
    "(data, label) = next(iter(data_loader))"
   ]
  },
  {
   "cell_type": "code",
   "execution_count": null,
   "metadata": {
    "ExecuteTime": {
     "start_time": "2018-06-04T14:08:49.891Z"
    }
   },
   "outputs": [],
   "source": [
    "idx = 0\n",
    "print(data[idx, 0, :, :].shape)"
   ]
  },
  {
   "cell_type": "code",
   "execution_count": null,
   "metadata": {
    "ExecuteTime": {
     "start_time": "2018-06-04T14:08:49.897Z"
    },
    "scrolled": false
   },
   "outputs": [],
   "source": [
    "retina = vectorization(N_theta, N_azimuth, N_eccentricty, N_phase, N_X, N_Y, rho)\n"
   ]
  },
  {
   "cell_type": "markdown",
   "metadata": {},
   "source": [
    "### Lancer l'évaluation"
   ]
  },
  {
   "cell_type": "code",
   "execution_count": null,
   "metadata": {
    "ExecuteTime": {
     "start_time": "2018-06-04T14:08:49.904Z"
    },
    "scrolled": false
   },
   "outputs": [],
   "source": [
    "N_test = 10\n",
    "\n",
    "for _ in range(N_test):\n",
    "    eval_sacc()\n",
    "    plt.show()    "
   ]
  },
  {
   "cell_type": "code",
   "execution_count": null,
   "metadata": {
    "ExecuteTime": {
     "start_time": "2018-06-04T14:08:49.912Z"
    },
    "scrolled": false
   },
   "outputs": [],
   "source": [
    "for _ in range(N_test):\n",
    "    eval_sacc(fig_type='log')\n",
    "    plt.show()    "
   ]
  },
  {
   "cell_type": "code",
   "execution_count": null,
   "metadata": {
    "ExecuteTime": {
     "start_time": "2018-06-04T14:08:49.918Z"
    }
   },
   "outputs": [],
   "source": [
    "eccentricty, azimuth = np.meshgrid(np.linspace(0, 1, N_eccentricty+1), np.linspace(-np.pi, np.pi, N_azimuth+1))\n",
    "eccentricty.shape, azimuth.shape"
   ]
  },
  {
   "cell_type": "code",
   "execution_count": null,
   "metadata": {
    "ExecuteTime": {
     "start_time": "2018-06-04T14:08:49.924Z"
    },
    "scrolled": false
   },
   "outputs": [],
   "source": [
    "help(plt.pcolor\n",
    "    )"
   ]
  },
  {
   "cell_type": "code",
   "execution_count": null,
   "metadata": {},
   "outputs": [],
   "source": []
  }
 ],
 "metadata": {
  "kernelspec": {
   "display_name": "Python 3",
   "language": "python",
   "name": "python3"
  },
  "language_info": {
   "codemirror_mode": {
    "name": "ipython",
    "version": 3
   },
   "file_extension": ".py",
   "mimetype": "text/x-python",
   "name": "python",
   "nbconvert_exporter": "python",
   "pygments_lexer": "ipython3",
   "version": "3.6.5"
  },
  "toc": {
   "base_numbering": 1,
   "nav_menu": {},
   "number_sections": true,
   "sideBar": true,
   "skip_h1_title": false,
   "title_cell": "Table of Contents",
   "title_sidebar": "Contents",
   "toc_cell": false,
   "toc_position": {},
   "toc_section_display": true,
   "toc_window_display": false
  }
 },
 "nbformat": 4,
 "nbformat_minor": 2
}
