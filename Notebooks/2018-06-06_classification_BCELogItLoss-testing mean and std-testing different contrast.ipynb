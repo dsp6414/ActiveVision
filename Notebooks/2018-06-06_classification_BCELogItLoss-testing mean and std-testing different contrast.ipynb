{
 "cells": [
  {
   "cell_type": "code",
   "execution_count": 1,
   "metadata": {
    "ExecuteTime": {
     "end_time": "2018-06-06T14:51:56.118782Z",
     "start_time": "2018-06-06T14:51:56.073753Z"
    }
   },
   "outputs": [],
   "source": [
    "%load_ext autoreload\n",
    "%autoreload 2"
   ]
  },
  {
   "cell_type": "code",
   "execution_count": 2,
   "metadata": {
    "ExecuteTime": {
     "end_time": "2018-06-06T14:53:12.257934Z",
     "start_time": "2018-06-06T14:51:56.125936Z"
    },
    "scrolled": true
   },
   "outputs": [
    {
     "name": "stdout",
     "output_type": "stream",
     "text": [
      "Loading accuracy... min, max= 0.0145 0.9852\n",
      "n_hidden1 80  / n_hidden2 200\n"
     ]
    }
   ],
   "source": [
    "from Where import *"
   ]
  },
  {
   "cell_type": "code",
   "execution_count": null,
   "metadata": {
    "ExecuteTime": {
     "start_time": "2018-06-06T14:51:56.019Z"
    },
    "scrolled": false
   },
   "outputs": [
    {
     "name": "stdout",
     "output_type": "stream",
     "text": [
      "Training model... with contrast= 0.300\n",
      "Starting training...\n",
      "[0/60000] Loss: 0.7001683712005615 Time: 0.07 mn\n"
     ]
    }
   ],
   "source": [
    "N_epochs = 1\n",
    "for contrast in std*np.logspace(0, 1, 5, base=10):\n",
    "    net = Net(n_feature=N_theta*N_azimuth*N_eccentricity*N_phase, n_hidden1=n_hidden1, n_hidden2=n_hidden2, n_output=N_azimuth*N_eccentricity)\n",
    "    print('Training model... with contrast=', '%.3f' % contrast)\n",
    "    for epoch in range(N_epochs):                       #max number of training epochs\n",
    "        train(net, minibatch_size, optimizer=optimizer, contrast=contrast) #starting the learning"
   ]
  },
  {
   "cell_type": "code",
   "execution_count": null,
   "metadata": {
    "ExecuteTime": {
     "start_time": "2018-06-06T14:51:56.023Z"
    },
    "scrolled": false
   },
   "outputs": [],
   "source": [
    "data_loader = get_data_loader(mean=mean, std=std, minibatch_size=minibatch_size)\n",
    "\n",
    "net = Net(n_feature=N_theta*N_azimuth*N_eccentricity*N_phase, n_hidden1=n_hidden1, n_hidden2=n_hidden2, n_output=N_azimuth*N_eccentricity)\n",
    "optimizer = torch.optim.SGD(net.parameters())\n",
    "loss_func = torch.nn.SmoothL1Loss()\n",
    "\n",
    "print('Training model... with contrast=', '%.3f' % std)\n",
    "N_epochs = 3\n",
    "for epoch in range(N_epochs):                       #max number of training epochs\n",
    "    train(net, minibatch_size, optimizer=optimizer) #starting the learning\n"
   ]
  },
  {
   "cell_type": "code",
   "execution_count": null,
   "metadata": {
    "ExecuteTime": {
     "start_time": "2018-06-06T14:51:56.027Z"
    }
   },
   "outputs": [],
   "source": [
    "N_test = 10\n",
    "\n",
    "for _ in range(N_test):\n",
    "    eval_sacc()\n",
    "    plt.show()   "
   ]
  }
 ],
 "metadata": {
  "kernelspec": {
   "display_name": "Python 3",
   "language": "python",
   "name": "python3"
  },
  "language_info": {
   "codemirror_mode": {
    "name": "ipython",
    "version": 3
   },
   "file_extension": ".py",
   "mimetype": "text/x-python",
   "name": "python",
   "nbconvert_exporter": "python",
   "pygments_lexer": "ipython3",
   "version": "3.6.5"
  },
  "toc": {
   "base_numbering": 1,
   "nav_menu": {},
   "number_sections": true,
   "sideBar": true,
   "skip_h1_title": false,
   "title_cell": "Table of Contents",
   "title_sidebar": "Contents",
   "toc_cell": false,
   "toc_position": {},
   "toc_section_display": true,
   "toc_window_display": false
  }
 },
 "nbformat": 4,
 "nbformat_minor": 2
}
