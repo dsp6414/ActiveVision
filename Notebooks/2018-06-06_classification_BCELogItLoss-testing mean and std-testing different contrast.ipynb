{
 "cells": [
  {
   "cell_type": "code",
   "execution_count": 1,
   "metadata": {
    "ExecuteTime": {
     "end_time": "2018-06-06T14:51:56.118782Z",
     "start_time": "2018-06-06T14:51:56.073753Z"
    }
   },
   "outputs": [],
   "source": [
    "%load_ext autoreload\n",
    "%autoreload 2"
   ]
  },
  {
   "cell_type": "code",
   "execution_count": 2,
   "metadata": {
    "ExecuteTime": {
     "end_time": "2018-06-06T14:53:12.257934Z",
     "start_time": "2018-06-06T14:51:56.125936Z"
    },
    "scrolled": true
   },
   "outputs": [
    {
     "name": "stdout",
     "output_type": "stream",
     "text": [
      "Loading accuracy... min, max= 0.0145 0.9852\n",
      "n_hidden1 80  / n_hidden2 200\n"
     ]
    }
   ],
   "source": [
    "from Where import *"
   ]
  },
  {
   "cell_type": "code",
   "execution_count": 3,
   "metadata": {
    "ExecuteTime": {
     "end_time": "2018-06-06T17:07:54.208109Z",
     "start_time": "2018-06-06T14:53:12.263671Z"
    },
    "scrolled": false
   },
   "outputs": [
    {
     "name": "stdout",
     "output_type": "stream",
     "text": [
      "Training model... with contrast= 0.300\n",
      "Starting training...\n",
      "[0/60000] Loss: 0.7001683712005615 Time: 0.07 mn\n",
      "[10000/60000] Loss: 0.6999635100364685 Time: 6.79 mn\n",
      "[20000/60000] Loss: 0.7001133561134338 Time: 13.55 mn\n",
      "[30000/60000] Loss: 0.7004198431968689 Time: 19.67 mn\n",
      "[40000/60000] Loss: 0.7001271843910217 Time: 26.18 mn\n",
      "[50000/60000] Loss: 0.6990302801132202 Time: 32.63 mn\n",
      "Training model... with contrast= 0.533\n",
      "Starting training...\n",
      "[0/60000] Loss: 0.6936039924621582 Time: 0.04 mn\n",
      "[10000/60000] Loss: 0.6922217011451721 Time: 4.30 mn\n",
      "[20000/60000] Loss: 0.6924132704734802 Time: 8.56 mn\n",
      "[30000/60000] Loss: 0.6926136016845703 Time: 12.80 mn\n",
      "[40000/60000] Loss: 0.6953048706054688 Time: 17.06 mn\n",
      "[50000/60000] Loss: 0.6935981512069702 Time: 21.33 mn\n",
      "Training model... with contrast= 0.949\n",
      "Starting training...\n",
      "[0/60000] Loss: 0.7170774340629578 Time: 0.04 mn\n",
      "[10000/60000] Loss: 0.7141841053962708 Time: 4.32 mn\n",
      "[20000/60000] Loss: 0.7146947979927063 Time: 8.56 mn\n",
      "[30000/60000] Loss: 0.7121000289916992 Time: 12.79 mn\n",
      "[40000/60000] Loss: 0.7139120697975159 Time: 17.04 mn\n",
      "[50000/60000] Loss: 0.7143223881721497 Time: 21.28 mn\n",
      "Training model... with contrast= 1.687\n",
      "Starting training...\n",
      "[0/60000] Loss: 0.7513586282730103 Time: 0.04 mn\n",
      "[10000/60000] Loss: 0.7544968724250793 Time: 4.27 mn\n",
      "[20000/60000] Loss: 0.755138099193573 Time: 8.53 mn\n",
      "[30000/60000] Loss: 0.7506124973297119 Time: 12.77 mn\n",
      "[40000/60000] Loss: 0.758522629737854 Time: 17.00 mn\n",
      "[50000/60000] Loss: 0.7579577565193176 Time: 21.25 mn\n",
      "Training model... with contrast= 3.000\n",
      "Starting training...\n",
      "[0/60000] Loss: 0.92502361536026 Time: 0.04 mn\n",
      "[10000/60000] Loss: 0.8926576972007751 Time: 4.27 mn\n",
      "[20000/60000] Loss: 0.9040750861167908 Time: 8.51 mn\n",
      "[30000/60000] Loss: 0.8961004614830017 Time: 11.44 mn\n",
      "[40000/60000] Loss: 0.8722929954528809 Time: 14.30 mn\n",
      "[50000/60000] Loss: 0.8900728225708008 Time: 17.15 mn\n"
     ]
    }
   ],
   "source": [
    "N_epochs = 1\n",
    "for contrast in std*np.logspace(0, 1, 5, base=10):\n",
    "    net = Net(n_feature=N_theta*N_azimuth*N_eccentricity*N_phase, n_hidden1=n_hidden1, n_hidden2=n_hidden2, n_output=N_azimuth*N_eccentricity)\n",
    "    print('Training model... with contrast=', '%.3f' % contrast)\n",
    "    for epoch in range(N_epochs):                       #max number of training epochs\n",
    "        train(net, minibatch_size, optimizer=optimizer, contrast=contrast) #starting the learning"
   ]
  },
  {
   "cell_type": "code",
   "execution_count": 6,
   "metadata": {
    "ExecuteTime": {
     "end_time": "2018-06-06T17:10:13.600605Z",
     "start_time": "2018-06-06T17:10:13.532513Z"
    },
    "scrolled": false
   },
   "outputs": [
    {
     "ename": "TypeError",
     "evalue": "super(type, obj): obj must be an instance or subtype of type",
     "output_type": "error",
     "traceback": [
      "\u001b[0;31m---------------------------------------------------------------------------\u001b[0m",
      "\u001b[0;31mTypeError\u001b[0m                                 Traceback (most recent call last)",
      "\u001b[0;32m<ipython-input-6-81e6216db1da>\u001b[0m in \u001b[0;36m<module>\u001b[0;34m()\u001b[0m\n\u001b[0;32m----> 1\u001b[0;31m \u001b[0mnet\u001b[0m \u001b[0;34m=\u001b[0m \u001b[0mNet\u001b[0m\u001b[0;34m(\u001b[0m\u001b[0mn_feature\u001b[0m\u001b[0;34m=\u001b[0m\u001b[0mN_theta\u001b[0m\u001b[0;34m*\u001b[0m\u001b[0mN_azimuth\u001b[0m\u001b[0;34m*\u001b[0m\u001b[0mN_eccentricity\u001b[0m\u001b[0;34m*\u001b[0m\u001b[0mN_phase\u001b[0m\u001b[0;34m,\u001b[0m \u001b[0mn_hidden1\u001b[0m\u001b[0;34m=\u001b[0m\u001b[0mn_hidden1\u001b[0m\u001b[0;34m,\u001b[0m \u001b[0mn_hidden2\u001b[0m\u001b[0;34m=\u001b[0m\u001b[0mn_hidden2\u001b[0m\u001b[0;34m,\u001b[0m \u001b[0mn_output\u001b[0m\u001b[0;34m=\u001b[0m\u001b[0mN_azimuth\u001b[0m\u001b[0;34m*\u001b[0m\u001b[0mN_eccentricity\u001b[0m\u001b[0;34m)\u001b[0m\u001b[0;34m\u001b[0m\u001b[0m\n\u001b[0m\u001b[1;32m      2\u001b[0m \u001b[0;34m\u001b[0m\u001b[0m\n\u001b[1;32m      3\u001b[0m \u001b[0mprint\u001b[0m\u001b[0;34m(\u001b[0m\u001b[0;34m'Training model... with contrast='\u001b[0m\u001b[0;34m,\u001b[0m \u001b[0;34m'%.3f'\u001b[0m \u001b[0;34m%\u001b[0m \u001b[0mstd\u001b[0m\u001b[0;34m)\u001b[0m\u001b[0;34m\u001b[0m\u001b[0m\n\u001b[1;32m      4\u001b[0m \u001b[0mN_epochs\u001b[0m \u001b[0;34m=\u001b[0m \u001b[0;36m3\u001b[0m\u001b[0;34m\u001b[0m\u001b[0m\n\u001b[1;32m      5\u001b[0m \u001b[0;32mfor\u001b[0m \u001b[0mepoch\u001b[0m \u001b[0;32min\u001b[0m \u001b[0mrange\u001b[0m\u001b[0;34m(\u001b[0m\u001b[0mN_epochs\u001b[0m\u001b[0;34m)\u001b[0m\u001b[0;34m:\u001b[0m                       \u001b[0;31m#max number of training epochs\u001b[0m\u001b[0;34m\u001b[0m\u001b[0m\n",
      "\u001b[0;32m~/research/Shared/2018_PA_StageB/ActiveVision/Notebooks/Where.py\u001b[0m in \u001b[0;36m__init__\u001b[0;34m(self, n_feature, n_hidden1, n_hidden2, n_output)\u001b[0m\n\u001b[1;32m     47\u001b[0m \u001b[0;32mclass\u001b[0m \u001b[0mNet\u001b[0m\u001b[0;34m(\u001b[0m\u001b[0mtorch\u001b[0m\u001b[0;34m.\u001b[0m\u001b[0mnn\u001b[0m\u001b[0;34m.\u001b[0m\u001b[0mModule\u001b[0m\u001b[0;34m)\u001b[0m\u001b[0;34m:\u001b[0m\u001b[0;34m\u001b[0m\u001b[0m\n\u001b[1;32m     48\u001b[0m     \u001b[0;32mdef\u001b[0m \u001b[0m__init__\u001b[0m\u001b[0;34m(\u001b[0m\u001b[0mself\u001b[0m\u001b[0;34m,\u001b[0m \u001b[0mn_feature\u001b[0m\u001b[0;34m,\u001b[0m \u001b[0mn_hidden1\u001b[0m\u001b[0;34m,\u001b[0m \u001b[0mn_hidden2\u001b[0m\u001b[0;34m,\u001b[0m \u001b[0mn_output\u001b[0m\u001b[0;34m)\u001b[0m\u001b[0;34m:\u001b[0m\u001b[0;34m\u001b[0m\u001b[0m\n\u001b[0;32m---> 49\u001b[0;31m         \u001b[0msuper\u001b[0m\u001b[0;34m(\u001b[0m\u001b[0mNet\u001b[0m\u001b[0;34m,\u001b[0m \u001b[0mself\u001b[0m\u001b[0;34m)\u001b[0m\u001b[0;34m.\u001b[0m\u001b[0m__init__\u001b[0m\u001b[0;34m(\u001b[0m\u001b[0;34m)\u001b[0m\u001b[0;34m\u001b[0m\u001b[0m\n\u001b[0m\u001b[1;32m     50\u001b[0m         \u001b[0mself\u001b[0m\u001b[0;34m.\u001b[0m\u001b[0mhidden1\u001b[0m \u001b[0;34m=\u001b[0m \u001b[0mtorch\u001b[0m\u001b[0;34m.\u001b[0m\u001b[0mnn\u001b[0m\u001b[0;34m.\u001b[0m\u001b[0mLinear\u001b[0m\u001b[0;34m(\u001b[0m\u001b[0mn_feature\u001b[0m\u001b[0;34m,\u001b[0m \u001b[0mn_hidden1\u001b[0m\u001b[0;34m)\u001b[0m\u001b[0;34m\u001b[0m\u001b[0m\n\u001b[1;32m     51\u001b[0m         \u001b[0mself\u001b[0m\u001b[0;34m.\u001b[0m\u001b[0mhidden2\u001b[0m \u001b[0;34m=\u001b[0m \u001b[0mtorch\u001b[0m\u001b[0;34m.\u001b[0m\u001b[0mnn\u001b[0m\u001b[0;34m.\u001b[0m\u001b[0mLinear\u001b[0m\u001b[0;34m(\u001b[0m\u001b[0mn_hidden1\u001b[0m\u001b[0;34m,\u001b[0m \u001b[0mn_hidden2\u001b[0m\u001b[0;34m)\u001b[0m\u001b[0;34m\u001b[0m\u001b[0m\n",
      "\u001b[0;31mTypeError\u001b[0m: super(type, obj): obj must be an instance or subtype of type"
     ]
    }
   ],
   "source": [
    "net = Net(n_feature=N_theta*N_azimuth*N_eccentricity*N_phase, n_hidden1=n_hidden1, n_hidden2=n_hidden2, n_output=N_azimuth*N_eccentricity)\n",
    "\n",
    "print('Training model... with contrast=', '%.3f' % std)\n",
    "N_epochs = 3\n",
    "for epoch in range(N_epochs):                       #max number of training epochs\n",
    "    train(net, minibatch_size, optimizer=optimizer) #starting the learning\n"
   ]
  },
  {
   "cell_type": "code",
   "execution_count": null,
   "metadata": {
    "ExecuteTime": {
     "end_time": "2018-06-06T17:07:54.937192Z",
     "start_time": "2018-06-06T14:51:56.027Z"
    }
   },
   "outputs": [],
   "source": [
    "N_test = 10\n",
    "\n",
    "for _ in range(N_test):\n",
    "    eval_sacc()\n",
    "    plt.show()   "
   ]
  }
 ],
 "metadata": {
  "kernelspec": {
   "display_name": "Python 3",
   "language": "python",
   "name": "python3"
  },
  "language_info": {
   "codemirror_mode": {
    "name": "ipython",
    "version": 3
   },
   "file_extension": ".py",
   "mimetype": "text/x-python",
   "name": "python",
   "nbconvert_exporter": "python",
   "pygments_lexer": "ipython3",
   "version": "3.6.5"
  },
  "toc": {
   "base_numbering": 1,
   "nav_menu": {},
   "number_sections": true,
   "sideBar": true,
   "skip_h1_title": false,
   "title_cell": "Table of Contents",
   "title_sidebar": "Contents",
   "toc_cell": false,
   "toc_position": {},
   "toc_section_display": true,
   "toc_window_display": false
  }
 },
 "nbformat": 4,
 "nbformat_minor": 2
}
