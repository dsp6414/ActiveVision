{
 "cells": [
  {
   "cell_type": "code",
   "execution_count": 105,
   "metadata": {},
   "outputs": [],
   "source": [
    "%matplotlib inline"
   ]
  },
  {
   "cell_type": "code",
   "execution_count": 106,
   "metadata": {},
   "outputs": [],
   "source": [
    "import tensorflow as tf\n",
    "import matplotlib.pyplot as plt\n",
    "import numpy as np\n",
    "import os"
   ]
  },
  {
   "cell_type": "code",
   "execution_count": 107,
   "metadata": {},
   "outputs": [
    {
     "name": "stdout",
     "output_type": "stream",
     "text": [
      "Extracting MNIST_data/train-images-idx3-ubyte.gz\n",
      "Extracting MNIST_data/train-labels-idx1-ubyte.gz\n",
      "Extracting MNIST_data/t10k-images-idx3-ubyte.gz\n",
      "Extracting MNIST_data/t10k-labels-idx1-ubyte.gz\n"
     ]
    }
   ],
   "source": [
    "from tensorflow.examples.tutorials.mnist import input_data\n",
    "mnist = input_data.read_data_sets('MNIST_data/', one_hot=True)"
   ]
  },
  {
   "cell_type": "code",
   "execution_count": 108,
   "metadata": {},
   "outputs": [],
   "source": [
    "def mnist_reshape_128(x, i_offset = 0, j_offset = 0):\n",
    "    assert x.shape == (28 * 28,)\n",
    "    image = x.reshape(28, 28)\n",
    "    image = np.append(np.zeros((128 + 2, 28)), image, axis = 0)\n",
    "    image = np.append(image, np.zeros((128 + 2, 28)), axis = 0)\n",
    "    image = np.append(np.zeros((288, 128 + 2)), image, axis = 1)\n",
    "    image = np.append(image, np.zeros((288, 128 + 2)), axis = 1)\n",
    "    return image[128 + 16 - 64 - i_offset : 128 + 16 + 64 - i_offset, 128 + 16 - 64 - j_offset : 128 + 16 + 64 - j_offset]\n",
    "\n",
    "def minmax(value,   #valeur a delimiter\n",
    "           border): #limite min/max a ne pas depasser \n",
    "    value = max(value, -border)\n",
    "    value = min(value, border)\n",
    "    return value\n",
    "\n",
    "def softmax(x):\n",
    "    e_x = np.exp(x - np.max(x))\n",
    "    return e_x / e_x.sum()\n",
    "\n",
    "def softmax_label_to_value(softmax_label):\n",
    "    y_num = 0\n",
    "    for n in softmax_label:\n",
    "        if n == np.max(softmax_label): \n",
    "            value = y_num\n",
    "            break\n",
    "        y_num += 1\n",
    "    return value  \n",
    "\n",
    "def one_hot_label_to_value(one_hot_label):\n",
    "    y_num = 0\n",
    "    for n in one_hot_label:\n",
    "        if n == 1: \n",
    "            value = y_num\n",
    "            break\n",
    "        y_num += 1\n",
    "    return value  "
   ]
  },
  {
   "cell_type": "code",
   "execution_count": 51,
   "metadata": {
    "scrolled": true
   },
   "outputs": [
    {
     "data": {
      "text/plain": [
       "<matplotlib.image.AxesImage at 0x7fbc9a81cbe0>"
      ]
     },
     "execution_count": 51,
     "metadata": {},
     "output_type": "execute_result"
    },
    {
     "data": {
      "image/png": "[encoded data removed]",
      "text/plain": [
       "<matplotlib.figure.Figure at 0x7fbc9a89a898>"
      ]
     },
     "metadata": {},
     "output_type": "display_data"
    }
   ],
   "source": [
    "mnist_image_sample = mnist_reshape_128(mnist.train.images[5], -64, -64)\n",
    "plt.imshow(mnist_image_sample, cmap= 'gray_r')"
   ]
  },
  {
   "cell_type": "markdown",
   "metadata": {},
   "source": [
    "# Learning a classifier"
   ]
  },
  {
   "cell_type": "code",
   "execution_count": 12,
   "metadata": {},
   "outputs": [],
   "source": [
    "batch_size = 4000\n",
    "iterations = 1600\n",
    "alpha = 0.1\n",
    "vector_size = 128*128"
   ]
  },
  {
   "cell_type": "code",
   "execution_count": 13,
   "metadata": {},
   "outputs": [],
   "source": [
    "weights = tf.Variable(tf.random_normal([vector_size,10], stddev=0.1), name='weights')\n",
    "x_train = tf.placeholder(tf.float32, shape=[None,vector_size], name='t_train')\n",
    "labels = tf.placeholder(tf.float32, shape=[None,10], name='labels')"
   ]
  },
  {
   "cell_type": "code",
   "execution_count": 14,
   "metadata": {},
   "outputs": [],
   "source": [
    "sess = tf.Session()"
   ]
  },
  {
   "cell_type": "code",
   "execution_count": 15,
   "metadata": {},
   "outputs": [],
   "source": [
    "hypo = tf.nn.softmax(tf.matmul(x_train, weights))\n",
    "cost = tf.nn.softmax_cross_entropy_with_logits(labels=labels, logits=hypo)\n",
    "optimizer = tf.train.AdamOptimizer(alpha).minimize(cost)\n",
    "saver = tf.train.Saver(var_list={\"weights\": weights})\n",
    "\n",
    "init = tf.global_variables_initializer()\n",
    "sess.run(init)"
   ]
  },
  {
   "cell_type": "code",
   "execution_count": 16,
   "metadata": {},
   "outputs": [
    {
     "name": "stdout",
     "output_type": "stream",
     "text": [
      "0 / 1600\n",
      "100 / 1600\n",
      "200 / 1600\n",
      "300 / 1600\n",
      "400 / 1600\n",
      "500 / 1600\n",
      "600 / 1600\n",
      "700 / 1600\n",
      "800 / 1600\n",
      "900 / 1600\n",
      "1000 / 1600\n",
      "1100 / 1600\n",
      "1200 / 1600\n",
      "1300 / 1600\n",
      "1400 / 1600\n",
      "1500 / 1600\n"
     ]
    }
   ],
   "source": [
    "for it in range(iterations):\n",
    "    batch = mnist.test.next_batch(batch_size)\n",
    "    x_list, label_list = [],[]\n",
    "    count_example = 0\n",
    "    for example in batch[0]:\n",
    "        i_off, j_off = minmax(int(np.random.randn() * 0),0), minmax(int(np.random.randn() * 0),0)\n",
    "        image = mnist_reshape_128(example, i_off, j_off)\n",
    "        x_list += [np.ravel(image)]\n",
    "        label_list += [batch[1][count_example]]\n",
    "        count_example += 1\n",
    "        \n",
    "    sess.run(optimizer, {x_train: x_list, labels: label_list})\n",
    "    saver.save(sess, \"/home/pimt/Documents/Notebooks/classifier_weights.ckpt\")\n",
    "    \n",
    "    if it%100==0: print(it,'/',iterations)"
   ]
  },
  {
   "cell_type": "code",
   "execution_count": 17,
   "metadata": {},
   "outputs": [],
   "source": [
    "sess.close()"
   ]
  },
  {
   "cell_type": "markdown",
   "metadata": {},
   "source": [
    "# Evaluating the classifier"
   ]
  },
  {
   "cell_type": "code",
   "execution_count": 109,
   "metadata": {},
   "outputs": [],
   "source": [
    "eval_batch_size = 1000\n",
    "conf_batch_size = 10\n",
    "iterations = 100\n",
    "N_pic = 128\n",
    "vector_size = N_pic*N_pic"
   ]
  },
  {
   "cell_type": "markdown",
   "metadata": {},
   "source": [
    "### Data restoration"
   ]
  },
  {
   "cell_type": "code",
   "execution_count": 22,
   "metadata": {},
   "outputs": [
    {
     "name": "stdout",
     "output_type": "stream",
     "text": [
      "INFO:tensorflow:Restoring parameters from /home/pimt/Documents/Notebooks/classifier_weights.ckpt\n"
     ]
    },
    {
     "name": "stderr",
     "output_type": "stream",
     "text": [
      "INFO:tensorflow:Restoring parameters from /home/pimt/Documents/Notebooks/classifier_weights.ckpt\n"
     ]
    },
    {
     "name": "stdout",
     "output_type": "stream",
     "text": [
      "[[ 0.12925439  0.20908009  0.09924848 ...,  0.09835599  0.07866054\n",
      "  -0.08189608]\n",
      " [ 0.11676731 -0.13189325 -0.01618153 ...,  0.02987286 -0.06662248\n",
      "  -0.01956053]\n",
      " [-0.04790026  0.01891794  0.12668549 ..., -0.12608975  0.12223919\n",
      "   0.10818677]\n",
      " ..., \n",
      " [-0.0254373   0.03657627 -0.12741911 ...,  0.02566993  0.05265822\n",
      "   0.03628525]\n",
      " [ 0.11103028  0.07526372 -0.02555583 ...,  0.07254429  0.02233324\n",
      "   0.04577034]\n",
      " [ 0.23786429 -0.00047854  0.15811615 ..., -0.0755329   0.07151483\n",
      "   0.09004939]]\n"
     ]
    }
   ],
   "source": [
    "tf.reset_default_graph()\n",
    "sess = tf.Session()\n",
    "weights = tf.Variable(tf.random_normal([vector_size,10], stddev=0.1), name='weights')\n",
    "sess.run(tf.global_variables_initializer())\n",
    "saver = tf.train.Saver()\n",
    "saver.restore(sess, \"/home/pimt/Documents/Notebooks/classifier_weights.ckpt\")\n",
    "\n",
    "weights_values = weights.eval(session=sess)\n",
    "print(weights_values)"
   ]
  },
  {
   "cell_type": "markdown",
   "metadata": {},
   "source": [
    "### Evaluation"
   ]
  },
  {
   "cell_type": "code",
   "execution_count": 23,
   "metadata": {},
   "outputs": [
    {
     "name": "stdout",
     "output_type": "stream",
     "text": [
      "0 / 100\n",
      "25 / 100\n",
      "50 / 100\n",
      "75 / 100\n",
      "97.026 %\n"
     ]
    }
   ],
   "source": [
    "correct_numb = 0\n",
    "for it in range(iterations):\n",
    "    eval_batch = mnist.test.next_batch(eval_batch_size)\n",
    "    example_numb = 0\n",
    "    for example in eval_batch[0]:\n",
    "        i_off, j_off = minmax(int(np.random.randn() * 0),4), minmax(int(np.random.randn() * 0),4)\n",
    "        image = mnist_reshape_128(example, i_off, j_off)\n",
    "        cat_off = eval_batch[1][example_numb]\n",
    "        cat_hat = softmax(np.dot(np.ravel(image), weights_values))\n",
    "        if one_hot_label_to_value(cat_off) == softmax_label_to_value(cat_hat):\n",
    "            correct_numb += 1\n",
    "        example_numb += 1\n",
    "    if it%25 == 0: print(it,'/',iterations)\n",
    "percent_correct = (correct_numb*100)/(iterations*eval_batch_size)\n",
    "print(percent_correct,'%')"
   ]
  },
  {
   "cell_type": "markdown",
   "metadata": {},
   "source": [
    "### Building the confidence graph"
   ]
  },
  {
   "cell_type": "code",
   "execution_count": 93,
   "metadata": {
    "scrolled": true
   },
   "outputs": [
    {
     "name": "stdout",
     "output_type": "stream",
     "text": [
      "(i,j) = 0 0\n",
      "(i,j) = 0 50\n",
      "(i,j) = 0 100\n",
      "(i,j) = 10 0\n",
      "(i,j) = 10 50\n",
      "(i,j) = 10 100\n",
      "(i,j) = 20 0\n",
      "(i,j) = 20 50\n",
      "(i,j) = 20 100\n",
      "(i,j) = 30 0\n",
      "(i,j) = 30 50\n",
      "(i,j) = 30 100\n",
      "(i,j) = 40 0\n",
      "(i,j) = 40 50\n",
      "(i,j) = 40 100\n",
      "(i,j) = 50 0\n",
      "(i,j) = 50 50\n",
      "(i,j) = 50 100\n",
      "(i,j) = 60 0\n",
      "(i,j) = 60 50\n",
      "(i,j) = 60 100\n",
      "(i,j) = 70 0\n",
      "(i,j) = 70 50\n",
      "(i,j) = 70 100\n",
      "(i,j) = 80 0\n",
      "(i,j) = 80 50\n",
      "(i,j) = 80 100\n",
      "(i,j) = 90 0\n",
      "(i,j) = 90 50\n",
      "(i,j) = 90 100\n",
      "(i,j) = 100 0\n",
      "(i,j) = 100 50\n",
      "(i,j) = 100 100\n",
      "(i,j) = 110 0\n",
      "(i,j) = 110 50\n",
      "(i,j) = 110 100\n",
      "(i,j) = 120 0\n",
      "(i,j) = 120 50\n",
      "(i,j) = 120 100\n"
     ]
    }
   ],
   "source": [
    "hit = np.zeros((N_pic,N_pic))\n",
    "num_i = 0\n",
    "for i_off in range(-(N_pic//2),(N_pic//2),1):\n",
    "    num_j = 0\n",
    "    for j_off in range(-(N_pic//2),(N_pic//2),1):\n",
    "        if num_i%10==0 and num_j%50==0: print('(i,j) =',num_i,num_j)\n",
    "        conf_batch = mnist.test.next_batch(conf_batch_size)\n",
    "        example_numb, correct_numb = 0,0\n",
    "        for example in conf_batch[0]:\n",
    "            image = mnist_reshape_128(example, i_off, j_off)\n",
    "            cat_off = conf_batch[1][example_numb]\n",
    "            cat_hat = softmax(np.dot(np.ravel(image), weights_values))\n",
    "            if one_hot_label_to_value(cat_off) == softmax_label_to_value(cat_hat):\n",
    "                correct_numb += 1\n",
    "            example_numb += 1\n",
    "        hit[num_i][num_j] = (correct_numb/conf_batch_size)\n",
    "        num_j += 1\n",
    "    num_i += 1\n",
    "    \n",
    "np.save(\"Classifer_accuracy.npy\", hit)"
   ]
  },
  {
   "cell_type": "code",
   "execution_count": 110,
   "metadata": {},
   "outputs": [
    {
     "name": "stdout",
     "output_type": "stream",
     "text": [
      "[[ 0.1  0.   0.2 ...,  0.1  0.2  0.2]\n",
      " [ 0.1  0.   0.1 ...,  0.1  0.   0.1]\n",
      " [ 0.2  0.2  0.1 ...,  0.   0.   0.3]\n",
      " ..., \n",
      " [ 0.   0.1  0.  ...,  0.   0.2  0.1]\n",
      " [ 0.   0.   0.1 ...,  0.   0.3  0.3]\n",
      " [ 0.   0.1  0.  ...,  0.1  0.   0.1]]\n"
     ]
    }
   ],
   "source": [
    "filepath = \"Classifer_accuracy.npy\"\n",
    "if os.path.isfile(filepath):\n",
    "    hit = np.load(filepath)\n",
    "print(hit)"
   ]
  },
  {
   "cell_type": "code",
   "execution_count": 99,
   "metadata": {},
   "outputs": [
    {
     "data": {
      "text/plain": [
       "<matplotlib.colorbar.Colorbar at 0x7fbc85e34860>"
      ]
     },
     "execution_count": 99,
     "metadata": {},
     "output_type": "execute_result"
    },
    {
     "data": {
      "image/png": "[encoded data removed]",
      "text/plain": [
       "<matplotlib.figure.Figure at 0x7fbc8630d780>"
      ]
     },
     "metadata": {},
     "output_type": "display_data"
    }
   ],
   "source": [
    "fig, ax = plt.subplots(figsize=(13,10.725))\n",
    "#cmap = ax.pcolor(np.arange(-N_pic/2, N_pic/2), np.arange(-N_pic/2, N_pic/2), hit)\n",
    "cmap = ax.pcolor(np.arange(0, N_pic), np.arange(0, N_pic), hit)\n",
    "ax.axis('equal')\n",
    "fig.colorbar(cmap)"
   ]
  }
 ],
 "metadata": {
  "kernelspec": {
   "display_name": "Python 3",
   "language": "python",
   "name": "python3"
  },
  "language_info": {
   "codemirror_mode": {
    "name": "ipython",
    "version": 3
   },
   "file_extension": ".py",
   "mimetype": "text/x-python",
   "name": "python",
   "nbconvert_exporter": "python",
   "pygments_lexer": "ipython3",
   "version": "3.5.2"
  }
 },
 "nbformat": 4,
 "nbformat_minor": 2
}
