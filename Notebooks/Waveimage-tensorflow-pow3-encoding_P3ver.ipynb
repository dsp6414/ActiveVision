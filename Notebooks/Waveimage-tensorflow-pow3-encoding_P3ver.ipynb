{
 "cells": [
  {
   "cell_type": "markdown",
   "metadata": {},
   "source": [
    "### Script permettant d'obtenir un échantillon d'images provenant de MNIST, de modifier la taille et l'emplacement du stimulus dans l'image et de simuler une vue fovéale via une dégradation de la qualité de l'image avec la distance du point central (via l'application de wavelets)."
   ]
  },
  {
   "cell_type": "code",
   "execution_count": 2,
   "metadata": {},
   "outputs": [],
   "source": [
    "%matplotlib inline"
   ]
  },
  {
   "cell_type": "code",
   "execution_count": 3,
   "metadata": {},
   "outputs": [],
   "source": [
    "import tensorflow as tf\n",
    "import matplotlib.pyplot as plt\n",
    "import numpy as np\n",
    "import sys\n",
    "import math"
   ]
  },
  {
   "cell_type": "code",
   "execution_count": 5,
   "metadata": {},
   "outputs": [],
   "source": [
    "import pywt # wavelets transforms library"
   ]
  },
  {
   "cell_type": "code",
   "execution_count": 6,
   "metadata": {},
   "outputs": [
    {
     "name": "stdout",
     "output_type": "stream",
     "text": [
      "Extracting MNIST_data/train-images-idx3-ubyte.gz\n",
      "Extracting MNIST_data/train-labels-idx1-ubyte.gz\n",
      "Extracting MNIST_data/t10k-images-idx3-ubyte.gz\n",
      "Extracting MNIST_data/t10k-labels-idx1-ubyte.gz\n"
     ]
    }
   ],
   "source": [
    "# Telecharger des exemples et leurs labels provenant de la base MNIST\n",
    "from tensorflow.examples.tutorials.mnist import input_data\n",
    "mnist = input_data.read_data_sets(\"MNIST_data/\", one_hot=True)"
   ]
  },
  {
   "cell_type": "code",
   "execution_count": 9,
   "metadata": {},
   "outputs": [],
   "source": [
    "# Fonction permettant de modifier la taille et l'emplacement du stimulus dans l'image\n",
    "def mnist_reshape_128(x, i_offset = 0, j_offset = 0): # i,j : coordonnees du stimulus par rapport au centre de l'image\n",
    "    assert x.shape == (28 * 28,)\n",
    "    image = x.reshape(28, 28)\n",
    "    image = np.append(np.zeros((128 + 2, 28)), image, axis = 0)\n",
    "    image = np.append(image, np.zeros((128 + 2, 28)), axis = 0)\n",
    "    image = np.append(np.zeros((288, 128 + 2)), image, axis = 1)\n",
    "    image = np.append(image, np.zeros((288, 128 + 2)), axis = 1)\n",
    "    return image[128 + 16 - 64 - i_offset : 128 + 16 + 64 - i_offset, 128 + 16 - 64 - j_offset : 128 + 16 + 64 - j_offset]"
   ]
  },
  {
   "cell_type": "code",
   "execution_count": 10,
   "metadata": {
    "scrolled": false
   },
   "outputs": [
    {
     "data": {
      "text/plain": [
       "<matplotlib.image.AxesImage at 0x7fde914c3da0>"
      ]
     },
     "execution_count": 10,
     "metadata": {},
     "output_type": "execute_result"
    },
    {
     "data": {
      "image/png": "[encoded data removed]",
      "text/plain": [
       "<matplotlib.figure.Figure at 0x7fde9153a518>"
      ]
     },
     "metadata": {},
     "output_type": "display_data"
    },
    {
     "data": {
      "image/png": "[encoded data removed]",
      "text/plain": [
       "<matplotlib.figure.Figure at 0x7fde9153a4a8>"
      ]
     },
     "metadata": {},
     "output_type": "display_data"
    }
   ],
   "source": [
    "# Affiche le stimulus numéro i de la base de données, avant et après le reshape\n",
    "i = 2\n",
    "plt.imshow(mnist.train.images[i].reshape((28,28)), interpolation = 'nearest', cmap = 'gray_r')\n",
    "plt.figure()\n",
    "plt.imshow(mnist_reshape_128(mnist.train.images[i], i_offset = -40, j_offset = 40), interpolation = 'nearest', cmap = 'gray_r')"
   ]
  },
  {
   "cell_type": "code",
   "execution_count": 11,
   "metadata": {},
   "outputs": [],
   "source": [
    "def calc_dim(shape, h, h_max): # calcule nombre d'ondelettes en fonction de l'echelle ? ; shape : taille image\n",
    "    assert 0 <= h < h_max # h : echelle de composition d'ondelette\n",
    "    if h == 0:\n",
    "        dim_i = int(math.ceil(shape[0] * 1. // 2**(h_max - 1)))\n",
    "        dim_j = int(math.ceil(shape[1] * 1. // 2**(h_max - 1)))\n",
    "    else :\n",
    "        dim_i = int(math.ceil(shape[0] * 1. // 2**(h_max - h)))\n",
    "        dim_j = int(math.ceil(shape[1] * 1. // 2**(h_max - h)))\n",
    "    return dim_i, dim_j"
   ]
  },
  {
   "cell_type": "code",
   "execution_count": 12,
   "metadata": {},
   "outputs": [],
   "source": [
    "class WaveImage:\n",
    "\t\n",
    "\tdef __init__(self, image = None, shape = (32, 32)):\n",
    "\t\t\n",
    "\t\t# Attribut shape\n",
    "\t\tif image is not None:\n",
    "\t\t\t# Decomposition ondelettes\n",
    "\t\t\tcoeffs = pywt.wavedec2(image, 'haar') # haar correspond à une famille d'ondelettes\n",
    "\t\t\tself.__shape = image.shape\n",
    "\t\telse:\n",
    "\t\t\tself.__shape = shape\n",
    "\t\t\n",
    "\t\t# Attribut h_max : profondeur de l'image\n",
    "\t\tself.__h_max = min(int(math.log(self.__shape[0], 2)) + 1, \tint(math.log(self.__shape[1], 2)) + 1)\n",
    "\t\t\t\n",
    "\t\t# Attribut data : L'attribut data contient les vecteurs en position [h][u] (dictionnaire)\n",
    "\t\tif image is not None:\n",
    "\t\t\tself.__data = {}\n",
    "\t\t\tfor h in range(self.__h_max):\n",
    "\t\t\t\tself.__data[h] = {}\n",
    "\t\t\t\tif h == 0:\n",
    "\t\t\t\t\t(i_max, j_max) = coeffs[h].shape\n",
    "\t\t\t\telse:\n",
    "\t\t\t\t\t(i_max, j_max) = coeffs[h][0].shape\n",
    "\t\t\t\tfor i in range(i_max):\n",
    "\t\t\t\t\tfor j in range(j_max):\n",
    "\t\t\t\t\t\tif h == 0:\n",
    "\t\t\t\t\t\t\tdata = coeffs[h][i][j]\n",
    "\t\t\t\t\t\telse:\n",
    "\t\t\t\t\t\t\tdata = coeffs[h][0][i][j] # k : num ondelette ?\n",
    "\t\t\t\t\t\t\tfor k in range(1,len(coeffs[h])):\n",
    "\t\t\t\t\t\t\t\tdata = np.append(data, coeffs[h][k][i][j])\t\n",
    "\t\t\t\t\t\tself.__data[h][(i, j)] = data\t\t\t\t\n",
    "\t\telse: # image is None\n",
    "\t\t\tself.__data = {}\n",
    "\t\t\tfor h in range(self.__h_max):\n",
    "\t\t\t\tself.__data[h] = {}\n",
    "\t\t\t\t\t\n",
    "\t\t\n",
    "\tdef get_data(self):\n",
    "\t\treturn self.__data\n",
    "\t\n",
    "\tdef get_shape(self):\n",
    "\t\treturn self.__data\n",
    "\t\t\t\t\n",
    "\tdef set_data(self, h, u, v):\n",
    "\t\tassert 0 <= h < self.__h_max\n",
    "\t\tdim_i, dim_j = calc_dim(self.__shape, h, self.__h_max)\n",
    "\t\tassert 0 <= u[0] < dim_i\n",
    "\t\tassert 0 <= u[1] < dim_j\n",
    "\t\tif h == 0 :\n",
    "\t\t\tself.__data[h][u] = v\n",
    "\t\telse:\n",
    "\t\t\tself.__data[h][u] = np.copy(v)\n",
    "\t\t\n",
    "\tdef get_h_max(self):\n",
    "\t\treturn self.__h_max\n",
    "\t\t\n",
    "\tdef get_image(self): # etape decodage pour retrouver image\n",
    "\t\tcoeffs = []\n",
    "\t\tfor h in range(self.__h_max):\n",
    "\t\t\tdim_i, dim_j = calc_dim(self.__shape, h, self.__h_max)\n",
    "\t\t\tif h == 0:\n",
    "\t\t\t\tcoeffs_h = np.zeros((dim_i, dim_j))\n",
    "\t\t\t\tfor u in self.__data[h]:\n",
    "\t\t\t\t\tcoeffs_h[u[0],u[1]] = self.__data[h][u]\n",
    "\t\t\telse:\n",
    "\t\t\t\tcoeffs_h = [np.zeros((dim_i, dim_j)), np.zeros((dim_i, dim_j)), np.zeros((dim_i, dim_j))]\n",
    "\t\t\t\tfor u in self.__data[h]:\n",
    "\t\t\t\t\tfor k in range(3):\n",
    "\t\t\t\t\t\tcoeffs_h[k][u[0],u[1]] = self.__data[h][u][k]\n",
    "\t\t\tcoeffs += [coeffs_h]\n",
    "\t\treturn pywt.waverec2(coeffs, 'haar')\n",
    "\t\t\n",
    "\tdef add_coeffs(self, waveImage, u, h_ref = 0): # copie certains niveaux de l'arbre d'ondelettes\n",
    "\t\t# Niveau 0\n",
    "\t\th_opp = self.__h_max - 1\n",
    "\t\ti = int(u[0] // 2**h_opp) \n",
    "\t\tj = int(u[1] // 2**h_opp)\n",
    "\t\tu_0 = (i,j)\n",
    "\t\tif self.__data[0] == {}:\n",
    "\t\t\tself.__data[0][u_0] = waveImage.get_data()[0][u_0]\n",
    "\t\telse:\n",
    "\t\t\tv_test = self.__data[0][u_0]\n",
    "\t\t\tif np.linalg.norm(v_test) < 1e-16:\n",
    "\t\t\t\tself.__data[0][u_0] = waveImage.getData()[0][u_0]\n",
    "\t\t# Niveaux 1 et +\n",
    "\t\tfor h in range(1, h_ref) :\n",
    "\t\t\th_opp = self.__h_max - h\n",
    "\t\t\ti = int(u[0] // 2**h_opp) \n",
    "\t\t\tj = int(u[1] // 2**h_opp)\n",
    "\t\t\tif (i,j) in self.__data[h]:\n",
    "\t\t\t\tv_test = self.__data[h][(i,j)]\n",
    "\t\t\t\tif np.linalg.norm(v_test) < 1e-16:\n",
    "\t\t\t\t\tself.__data[h][(i,j)] = np.copy(waveImage.get_data()[h][(i,j)])\n",
    "\t\t\telse: \n",
    "\t\t\t\tself.__data[h][(i,j)] = np.copy(waveImage.get_data()[h][(i,j)])\n",
    "\t\n",
    "\tdef copy(self): # copie complete\n",
    "\t\tself_shape = self.__shape \n",
    "\t\tself_copy = WaveImage(shape = self_shape)\n",
    "\t\tfor h in range(self.__h_max) :\n",
    "\t\t\tfor u in self.__data[h]:\n",
    "\t\t\t\tself_copy.set_data(h, u, self.__data[h][u])\n",
    "\t\treturn self_copy\t\n",
    "\t\t\n",
    "\tdef __str__(self): # affiche contenu objet\n",
    "\t\th_max = len(self.__data)\n",
    "\t\ts = 'h_max :' + str(self.__h_max) + '\\n'\n",
    "\t\tfor h in range(self.__h_max):\n",
    "\t\t\ts += '***' + str(h) + '***\\n'\n",
    "\t\t\ts += str(self.__data[h]) + '\\n'\n",
    "\t\treturn s"
   ]
  },
  {
   "cell_type": "code",
   "execution_count": 13,
   "metadata": {},
   "outputs": [],
   "source": [
    "w1 = WaveImage(shape = (128, 128))\n",
    "w2 = WaveImage(image = mnist_reshape_128(mnist.train.images[1], i_offset = 5, j_offset = 5))\n",
    "w1.add_coeffs(w2, u = (63, 63), h_ref = w2.get_h_max())\n",
    "w1.add_coeffs(w2, u = (63, 65), h_ref = w2.get_h_max())\n",
    "w1.add_coeffs(w2, u = (65, 63), h_ref = w2.get_h_max())\n",
    "w1.add_coeffs(w2, u = (65, 65), h_ref = w2.get_h_max())"
   ]
  },
  {
   "cell_type": "code",
   "execution_count": 14,
   "metadata": {
    "scrolled": false
   },
   "outputs": [
    {
     "data": {
      "image/png": "[encoded data removed]",
      "text/plain": [
       "<matplotlib.figure.Figure at 0x7fde915604a8>"
      ]
     },
     "metadata": {},
     "output_type": "display_data"
    }
   ],
   "source": [
    "plt.figure(figsize = (20,20))\n",
    "plt.subplot(1,2,1)\n",
    "plt.imshow(w2.get_image(), cmap = 'gray_r', interpolation = 'nearest')\n",
    "plt.plot([-0.5, 127.5],[63.5, 63.5],'r--')\n",
    "plt.plot([63.5, 63.5],[-0.5, 127.5],'r--')\n",
    "plt.xlim([-0.5, 127.5])\n",
    "plt.ylim([-0.5, 127.5])\n",
    "plt.gca().invert_yaxis()\n",
    "plt.subplot(1,2,2)\n",
    "plt.imshow(w1.get_image(), cmap = 'gray_r', interpolation = 'nearest')\n",
    "plt.plot([-0.5, 127.5],[63.5, 63.5],'r--')\n",
    "plt.plot([63.5, 63.5],[-0.5, 127.5],'r--')\n",
    "plt.plot(63 - .5, 63 - .5, 'r+', markersize = 12)\n",
    "plt.plot(63 - .5, 65 - .5, 'r+', markersize = 12)\n",
    "plt.plot(65 - .5, 63 - .5, 'r+', markersize = 12)\n",
    "plt.plot(65 - .5, 65 - .5, 'r+', markersize = 12)\n",
    "plt.xlim([-0.5, 127.5])\n",
    "plt.ylim([-0.5, 127.5])\n",
    "plt.gca().invert_yaxis()"
   ]
  },
  {
   "cell_type": "code",
   "execution_count": 15,
   "metadata": {},
   "outputs": [],
   "source": [
    "# Genere un dictionnaire de tenseurs indexes par la profondeur dans l'arbre des coefficients d'ondelettes \n",
    "def generate_tensor_data_with_offset_from_x(x, i_offset, j_offset):\n",
    "    w1 = WaveImage(shape = (128, 128))\n",
    "    w2 = WaveImage(image = mnist_reshape_128(x, i_offset = i_offset, j_offset = j_offset))\n",
    "    w1.add_coeffs(w2, u = (63, 63), h_ref = w2.get_h_max())\n",
    "    w1.add_coeffs(w2, u = (63, 65), h_ref = w2.get_h_max())\n",
    "    w1.add_coeffs(w2, u = (65, 63), h_ref = w2.get_h_max())\n",
    "    w1.add_coeffs(w2, u = (65, 65), h_ref = w2.get_h_max())\n",
    "    h_max = w1.get_h_max()\n",
    "    data = w1.get_data()\n",
    "    tensor_data = {}\n",
    "    for k in data :\n",
    "        if k == 0:\n",
    "            tensor_data[0] = data[k][(0, 0)]\n",
    "        elif k == 1:\n",
    "            tensor_data[1] = np.array(data[k][(0, 0)])    \n",
    "        else:\n",
    "            tensor_data[k] = np.zeros((2, 2, 3))\n",
    "            for u in data[k]:           \n",
    "                u_offset = 64 // (2**(h_max - k)) - 1\n",
    "                tensor_data[k][u[0] - u_offset, u[1] - u_offset, :] = np.array(data[k][u])\n",
    "    return tensor_data, w1"
   ]
  },
  {
   "cell_type": "code",
   "execution_count": 16,
   "metadata": {},
   "outputs": [],
   "source": [
    "def generate_vector_data_with_offset_from_x(x, i_offset, j_offset):\n",
    "    # retourne un vecteur contenant les coefficients utilisés de l'image w1 générée à partir d'un point de fixation\n",
    "    # central avec la cible en position i_offset, j_offset\n",
    "    w1 = WaveImage(shape = (128, 128))\n",
    "    w2 = WaveImage(image = mnist_reshape_128(x, i_offset = i_offset, j_offset = j_offset))\n",
    "    w1.add_coeffs(w2, u = (63, 63), h_ref = w2.get_h_max())\n",
    "    w1.add_coeffs(w2, u = (63, 65), h_ref = w2.get_h_max())\n",
    "    w1.add_coeffs(w2, u = (65, 63), h_ref = w2.get_h_max())\n",
    "    w1.add_coeffs(w2, u = (65, 65), h_ref = w2.get_h_max())\n",
    "    h_max = w1.get_h_max() # h = 7\n",
    "    data = w1.get_data()\n",
    "    vector_data = np.array([])\n",
    "    for k in data :\n",
    "        if k == 0:\n",
    "            vector_data = np.append(vector_data, [data[k][(0, 0)]])\n",
    "        elif k == 1:\n",
    "            vector_data = np.append(vector_data, data[k][(0, 0)])  \n",
    "        else:\n",
    "            for u in data[k]:           \n",
    "                 vector_data = np.append(vector_data, data[k][u])\n",
    "    return vector_data, w1"
   ]
  },
  {
   "cell_type": "code",
   "execution_count": 17,
   "metadata": {
    "scrolled": false
   },
   "outputs": [
    {
     "name": "stdout",
     "output_type": "stream",
     "text": [
      "v = \n",
      " [ 0.92579662 -0.74497553 -0.50024513  0.31942404 -0.18082109  0.18082109\n",
      " -0.18082109  0.4255515  -0.4255515  -0.4255515   0.          0.          0.\n",
      "  1.24522066  1.24522066  1.24522066 -0.36164218  0.36164218 -0.36164218\n",
      "  0.          0.          0.          0.85110299 -0.85110299 -0.85110299\n",
      "  2.49044133  2.49044133  2.49044133  2.63970605 -0.78333337  1.53333343\n",
      " -0.72328436 -0.10857844  0.10857844  0.          0.          0.\n",
      " -0.24436275 -1.70220598  0.24436275 -0.90196085  1.41666674  0.68627455\n",
      " -0.61470592  0.61470592 -0.61470592  0.          0.          0.\n",
      " -1.01568634 -1.45784323  1.01568634  0.07549021  1.0205883  -0.31470592\n",
      " -1.12745105 -0.04901961  0.04901961  0.          0.          0.\n",
      " -0.31862747 -0.44215689  0.31862747 -0.16862747 -0.24313727 -0.17254904\n",
      " -0.19215686 -0.682353   -0.02745099  0.          0.          0.\n",
      " -0.12352942 -0.12352942  0.12352942]\n",
      "w = \n",
      " h_max :8\n",
      "***0***\n",
      "{(0, 0): 0.92579662447678956}\n",
      "***1***\n",
      "{(0, 0): array([-0.74497553, -0.50024513,  0.31942404])}\n",
      "***2***\n",
      "{(0, 1): array([-0.18082109,  0.18082109, -0.18082109]), (1, 0): array([ 0.4255515, -0.4255515, -0.4255515]), (0, 0): array([ 0.,  0.,  0.]), (1, 1): array([ 1.24522066,  1.24522066,  1.24522066])}\n",
      "***3***\n",
      "{(1, 2): array([-0.36164218,  0.36164218, -0.36164218]), (1, 1): array([ 0.,  0.,  0.]), (2, 1): array([ 0.85110299, -0.85110299, -0.85110299]), (2, 2): array([ 2.49044133,  2.49044133,  2.49044133])}\n",
      "***4***\n",
      "{(4, 4): array([ 2.63970605, -0.78333337,  1.53333343]), (3, 4): array([-0.72328436, -0.10857844,  0.10857844]), (3, 3): array([ 0.,  0.,  0.]), (4, 3): array([-0.24436275, -1.70220598,  0.24436275])}\n",
      "***5***\n",
      "{(8, 8): array([-0.90196085,  1.41666674,  0.68627455]), (7, 8): array([-0.61470592,  0.61470592, -0.61470592]), (7, 7): array([ 0.,  0.,  0.]), (8, 7): array([-1.01568634, -1.45784323,  1.01568634])}\n",
      "***6***\n",
      "{(16, 16): array([ 0.07549021,  1.0205883 , -0.31470592]), (15, 16): array([-1.12745105, -0.04901961,  0.04901961]), (15, 15): array([ 0.,  0.,  0.]), (16, 15): array([-0.31862747, -0.44215689,  0.31862747])}\n",
      "***7***\n",
      "{(32, 32): array([-0.16862747, -0.24313727, -0.17254904]), (31, 32): array([-0.19215686, -0.682353  , -0.02745099]), (31, 31): array([ 0.,  0.,  0.]), (32, 31): array([-0.12352942, -0.12352942,  0.12352942])}\n",
      "\n"
     ]
    },
    {
     "data": {
      "image/png": "[encoded data removed]",
      "text/plain": [
       "<matplotlib.figure.Figure at 0x7fde9136e518>"
      ]
     },
     "metadata": {},
     "output_type": "display_data"
    },
    {
     "data": {
      "image/png": "[encoded data removed]",
      "text/plain": [
       "<matplotlib.figure.Figure at 0x7fde914b4940>"
      ]
     },
     "metadata": {},
     "output_type": "display_data"
    }
   ],
   "source": [
    "x = mnist.train.images[2] \n",
    "i_offset = 5\n",
    "j_offset = 5\n",
    "v, w = generate_vector_data_with_offset_from_x(x, i_offset, j_offset) ; print('v = \\n', v)\n",
    "plt.figure()\n",
    "plt.plot(v)\n",
    "plt.figure()\n",
    "plt.imshow(w.get_image(), cmap = 'gray_r', interpolation = 'nearest') ; print('w = \\n', w)"
   ]
  },
  {
   "cell_type": "code",
   "execution_count": 18,
   "metadata": {},
   "outputs": [],
   "source": [
    "def generate_pow3_one_hot_coordinates_from_offset(i_offset, j_offset):\n",
    "    # i_offset, j_offset in -40,..,40\n",
    "    \n",
    "    assert -40 <= i_offset <= 40\n",
    "    assert -40 <= j_offset <= 40\n",
    "\n",
    "    pow3_i = np.zeros(4)\n",
    "    reste = 40 + i_offset\n",
    "    for pow in range(3,-1,-1):\n",
    "        pow3_i[pow] = reste // 3**pow - 1\n",
    "        reste = reste % 3**pow\n",
    "        \n",
    "    pow3_j = np.zeros(4)\n",
    "    reste = 40 + j_offset\n",
    "    for pow in range(3,-1,-1):\n",
    "        pow3_j[pow] = reste // 3**pow - 1\n",
    "        reste = reste % 3**pow\n",
    "    \n",
    "    pow3_one_hot = []\n",
    "    for pow in range(4):\n",
    "        tmp = np.zeros((3,3))\n",
    "        tmp[int(pow3_i[pow]) + 1, int(pow3_j[pow]) + 1] = 1\n",
    "        pow3_one_hot += [tmp.reshape(9,)]\n",
    "    return pow3_one_hot"
   ]
  },
  {
   "cell_type": "code",
   "execution_count": 19,
   "metadata": {
    "scrolled": true
   },
   "outputs": [
    {
     "name": "stdout",
     "output_type": "stream",
     "text": [
      "[array([ 1.,  0.,  0.,  0.,  0.,  0.,  0.,  0.,  0.]), array([ 1.,  0.,  0.,  0.,  0.,  0.,  0.,  0.,  0.]), array([ 0.,  0.,  0.,  0.,  0.,  0.,  0.,  0.,  1.]), array([ 0.,  0.,  0.,  0.,  1.,  0.,  0.,  0.,  0.])]\n"
     ]
    }
   ],
   "source": [
    "# encode coordonnees sous forme de vecteurs representant codage en puissance de trois des coordonnees \n",
    "y = generate_pow3_one_hot_coordinates_from_offset(i_offset, j_offset)\n",
    "print(y)"
   ]
  },
  {
   "cell_type": "code",
   "execution_count": 20,
   "metadata": {},
   "outputs": [],
   "source": [
    "def decode_from_pow3_one_hot(pow3_one_hot):\n",
    "    i_offset = 0\n",
    "    j_offset = 0\n",
    "    for pow in range(len(pow3_one_hot)):\n",
    "        tmp = pow3_one_hot[pow].reshape(3,3)\n",
    "        i_tmp, j_tmp = np.where(tmp == 1)\n",
    "        i_offset += (i_tmp[0] - 1) * 3**pow \n",
    "        j_offset += (j_tmp[0] - 1) * 3**pow\n",
    "    return i_offset, j_offset"
   ]
  },
  {
   "cell_type": "markdown",
   "metadata": {},
   "source": [
    "## Tests"
   ]
  },
  {
   "cell_type": "code",
   "execution_count": 21,
   "metadata": {
    "scrolled": true
   },
   "outputs": [
    {
     "name": "stdout",
     "output_type": "stream",
     "text": [
      "(i,j) = (5, 5)\n"
     ]
    }
   ],
   "source": [
    "print(\"(i,j) =\",decode_from_pow3_one_hot(y))"
   ]
  },
  {
   "cell_type": "code",
   "execution_count": 22,
   "metadata": {
    "scrolled": true
   },
   "outputs": [
    {
     "data": {
      "image/png": "[encoded data removed]",
      "text/plain": [
       "<matplotlib.figure.Figure at 0x7fde915212e8>"
      ]
     },
     "metadata": {},
     "output_type": "display_data"
    },
    {
     "data": {
      "image/png": "[encoded data removed]",
      "text/plain": [
       "<matplotlib.figure.Figure at 0x7fde9138ff60>"
      ]
     },
     "metadata": {},
     "output_type": "display_data"
    },
    {
     "data": {
      "image/png": "[encoded data removed]",
      "text/plain": [
       "<matplotlib.figure.Figure at 0x7fde911f2fd0>"
      ]
     },
     "metadata": {},
     "output_type": "display_data"
    },
    {
     "data": {
      "image/png": "[encoded data removed]",
      "text/plain": [
       "<matplotlib.figure.Figure at 0x7fde912f77b8>"
      ]
     },
     "metadata": {},
     "output_type": "display_data"
    },
    {
     "data": {
      "image/png": "[encoded data removed]",
      "text/plain": [
       "<matplotlib.figure.Figure at 0x7fde911589e8>"
      ]
     },
     "metadata": {},
     "output_type": "display_data"
    },
    {
     "data": {
      "image/png": "[encoded data removed]",
      "text/plain": [
       "<matplotlib.figure.Figure at 0x7fde912887b8>"
      ]
     },
     "metadata": {},
     "output_type": "display_data"
    },
    {
     "data": {
      "image/png": "[encoded data removed]",
      "text/plain": [
       "<matplotlib.figure.Figure at 0x7fde9117af98>"
      ]
     },
     "metadata": {},
     "output_type": "display_data"
    },
    {
     "data": {
      "image/png": "[encoded data removed]",
      "text/plain": [
       "<matplotlib.figure.Figure at 0x7fde91015278>"
      ]
     },
     "metadata": {},
     "output_type": "display_data"
    },
    {
     "data": {
      "image/png": "[encoded data removed]",
      "text/plain": [
       "<matplotlib.figure.Figure at 0x7fde90fda518>"
      ]
     },
     "metadata": {},
     "output_type": "display_data"
    },
    {
     "data": {
      "image/png": "[encoded data removed]",
      "text/plain": [
       "<matplotlib.figure.Figure at 0x7fde90fc9cc0>"
      ]
     },
     "metadata": {},
     "output_type": "display_data"
    }
   ],
   "source": [
    "# Main program\n",
    "BATCH_SIZE = 10\n",
    "batch = mnist.train.next_batch(BATCH_SIZE)\n",
    "data = []\n",
    "for x in batch[0]:\n",
    "    #i_offset = np.random.randint(0,81) - 40\n",
    "    #j_offset = np.random.randint(0,81) - 40\n",
    "    i_offset = int(np.random.randn() * 15)\n",
    "    i_offset = max(i_offset, -40)\n",
    "    i_offset = min(i_offset, 40)\n",
    "    j_offset = int(np.random.randn() * 15)  \n",
    "    j_offset = max(j_offset, -40)\n",
    "    j_offset = min(j_offset, 40)\n",
    "    v, w = generate_vector_data_with_offset_from_x(x, i_offset, j_offset)\n",
    "    y = generate_pow3_one_hot_coordinates_from_offset(i_offset, j_offset)\n",
    "    data += [(v,y)]\n",
    "    \n",
    "    # Visualisation\n",
    "    plt.figure()\n",
    "    plt.subplot(1,2,1)\n",
    "    w_ref = WaveImage(image = mnist_reshape_128(x, i_offset = i_offset, j_offset = j_offset))\n",
    "    plt.imshow(w_ref.get_image(), cmap = 'gray_r', interpolation = 'nearest')\n",
    "    plt.title((i_offset, j_offset))\n",
    "    plt.subplot(1,2,2)\n",
    "    plt.imshow(w.get_image(), cmap = 'gray_r', interpolation = 'nearest')"
   ]
  },
  {
   "cell_type": "code",
   "execution_count": 23,
   "metadata": {
    "scrolled": true
   },
   "outputs": [
    {
     "name": "stdout",
     "output_type": "stream",
     "text": [
      "i = 0\n",
      "d[0] =  [ 0.61397063 -0.61397063  0.61397063 -0.61397063  0.          0.          0.\n",
      "  1.22794125 -1.22794125 -1.22794125  0.          0.          0.          0.\n",
      "  0.          0.          0.          0.          0.          0.          0.\n",
      "  0.         -0.42401964 -2.45588251  0.42401964  0.          0.          0.\n",
      "  0.          0.          0.          0.          0.          0.          0.\n",
      "  0.          0.         -0.99950986  0.58774514 -0.43480395  0.          0.\n",
      "  0.          0.          0.          0.          0.          0.          0.\n",
      " -0.43970591  0.43970591 -0.43970591  0.          0.          0.          0.\n",
      "  0.          0.          0.          0.          0.          0.          0.\n",
      "  0.          0.          0.          0.          0.          0.          0.\n",
      "  0.          0.          0.          0.          0.          0.        ]\n",
      "d[1] =  [array([ 0.,  0.,  0.,  0.,  0.,  0.,  1.,  0.,  0.]), array([ 0.,  1.,  0.,  0.,  0.,  0.,  0.,  0.,  0.]), array([ 1.,  0.,  0.,  0.,  0.,  0.,  0.,  0.,  0.]), array([ 0.,  0.,  0.,  0.,  0.,  0.,  0.,  1.,  0.])]\n",
      "****************************************************************************************************\n",
      "i = 1\n",
      "d[0] =  [ 0.89096206  0.89096206 -0.89096206 -0.89096206 -1.78192413  0.70287995\n",
      " -0.70287995  0.          0.          0.          0.          0.          0.\n",
      "  0.          0.          0.         -0.7553922  -2.48480407  0.7553922   0.\n",
      "  0.          0.          0.          0.          0.          0.          0.\n",
      "  0.          0.          0.          0.          0.          0.          0.\n",
      "  0.          0.          0.          0.          0.          0.          0.\n",
      "  0.          0.          0.          0.          0.          0.          0.\n",
      "  0.          0.          0.          0.          0.          0.          0.\n",
      "  0.          0.          0.          0.          0.          0.          0.\n",
      "  0.          0.          0.          0.          0.          0.          0.\n",
      "  0.          0.          0.          0.          0.          0.          0.        ]\n",
      "d[1] =  [array([ 0.,  0.,  0.,  0.,  0.,  0.,  1.,  0.,  0.]), array([ 0.,  0.,  1.,  0.,  0.,  0.,  0.,  0.,  0.]), array([ 0.,  1.,  0.,  0.,  0.,  0.,  0.,  0.,  0.]), array([ 0.,  0.,  0.,  0.,  0.,  1.,  0.,  0.,  0.])]\n",
      "****************************************************************************************************\n",
      "i = 2\n",
      "d[0] =  [ 0.77987135  0.65652576 -0.14941789 -0.10597427 -0.84589463  0.84589463\n",
      " -0.84589463  0.03995098 -0.03995098 -0.03995098 -0.59050247 -0.59050247\n",
      "  0.59050247  0.08339461  0.08339461  0.08339461 -1.08075983  1.69178926\n",
      " -1.08075983 -1.16703435 -1.18100494  1.16703435  0.07990196 -0.07990196\n",
      " -0.07990196  0.16678922  0.16678922  0.16678922  0.33357844  0.33357844\n",
      "  0.33357844  0.82794119  2.5220589   0.57745099  0.37450982 -2.3480393\n",
      " -0.37450982  0.15980393 -0.15980393 -0.15980393  0.66715688  0.66715688\n",
      "  0.66715688  0.16715685  1.94460791  0.16715685 -0.08529412 -1.97352947\n",
      "  0.08529412  0.31960786 -0.31960786 -0.31960786  1.33431375  0.55392158\n",
      "  0.55392158 -0.38921566 -1.27745102 -0.11078437 -0.27450983  0.33333332\n",
      "  0.77647063  0.63921571 -0.63921571 -0.63921571  0.11176467  0.11176467\n",
      " -0.11176467 -0.50000003 -0.05294117  0.05294117 -0.38823529  0.49803921\n",
      "  0.27450987  0.49803924 -0.38823526  0.16470592]\n",
      "d[1] =  [array([ 0.,  0.,  0.,  0.,  0.,  1.,  0.,  0.,  0.]), array([ 0.,  0.,  0.,  0.,  1.,  0.,  0.,  0.,  0.]), array([ 0.,  1.,  0.,  0.,  0.,  0.,  0.,  0.,  0.]), array([ 0.,  0.,  0.,  0.,  1.,  0.,  0.,  0.,  0.])]\n",
      "****************************************************************************************************\n",
      "i = 3\n",
      "d[0] =  [  8.47457122e-01  -3.90716916e-01  -5.24479175e-01   9.89889714e-02\n",
      "  -4.41115205e-01   4.41115205e-01  -4.41115205e-01   3.07352945e-01\n",
      "  -3.07352945e-01  -3.07352945e-01  -1.56250012e-02  -1.56250012e-02\n",
      "   1.56250012e-02   9.30821092e-01   9.30821092e-01   9.30821092e-01\n",
      "  -8.82230410e-01   8.82230410e-01  -8.82230410e-01  -3.12500023e-02\n",
      "  -3.12500023e-02   3.12500023e-02   6.14705891e-01  -6.14705891e-01\n",
      "  -6.14705891e-01   1.86164218e+00   1.86164218e+00   1.86164218e+00\n",
      "   7.08578434e-01   2.41789220e+00  -5.96813740e-01  -1.76446082e+00\n",
      "   6.66421592e-01  -6.66421592e-01  -6.25000047e-02  -6.25000047e-02\n",
      "   6.25000047e-02   1.06274510e+00  -1.22941178e+00  -1.06274510e+00\n",
      "  -1.98725491e+00  -9.28431384e-01   6.79411758e-01  -1.62500001e+00\n",
      "   4.16666567e-02  -7.90686306e-01  -1.25000009e-01  -1.25000009e-01\n",
      "   1.25000009e-01  -7.05882367e-02  -2.29215688e+00   7.05882367e-02\n",
      "   4.45098046e-01   4.45098046e-01   4.45098046e-01  -1.67647056e-01\n",
      "  -9.80369747e-04  -1.27549019e+00  -2.50000019e-01  -2.50000019e-01\n",
      "   2.50000019e-01  -3.88235297e-01  -1.33137256e+00  -3.88235297e-01\n",
      "   2.23529406e-01   7.76470594e-01   1.09803908e-01   5.68627119e-02\n",
      "   5.68627119e-02  -5.68627119e-02  -3.86274539e-01  -5.00000037e-01\n",
      "   3.86274539e-01  -2.23529398e-01  -2.23529398e-01  -2.23529398e-01]\n",
      "d[1] =  [array([ 0.,  0.,  0.,  0.,  0.,  0.,  0.,  1.,  0.]), array([ 0.,  0.,  0.,  0.,  0.,  0.,  0.,  0.,  1.]), array([ 0.,  0.,  0.,  0.,  1.,  0.,  0.,  0.,  0.]), array([ 0.,  0.,  0.,  0.,  1.,  0.,  0.,  0.,  0.])]\n",
      "****************************************************************************************************\n",
      "i = 4\n",
      "d[0] =  [ 0.71979171 -0.33523286 -0.71979171  0.33523286 -0.38455885  0.38455885\n",
      " -0.38455885  0.          0.          0.          0.          0.          0.\n",
      "  1.05502457  1.05502457  1.05502457 -0.76911769  0.76911769 -0.76911769\n",
      "  0.          0.          0.          0.          0.          0.          1.9642158\n",
      "  2.11004914  1.9642158   1.37524517 -1.48308833  0.82279416 -1.53823539\n",
      " -0.79313731  0.79313731  0.          0.          0.          0.          0.\n",
      "  0.          1.02205888 -1.36715693 -1.20441183 -0.74509808 -0.74509808\n",
      "  0.74509808  0.          0.          0.          0.          0.          0.\n",
      " -0.31862747 -0.42254905  0.31862747  0.          0.          0.          0.\n",
      "  0.          0.          0.          0.          0.          0.          0.\n",
      "  0.          0.          0.          0.          0.          0.          0.\n",
      "  0.          0.          0.        ]\n",
      "d[1] =  [array([ 0.,  0.,  0.,  0.,  0.,  0.,  0.,  1.,  0.]), array([ 0.,  0.,  0.,  0.,  0.,  0.,  0.,  1.,  0.]), array([ 0.,  0.,  0.,  0.,  0.,  1.,  0.,  0.,  0.]), array([ 0.,  0.,  0.,  0.,  1.,  0.,  0.,  0.,  0.])]\n",
      "****************************************************************************************************\n",
      "i = 5\n",
      "d[0] =  [ 0.97576599  0.82962628 -0.08544731 -0.07227329 -0.98155643  0.98155643\n",
      " -0.98155643  0.06648285 -0.06648285 -0.06648285 -0.82383583 -0.82383583\n",
      "  0.82383583  0.07965687  0.07965687  0.07965687 -1.51973049  1.96311286\n",
      " -1.51973049 -1.60281872 -1.64767167  1.60281872  0.13296569 -0.13296569\n",
      " -0.13296569  0.15931373  0.15931373  0.15931373  0.31862747  0.31862747\n",
      "  0.31862747 -2.44950995  3.18872568 -2.15539229  0.91617653 -3.10147077\n",
      " -0.76715691  0.26593139 -0.26593139 -0.26593139  0.63725494  0.53725493\n",
      "  0.53725493  0.14313726 -1.63921578  0.30686277  2.3166668  -0.24509805\n",
      " -0.22745099  0.53186277 -0.53186277 -0.53186277  1.17450987  0.56078435\n",
      "  0.56078435 -0.88627457 -1.03725496  0.14901962 -0.01764706 -0.01764706\n",
      "  0.01764706  1.06372555 -0.24803922 -0.24803922  0.24901962  0.11960787\n",
      " -0.11960787 -0.30980394 -0.56470593  0.13725492 -0.03529412 -0.01960784\n",
      "  0.01960784  0.33137257 -0.42549022  0.08431371]\n",
      "d[1] =  [array([ 0.,  0.,  0.,  0.,  0.,  0.,  0.,  1.,  0.]), array([ 0.,  0.,  0.,  0.,  1.,  0.,  0.,  0.,  0.]), array([ 0.,  1.,  0.,  0.,  0.,  0.,  0.,  0.,  0.]), array([ 0.,  0.,  0.,  0.,  1.,  0.,  0.,  0.,  0.])]\n",
      "****************************************************************************************************\n",
      "i = 6\n",
      "d[0] =  [  5.36519641e-01  -5.36519641e-01  -3.36397070e-02   3.36397070e-02\n",
      "   0.00000000e+00   0.00000000e+00   0.00000000e+00   5.02879934e-01\n",
      "  -5.02879934e-01  -5.02879934e-01   0.00000000e+00   0.00000000e+00\n",
      "   0.00000000e+00   5.70159348e-01   5.70159348e-01   5.70159348e-01\n",
      "   0.00000000e+00   0.00000000e+00   0.00000000e+00   0.00000000e+00\n",
      "   0.00000000e+00   0.00000000e+00   9.90563789e-01  -1.00575987e+00\n",
      "  -9.90563789e-01   5.23897090e-01   1.14031870e+00   5.23897090e-01\n",
      "   6.07843091e-02   1.66421579e+00   6.07843091e-02   0.00000000e+00\n",
      "   0.00000000e+00   0.00000000e+00   0.00000000e+00   0.00000000e+00\n",
      "   0.00000000e+00   9.05147108e-01  -1.77916678e+00  -1.04583339e+00\n",
      "  -1.19362751e+00   1.32794125e+00  -1.15343143e+00   0.00000000e+00\n",
      "   0.00000000e+00   0.00000000e+00   0.00000000e+00   0.00000000e+00\n",
      "   0.00000000e+00  -2.06813738e+00   7.08333386e-01   8.28431341e-02\n",
      "  -3.52941201e-01  -3.45098063e-01   3.45098063e-01   0.00000000e+00\n",
      "   0.00000000e+00   0.00000000e+00   0.00000000e+00   0.00000000e+00\n",
      "   0.00000000e+00  -1.96078443e-03   1.96078443e-03  -1.96078443e-03\n",
      "   0.00000000e+00   0.00000000e+00   0.00000000e+00   0.00000000e+00\n",
      "   0.00000000e+00   0.00000000e+00   0.00000000e+00   0.00000000e+00\n",
      "   0.00000000e+00   0.00000000e+00   0.00000000e+00   0.00000000e+00]\n",
      "d[1] =  [array([ 0.,  0.,  0.,  0.,  0.,  1.,  0.,  0.,  0.]), array([ 0.,  0.,  0.,  1.,  0.,  0.,  0.,  0.,  0.]), array([ 0.,  0.,  0.,  0.,  0.,  0.,  0.,  1.,  0.]), array([ 0.,  0.,  0.,  0.,  1.,  0.,  0.,  0.,  0.])]\n",
      "****************************************************************************************************\n",
      "i = 7\n",
      "d[0] =  [ 0.45863973  0.22738972  0.36084561  0.1295956  -0.09779412  0.09779412\n",
      " -0.09779412  0.23125001 -0.23125001 -0.23125001 -0.58823533 -0.58823533\n",
      "  0.58823533  0.          0.          0.         -0.19558824  0.19558824\n",
      " -0.19558824 -1.17647067 -1.17647067  1.17647067  0.46250003 -0.46250003\n",
      " -0.46250003  0.          0.          0.          0.          0.          0.\n",
      "  0.29068629  0.39117649  0.29068629 -0.78627456 -2.02254915  0.5039216\n",
      "  0.92500006 -0.31225492 -0.31225492  0.          0.          0.          0.1004902\n",
      "  0.1004902   0.1004902   1.13774516 -1.12303928  0.05049021  0.43627454\n",
      "  1.17843144  0.377451    0.          0.          0.          0.          0.\n",
      "  0.          0.21666669  0.96176477 -0.25588237  0.05882353  0.05882353\n",
      "  0.05882353  0.          0.          0.          0.          0.          0.\n",
      "  0.          0.          0.          0.          0.          0.        ]\n",
      "d[1] =  [array([ 0.,  0.,  0.,  0.,  0.,  0.,  0.,  0.,  1.]), array([ 0.,  0.,  0.,  0.,  0.,  0.,  0.,  0.,  1.]), array([ 1.,  0.,  0.,  0.,  0.,  0.,  0.,  0.,  0.]), array([ 0.,  0.,  0.,  0.,  1.,  0.,  0.,  0.,  0.])]\n",
      "****************************************************************************************************\n",
      "i = 8\n",
      "d[0] =  [ 1.328125 -1.328125  1.265625 -1.265625  0.        0.        0.        1.875\n",
      " -2.59375  -1.875     0.        0.        0.        0.0625    0.0625\n",
      "  0.0625    0.        0.        0.        0.        0.        0.       -4.46875\n",
      " -3.59375   3.59375  -0.125     0.125    -0.125     0.        0.        0.\n",
      "  0.        0.        0.        0.        0.        0.        0.        0.\n",
      "  0.        0.        0.        0.        0.        0.        0.        0.\n",
      "  0.        0.        0.        0.        0.        0.        0.        0.\n",
      "  0.        0.        0.        0.        0.        0.        0.        0.\n",
      "  0.        0.        0.        0.        0.        0.        0.        0.\n",
      "  0.        0.        0.        0.        0.      ]\n",
      "d[1] =  [array([ 0.,  0.,  0.,  0.,  0.,  0.,  0.,  1.,  0.]), array([ 0.,  1.,  0.,  0.,  0.,  0.,  0.,  0.,  0.]), array([ 0.,  0.,  0.,  1.,  0.,  0.,  0.,  0.,  0.]), array([ 0.,  0.,  0.,  0.,  0.,  0.,  0.,  1.,  0.])]\n",
      "****************************************************************************************************\n",
      "i = 9\n",
      "d[0] =  [ 1.13541673  1.13541673  1.13541673  1.13541673  0.          0.          0.\n",
      "  0.          0.          0.         -2.27083347 -2.27083347  2.27083347\n",
      "  0.          0.          0.          0.          0.          0.\n",
      "  2.54044134  1.6877452   0.18455884  0.          0.          0.          0.\n",
      "  0.          0.          0.          0.          0.          0.          0.\n",
      "  0.          0.24901962  0.24901962  0.24901962  0.          0.          0.\n",
      "  0.          0.          0.          0.          0.          0.          0.\n",
      "  0.          0.          0.          0.          0.          0.          0.\n",
      "  0.          0.          0.          0.          0.          0.          0.\n",
      "  0.          0.          0.          0.          0.          0.          0.\n",
      "  0.          0.          0.          0.          0.          0.          0.\n",
      "  0.        ]\n",
      "d[1] =  [array([ 0.,  0.,  1.,  0.,  0.,  0.,  0.,  0.,  0.]), array([ 1.,  0.,  0.,  0.,  0.,  0.,  0.,  0.,  0.]), array([ 0.,  0.,  0.,  0.,  0.,  0.,  0.,  0.,  1.]), array([ 1.,  0.,  0.,  0.,  0.,  0.,  0.,  0.,  0.])]\n",
      "****************************************************************************************************\n"
     ]
    }
   ],
   "source": [
    "for i, d in enumerate(data):\n",
    "    print('i =',i) # Numero de l'exemple dans l'echantillon\n",
    "    print(\"d[0] = \",d[0]) # Valeurs individuelles pixels\n",
    "    print(\"d[1] = \",d[1]) # Valeurs vecteurs pow3 one hot\n",
    "    print('*' * 100)      # Separateur visuel"
   ]
  },
  {
   "cell_type": "markdown",
   "metadata": {},
   "source": [
    "## Intégration d'une régression linéaire\n",
    "#### Code en construction"
   ]
  },
  {
   "cell_type": "code",
   "execution_count": 210,
   "metadata": {
    "scrolled": false
   },
   "outputs": [
    {
     "name": "stdout",
     "output_type": "stream",
     "text": [
      "[ -1.66885964e-01  -1.82767266e-01   2.28546077e-01   3.53281181e-02\n",
      "   1.67109363e-01  -3.16730370e-01   4.09243424e-01  -1.55025565e-02\n",
      "   5.67662709e-02  -1.66994166e-02   1.25650568e-01   1.84716980e-02\n",
      "  -1.21235574e-01  -7.17595676e-02   1.70941079e-01   3.00512953e-02\n",
      "  -1.51664466e-01   3.86804951e-02   7.06369790e-02   1.67668758e-01\n",
      "   3.04660277e-01   2.28775643e-01  -1.27547655e-02   1.44148389e-02\n",
      "   7.84222435e-02  -1.78302683e-01   1.30047101e-01  -1.08807618e-01\n",
      "  -8.35750281e-03   3.14309065e-02  -1.49566595e-01  -5.52242522e-02\n",
      "  -1.38081176e-02   8.55156932e-02  -8.08461120e-02   8.54196408e-02\n",
      "   1.30538702e-01  -9.16188127e-02  -4.93174103e-02  -1.10283835e-01\n",
      "  -2.00306480e-01  -2.54741869e-01  -3.96915946e-02  -8.88346149e-02\n",
      "   8.44207242e-03   6.03846024e-03   4.16689325e-02  -6.46258656e-02\n",
      "  -2.00250375e-01   9.48377250e-02   9.23092118e-02  -2.22483111e-04\n",
      "  -1.44045270e-01   7.43628191e-02  -1.18422709e-01   2.68006089e-02\n",
      "   7.99424482e-02  -1.27195757e-01   1.73412802e-02  -8.69128417e-02\n",
      "   5.10978641e-02   5.86004618e-02  -9.07714133e-02   1.53301749e-01\n",
      "  -2.11594724e-02   5.18718229e-02   1.91890295e-01   1.50446182e-01\n",
      "  -8.18503037e-02  -7.88602266e-02  -2.89142063e-02   2.89227686e-02\n",
      "   4.01766279e-03   3.09822319e-01  -1.40501357e-02  -1.56423019e-01]\n",
      "[ 0.16155894  0.04354855  0.00360729 -0.30476302 -0.1745538   0.28507036\n",
      " -0.46196193  0.03593674  0.0054925   0.1984942  -0.06770043 -0.07370795\n",
      "  0.08542839 -0.06596565 -0.08417106 -0.01256643  0.12407199 -0.22962473\n",
      " -0.03842712  0.13740377  0.18668588  0.05363298 -0.15442406 -0.05097233\n",
      "  0.03068212  0.27623075  0.06483444  0.02304947  0.04595207 -0.02952428\n",
      " -0.11192831 -0.00368407 -0.10299382  0.00218972  0.10753574  0.00918776\n",
      "  0.04529856 -0.01043722 -0.20954903  0.04845309  0.02732336  0.06560552\n",
      " -0.07583481  0.02725281  0.09445646 -0.10821649  0.02587194  0.01281914\n",
      " -0.02312116 -0.0192651   0.19377727  0.1522268   0.06551678 -0.04705559\n",
      "  0.23513086 -0.01535278  0.05702392  0.00887929  0.02744593 -0.05055146\n",
      " -0.1273175   0.07719207 -0.03268949 -0.05099684  0.02459718 -0.12547038\n",
      "  0.23371947 -0.12621512  0.19239983  0.02804818 -0.04450346 -0.02230476\n",
      "  0.09878242 -0.05173814  0.09354183 -0.15148223]\n"
     ]
    }
   ],
   "source": [
    "def minmax(value,   #valeur a delimiter\n",
    "           border): #limite min/max a ne pas depasser \n",
    "    value = max(value, -border)\n",
    "    value = min(value, border)\n",
    "    return value\n",
    "\n",
    "### Recuperation des donnees pour l'apprentissage\n",
    "\n",
    "batch_size = 10\n",
    "batch = mnist.train.next_batch(batch_size)\n",
    "data = []\n",
    "y = []\n",
    "\n",
    "\n",
    "for x in batch[0]:\n",
    "    # i, j correspondent aux coordonnees reelles de la cible, comprises dans l'intervalle (-40,40)\n",
    "    i_offset = minmax(int(np.random.randn() * 15), 40)\n",
    "    j_offset = minmax(int(np.random.randn() * 15), 40)  \n",
    "    v, w = generate_vector_data_with_offset_from_x(x, i_offset, j_offset) # v: vector, utilise comme x\n",
    "    y = (i_offset,j_offset)\n",
    "    data += [(v,y)]\n",
    "\n",
    "### Realisation de la regression lineaire\n",
    "\n",
    "n = v.size                                                          # nombre de valeurs comprises dans v\n",
    "theta_y0, theta_y1 = np.random.randn(n)*0.1, np.random.randn(n)*0.1 # initialisation au hasard des parametres\n",
    "\n",
    "## Calcul hypothese\n",
    "\n",
    "hypo_y0, hypo_y1 = [[] for _ in range(batch_size)], [[] for _ in range(batch_size)]\n",
    "\n",
    "for m in range(batch_size):\n",
    "    hypo_y0[m] = np.dot(theta_y0,data[m][0])\n",
    "    hypo_y1[m] = np.dot(theta_y1,data[m][0])\n",
    "    \n",
    "## Calcul erreur\n",
    "\n",
    "Err_y0, Err_y1 = [], []\n",
    "for m in range(batch_size):\n",
    "    Err_y0 += [(hypo_y0[m] - data[m][1][0])]\n",
    "    Err_y1 += [(hypo_y1[m] - data[m][1][1])]\n",
    "    \n",
    "\"\"\"\n",
    "## Calcul cout\n",
    "J_y0, J_y1 = 0, 0\n",
    "J_y0 = (1/2*batch_size)*sqrErr_y0\n",
    "J_y1 = (1/2*batch_size)*sqrErr_y1\n",
    "\"\"\"\n",
    "\n",
    "## Calcul gradient descent\n",
    "\n",
    "alpha = 0.03\n",
    "delta_theta0, delta_theta1 = np.zeros(n), np.zeros(n)\n",
    "for m in range(batch_size):\n",
    "    delta_theta0 += alpha*(1/batch_size)*Err_y0[m] * data[m][0]\n",
    "    delta_theta1 += alpha*(1/batch_size)*Err_y1[m] * data[m][0]\n",
    "    \n",
    "## Mise à jour thetas\n",
    "\n",
    "theta_y0 -= delta_theta0; print(theta_y0)\n",
    "theta_y1 -= delta_theta1; print(theta_y1)"
   ]
  },
  {
   "cell_type": "code",
   "execution_count": null,
   "metadata": {},
   "outputs": [],
   "source": []
  }
 ],
 "metadata": {
  "kernelspec": {
   "display_name": "Python 3",
   "language": "python",
   "name": "python3"
  },
  "language_info": {
   "codemirror_mode": {
    "name": "ipython",
    "version": 3
   },
   "file_extension": ".py",
   "mimetype": "text/x-python",
   "name": "python",
   "nbconvert_exporter": "python",
   "pygments_lexer": "ipython3",
   "version": "3.5.2"
  }
 },
 "nbformat": 4,
 "nbformat_minor": 2
}
