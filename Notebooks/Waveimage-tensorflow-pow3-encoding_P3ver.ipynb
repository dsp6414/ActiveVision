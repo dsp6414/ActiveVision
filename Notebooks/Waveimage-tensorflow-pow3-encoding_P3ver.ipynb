{
 "cells": [
  {
   "cell_type": "markdown",
   "metadata": {},
   "source": [
    "### Script permettant d'obtenir un échantillon d'images provenant de MNIST, de modifier la taille et l'emplacement du stimulus dans l'image et de simuler une vue fovéale via une dégradation de la qualité de l'image avec la distance du point central (via l'application de wavelets)."
   ]
  },
  {
   "cell_type": "code",
   "execution_count": 1,
   "metadata": {},
   "outputs": [],
   "source": [
    "%matplotlib inline"
   ]
  },
  {
   "cell_type": "code",
   "execution_count": 2,
   "metadata": {},
   "outputs": [],
   "source": [
    "import tensorflow as tf\n",
    "import matplotlib.pyplot as plt\n",
    "import numpy as np\n",
    "import sys\n",
    "import math"
   ]
  },
  {
   "cell_type": "code",
   "execution_count": 3,
   "metadata": {},
   "outputs": [],
   "source": [
    "import pywt # wavelets transforms library"
   ]
  },
  {
   "cell_type": "code",
   "execution_count": 4,
   "metadata": {},
   "outputs": [
    {
     "name": "stdout",
     "output_type": "stream",
     "text": [
      "Successfully downloaded train-images-idx3-ubyte.gz 9912422 bytes.\n",
      "Extracting MNIST_data/train-images-idx3-ubyte.gz\n",
      "Successfully downloaded train-labels-idx1-ubyte.gz 28881 bytes.\n",
      "Extracting MNIST_data/train-labels-idx1-ubyte.gz\n",
      "Successfully downloaded t10k-images-idx3-ubyte.gz 1648877 bytes.\n",
      "Extracting MNIST_data/t10k-images-idx3-ubyte.gz\n",
      "Successfully downloaded t10k-labels-idx1-ubyte.gz 4542 bytes.\n",
      "Extracting MNIST_data/t10k-labels-idx1-ubyte.gz\n"
     ]
    }
   ],
   "source": [
    "# Telecharger des exemples et leurs labels provenant de la base MNIST\n",
    "from tensorflow.examples.tutorials.mnist import input_data\n",
    "mnist = input_data.read_data_sets(\"MNIST_data/\", one_hot=True)"
   ]
  },
  {
   "cell_type": "code",
   "execution_count": 5,
   "metadata": {},
   "outputs": [],
   "source": [
    "# Fonction permettant de modifier la taille et l'emplacement du stimulus dans l'image\n",
    "def mnist_reshape_128(x, i_offset = 0, j_offset = 0): # i,j : coordonnees du stimulus par rapport au centre de l'image\n",
    "    assert x.shape == (28 * 28,)\n",
    "    image = x.reshape(28, 28)\n",
    "    image = np.append(np.zeros((128 + 2, 28)), image, axis = 0)\n",
    "    image = np.append(image, np.zeros((128 + 2, 28)), axis = 0)\n",
    "    image = np.append(np.zeros((288, 128 + 2)), image, axis = 1)\n",
    "    image = np.append(image, np.zeros((288, 128 + 2)), axis = 1)\n",
    "    return image[128 + 16 - 64 - i_offset : 128 + 16 + 64 - i_offset, 128 + 16 - 64 - j_offset : 128 + 16 + 64 - j_offset]"
   ]
  },
  {
   "cell_type": "code",
   "execution_count": 6,
   "metadata": {
    "scrolled": false
   },
   "outputs": [
    {
     "data": {
      "text/plain": [
       "<matplotlib.image.AxesImage at 0x7f9d27c10710>"
      ]
     },
     "execution_count": 6,
     "metadata": {},
     "output_type": "execute_result"
    },
    {
     "data": {
      "image/png": "[encoded data removed]",
      "text/plain": [
       "<matplotlib.figure.Figure at 0x7f9d27d59a10>"
      ]
     },
     "metadata": {},
     "output_type": "display_data"
    },
    {
     "data": {
      "image/png": "[encoded data removed]",
      "text/plain": [
       "<matplotlib.figure.Figure at 0x7f9d27d59a50>"
      ]
     },
     "metadata": {},
     "output_type": "display_data"
    }
   ],
   "source": [
    "# Affiche le stimulus numéro i de la base de données, avant et après le reshape\n",
    "i = 2\n",
    "plt.imshow(mnist.train.images[i].reshape((28,28)), interpolation = 'nearest', cmap = 'gray_r')\n",
    "plt.figure()\n",
    "plt.imshow(mnist_reshape_128(mnist.train.images[i], i_offset = -40, j_offset = 40), interpolation = 'nearest', cmap = 'gray_r')"
   ]
  },
  {
   "cell_type": "code",
   "execution_count": 9,
   "metadata": {},
   "outputs": [],
   "source": [
    "w1 = WaveImage(shape = (128, 128))\n",
    "w2 = WaveImage(image = mnist_reshape_128(mnist.train.images[1], i_offset = 5, j_offset = 5))\n",
    "w1.add_coeffs(w2, u = (63, 63), h_ref = w2.get_h_max())\n",
    "w1.add_coeffs(w2, u = (63, 65), h_ref = w2.get_h_max())\n",
    "w1.add_coeffs(w2, u = (65, 63), h_ref = w2.get_h_max())\n",
    "w1.add_coeffs(w2, u = (65, 65), h_ref = w2.get_h_max())"
   ]
  },
  {
   "cell_type": "code",
   "execution_count": 10,
   "metadata": {
    "scrolled": false
   },
   "outputs": [
    {
     "data": {
      "image/png": "[encoded data removed]",
      "text/plain": [
       "<matplotlib.figure.Figure at 0x7f9d466c00d0>"
      ]
     },
     "metadata": {},
     "output_type": "display_data"
    }
   ],
   "source": [
    "plt.figure(figsize = (20,20))\n",
    "plt.subplot(1,2,1)\n",
    "plt.imshow(w2.get_image(), cmap = 'gray_r', interpolation = 'nearest')\n",
    "plt.plot([-0.5, 127.5],[63.5, 63.5],'r--')\n",
    "plt.plot([63.5, 63.5],[-0.5, 127.5],'r--')\n",
    "plt.xlim([-0.5, 127.5])\n",
    "plt.ylim([-0.5, 127.5])\n",
    "plt.gca().invert_yaxis()\n",
    "plt.subplot(1,2,2)\n",
    "plt.imshow(w1.get_image(), cmap = 'gray_r', interpolation = 'nearest')\n",
    "plt.plot([-0.5, 127.5],[63.5, 63.5],'r--')\n",
    "plt.plot([63.5, 63.5],[-0.5, 127.5],'r--')\n",
    "plt.plot(63 - .5, 63 - .5, 'r+', markersize = 12)\n",
    "plt.plot(63 - .5, 65 - .5, 'r+', markersize = 12)\n",
    "plt.plot(65 - .5, 63 - .5, 'r+', markersize = 12)\n",
    "plt.plot(65 - .5, 65 - .5, 'r+', markersize = 12)\n",
    "plt.xlim([-0.5, 127.5])\n",
    "plt.ylim([-0.5, 127.5])\n",
    "plt.gca().invert_yaxis()"
   ]
  },
  {
   "cell_type": "code",
   "execution_count": 11,
   "metadata": {},
   "outputs": [],
   "source": [
    "# Genere un dictionnaire de tenseurs indexes par la profondeur dans l'arbre des coefficients d'ondelettes \n",
    "def generate_tensor_data_with_offset_from_x(x, i_offset, j_offset):\n",
    "    w1 = WaveImage(shape = (128, 128))\n",
    "    w2 = WaveImage(image = mnist_reshape_128(x, i_offset = i_offset, j_offset = j_offset))\n",
    "    w1.add_coeffs(w2, u = (63, 63), h_ref = w2.get_h_max())\n",
    "    w1.add_coeffs(w2, u = (63, 65), h_ref = w2.get_h_max())\n",
    "    w1.add_coeffs(w2, u = (65, 63), h_ref = w2.get_h_max())\n",
    "    w1.add_coeffs(w2, u = (65, 65), h_ref = w2.get_h_max())\n",
    "    h_max = w1.get_h_max()\n",
    "    data = w1.get_data()\n",
    "    tensor_data = {}\n",
    "    for k in data :\n",
    "        if k == 0:\n",
    "            tensor_data[0] = data[k][(0, 0)]\n",
    "        elif k == 1:\n",
    "            tensor_data[1] = np.array(data[k][(0, 0)])    \n",
    "        else:\n",
    "            tensor_data[k] = np.zeros((2, 2, 3))\n",
    "            for u in data[k]:           \n",
    "                u_offset = 64 // (2**(h_max - k)) - 1\n",
    "                tensor_data[k][u[0] - u_offset, u[1] - u_offset, :] = np.array(data[k][u])\n",
    "    return tensor_data, w1"
   ]
  },
  {
   "cell_type": "code",
   "execution_count": 12,
   "metadata": {},
   "outputs": [],
   "source": [
    "def generate_vector_data_with_offset_from_x(x, i_offset, j_offset):\n",
    "    # retourne un vecteur contenant les coefficients utilisés de l'image w1 générée à partir d'un point de fixation\n",
    "    # central avec la cible en position i_offset, j_offset\n",
    "    w1 = WaveImage(shape = (128, 128))\n",
    "    w2 = WaveImage(image = mnist_reshape_128(x, i_offset = i_offset, j_offset = j_offset))\n",
    "    w1.add_coeffs(w2, u = (63, 63), h_ref = w2.get_h_max())\n",
    "    w1.add_coeffs(w2, u = (63, 65), h_ref = w2.get_h_max())\n",
    "    w1.add_coeffs(w2, u = (65, 63), h_ref = w2.get_h_max())\n",
    "    w1.add_coeffs(w2, u = (65, 65), h_ref = w2.get_h_max())\n",
    "    h_max = w1.get_h_max() # h = 7\n",
    "    data = w1.get_data()\n",
    "    vector_data = np.array([])\n",
    "    for k in data :\n",
    "        if k == 0:\n",
    "            vector_data = np.append(vector_data, [data[k][(0, 0)]])\n",
    "        elif k == 1:\n",
    "            vector_data = np.append(vector_data, data[k][(0, 0)])  \n",
    "        else:\n",
    "            for u in data[k]:           \n",
    "                 vector_data = np.append(vector_data, data[k][u])\n",
    "    return vector_data, w1"
   ]
  },
  {
   "cell_type": "code",
   "execution_count": 13,
   "metadata": {
    "scrolled": false
   },
   "outputs": [
    {
     "name": "stdout",
     "output_type": "stream",
     "text": [
      "('v = \\n', array([ 0.7071998 , -0.51204047, -0.65297185,  0.45781253, -0.19515932,\n",
      "        0.19515932, -0.19515932,  0.05422794, -0.05422794, -0.05422794,\n",
      "        0.        ,  0.        ,  0.        ,  1.16501233,  1.16501233,\n",
      "        1.16501233, -0.39031865,  0.39031865, -0.39031865,  0.        ,\n",
      "        0.        ,  0.        ,  0.10845589, -0.10845589, -0.10845589,\n",
      "        2.15110307,  2.33002465,  2.15110307,  1.84044128,  1.74289226,\n",
      "       -0.17818629, -0.7806373 ,  0.52965689, -0.52965689,  0.        ,\n",
      "        0.        ,  0.        ,  0.21691178, -0.21691178, -0.21691178,\n",
      "       -0.79019614,  0.55882356,  0.67647063, -1.31029419,  0.56127455,\n",
      "       -0.56127455,  0.        ,  0.        ,  0.        ,  0.1887255 ,\n",
      "       -0.43382356, -0.1887255 ,  0.38039219,  1.48039223, -0.12156862,\n",
      "       -0.97941181, -0.79313731, -0.07549021,  0.        ,  0.        ,\n",
      "        0.        , -0.21666669, -0.62254906,  0.21666669, -0.00980392,\n",
      "       -0.00980392, -0.02549019, -0.4039216 , -0.56862747, -0.04705882,\n",
      "        0.        ,  0.        ,  0.        , -0.23725491, -0.40588237,\n",
      "        0.23725491]))\n",
      "('w = \\n', <__main__.WaveImage instance at 0x7f9d7408c368>)\n"
     ]
    },
    {
     "data": {
      "image/png": "[encoded data removed]",
      "text/plain": [
       "<matplotlib.figure.Figure at 0x7f9d29e4b490>"
      ]
     },
     "metadata": {},
     "output_type": "display_data"
    },
    {
     "data": {
      "image/png": "[encoded data removed]",
      "text/plain": [
       "<matplotlib.figure.Figure at 0x7f9d29e5ca90>"
      ]
     },
     "metadata": {},
     "output_type": "display_data"
    }
   ],
   "source": [
    "x = mnist.train.images[2] \n",
    "i_offset = 5\n",
    "j_offset = 5\n",
    "v, w = generate_vector_data_with_offset_from_x(x, i_offset, j_offset) ; print('v = \\n', v)\n",
    "plt.figure()\n",
    "plt.plot(v)\n",
    "plt.figure()\n",
    "plt.imshow(w.get_image(), cmap = 'gray_r', interpolation = 'nearest') ; print('w = \\n', w)"
   ]
  },
  {
   "cell_type": "code",
   "execution_count": 14,
   "metadata": {},
   "outputs": [],
   "source": [
    "def generate_pow3_one_hot_coordinates_from_offset(i_offset, j_offset):\n",
    "    # i_offset, j_offset in -40,..,40\n",
    "    \n",
    "    assert -40 <= i_offset <= 40\n",
    "    assert -40 <= j_offset <= 40\n",
    "\n",
    "    pow3_i = np.zeros(4)\n",
    "    reste = 40 + i_offset\n",
    "    for pow in range(3,-1,-1):\n",
    "        pow3_i[pow] = reste // 3**pow - 1\n",
    "        reste = reste % 3**pow\n",
    "        \n",
    "    pow3_j = np.zeros(4)\n",
    "    reste = 40 + j_offset\n",
    "    for pow in range(3,-1,-1):\n",
    "        pow3_j[pow] = reste // 3**pow - 1\n",
    "        reste = reste % 3**pow\n",
    "    \n",
    "    pow3_one_hot = []\n",
    "    for pow in range(4):\n",
    "        tmp = np.zeros((3,3))\n",
    "        tmp[int(pow3_i[pow]) + 1, int(pow3_j[pow]) + 1] = 1\n",
    "        pow3_one_hot += [tmp.reshape(9,)]\n",
    "    return pow3_one_hot"
   ]
  },
  {
   "cell_type": "code",
   "execution_count": 15,
   "metadata": {
    "scrolled": true
   },
   "outputs": [
    {
     "name": "stdout",
     "output_type": "stream",
     "text": [
      "[array([ 1.,  0.,  0.,  0.,  0.,  0.,  0.,  0.,  0.]), array([ 1.,  0.,  0.,  0.,  0.,  0.,  0.,  0.,  0.]), array([ 0.,  0.,  0.,  0.,  0.,  0.,  0.,  0.,  1.]), array([ 0.,  0.,  0.,  0.,  1.,  0.,  0.,  0.,  0.])]\n"
     ]
    }
   ],
   "source": [
    "# encode coordonnees sous forme de vecteurs representant codage en puissance de trois des coordonnees \n",
    "y = generate_pow3_one_hot_coordinates_from_offset(i_offset, j_offset)\n",
    "print(y)"
   ]
  },
  {
   "cell_type": "code",
   "execution_count": 16,
   "metadata": {},
   "outputs": [],
   "source": [
    "def decode_from_pow3_one_hot(pow3_one_hot):\n",
    "    i_offset = 0\n",
    "    j_offset = 0\n",
    "    for pow in range(len(pow3_one_hot)):\n",
    "        tmp = pow3_one_hot[pow].reshape(3,3)\n",
    "        i_tmp, j_tmp = np.where(tmp == 1)\n",
    "        i_offset += (i_tmp[0] - 1) * 3**pow \n",
    "        j_offset += (j_tmp[0] - 1) * 3**pow\n",
    "    return i_offset, j_offset"
   ]
  },
  {
   "cell_type": "markdown",
   "metadata": {},
   "source": [
    "## Tests"
   ]
  },
  {
   "cell_type": "code",
   "execution_count": 17,
   "metadata": {
    "scrolled": true
   },
   "outputs": [
    {
     "name": "stdout",
     "output_type": "stream",
     "text": [
      "('(i,j) =', (5, 5))\n"
     ]
    }
   ],
   "source": [
    "print(\"(i,j) =\",decode_from_pow3_one_hot(y))"
   ]
  },
  {
   "cell_type": "code",
   "execution_count": 18,
   "metadata": {
    "scrolled": true
   },
   "outputs": [
    {
     "data": {
      "image/png": "[encoded data removed]",
      "text/plain": [
       "<matplotlib.figure.Figure at 0x7f9d24175b50>"
      ]
     },
     "metadata": {},
     "output_type": "display_data"
    },
    {
     "data": {
      "image/png": "[encoded data removed]",
      "text/plain": [
       "<matplotlib.figure.Figure at 0x7f9d2413afd0>"
      ]
     },
     "metadata": {},
     "output_type": "display_data"
    },
    {
     "data": {
      "image/png": "[encoded data removed]",
      "text/plain": [
       "<matplotlib.figure.Figure at 0x7f9d23f58f10>"
      ]
     },
     "metadata": {},
     "output_type": "display_data"
    },
    {
     "data": {
      "image/png": "[encoded data removed]",
      "text/plain": [
       "<matplotlib.figure.Figure at 0x7f9d23e81950>"
      ]
     },
     "metadata": {},
     "output_type": "display_data"
    },
    {
     "data": {
      "image/png": "[encoded data removed]",
      "text/plain": [
       "<matplotlib.figure.Figure at 0x7f9d23d5ac50>"
      ]
     },
     "metadata": {},
     "output_type": "display_data"
    },
    {
     "data": {
      "image/png": "[encoded data removed]",
      "text/plain": [
       "<matplotlib.figure.Figure at 0x7f9d23d30890>"
      ]
     },
     "metadata": {},
     "output_type": "display_data"
    },
    {
     "data": {
      "image/png": "[encoded data removed]",
      "text/plain": [
       "<matplotlib.figure.Figure at 0x7f9d27c08850>"
      ]
     },
     "metadata": {},
     "output_type": "display_data"
    },
    {
     "data": {
      "image/png": "[encoded data removed]",
      "text/plain": [
       "<matplotlib.figure.Figure at 0x7f9d23b55c50>"
      ]
     },
     "metadata": {},
     "output_type": "display_data"
    },
    {
     "data": {
      "image/png": "[encoded data removed]",
      "text/plain": [
       "<matplotlib.figure.Figure at 0x7f9d23aeca50>"
      ]
     },
     "metadata": {},
     "output_type": "display_data"
    },
    {
     "data": {
      "image/png": "[encoded data removed]",
      "text/plain": [
       "<matplotlib.figure.Figure at 0x7f9d239aca50>"
      ]
     },
     "metadata": {},
     "output_type": "display_data"
    }
   ],
   "source": [
    "# Main program\n",
    "BATCH_SIZE = 10\n",
    "batch = mnist.train.next_batch(BATCH_SIZE)\n",
    "data = []\n",
    "for x in batch[0]:\n",
    "    #i_offset = np.random.randint(0,81) - 40\n",
    "    #j_offset = np.random.randint(0,81) - 40\n",
    "    i_offset = int(np.random.randn() * 15)\n",
    "    i_offset = max(i_offset, -40)\n",
    "    i_offset = min(i_offset, 40)\n",
    "    j_offset = int(np.random.randn() * 15)  \n",
    "    j_offset = max(j_offset, -40)\n",
    "    j_offset = min(j_offset, 40)\n",
    "    v, w = generate_vector_data_with_offset_from_x(x, i_offset, j_offset)\n",
    "    y = generate_pow3_one_hot_coordinates_from_offset(i_offset, j_offset)\n",
    "    data += [(v,y)]\n",
    "    \n",
    "    # Visualisation\n",
    "    plt.figure()\n",
    "    plt.subplot(1,2,1)\n",
    "    w_ref = WaveImage(image = mnist_reshape_128(x, i_offset = i_offset, j_offset = j_offset))\n",
    "    plt.imshow(w_ref.get_image(), cmap = 'gray_r', interpolation = 'nearest')\n",
    "    plt.title((i_offset, j_offset))\n",
    "    plt.subplot(1,2,2)\n",
    "    plt.imshow(w.get_image(), cmap = 'gray_r', interpolation = 'nearest')"
   ]
  },
  {
   "cell_type": "code",
   "execution_count": 19,
   "metadata": {
    "scrolled": true
   },
   "outputs": [
    {
     "name": "stdout",
     "output_type": "stream",
     "text": [
      "('i =', 0)\n",
      "('d[0] = ', array([ 0.47058826, -0.47058826, -0.47058826,  0.47058826,  0.        ,\n",
      "        0.        ,  0.        ,  0.        ,  0.        ,  0.        ,\n",
      "        0.        ,  0.        ,  0.        ,  0.94117653,  0.94117653,\n",
      "        0.94117653,  0.        ,  0.        ,  0.        ,  0.        ,\n",
      "        0.        ,  0.        ,  0.        ,  0.        ,  0.        ,\n",
      "        1.14534321,  1.88235306,  1.14534321, -0.20514708,  3.02769626,\n",
      "       -0.20514708,  0.        ,  0.        ,  0.        ,  0.        ,\n",
      "        0.        ,  0.        ,  0.        ,  0.        ,  0.        ,\n",
      "       -0.17941179,  2.82254919, -0.17941179,  0.        ,  0.        ,\n",
      "        0.        ,  0.        ,  0.        ,  0.        ,  0.        ,\n",
      "        0.        ,  0.        , -0.50980395,  0.16666666, -0.09999999,\n",
      "        0.        ,  0.        ,  0.        ,  0.        ,  0.        ,\n",
      "        0.        ,  0.        ,  0.        ,  0.        , -0.44509807,\n",
      "       -0.5156863 , -0.08431372,  0.        ,  0.        ,  0.        ,\n",
      "        0.        ,  0.        ,  0.        ,  0.        ,  0.        ,  0.        ]))\n",
      "('d[1] = ', [array([ 0.,  0.,  0.,  0.,  0.,  0.,  1.,  0.,  0.]), array([ 0.,  0.,  0.,  0.,  0.,  1.,  0.,  0.,  0.]), array([ 0.,  0.,  0.,  0.,  0.,  0.,  0.,  1.,  0.]), array([ 0.,  0.,  0.,  0.,  1.,  0.,  0.,  0.,  0.])])\n",
      "****************************************************************************************************\n",
      "('i =', 1)\n",
      "('d[0] = ', array([ 0.86136647,  0.46988361, -0.86136647, -0.46988361, -1.33125008,\n",
      "        1.33125008, -1.33125008,  0.        ,  0.        ,  0.        ,\n",
      "        0.        ,  0.        ,  0.        ,  0.39148286,  0.39148286,\n",
      "        0.39148286, -2.66250016,  2.66250016, -2.66250016,  0.        ,\n",
      "        0.        ,  0.        ,  0.        ,  0.        ,  0.        ,\n",
      "        0.78296573,  0.78296573,  0.78296573,  1.56593146,  1.18750006,\n",
      "        1.18750006, -0.39558826,  0.14558825,  0.29852943,  0.        ,\n",
      "        0.        ,  0.        ,  0.        ,  0.        ,  0.        ,\n",
      "        0.45637257, -0.93186279, -1.44068634,  1.65343148,  0.26617649,\n",
      "        0.9318628 ,  0.        ,  0.        ,  0.        ,  0.        ,\n",
      "        0.        ,  0.        , -0.41862748, -0.27352943,  0.27352943,\n",
      "        0.23235295, -0.23235295, -0.23235295,  0.        ,  0.        ,\n",
      "        0.        ,  0.        ,  0.        ,  0.        ,  0.        ,\n",
      "        0.        ,  0.        ,  0.        ,  0.        ,  0.        ,\n",
      "        0.        ,  0.        ,  0.        ,  0.        ,  0.        ,  0.        ]))\n",
      "('d[1] = ', [array([ 0.,  0.,  0.,  0.,  1.,  0.,  0.,  0.,  0.]), array([ 0.,  0.,  0.,  0.,  0.,  0.,  1.,  0.,  0.]), array([ 0.,  0.,  1.,  0.,  0.,  0.,  0.,  0.,  0.]), array([ 0.,  0.,  0.,  0.,  1.,  0.,  0.,  0.,  0.])])\n",
      "****************************************************************************************************\n",
      "('i =', 2)\n",
      "('d[0] = ', array([ 1.10637262,  1.10637262,  1.10637262,  1.10637262,  0.        ,\n",
      "        0.        ,  0.        ,  0.        ,  0.        ,  0.        ,\n",
      "       -2.21274523, -2.21274523,  2.21274523,  0.        ,  0.        ,\n",
      "        0.        ,  0.        ,  0.        ,  0.        , -1.28259812,\n",
      "        0.84240201, -1.16029419,  0.        ,  0.        ,  0.        ,\n",
      "        0.        ,  0.        ,  0.        ,  0.        ,  0.        ,\n",
      "        0.        ,  0.        ,  0.        ,  0.        ,  1.83357854,\n",
      "        1.85269619,  1.83357854,  0.        ,  0.        ,  0.        ,\n",
      "        0.        ,  0.        ,  0.        ,  0.        ,  0.        ,\n",
      "        0.        ,  0.        ,  0.        ,  0.        ,  0.        ,\n",
      "        0.        ,  0.        ,  0.        ,  0.        ,  0.        ,\n",
      "        0.        ,  0.        ,  0.        ,  0.        ,  0.        ,\n",
      "        0.        ,  0.        ,  0.        ,  0.        ,  0.        ,\n",
      "        0.        ,  0.        ,  0.        ,  0.        ,  0.        ,\n",
      "        0.        ,  0.        ,  0.        ,  0.        ,  0.        ,  0.        ]))\n",
      "('d[1] = ', [array([ 0.,  0.,  0.,  0.,  0.,  0.,  1.,  0.,  0.]), array([ 0.,  0.,  0.,  0.,  0.,  0.,  0.,  1.,  0.]), array([ 0.,  0.,  0.,  0.,  0.,  0.,  0.,  0.,  1.]), array([ 1.,  0.,  0.,  0.,  0.,  0.,  0.,  0.,  0.])])\n",
      "****************************************************************************************************\n",
      "('i =', 3)\n",
      "('d[0] = ', array([ 0.77769613,  0.73988975, -0.62015935, -0.65796573, -1.39785548,\n",
      "        1.39785548, -1.39785548,  0.03780637, -0.03780637, -0.03780637,\n",
      "       -0.1197304 , -0.1197304 ,  0.1197304 ,  0.        ,  0.        ,\n",
      "        0.        , -0.83909319,  2.79571095, -0.83909319, -0.23161766,\n",
      "       -0.2394608 ,  0.23161766,  0.07561275, -0.07561275, -0.07561275,\n",
      "        0.        ,  0.        ,  0.        ,  0.        ,  0.        ,\n",
      "        0.        ,  0.93431379,  1.07647065, -1.61421578, -0.47107846,\n",
      "       -0.47107846,  0.47107846,  0.1512255 , -0.1512255 , -0.1512255 ,\n",
      "        0.        ,  0.        ,  0.        ,  1.72794127,  1.10441183,\n",
      "        0.13676471, -0.63235298, -0.87647064,  0.5666667 ,  0.302451  ,\n",
      "       -0.23578433, -0.23578433,  0.        ,  0.        ,  0.        ,\n",
      "        0.85000005,  0.69705887,  0.5794118 , -0.41666669, -0.42450984,\n",
      "       -0.6676471 ,  0.53823533,  0.43627454,  0.43627454,  0.        ,\n",
      "        0.        ,  0.        ,  0.11764707,  0.11764707,  0.11764707,\n",
      "        0.57450984,  0.28823532,  0.06078433,  0.10196079,  0.10196079,\n",
      "        0.10196079]))\n",
      "('d[1] = ', [array([ 0.,  0.,  0.,  1.,  0.,  0.,  0.,  0.,  0.]), array([ 1.,  0.,  0.,  0.,  0.,  0.,  0.,  0.,  0.]), array([ 0.,  0.,  1.,  0.,  0.,  0.,  0.,  0.,  0.]), array([ 0.,  0.,  0.,  0.,  1.,  0.,  0.,  0.,  0.])])\n",
      "****************************************************************************************************\n",
      "('i =', 4)\n",
      "('d[0] = ', array([ 0.42098655,  0.36424635, -0.42098655, -0.36424635, -0.78523289,\n",
      "        0.78523289, -0.78523289,  0.        ,  0.        ,  0.        ,\n",
      "        0.        ,  0.        ,  0.        ,  0.0567402 ,  0.0567402 ,\n",
      "        0.0567402 , -0.8768383 ,  1.57046579, -0.8768383 ,  0.        ,\n",
      "        0.        ,  0.        ,  0.        ,  0.        ,  0.        ,\n",
      "        0.1134804 ,  0.1134804 ,  0.1134804 ,  0.2269608 , -0.2269608 ,\n",
      "       -0.2269608 ,  0.567402  , -1.88946091, -0.00955882,  0.        ,\n",
      "        0.        ,  0.        ,  0.        ,  0.        ,  0.        ,\n",
      "        0.        ,  0.        ,  0.        ,  0.        ,  0.        ,\n",
      "        0.        ,  0.        ,  0.        ,  0.        ,  0.        ,\n",
      "        0.        ,  0.        ,  0.        ,  0.        ,  0.        ,\n",
      "        0.        ,  0.        ,  0.        ,  0.        ,  0.        ,\n",
      "        0.        ,  0.        ,  0.        ,  0.        ,  0.        ,\n",
      "        0.        ,  0.        ,  0.        ,  0.        ,  0.        ,\n",
      "        0.        ,  0.        ,  0.        ,  0.        ,  0.        ,  0.        ]))\n",
      "('d[1] = ', [array([ 0.,  0.,  0.,  0.,  0.,  0.,  1.,  0.,  0.]), array([ 0.,  0.,  1.,  0.,  0.,  0.,  0.,  0.,  0.]), array([ 0.,  0.,  1.,  0.,  0.,  0.,  0.,  0.,  0.]), array([ 0.,  0.,  0.,  0.,  1.,  0.,  0.,  0.,  0.])])\n",
      "****************************************************************************************************\n",
      "('i =', 5)\n",
      "('d[0] = ', array([ 0.90064344,  0.90064344, -0.85088853, -0.85088853, -1.75153197,\n",
      "        1.75153197, -1.75153197,  0.        ,  0.        ,  0.        ,\n",
      "       -0.0497549 , -0.0497549 ,  0.0497549 ,  0.        ,  0.        ,\n",
      "        0.        , -1.43860303,  3.50306393, -1.43860303, -0.09068628,\n",
      "       -0.09950981,  0.09068628,  0.        ,  0.        ,  0.        ,\n",
      "        0.        ,  0.        ,  0.        ,  0.        ,  0.        ,\n",
      "        0.        , -1.64558833,  1.18382361, -0.34852945, -0.19019609,\n",
      "       -0.19019609,  0.19019609,  0.        ,  0.        ,  0.        ,\n",
      "        0.        ,  0.        ,  0.        ,  0.78137261,  0.86568633,\n",
      "        0.3401961 , -0.23823531, -0.38039218,  0.23823531,  0.        ,\n",
      "        0.        ,  0.        ,  0.        ,  0.        ,  0.        ,\n",
      "        1.90196089,  0.07450981,  0.07450981,  0.61862749, -0.61862749,\n",
      "       -0.61862749,  0.        ,  0.        ,  0.        ,  0.        ,\n",
      "        0.        ,  0.        ,  0.        ,  0.        ,  0.        ,\n",
      "        0.        ,  0.        ,  0.        ,  0.        ,  0.        ,  0.        ]))\n",
      "('d[1] = ', [array([ 0.,  0.,  0.,  0.,  0.,  0.,  0.,  1.,  0.]), array([ 1.,  0.,  0.,  0.,  0.,  0.,  0.,  0.,  0.]), array([ 0.,  0.,  1.,  0.,  0.,  0.,  0.,  0.,  0.]), array([ 0.,  0.,  0.,  0.,  1.,  0.,  0.,  0.,  0.])])\n",
      "****************************************************************************************************\n",
      "('i =', 6)\n",
      "('d[0] = ', array([ 1.01994491, -0.20805761, -0.66951597,  0.31865811, -0.58137259,\n",
      "        0.58137259, -0.58137259,  0.11991422, -0.11991422, -0.11991422,\n",
      "       -0.23051472, -0.23051472,  0.23051472,  1.1080883 ,  1.1080883 ,\n",
      "        1.1080883 , -1.16274517,  1.16274517, -1.16274517, -0.46102944,\n",
      "       -0.46102944,  0.46102944,  0.23982844, -0.23982844, -0.23982844,\n",
      "        2.2161766 ,  2.2161766 ,  2.2161766 ,  3.20441196, -0.34803924,\n",
      "        0.87990201, -2.32549034,  1.60196088, -1.60196088, -0.92205888,\n",
      "       -0.92205888,  0.92205888,  0.47965689, -0.47965689, -0.47965689,\n",
      "        2.22647072,  0.13529413, -0.32058826,  2.0166668 , -0.22941177,\n",
      "        0.81078437, -0.90000006, -1.84411776,  0.90000006,  0.95441182,\n",
      "       -0.95931378, -0.95441182, -0.80392163,  0.53725494,  0.49019612,\n",
      "        0.34901963,  0.43529414,  0.34901963, -0.18333335, -1.1225491 ,\n",
      "       -0.24215688,  0.50784317, -1.46470597, -0.09803923, -0.31372552,\n",
      "        0.31372552,  0.2784314 , -0.08627451,  0.08627451, -0.08627451,\n",
      "       -0.00980392,  0.08823529,  0.00980392,  0.        ,  0.        ,  0.        ]))\n",
      "('d[1] = ', [array([ 0.,  0.,  0.,  1.,  0.,  0.,  0.,  0.,  0.]), array([ 0.,  0.,  0.,  1.,  0.,  0.,  0.,  0.,  0.]), array([ 0.,  0.,  0.,  0.,  0.,  1.,  0.,  0.,  0.]), array([ 0.,  0.,  0.,  0.,  1.,  0.,  0.,  0.,  0.])])\n",
      "****************************************************************************************************\n",
      "('i =', 7)\n",
      "('d[0] = ', array([ 0.66865813,  0.66865813,  0.62974881,  0.62974881, -0.03890932,\n",
      "        0.03890932, -0.03890932,  0.        ,  0.        ,  0.        ,\n",
      "       -1.29840694, -1.29840694,  1.29840694,  0.        ,  0.        ,\n",
      "        0.        ,  0.06090687,  0.07781863,  0.06090687, -1.83725502,\n",
      "       -2.59681388,  1.83725502,  0.        ,  0.        ,  0.        ,\n",
      "        0.        ,  0.        ,  0.        ,  0.        ,  0.        ,\n",
      "        0.        ,  0.01691177,  0.01691177,  0.01691177,  2.3286766 ,\n",
      "       -0.70955889,  0.02916666,  0.        ,  0.        ,  0.        ,\n",
      "        0.        ,  0.        ,  0.        ,  0.        ,  0.        ,\n",
      "        0.        ,  0.63186279,  1.39852951,  0.60833337,  0.        ,\n",
      "        0.        ,  0.        ,  0.        ,  0.        ,  0.        ,\n",
      "        0.        ,  0.        ,  0.        ,  0.        ,  0.        ,\n",
      "        0.        ,  0.        ,  0.        ,  0.        ,  0.        ,\n",
      "        0.        ,  0.        ,  0.        ,  0.        ,  0.        ,\n",
      "        0.        ,  0.        ,  0.        ,  0.        ,  0.        ,  0.        ]))\n",
      "('d[1] = ', [array([ 0.,  0.,  0.,  0.,  0.,  0.,  1.,  0.,  0.]), array([ 0.,  0.,  1.,  0.,  0.,  0.,  0.,  0.,  0.]), array([ 1.,  0.,  0.,  0.,  0.,  0.,  0.,  0.,  0.]), array([ 0.,  0.,  0.,  0.,  1.,  0.,  0.,  0.,  0.])])\n",
      "****************************************************************************************************\n",
      "('i =', 8)\n",
      "('d[0] = ', array([ 0.71289832,  0.19255516, -0.71289832, -0.19255516, -0.90545348,\n",
      "        0.90545348, -0.90545348,  0.        ,  0.        ,  0.        ,\n",
      "        0.        ,  0.        ,  0.        ,  0.52034317,  0.52034317,\n",
      "        0.52034317, -1.81090696, -1.34595595,  1.34595595,  0.        ,\n",
      "        0.        ,  0.        ,  0.        ,  0.        ,  0.        ,\n",
      "        1.04068634,  0.04681372,  0.04681372,  1.08750006, -0.74926475,\n",
      "       -0.74926475, -0.14387256, -0.46495101,  0.14387256,  0.        ,\n",
      "        0.        ,  0.        ,  0.        ,  0.        ,  0.        ,\n",
      "       -0.17745099, -0.33823531,  0.17745099,  0.        ,  0.        ,\n",
      "        0.        ,  0.        ,  0.        ,  0.        ,  0.        ,\n",
      "        0.        ,  0.        ,  0.        ,  0.        ,  0.        ,\n",
      "        0.        ,  0.        ,  0.        ,  0.        ,  0.        ,\n",
      "        0.        ,  0.        ,  0.        ,  0.        ,  0.        ,\n",
      "        0.        ,  0.        ,  0.        ,  0.        ,  0.        ,\n",
      "        0.        ,  0.        ,  0.        ,  0.        ,  0.        ,  0.        ]))\n",
      "('d[1] = ', [array([ 1.,  0.,  0.,  0.,  0.,  0.,  0.,  0.,  0.]), array([ 0.,  1.,  0.,  0.,  0.,  0.,  0.,  0.,  0.]), array([ 0.,  0.,  0.,  1.,  0.,  0.,  0.,  0.,  0.]), array([ 0.,  0.,  0.,  0.,  0.,  1.,  0.,  0.,  0.])])\n",
      "****************************************************************************************************\n",
      "('i =', 9)\n",
      "('d[0] = ', array([ 0.77401965, -0.14944854,  0.77401965, -0.14944854,  0.        ,\n",
      "        0.        ,  0.        ,  0.92346819, -0.92346819, -0.92346819,\n",
      "       -0.62457112, -0.62457112,  0.62457112,  0.        ,  0.        ,\n",
      "        0.        ,  0.        ,  0.        ,  0.        , -1.24914223,\n",
      "       -0.8126226 ,  0.8126226 ,  1.84693639, -0.4471814 , -0.4471814 ,\n",
      "        0.        ,  0.        ,  0.        ,  0.        ,  0.        ,\n",
      "        0.        ,  0.        ,  0.        ,  0.        , -2.06176483,\n",
      "        0.35245101, -0.35245101,  0.89950986, -0.66862749, -1.83774521,\n",
      "        0.        ,  0.        ,  0.        ,  0.        ,  0.        ,\n",
      "        0.        , -1.36617655,  0.58872552, -0.24558825, -0.48137257,\n",
      "       -0.5921569 , -1.75294128,  0.        ,  0.        ,  0.        ,\n",
      "        0.        ,  0.        ,  0.        , -0.70098044,  1.01078437,\n",
      "       -0.59117651,  0.11764707,  0.68627454,  0.20000003,  0.        ,\n",
      "        0.        ,  0.        ,  0.        ,  0.        ,  0.        ,\n",
      "       -0.10980393,  0.10980393, -0.10980393, -0.19803923,  0.79411769,\n",
      "       -0.19803923]))\n",
      "('d[1] = ', [array([ 0.,  1.,  0.,  0.,  0.,  0.,  0.,  0.,  0.]), array([ 0.,  0.,  0.,  0.,  0.,  0.,  1.,  0.,  0.]), array([ 0.,  0.,  0.,  1.,  0.,  0.,  0.,  0.,  0.]), array([ 0.,  0.,  0.,  0.,  1.,  0.,  0.,  0.,  0.])])\n",
      "****************************************************************************************************\n"
     ]
    }
   ],
   "source": [
    "for i, d in enumerate(data):\n",
    "    print('i =',i) # Numero de l'exemple dans l'echantillon\n",
    "    print(\"d[0] = \",d[0]) # Valeurs individuelles pixels\n",
    "    print(\"d[1] = \",d[1]) # Valeurs vecteurs pow3 one hot\n",
    "    print('*' * 100)      # Separateur visuel"
   ]
  },
  {
   "cell_type": "markdown",
   "metadata": {},
   "source": [
    "## Intégration d'une régression linéaire\n",
    "Code en construction.  \n",
    "Les commentaires ne contiennent pas d'accents pour éviter les problèmes de compatibilité lors de l'utilisation par des systèmes non-utf8."
   ]
  },
  {
   "cell_type": "code",
   "execution_count": 20,
   "metadata": {
    "scrolled": false
   },
   "outputs": [],
   "source": [
    "def minmax(value,   #valeur a delimiter\n",
    "           border): #limite min/max a ne pas depasser \n",
    "    value = max(value, -border)\n",
    "    value = min(value, border)\n",
    "    return value\n",
    "\n",
    "def linear_regression_train(batch_size, # taille de l'echantillon d'apprentissage\n",
    "                            alpha,      # parametre d'apprentissage ; un futur benchmark permettra de choisir une valeur optimale\n",
    "                            theta,      # comprends (theta_y0,theta_y1), parametres modifies par l'apprentissage\n",
    "                            iteration   # numero de l'iteration en cours\n",
    "                            ):\n",
    "    ### Recuperation des donnees pour l'apprentissage\n",
    "    batch = mnist.train.next_batch(batch_size)\n",
    "    data = []\n",
    "    y = []\n",
    "\n",
    "    for x in batch[0]:\n",
    "        # i, j correspondent aux coordonnees reelles de la cible, comprises dans l'intervalle (-40,40)\n",
    "        i_offset, j_offset = minmax(int(np.random.randn() * 15), 40), minmax(int(np.random.randn() * 15), 40)  \n",
    "        v, w = generate_vector_data_with_offset_from_x(x, i_offset, j_offset) # v: vector, utilise comme x\n",
    "        y = (i_offset,j_offset)\n",
    "        data += [(v,y)]\n",
    "\n",
    "    ### Realisation de la regression lineaire\n",
    "\n",
    "    ## Initialisation des variables\n",
    "    n = v.size                                            # nombre de valeurs comprises dans v\n",
    "    if iteration == 0:                                    # si aucune iteration n'a ete realisee, generer les parametres au hasard\n",
    "        theta_y0, theta_y1 = np.random.randn(n)*0.1, np.random.randn(n)*0.1             # un theta pour chaque valeur de v (~70)\n",
    "    elif iteration != 0: \n",
    "        theta_y0, theta_y1 = theta[0], theta[1]\n",
    "    hypo_y0, hypo_y1 = [[] for _ in range(batch_size)], [[] for _ in range(batch_size)] # hypotheses, pour le calcul du gradient descent\n",
    "    Err_y0, Err_y1 = [], []                               # erreurs, pour le calcul du gradient descent\n",
    "    sqrErr_y0, sqrErr_y1 = 0, 0                         # erreurs carrees, pour le calcul du cout\n",
    "    delta_theta0, delta_theta1 = np.zeros(n), np.zeros(n) # valeur a soustraire a theta pour calculer theta(temps+1)                                    \n",
    "\n",
    "    for m in range(batch_size):\n",
    "        ## Calcul hypotheses\n",
    "        hypo_y0[m] = np.dot(theta_y0,data[m][0])\n",
    "        hypo_y1[m] = np.dot(theta_y1,data[m][0])\n",
    "\n",
    "        ## Calcul erreurs\n",
    "        Err_y0 += [(hypo_y0[m] - data[m][1][0])]\n",
    "        Err_y1 += [(hypo_y1[m] - data[m][1][1])]\n",
    "\n",
    "        ## Calcul gradient descent\n",
    "        delta_theta0 += alpha*(1/batch_size)*Err_y0[m] * data[m][0]\n",
    "        delta_theta1 += alpha*(1/batch_size)*Err_y1[m] * data[m][0]\n",
    "        \n",
    "    ## Mise à jour des parametres thetas\n",
    "    theta_y0 -= delta_theta0\n",
    "    theta_y1 -= delta_theta1\n",
    "    \n",
    "    ## Calcul erreurs carrees\n",
    "    for i in Err_y0:\n",
    "        sqrErr_y0 += i**2\n",
    "    for j in Err_y1:\n",
    "        sqrErr_y1 += j**2\n",
    "    \n",
    "    ## Calcul couts\n",
    "    J_y0 = (1/2*batch_size)*sqrErr_y0\n",
    "    J_y1 = (1/2*batch_size)*sqrErr_y1\n",
    "    \n",
    "    return (theta_y0, theta_y1, J_y0, J_y1)"
   ]
  },
  {
   "cell_type": "code",
   "execution_count": 21,
   "metadata": {
    "scrolled": false
   },
   "outputs": [
    {
     "name": "stdout",
     "output_type": "stream",
     "text": [
      "('iteration #', 0)\n",
      "('iteration #', 1)\n",
      "('theta_y0 initial = \\n', array([-0.01125391,  0.03650745,  0.07247122,  0.05141043, -0.12742124,\n",
      "       -0.10265556, -0.0104781 , -0.07479329,  0.02887   , -0.10821953,\n",
      "        0.01849902, -0.00245626, -0.00769869, -0.12863439,  0.04283471,\n",
      "        0.01822486, -0.07462341,  0.01112344,  0.12232104,  0.0161226 ,\n",
      "        0.08245195, -0.04530151,  0.22015049,  0.12224448,  0.08296804,\n",
      "       -0.14185884, -0.0374627 , -0.04175337,  0.01882988,  0.10602378,\n",
      "        0.17085398,  0.00884329, -0.00529862,  0.04886474, -0.00920631,\n",
      "       -0.02840097, -0.05867908,  0.05369214,  0.0911449 ,  0.02418195,\n",
      "       -0.00591629, -0.06525559,  0.14404749,  0.24938737,  0.10187714,\n",
      "        0.17114264, -0.0497187 , -0.06674119, -0.11397068,  0.11050617,\n",
      "        0.06524834, -0.02518826,  0.10971146, -0.05985597, -0.18393819,\n",
      "       -0.07792356, -0.00076899, -0.05649674,  0.1234614 ,  0.00435087,\n",
      "       -0.10953803, -0.12160108,  0.07095572,  0.11818683,  0.18230123,\n",
      "       -0.05099054, -0.07146669,  0.05017566,  0.02846757, -0.01167047,\n",
      "       -0.01087178, -0.16984512,  0.05232012, -0.18797881,  0.22985614,\n",
      "        0.19989365]))\n",
      "('theta_y1 initial = \\n', array([-0.09161756,  0.04562261, -0.1222419 ,  0.0471886 , -0.08274334,\n",
      "        0.04373778,  0.00671783,  0.00849289,  0.12081274,  0.10443679,\n",
      "        0.01682803,  0.03992269, -0.02289354,  0.17250914,  0.11054183,\n",
      "        0.03138538, -0.03883034, -0.0250612 ,  0.02909003, -0.05469364,\n",
      "        0.14481952,  0.00534923,  0.21904893, -0.03678218,  0.09530563,\n",
      "        0.02155349,  0.03590918,  0.03318375, -0.10007663, -0.09360639,\n",
      "       -0.12739997,  0.2026542 ,  0.03827839,  0.07302544,  0.04282607,\n",
      "       -0.06894387, -0.07977872, -0.15508994, -0.1179067 , -0.10547043,\n",
      "       -0.03523578,  0.2146908 ,  0.03659089,  0.22776589,  0.06615597,\n",
      "       -0.19568137, -0.00285473, -0.05885268,  0.0588565 ,  0.03150549,\n",
      "       -0.02383898, -0.24996529,  0.006576  , -0.03250536, -0.06749955,\n",
      "       -0.01130068,  0.00263963,  0.12951407,  0.18112669,  0.04343613,\n",
      "       -0.02493602,  0.07514804, -0.04932379,  0.06935217,  0.03460626,\n",
      "        0.08023865,  0.07216676,  0.04481531,  0.00489959, -0.05284081,\n",
      "       -0.17279265, -0.06287959, -0.06515572,  0.05989482,  0.02779792,\n",
      "       -0.12119843]))\n",
      "('iteration #', 2)\n",
      "('iteration #', 3)\n",
      "('iteration #', 4)\n",
      "('iteration #', 5)\n",
      "('iteration #', 6)\n",
      "('iteration #', 7)\n",
      "('iteration #', 8)\n",
      "('iteration #', 9)\n",
      "('iteration #', 10)\n",
      "('iteration #', 11)\n",
      "('iteration #', 12)\n",
      "('iteration #', 13)\n",
      "('iteration #', 14)\n",
      "('iteration #', 15)\n",
      "('iteration #', 16)\n",
      "('iteration #', 17)\n",
      "('iteration #', 18)\n",
      "('iteration #', 19)\n",
      "('iteration #', 20)\n",
      "('iteration #', 21)\n",
      "('iteration #', 22)\n",
      "('iteration #', 23)\n",
      "('iteration #', 24)\n",
      "('iteration #', 25)\n",
      "('iteration #', 26)\n",
      "('iteration #', 27)\n",
      "('iteration #', 28)\n",
      "('iteration #', 29)\n",
      "('\\n Nouvelles valeurs apr\\xc3\\xa8s iteration #', 29)\n",
      "('theta_y0 = \\n', array([-0.01125391,  0.03650745,  0.07247122,  0.05141043, -0.12742124,\n",
      "       -0.10265556, -0.0104781 , -0.07479329,  0.02887   , -0.10821953,\n",
      "        0.01849902, -0.00245626, -0.00769869, -0.12863439,  0.04283471,\n",
      "        0.01822486, -0.07462341,  0.01112344,  0.12232104,  0.0161226 ,\n",
      "        0.08245195, -0.04530151,  0.22015049,  0.12224448,  0.08296804,\n",
      "       -0.14185884, -0.0374627 , -0.04175337,  0.01882988,  0.10602378,\n",
      "        0.17085398,  0.00884329, -0.00529862,  0.04886474, -0.00920631,\n",
      "       -0.02840097, -0.05867908,  0.05369214,  0.0911449 ,  0.02418195,\n",
      "       -0.00591629, -0.06525559,  0.14404749,  0.24938737,  0.10187714,\n",
      "        0.17114264, -0.0497187 , -0.06674119, -0.11397068,  0.11050617,\n",
      "        0.06524834, -0.02518826,  0.10971146, -0.05985597, -0.18393819,\n",
      "       -0.07792356, -0.00076899, -0.05649674,  0.1234614 ,  0.00435087,\n",
      "       -0.10953803, -0.12160108,  0.07095572,  0.11818683,  0.18230123,\n",
      "       -0.05099054, -0.07146669,  0.05017566,  0.02846757, -0.01167047,\n",
      "       -0.01087178, -0.16984512,  0.05232012, -0.18797881,  0.22985614,\n",
      "        0.19989365]))\n",
      "('theta_y1 = \\n', array([-0.09161756,  0.04562261, -0.1222419 ,  0.0471886 , -0.08274334,\n",
      "        0.04373778,  0.00671783,  0.00849289,  0.12081274,  0.10443679,\n",
      "        0.01682803,  0.03992269, -0.02289354,  0.17250914,  0.11054183,\n",
      "        0.03138538, -0.03883034, -0.0250612 ,  0.02909003, -0.05469364,\n",
      "        0.14481952,  0.00534923,  0.21904893, -0.03678218,  0.09530563,\n",
      "        0.02155349,  0.03590918,  0.03318375, -0.10007663, -0.09360639,\n",
      "       -0.12739997,  0.2026542 ,  0.03827839,  0.07302544,  0.04282607,\n",
      "       -0.06894387, -0.07977872, -0.15508994, -0.1179067 , -0.10547043,\n",
      "       -0.03523578,  0.2146908 ,  0.03659089,  0.22776589,  0.06615597,\n",
      "       -0.19568137, -0.00285473, -0.05885268,  0.0588565 ,  0.03150549,\n",
      "       -0.02383898, -0.24996529,  0.006576  , -0.03250536, -0.06749955,\n",
      "       -0.01130068,  0.00263963,  0.12951407,  0.18112669,  0.04343613,\n",
      "       -0.02493602,  0.07514804, -0.04932379,  0.06935217,  0.03460626,\n",
      "        0.08023865,  0.07216676,  0.04481531,  0.00489959, -0.05284081,\n",
      "       -0.17279265, -0.06287959, -0.06515572,  0.05989482,  0.02779792,\n",
      "       -0.12119843]))\n"
     ]
    },
    {
     "data": {
      "image/png": "[encoded data removed]",
      "text/plain": [
       "<matplotlib.figure.Figure at 0x7f9d243c3ad0>"
      ]
     },
     "metadata": {},
     "output_type": "display_data"
    }
   ],
   "source": [
    "train_duration = 30 # nombre d'iterations que durera l'apprentissage\n",
    "values = (0,0)      # initialisation des theta pour la premiere iteration\n",
    "couts = [[] for _ in range(train_duration)]\n",
    "\n",
    "for num_iteration in range(train_duration):\n",
    "    print('iteration #', num_iteration)\n",
    "    theta_updated = linear_regression_train(batch_size=20, alpha=0.03, theta=values, iteration=num_iteration)\n",
    "    values = (theta_updated[0], theta_updated[1])\n",
    "    \n",
    "    couts[num_iteration] = (theta_updated[2])\n",
    "    \n",
    "    if num_iteration == 1:\n",
    "        print('theta_y0 initial = \\n', values[0])\n",
    "        print('theta_y1 initial = \\n', values[1])\n",
    "\n",
    "print('\\n Nouvelles valeurs après iteration #', num_iteration)\n",
    "print('theta_y0 = \\n', theta_updated[0])\n",
    "print('theta_y1 = \\n', theta_updated[1])\n",
    "\n",
    "plt.plot(range(train_duration),couts)\n",
    "plt.show()"
   ]
  },
  {
   "cell_type": "code",
   "execution_count": null,
   "metadata": {},
   "outputs": [],
   "source": []
  }
 ],
 "metadata": {
  "kernelspec": {
   "display_name": "Python 2",
   "language": "python",
   "name": "python2"
  },
  "language_info": {
   "codemirror_mode": {
    "name": "ipython",
    "version": 2
   },
   "file_extension": ".py",
   "mimetype": "text/x-python",
   "name": "python",
   "nbconvert_exporter": "python",
   "pygments_lexer": "ipython2",
   "version": "2.7.13"
  }
 },
 "nbformat": 4,
 "nbformat_minor": 2
}
