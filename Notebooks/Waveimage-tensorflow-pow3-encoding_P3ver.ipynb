{
 "cells": [
  {
   "cell_type": "markdown",
   "metadata": {},
   "source": [
    "### Script permettant d'obtenir un échantillon d'images provenant de MNIST, de modifier la taille et l'emplacement du stimulus dans l'image et de simuler une vue fovéale via une dégradation de la qualité de l'image avec la distance du point central (via l'application de wavelets)."
   ]
  },
  {
   "cell_type": "code",
   "execution_count": 3,
   "metadata": {},
   "outputs": [],
   "source": [
    "%matplotlib inline"
   ]
  },
  {
   "cell_type": "code",
   "execution_count": 4,
   "metadata": {},
   "outputs": [],
   "source": [
    "import tensorflow as tf\n",
    "import matplotlib.pyplot as plt\n",
    "import numpy as np\n",
    "import sys\n",
    "import math"
   ]
  },
  {
   "cell_type": "code",
   "execution_count": 5,
   "metadata": {},
   "outputs": [],
   "source": [
    "import pywt # wavelets transforms library"
   ]
  },
  {
   "cell_type": "code",
   "execution_count": 6,
   "metadata": {},
   "outputs": [
    {
     "name": "stdout",
     "output_type": "stream",
     "text": [
      "Extracting MNIST_data/train-images-idx3-ubyte.gz\n",
      "Extracting MNIST_data/train-labels-idx1-ubyte.gz\n",
      "Extracting MNIST_data/t10k-images-idx3-ubyte.gz\n",
      "Extracting MNIST_data/t10k-labels-idx1-ubyte.gz\n"
     ]
    }
   ],
   "source": [
    "# Telecharger des exemples et leurs labels provenant de la base MNIST\n",
    "from tensorflow.examples.tutorials.mnist import input_data\n",
    "mnist = input_data.read_data_sets(\"MNIST_data/\", one_hot=True)"
   ]
  },
  {
   "cell_type": "code",
   "execution_count": 7,
   "metadata": {},
   "outputs": [],
   "source": [
    "# Fonction permettant de modifier la taille et l'emplacement du stimulus dans l'image\n",
    "def mnist_reshape_128(x, i_offset = 0, j_offset = 0): # i,j : coordonnees du stimulus par rapport au centre de l'image\n",
    "    assert x.shape == (28 * 28,)\n",
    "    image = x.reshape(28, 28)\n",
    "    image = np.append(np.zeros((128 + 2, 28)), image, axis = 0)\n",
    "    image = np.append(image, np.zeros((128 + 2, 28)), axis = 0)\n",
    "    image = np.append(np.zeros((288, 128 + 2)), image, axis = 1)\n",
    "    image = np.append(image, np.zeros((288, 128 + 2)), axis = 1)\n",
    "    return image[128 + 16 - 64 - i_offset : 128 + 16 + 64 - i_offset, 128 + 16 - 64 - j_offset : 128 + 16 + 64 - j_offset]"
   ]
  },
  {
   "cell_type": "code",
   "execution_count": 8,
   "metadata": {
    "scrolled": false
   },
   "outputs": [
    {
     "data": {
      "text/plain": [
       "<matplotlib.image.AxesImage at 0x7fde0c1737b8>"
      ]
     },
     "execution_count": 8,
     "metadata": {},
     "output_type": "execute_result"
    },
    {
     "data": {
      "image/png": "[encoded data removed]",
      "text/plain": [
       "<matplotlib.figure.Figure at 0x7fde0e1840f0>"
      ]
     },
     "metadata": {},
     "output_type": "display_data"
    },
    {
     "data": {
      "image/png": "[encoded data removed]",
      "text/plain": [
       "<matplotlib.figure.Figure at 0x7fde0e184198>"
      ]
     },
     "metadata": {},
     "output_type": "display_data"
    }
   ],
   "source": [
    "# Affiche le stimulus numéro i de la base de données, avant et après le reshape\n",
    "i = 2\n",
    "plt.imshow(mnist.train.images[i].reshape((28,28)), interpolation = 'nearest', cmap = 'gray_r')\n",
    "plt.figure()\n",
    "plt.imshow(mnist_reshape_128(mnist.train.images[i], i_offset = -40, j_offset = 40), interpolation = 'nearest', cmap = 'gray_r')"
   ]
  },
  {
   "cell_type": "code",
   "execution_count": 9,
   "metadata": {},
   "outputs": [],
   "source": [
    "def calc_dim(shape, h, h_max): # calcule nombre d'ondelettes en fonction de l'echelle ? ; shape : taille image\n",
    "    assert 0 <= h < h_max # h : echelle de composition d'ondelette\n",
    "    if h == 0:\n",
    "        dim_i = int(math.ceil(shape[0] * 1. // 2**(h_max - 1)))\n",
    "        dim_j = int(math.ceil(shape[1] * 1. // 2**(h_max - 1)))\n",
    "    else :\n",
    "        dim_i = int(math.ceil(shape[0] * 1. // 2**(h_max - h)))\n",
    "        dim_j = int(math.ceil(shape[1] * 1. // 2**(h_max - h)))\n",
    "    return dim_i, dim_j"
   ]
  },
  {
   "cell_type": "code",
   "execution_count": 10,
   "metadata": {},
   "outputs": [],
   "source": [
    "class WaveImage:\n",
    "\t\n",
    "\tdef __init__(self, image = None, shape = (32, 32)):\n",
    "\t\t\n",
    "\t\t# Attribut shape\n",
    "\t\tif image is not None:\n",
    "\t\t\t# Decomposition ondelettes\n",
    "\t\t\tcoeffs = pywt.wavedec2(image, 'haar') # haar correspond à une famille d'ondelettes\n",
    "\t\t\tself.__shape = image.shape\n",
    "\t\telse:\n",
    "\t\t\tself.__shape = shape\n",
    "\t\t\n",
    "\t\t# Attribut h_max : profondeur de l'image\n",
    "\t\tself.__h_max = min(int(math.log(self.__shape[0], 2)) + 1, \tint(math.log(self.__shape[1], 2)) + 1)\n",
    "\t\t\t\n",
    "\t\t# Attribut data : L'attribut data contient les vecteurs en position [h][u] (dictionnaire)\n",
    "\t\tif image is not None:\n",
    "\t\t\tself.__data = {}\n",
    "\t\t\tfor h in range(self.__h_max):\n",
    "\t\t\t\tself.__data[h] = {}\n",
    "\t\t\t\tif h == 0:\n",
    "\t\t\t\t\t(i_max, j_max) = coeffs[h].shape\n",
    "\t\t\t\telse:\n",
    "\t\t\t\t\t(i_max, j_max) = coeffs[h][0].shape\n",
    "\t\t\t\tfor i in range(i_max):\n",
    "\t\t\t\t\tfor j in range(j_max):\n",
    "\t\t\t\t\t\tif h == 0:\n",
    "\t\t\t\t\t\t\tdata = coeffs[h][i][j]\n",
    "\t\t\t\t\t\telse:\n",
    "\t\t\t\t\t\t\tdata = coeffs[h][0][i][j] # k : num ondelette ?\n",
    "\t\t\t\t\t\t\tfor k in range(1,len(coeffs[h])):\n",
    "\t\t\t\t\t\t\t\tdata = np.append(data, coeffs[h][k][i][j])\t\n",
    "\t\t\t\t\t\tself.__data[h][(i, j)] = data\t\t\t\t\n",
    "\t\telse: # image is None\n",
    "\t\t\tself.__data = {}\n",
    "\t\t\tfor h in range(self.__h_max):\n",
    "\t\t\t\tself.__data[h] = {}\n",
    "\t\t\t\t\t\n",
    "\t\t\n",
    "\tdef get_data(self):\n",
    "\t\treturn self.__data\n",
    "\t\n",
    "\tdef get_shape(self):\n",
    "\t\treturn self.__data\n",
    "\t\t\t\t\n",
    "\tdef set_data(self, h, u, v):\n",
    "\t\tassert 0 <= h < self.__h_max\n",
    "\t\tdim_i, dim_j = calc_dim(self.__shape, h, self.__h_max)\n",
    "\t\tassert 0 <= u[0] < dim_i\n",
    "\t\tassert 0 <= u[1] < dim_j\n",
    "\t\tif h == 0 :\n",
    "\t\t\tself.__data[h][u] = v\n",
    "\t\telse:\n",
    "\t\t\tself.__data[h][u] = np.copy(v)\n",
    "\t\t\n",
    "\tdef get_h_max(self):\n",
    "\t\treturn self.__h_max\n",
    "\t\t\n",
    "\tdef get_image(self): # etape decodage pour retrouver image\n",
    "\t\tcoeffs = []\n",
    "\t\tfor h in range(self.__h_max):\n",
    "\t\t\tdim_i, dim_j = calc_dim(self.__shape, h, self.__h_max)\n",
    "\t\t\tif h == 0:\n",
    "\t\t\t\tcoeffs_h = np.zeros((dim_i, dim_j))\n",
    "\t\t\t\tfor u in self.__data[h]:\n",
    "\t\t\t\t\tcoeffs_h[u[0],u[1]] = self.__data[h][u]\n",
    "\t\t\telse:\n",
    "\t\t\t\tcoeffs_h = [np.zeros((dim_i, dim_j)), np.zeros((dim_i, dim_j)), np.zeros((dim_i, dim_j))]\n",
    "\t\t\t\tfor u in self.__data[h]:\n",
    "\t\t\t\t\tfor k in range(3):\n",
    "\t\t\t\t\t\tcoeffs_h[k][u[0],u[1]] = self.__data[h][u][k]\n",
    "\t\t\tcoeffs += [coeffs_h]\n",
    "\t\treturn pywt.waverec2(coeffs, 'haar')\n",
    "\t\t\n",
    "\tdef add_coeffs(self, waveImage, u, h_ref = 0): # copie certains niveaux de l'arbre d'ondelettes\n",
    "\t\t# Niveau 0\n",
    "\t\th_opp = self.__h_max - 1\n",
    "\t\ti = int(u[0] // 2**h_opp) \n",
    "\t\tj = int(u[1] // 2**h_opp)\n",
    "\t\tu_0 = (i,j)\n",
    "\t\tif self.__data[0] == {}:\n",
    "\t\t\tself.__data[0][u_0] = waveImage.get_data()[0][u_0]\n",
    "\t\telse:\n",
    "\t\t\tv_test = self.__data[0][u_0]\n",
    "\t\t\tif np.linalg.norm(v_test) < 1e-16:\n",
    "\t\t\t\tself.__data[0][u_0] = waveImage.getData()[0][u_0]\n",
    "\t\t# Niveaux 1 et +\n",
    "\t\tfor h in range(1, h_ref) :\n",
    "\t\t\th_opp = self.__h_max - h\n",
    "\t\t\ti = int(u[0] // 2**h_opp) \n",
    "\t\t\tj = int(u[1] // 2**h_opp)\n",
    "\t\t\tif (i,j) in self.__data[h]:\n",
    "\t\t\t\tv_test = self.__data[h][(i,j)]\n",
    "\t\t\t\tif np.linalg.norm(v_test) < 1e-16:\n",
    "\t\t\t\t\tself.__data[h][(i,j)] = np.copy(waveImage.get_data()[h][(i,j)])\n",
    "\t\t\telse: \n",
    "\t\t\t\tself.__data[h][(i,j)] = np.copy(waveImage.get_data()[h][(i,j)])\n",
    "\t\n",
    "\tdef copy(self): # copie complete\n",
    "\t\tself_shape = self.__shape \n",
    "\t\tself_copy = WaveImage(shape = self_shape)\n",
    "\t\tfor h in range(self.__h_max) :\n",
    "\t\t\tfor u in self.__data[h]:\n",
    "\t\t\t\tself_copy.set_data(h, u, self.__data[h][u])\n",
    "\t\treturn self_copy\t\n",
    "\t\t\n",
    "\tdef __str__(self): # affiche contenu objet\n",
    "\t\th_max = len(self.__data)\n",
    "\t\ts = 'h_max :' + str(self.__h_max) + '\\n'\n",
    "\t\tfor h in range(self.__h_max):\n",
    "\t\t\ts += '***' + str(h) + '***\\n'\n",
    "\t\t\ts += str(self.__data[h]) + '\\n'\n",
    "\t\treturn s"
   ]
  },
  {
   "cell_type": "code",
   "execution_count": 11,
   "metadata": {},
   "outputs": [],
   "source": [
    "w1 = WaveImage(shape = (128, 128))\n",
    "w2 = WaveImage(image = mnist_reshape_128(mnist.train.images[1], i_offset = 5, j_offset = 5))\n",
    "w1.add_coeffs(w2, u = (63, 63), h_ref = w2.get_h_max())\n",
    "w1.add_coeffs(w2, u = (63, 65), h_ref = w2.get_h_max())\n",
    "w1.add_coeffs(w2, u = (65, 63), h_ref = w2.get_h_max())\n",
    "w1.add_coeffs(w2, u = (65, 65), h_ref = w2.get_h_max())"
   ]
  },
  {
   "cell_type": "code",
   "execution_count": 12,
   "metadata": {
    "scrolled": false
   },
   "outputs": [
    {
     "data": {
      "image/png": "[encoded data removed]",
      "text/plain": [
       "<matplotlib.figure.Figure at 0x7fde0c113160>"
      ]
     },
     "metadata": {},
     "output_type": "display_data"
    }
   ],
   "source": [
    "plt.figure(figsize = (20,20))\n",
    "plt.subplot(1,2,1)\n",
    "plt.imshow(w2.get_image(), cmap = 'gray_r', interpolation = 'nearest')\n",
    "plt.plot([-0.5, 127.5],[63.5, 63.5],'r--')\n",
    "plt.plot([63.5, 63.5],[-0.5, 127.5],'r--')\n",
    "plt.xlim([-0.5, 127.5])\n",
    "plt.ylim([-0.5, 127.5])\n",
    "plt.gca().invert_yaxis()\n",
    "plt.subplot(1,2,2)\n",
    "plt.imshow(w1.get_image(), cmap = 'gray_r', interpolation = 'nearest')\n",
    "plt.plot([-0.5, 127.5],[63.5, 63.5],'r--')\n",
    "plt.plot([63.5, 63.5],[-0.5, 127.5],'r--')\n",
    "plt.plot(63 - .5, 63 - .5, 'r+', markersize = 12)\n",
    "plt.plot(63 - .5, 65 - .5, 'r+', markersize = 12)\n",
    "plt.plot(65 - .5, 63 - .5, 'r+', markersize = 12)\n",
    "plt.plot(65 - .5, 65 - .5, 'r+', markersize = 12)\n",
    "plt.xlim([-0.5, 127.5])\n",
    "plt.ylim([-0.5, 127.5])\n",
    "plt.gca().invert_yaxis()"
   ]
  },
  {
   "cell_type": "code",
   "execution_count": 13,
   "metadata": {},
   "outputs": [],
   "source": [
    "# Genere un dictionnaire de tenseurs indexes par la profondeur dans l'arbre des coefficients d'ondelettes \n",
    "def generate_tensor_data_with_offset_from_x(x, i_offset, j_offset):\n",
    "    w1 = WaveImage(shape = (128, 128))\n",
    "    w2 = WaveImage(image = mnist_reshape_128(x, i_offset = i_offset, j_offset = j_offset))\n",
    "    w1.add_coeffs(w2, u = (63, 63), h_ref = w2.get_h_max())\n",
    "    w1.add_coeffs(w2, u = (63, 65), h_ref = w2.get_h_max())\n",
    "    w1.add_coeffs(w2, u = (65, 63), h_ref = w2.get_h_max())\n",
    "    w1.add_coeffs(w2, u = (65, 65), h_ref = w2.get_h_max())\n",
    "    h_max = w1.get_h_max()\n",
    "    data = w1.get_data()\n",
    "    tensor_data = {}\n",
    "    for k in data :\n",
    "        if k == 0:\n",
    "            tensor_data[0] = data[k][(0, 0)]\n",
    "        elif k == 1:\n",
    "            tensor_data[1] = np.array(data[k][(0, 0)])    \n",
    "        else:\n",
    "            tensor_data[k] = np.zeros((2, 2, 3))\n",
    "            for u in data[k]:           \n",
    "                u_offset = 64 // (2**(h_max - k)) - 1\n",
    "                tensor_data[k][u[0] - u_offset, u[1] - u_offset, :] = np.array(data[k][u])\n",
    "    return tensor_data, w1"
   ]
  },
  {
   "cell_type": "code",
   "execution_count": 14,
   "metadata": {},
   "outputs": [],
   "source": [
    "def generate_vector_data_with_offset_from_x(x, i_offset, j_offset):\n",
    "    # retourne un vecteur contenant les coefficients utilisés de l'image w1 générée à partir d'un point de fixation\n",
    "    # central avec la cible en position i_offset, j_offset\n",
    "    w1 = WaveImage(shape = (128, 128))\n",
    "    w2 = WaveImage(image = mnist_reshape_128(x, i_offset = i_offset, j_offset = j_offset))\n",
    "    w1.add_coeffs(w2, u = (63, 63), h_ref = w2.get_h_max())\n",
    "    w1.add_coeffs(w2, u = (63, 65), h_ref = w2.get_h_max())\n",
    "    w1.add_coeffs(w2, u = (65, 63), h_ref = w2.get_h_max())\n",
    "    w1.add_coeffs(w2, u = (65, 65), h_ref = w2.get_h_max())\n",
    "    h_max = w1.get_h_max() # h = 7\n",
    "    data = w1.get_data()\n",
    "    vector_data = np.array([])\n",
    "    for k in data :\n",
    "        if k == 0:\n",
    "            vector_data = np.append(vector_data, [data[k][(0, 0)]])\n",
    "        elif k == 1:\n",
    "            vector_data = np.append(vector_data, data[k][(0, 0)])  \n",
    "        else:\n",
    "            for u in data[k]:           \n",
    "                 vector_data = np.append(vector_data, data[k][u])\n",
    "    return vector_data, w1"
   ]
  },
  {
   "cell_type": "code",
   "execution_count": 155,
   "metadata": {
    "scrolled": false
   },
   "outputs": [
    {
     "name": "stdout",
     "output_type": "stream",
     "text": [
      "v = \n",
      " [ 1.5635724  -1.23477336 -0.88894     0.56014096 -0.32879904  0.32879904\n",
      " -0.32879904  0.67463239 -0.67463239 -0.67463239  0.          0.          0.\n",
      "  2.12371336  2.12371336  2.12371336 -0.65759808  0.65759808 -0.65759808\n",
      "  0.          0.          0.          1.34926479 -1.34926479 -1.34926479\n",
      "  4.24742672  4.24742672  4.24742672  0.87083338  1.39485301 -0.89877457\n",
      " -1.31519616 -0.90882359  0.90882359  0.          0.          0.\n",
      "  0.25539217 -2.69852958 -0.25539217  2.38872563  0.70049026 -0.42401964\n",
      " -0.40637257 -0.03480392  0.03480392  0.          0.          0.\n",
      " -1.40784321 -2.43921586  0.89313732 -0.16862744 -0.16862744 -0.16274512\n",
      " -0.37156865 -0.3401961   0.3401961   0.          0.          0.\n",
      " -0.98529418 -0.98333339  0.44607845 -0.32745099 -0.20980394 -0.20980394\n",
      " -0.03137255 -0.03137255  0.03137255  0.          0.          0.\n",
      " -0.42352945 -0.4039216   0.2784314 ]\n",
      "w = \n",
      " h_max :8\n",
      "***0***\n",
      "{(0, 0): 1.5635723968116522}\n",
      "***1***\n",
      "{(0, 0): array([-1.23477336, -0.88894   ,  0.56014096])}\n",
      "***2***\n",
      "{(0, 1): array([-0.32879904,  0.32879904, -0.32879904]), (1, 0): array([ 0.67463239, -0.67463239, -0.67463239]), (0, 0): array([ 0.,  0.,  0.]), (1, 1): array([ 2.12371336,  2.12371336,  2.12371336])}\n",
      "***3***\n",
      "{(1, 2): array([-0.65759808,  0.65759808, -0.65759808]), (1, 1): array([ 0.,  0.,  0.]), (2, 1): array([ 1.34926479, -1.34926479, -1.34926479]), (2, 2): array([ 4.24742672,  4.24742672,  4.24742672])}\n",
      "***4***\n",
      "{(4, 4): array([ 0.87083338,  1.39485301, -0.89877457]), (3, 4): array([-1.31519616, -0.90882359,  0.90882359]), (3, 3): array([ 0.,  0.,  0.]), (4, 3): array([ 0.25539217, -2.69852958, -0.25539217])}\n",
      "***5***\n",
      "{(8, 8): array([ 2.38872563,  0.70049026, -0.42401964]), (7, 8): array([-0.40637257, -0.03480392,  0.03480392]), (7, 7): array([ 0.,  0.,  0.]), (8, 7): array([-1.40784321, -2.43921586,  0.89313732])}\n",
      "***6***\n",
      "{(16, 16): array([-0.16862744, -0.16862744, -0.16274512]), (15, 16): array([-0.37156865, -0.3401961 ,  0.3401961 ]), (15, 15): array([ 0.,  0.,  0.]), (16, 15): array([-0.98529418, -0.98333339,  0.44607845])}\n",
      "***7***\n",
      "{(32, 32): array([-0.32745099, -0.20980394, -0.20980394]), (31, 32): array([-0.03137255, -0.03137255,  0.03137255]), (31, 31): array([ 0.,  0.,  0.]), (32, 31): array([-0.42352945, -0.4039216 ,  0.2784314 ])}\n",
      "\n"
     ]
    },
    {
     "data": {
      "image/png": "[encoded data removed]",
      "text/plain": [
       "<matplotlib.figure.Figure at 0x7fde0b9516a0>"
      ]
     },
     "metadata": {},
     "output_type": "display_data"
    },
    {
     "data": {
      "image/png": "[encoded data removed]",
      "text/plain": [
       "<matplotlib.figure.Figure at 0x7fde0bc35438>"
      ]
     },
     "metadata": {},
     "output_type": "display_data"
    }
   ],
   "source": [
    "x = mnist.train.images[2] \n",
    "i_offset = 5\n",
    "j_offset = 5\n",
    "v, w = generate_vector_data_with_offset_from_x(x, i_offset, j_offset) ; print('v = \\n', v)\n",
    "plt.figure()\n",
    "plt.plot(v)\n",
    "plt.figure()\n",
    "plt.imshow(w.get_image(), cmap = 'gray_r', interpolation = 'nearest') ; print('w = \\n', w)"
   ]
  },
  {
   "cell_type": "code",
   "execution_count": 16,
   "metadata": {},
   "outputs": [],
   "source": [
    "def generate_pow3_one_hot_coordinates_from_offset(i_offset, j_offset):\n",
    "    # i_offset, j_offset in -40,..,40\n",
    "    \n",
    "    assert -40 <= i_offset <= 40\n",
    "    assert -40 <= j_offset <= 40\n",
    "\n",
    "    pow3_i = np.zeros(4)\n",
    "    reste = 40 + i_offset\n",
    "    for pow in range(3,-1,-1):\n",
    "        pow3_i[pow] = reste // 3**pow - 1\n",
    "        reste = reste % 3**pow\n",
    "        \n",
    "    pow3_j = np.zeros(4)\n",
    "    reste = 40 + j_offset\n",
    "    for pow in range(3,-1,-1):\n",
    "        pow3_j[pow] = reste // 3**pow - 1\n",
    "        reste = reste % 3**pow\n",
    "    \n",
    "    pow3_one_hot = []\n",
    "    for pow in range(4):\n",
    "        tmp = np.zeros((3,3))\n",
    "        tmp[int(pow3_i[pow]) + 1, int(pow3_j[pow]) + 1] = 1\n",
    "        pow3_one_hot += [tmp.reshape(9,)]\n",
    "    return pow3_one_hot"
   ]
  },
  {
   "cell_type": "code",
   "execution_count": 17,
   "metadata": {
    "scrolled": true
   },
   "outputs": [
    {
     "name": "stdout",
     "output_type": "stream",
     "text": [
      "[array([ 1.,  0.,  0.,  0.,  0.,  0.,  0.,  0.,  0.]), array([ 1.,  0.,  0.,  0.,  0.,  0.,  0.,  0.,  0.]), array([ 0.,  0.,  0.,  0.,  0.,  0.,  0.,  0.,  1.]), array([ 0.,  0.,  0.,  0.,  1.,  0.,  0.,  0.,  0.])]\n"
     ]
    }
   ],
   "source": [
    "# encode coordonnees sous forme de vecteurs representant codage en puissance de trois des coordonnees \n",
    "y = generate_pow3_one_hot_coordinates_from_offset(i_offset, j_offset)\n",
    "print(y)"
   ]
  },
  {
   "cell_type": "code",
   "execution_count": 18,
   "metadata": {},
   "outputs": [],
   "source": [
    "def decode_from_pow3_one_hot(pow3_one_hot):\n",
    "    i_offset = 0\n",
    "    j_offset = 0\n",
    "    for pow in range(len(pow3_one_hot)):\n",
    "        tmp = pow3_one_hot[pow].reshape(3,3)\n",
    "        i_tmp, j_tmp = np.where(tmp == 1)\n",
    "        i_offset += (i_tmp[0] - 1) * 3**pow \n",
    "        j_offset += (j_tmp[0] - 1) * 3**pow\n",
    "    return i_offset, j_offset"
   ]
  },
  {
   "cell_type": "markdown",
   "metadata": {},
   "source": [
    "## Tests"
   ]
  },
  {
   "cell_type": "code",
   "execution_count": 19,
   "metadata": {
    "scrolled": true
   },
   "outputs": [
    {
     "name": "stdout",
     "output_type": "stream",
     "text": [
      "(i,j) = (5, 5)\n"
     ]
    }
   ],
   "source": [
    "print(\"(i,j) =\",decode_from_pow3_one_hot(y))"
   ]
  },
  {
   "cell_type": "code",
   "execution_count": 20,
   "metadata": {
    "scrolled": true
   },
   "outputs": [
    {
     "data": {
      "image/png": "[encoded data removed]",
      "text/plain": [
       "<matplotlib.figure.Figure at 0x7fde0bfdca58>"
      ]
     },
     "metadata": {},
     "output_type": "display_data"
    },
    {
     "data": {
      "image/png": "[encoded data removed]",
      "text/plain": [
       "<matplotlib.figure.Figure at 0x7fde0bf64518>"
      ]
     },
     "metadata": {},
     "output_type": "display_data"
    },
    {
     "data": {
      "image/png": "[encoded data removed]",
      "text/plain": [
       "<matplotlib.figure.Figure at 0x7fde0bf1bac8>"
      ]
     },
     "metadata": {},
     "output_type": "display_data"
    },
    {
     "data": {
      "image/png": "[encoded data removed]",
      "text/plain": [
       "<matplotlib.figure.Figure at 0x7fde0be63908>"
      ]
     },
     "metadata": {},
     "output_type": "display_data"
    },
    {
     "data": {
      "image/png": "[encoded data removed]",
      "text/plain": [
       "<matplotlib.figure.Figure at 0x7fde0bd77a90>"
      ]
     },
     "metadata": {},
     "output_type": "display_data"
    },
    {
     "data": {
      "image/png": "[encoded data removed]",
      "text/plain": [
       "<matplotlib.figure.Figure at 0x7fde0bee2828>"
      ]
     },
     "metadata": {},
     "output_type": "display_data"
    },
    {
     "data": {
      "image/png": "[encoded data removed]",
      "text/plain": [
       "<matplotlib.figure.Figure at 0x7fde0bc62fd0>"
      ]
     },
     "metadata": {},
     "output_type": "display_data"
    },
    {
     "data": {
      "image/png": "[encoded data removed]",
      "text/plain": [
       "<matplotlib.figure.Figure at 0x7fde0bc4d278>"
      ]
     },
     "metadata": {},
     "output_type": "display_data"
    },
    {
     "data": {
      "image/png": "[encoded data removed]",
      "text/plain": [
       "<matplotlib.figure.Figure at 0x7fde0bbfd4e0>"
      ]
     },
     "metadata": {},
     "output_type": "display_data"
    },
    {
     "data": {
      "image/png": "[encoded data removed]",
      "text/plain": [
       "<matplotlib.figure.Figure at 0x7fde0c02f4a8>"
      ]
     },
     "metadata": {},
     "output_type": "display_data"
    }
   ],
   "source": [
    "# Main program\n",
    "BATCH_SIZE = 10\n",
    "batch = mnist.train.next_batch(BATCH_SIZE)\n",
    "data = []\n",
    "for x in batch[0]:\n",
    "    #i_offset = np.random.randint(0,81) - 40\n",
    "    #j_offset = np.random.randint(0,81) - 40\n",
    "    i_offset = int(np.random.randn() * 15)\n",
    "    i_offset = max(i_offset, -40)\n",
    "    i_offset = min(i_offset, 40)\n",
    "    j_offset = int(np.random.randn() * 15)  \n",
    "    j_offset = max(j_offset, -40)\n",
    "    j_offset = min(j_offset, 40)\n",
    "    v, w = generate_vector_data_with_offset_from_x(x, i_offset, j_offset)\n",
    "    y = generate_pow3_one_hot_coordinates_from_offset(i_offset, j_offset)\n",
    "    data += [(v,y)]\n",
    "    \n",
    "    # Visualisation\n",
    "    plt.figure()\n",
    "    plt.subplot(1,2,1)\n",
    "    w_ref = WaveImage(image = mnist_reshape_128(x, i_offset = i_offset, j_offset = j_offset))\n",
    "    plt.imshow(w_ref.get_image(), cmap = 'gray_r', interpolation = 'nearest')\n",
    "    plt.title((i_offset, j_offset))\n",
    "    plt.subplot(1,2,2)\n",
    "    plt.imshow(w.get_image(), cmap = 'gray_r', interpolation = 'nearest')"
   ]
  },
  {
   "cell_type": "code",
   "execution_count": 21,
   "metadata": {
    "scrolled": true
   },
   "outputs": [
    {
     "name": "stdout",
     "output_type": "stream",
     "text": [
      "i = 0\n",
      "d[0] =  [ 0.99022678 -0.4898591  -0.37643997  0.08256741 -0.39712012  0.39712012\n",
      " -0.39712012  0.51053925 -0.51053925 -0.51053925 -0.10324756 -0.10324756\n",
      "  0.10324756  0.96954663  0.96954663  0.96954663 -0.79424024  0.79424024\n",
      " -0.79424024 -0.20649511 -0.20649511  0.20649511  1.02107849 -1.02107849\n",
      " -1.02107849  1.93909325  1.93909325  1.93909325  1.1453432   1.83406874\n",
      "  0.26495099 -1.58848049  1.58848049 -1.58848049 -0.41299022 -0.41299022\n",
      "  0.41299022 -0.20000001 -2.04215699  0.20000001 -1.47990206 -0.72107848\n",
      " -0.35833335 -2.10637269  0.9446079   0.10245098 -0.82303927 -0.82598045\n",
      "  0.82303927 -0.23137257 -1.6009805  -0.00980391  0.46372551  0.45588238\n",
      "  0.49313728 -0.04117647  0.8431373  -0.02156863 -0.8313726  -1.1333334\n",
      "  0.31568629  1.42450989 -0.47549023 -0.35196081  0.654902    0.32156865\n",
      "  0.0509804   0.          0.          0.         -0.01960784 -0.01960784\n",
      " -0.01960784  0.05294117  0.05294117 -0.05294117]\n",
      "d[1] =  [array([ 0.,  0.,  0.,  0.,  0.,  0.,  1.,  0.,  0.]), array([ 0.,  0.,  0.,  0.,  0.,  0.,  0.,  0.,  1.]), array([ 0.,  0.,  0.,  0.,  1.,  0.,  0.,  0.,  0.]), array([ 0.,  0.,  0.,  0.,  1.,  0.,  0.,  0.,  0.])]\n",
      "****************************************************************************************************\n",
      "i = 1\n",
      "d[0] =  [ 0.82953437  0.13572305  0.82953437  0.13572305  0.          0.          0.\n",
      "  0.69381132 -0.69381132 -0.69381132 -0.96525741 -0.96525741  0.96525741\n",
      "  0.          0.          0.          0.          0.          0.\n",
      " -1.93051483 -1.7702207   1.7702207   1.38762263 -1.32732851 -1.32732851\n",
      "  0.          0.          0.          0.          0.          0.          0.\n",
      "  0.          0.         -3.70073553  0.49485298 -0.49485298  1.65857853\n",
      "  1.32132361  0.264951    0.          0.          0.          0.          0.\n",
      "  0.          0.14117647  2.91372567 -0.03333333  0.75049024  1.39362754\n",
      "  0.75049024  0.          0.          0.          0.          0.          0.\n",
      "  0.05882354  0.05882354  0.05882354  0.          0.          0.          0.\n",
      "  0.          0.          0.          0.          0.          0.          0.\n",
      "  0.          0.          0.          0.        ]\n",
      "d[1] =  [array([ 1.,  0.,  0.,  0.,  0.,  0.,  0.,  0.,  0.]), array([ 0.,  0.,  0.,  0.,  1.,  0.,  0.,  0.,  0.]), array([ 0.,  0.,  0.,  1.,  0.,  0.,  0.,  0.,  0.]), array([ 0.,  0.,  0.,  0.,  1.,  0.,  0.,  0.,  0.])]\n",
      "****************************************************************************************************\n",
      "i = 2\n",
      "d[0] =  [ 1.5635724  -1.35603562  1.5635724  -1.35603562  0.          0.          0.\n",
      "  2.91960802 -2.91960802 -2.91960802 -0.20753678 -0.20753678  0.20753678\n",
      "  0.          0.          0.          0.          0.          0.\n",
      " -0.41507355 -0.41458336  0.41458336  5.83921603  0.30367649  0.30367649\n",
      "  0.          0.          0.          0.          0.          0.          0.\n",
      "  0.          0.         -0.82965691  0.78946083 -0.78946083  0.28210786\n",
      "  3.35661783 -0.92916672  0.          0.          0.          0.          0.\n",
      "  0.         -0.04019608  0.04019608 -0.04019608 -0.28333335  1.69509814\n",
      " -0.28333335  0.          0.          0.          0.          0.          0.\n",
      "  0.          0.          0.          0.          0.          0.          0.\n",
      "  0.          0.          0.          0.          0.          0.          0.\n",
      "  0.          0.          0.          0.        ]\n",
      "d[1] =  [array([ 0.,  0.,  0.,  1.,  0.,  0.,  0.,  0.,  0.]), array([ 0.,  0.,  1.,  0.,  0.,  0.,  0.,  0.,  0.]), array([ 0.,  0.,  0.,  0.,  0.,  0.,  0.,  0.,  1.]), array([ 0.,  0.,  0.,  1.,  0.,  0.,  0.,  0.,  0.])]\n",
      "****************************************************************************************************\n",
      "i = 3\n",
      "d[0] =  [ 0.29494487 -0.29494487  0.2876532  -0.2876532   0.          0.          0.\n",
      "  0.4844363  -0.58259807 -0.4844363   0.          0.          0.\n",
      "  0.00729167  0.00729167  0.00729167  0.          0.          0.          0.\n",
      "  0.          0.         -0.89571084 -1.06703438  0.89571084  0.01458333\n",
      "  0.01458333  0.01458333 -0.02916667  0.02916667 -0.02916667  0.          0.\n",
      "  0.          0.          0.          0.         -0.17132354 -0.17132354\n",
      "  0.17132354  0.          0.          0.          0.          0.          0.\n",
      "  0.          0.          0.          0.          0.          0.          0.\n",
      "  0.          0.          0.          0.          0.          0.          0.\n",
      "  0.          0.          0.          0.          0.          0.          0.\n",
      "  0.          0.          0.          0.          0.          0.          0.\n",
      "  0.          0.        ]\n",
      "d[1] =  [array([ 0.,  0.,  1.,  0.,  0.,  0.,  0.,  0.,  0.]), array([ 0.,  1.,  0.,  0.,  0.,  0.,  0.,  0.,  0.]), array([ 0.,  0.,  0.,  1.,  0.,  0.,  0.,  0.,  0.]), array([ 0.,  0.,  0.,  0.,  0.,  0.,  0.,  1.,  0.])]\n",
      "****************************************************************************************************\n",
      "i = 4\n",
      "d[0] =  [ 0.77855397  0.77855397 -0.77855397 -0.77855397 -0.77328436  1.55710794\n",
      " -0.77328436  0.          0.          0.          0.          0.          0.\n",
      "  0.          0.          0.          2.3303923   1.48284322  1.48284322\n",
      "  0.          0.          0.          0.          0.          0.          0.\n",
      "  0.          0.          0.          0.          0.          0.          0.\n",
      "  0.          0.          0.          0.          0.          0.          0.\n",
      "  0.          0.          0.          0.          0.          0.          0.\n",
      "  0.          0.          0.          0.          0.          0.          0.\n",
      "  0.          0.          0.          0.          0.          0.          0.\n",
      "  0.          0.          0.          0.          0.          0.          0.\n",
      "  0.          0.          0.          0.          0.          0.          0.\n",
      "  0.        ]\n",
      "d[1] =  [array([ 0.,  0.,  0.,  0.,  0.,  0.,  0.,  0.,  1.]), array([ 0.,  0.,  1.,  0.,  0.,  0.,  0.,  0.,  0.]), array([ 0.,  0.,  0.,  0.,  0.,  1.,  0.,  0.,  0.]), array([ 0.,  1.,  0.,  0.,  0.,  0.,  0.,  0.,  0.])]\n",
      "****************************************************************************************************\n",
      "i = 5\n",
      "d[0] =  [ 1.51878073 -0.59237136  1.51878073 -0.59237136  0.          0.          0.\n",
      "  2.11115209 -2.11115209 -2.11115209 -0.92640937 -0.92640937  0.92640937\n",
      "  0.          0.          0.          0.          0.          0.\n",
      " -1.85281874 -1.16850497  1.16850497  4.22230418 -1.61299029 -1.61299029\n",
      "  0.          0.          0.          0.          0.          0.          0.\n",
      "  0.          0.         -1.54093145  2.74289233 -1.26250007  5.07647089\n",
      "  2.23284327  1.47401969  0.          0.          0.          0.          0.\n",
      "  0.         -0.27843138  0.27843138 -0.27843138  0.76715691  3.07107861\n",
      "  0.50049023  0.          0.          0.          0.          0.          0.\n",
      "  0.          0.          0.         -0.0872549   0.39901964 -0.0872549   0.\n",
      "  0.          0.          0.          0.          0.          0.          0.\n",
      "  0.          0.          0.          0.        ]\n",
      "d[1] =  [array([ 0.,  0.,  0.,  0.,  0.,  0.,  1.,  0.,  0.]), array([ 0.,  0.,  0.,  1.,  0.,  0.,  0.,  0.,  0.]), array([ 0.,  0.,  0.,  1.,  0.,  0.,  0.,  0.,  0.]), array([ 0.,  0.,  0.,  0.,  1.,  0.,  0.,  0.,  0.])]\n",
      "****************************************************************************************************\n",
      "i = 6\n",
      "d[0] =  [ 0.4494179  -0.4494179   0.29298407 -0.29298407  0.          0.          0.\n",
      "  0.32818628 -0.74240197 -0.32818628  0.          0.          0.\n",
      " -0.02334559  0.15643383 -0.02334559  0.          0.          0.          0.\n",
      "  0.          0.         -1.07058824 -1.07058824  1.07058824 -0.13308824\n",
      "  0.13308824 -0.13308824  0.          0.          0.          0.          0.\n",
      "  0.          0.          0.          0.          0.          0.          0.\n",
      "  0.          0.          0.          0.          0.          0.          0.\n",
      "  0.          0.          0.          0.          0.          0.          0.\n",
      "  0.          0.          0.          0.          0.          0.          0.\n",
      "  0.          0.          0.          0.          0.          0.          0.\n",
      "  0.          0.          0.          0.          0.          0.          0.\n",
      "  0.        ]\n",
      "d[1] =  [array([ 0.,  0.,  0.,  0.,  0.,  0.,  1.,  0.,  0.]), array([ 0.,  0.,  0.,  0.,  1.,  0.,  0.,  0.,  0.]), array([ 0.,  0.,  0.,  0.,  1.,  0.,  0.,  0.,  0.]), array([ 0.,  0.,  0.,  0.,  0.,  0.,  0.,  1.,  0.])]\n",
      "****************************************************************************************************\n",
      "i = 7\n",
      "d[0] =  [ 0.87377456  0.69221818  0.46158091  0.28002453 -0.41219365  0.41219365\n",
      " -0.41219365  0.18155638 -0.18155638 -0.18155638 -1.15379909 -1.15379909\n",
      "  1.15379909  0.          0.          0.         -0.8243873   0.8243873\n",
      " -0.8243873  -2.30759817 -2.30759817  2.30759817  0.36311276 -0.36311276\n",
      " -0.36311276  0.          0.          0.          0.          0.          0.\n",
      " -0.08897059  1.6487746  -0.08897059 -2.89950997 -2.53774525  0.82205888\n",
      "  0.72622553 -0.72622553 -0.72622553  0.          0.          0.\n",
      "  0.75833336  0.77598042  0.63578435  0.89705888 -0.50196082 -0.08333332\n",
      "  1.21029418  0.93578438  0.6936275   0.          0.          0.\n",
      "  0.55980395 -0.02843137 -0.02843137  0.70294122  1.21470596 -0.42058827\n",
      "  0.38333334  0.51666668  0.38333334  0.          0.          0.          0.\n",
      "  0.          0.          0.07058824  0.07058824  0.07058824  0.          0.\n",
      "  0.        ]\n",
      "d[1] =  [array([ 0.,  0.,  0.,  0.,  0.,  0.,  1.,  0.,  0.]), array([ 0.,  0.,  0.,  0.,  0.,  0.,  1.,  0.,  0.]), array([ 0.,  1.,  0.,  0.,  0.,  0.,  0.,  0.,  0.]), array([ 0.,  0.,  0.,  0.,  1.,  0.,  0.,  0.,  0.])]\n",
      "****************************************************************************************************\n",
      "i = 8\n",
      "d[0] =  [ 0.58180151  0.25992649 -0.58180151 -0.25992649 -0.84172799  0.79846819\n",
      " -0.79846819  0.          0.          0.          0.          0.          0.\n",
      "  0.32187502  0.3120711   0.3120711  -1.64019618 -1.64019618  1.64019618\n",
      "  0.          0.          0.          0.          0.          0.\n",
      "  0.63394612 -0.63394612 -0.63394612  0.          0.          0.          0.\n",
      "  0.          0.          0.          0.          0.          0.          0.\n",
      "  0.          0.          0.          0.          0.          0.          0.\n",
      "  0.          0.          0.          0.          0.          0.          0.\n",
      "  0.          0.          0.          0.          0.          0.          0.\n",
      "  0.          0.          0.          0.          0.          0.          0.\n",
      "  0.          0.          0.          0.          0.          0.          0.\n",
      "  0.          0.        ]\n",
      "d[1] =  [array([ 0.,  0.,  0.,  0.,  0.,  0.,  0.,  1.,  0.]), array([ 0.,  0.,  0.,  0.,  0.,  0.,  0.,  1.,  0.]), array([ 0.,  1.,  0.,  0.,  0.,  0.,  0.,  0.,  0.]), array([ 0.,  0.,  0.,  0.,  0.,  1.,  0.,  0.,  0.])]\n",
      "****************************************************************************************************\n",
      "i = 9\n",
      "d[0] =  [ 0.87892162 -0.59681376  0.87892162 -0.59681376  0.          0.          0.\n",
      "  1.47573539 -1.47573539 -1.47573539 -0.28210786 -0.28210786  0.28210786\n",
      "  0.          0.          0.          0.          0.          0.\n",
      " -0.56421571 -0.56421571  0.56421571  2.95147077 -2.25024524 -2.25024524\n",
      "  0.          0.          0.          0.          0.          0.          0.\n",
      "  0.          0.         -1.12843143  0.74754906 -0.74754906 -0.28357845\n",
      "  0.77867652 -0.91936279  0.          0.          0.          0.          0.\n",
      "  0.         -0.38088237  0.38088237 -0.38088237  0.72156867  1.00980399\n",
      "  1.22549028  0.          0.          0.          0.          0.          0.\n",
      "  0.          0.          0.         -0.33333335  0.50784316 -0.33333335\n",
      "  0.          0.          0.          0.          0.          0.          0.\n",
      "  0.          0.          0.          0.          0.        ]\n",
      "d[1] =  [array([ 0.,  0.,  0.,  0.,  0.,  1.,  0.,  0.,  0.]), array([ 1.,  0.,  0.,  0.,  0.,  0.,  0.,  0.,  0.]), array([ 0.,  0.,  0.,  0.,  0.,  0.,  1.,  0.,  0.]), array([ 0.,  0.,  0.,  0.,  1.,  0.,  0.,  0.,  0.])]\n",
      "****************************************************************************************************\n"
     ]
    }
   ],
   "source": [
    "for i, d in enumerate(data):\n",
    "    print('i =',i) # Numero de l'exemple dans l'echantillon\n",
    "    print(\"d[0] = \",d[0]) # Valeurs individuelles pixels\n",
    "    print(\"d[1] = \",d[1]) # Valeurs vecteurs pow3 one hot\n",
    "    print('*' * 100)      # Separateur visuel"
   ]
  },
  {
   "cell_type": "markdown",
   "metadata": {},
   "source": [
    "### Tentative d'intégration d'une régression linéaire\n",
    "#### Code en construction, pas fonctionnel et pas nettoyé"
   ]
  },
  {
   "cell_type": "code",
   "execution_count": 189,
   "metadata": {},
   "outputs": [
    {
     "name": "stdout",
     "output_type": "stream",
     "text": [
      "y = (-30, -37)\n",
      "hypo_y0 = \n",
      " [ 3.14123231  0.51885084  0.82785436  1.21882085 -0.80314354  0.80670397\n",
      " -0.80314354  0.99191216 -0.77712338 -0.89684957 -1.99203549 -1.26004276\n",
      "  1.85497852  0.93038288  1.48069882  0.90440773 -0.39105138  1.50526531\n",
      " -0.49563358 -2.7296138  -0.93522969  0.13875916  1.72206368 -1.22335214\n",
      " -1.39208476  0.36012192  0.62240888  0.91369794  1.35367503  2.133425\n",
      "  1.3334448  -1.38122907  0.98873108 -1.19377231  0.86163243  2.56564927\n",
      "  0.23992397  1.0574062  -2.09992077 -0.04317853 -0.97986405  0.28060615\n",
      "  0.33543955  0.0317333  -0.31650386 -2.17615513  0.21029695  0.21029695\n",
      "  0.3522763  -1.22249115 -1.91574205  0.0063646  -0.140153    0.05006952\n",
      "  1.16044595 -0.28885453 -0.46036444 -1.12506394 -0.14197935 -0.14197935\n",
      "  0.14197935 -0.56302157 -0.64331332 -0.67268836  0.39558385  0.4151672\n",
      " -0.14491683 -0.28983372 -0.34466711 -0.29766706 -0.28395869 -0.28395869\n",
      "  0.28395869 -0.38187547 -0.55029239 -0.28787536]\n",
      "foo = \n",
      " [ 33.14123231  30.51885084  30.82785436  31.21882085  29.19685646\n",
      "  30.80670397  29.19685646  30.99191216  29.22287662  29.10315043\n",
      "  28.00796451  28.73995724  31.85497852  30.93038288  31.48069882\n",
      "  30.90440773  29.60894862  31.50526531  29.50436642  27.2703862\n",
      "  29.06477031  30.13875916  31.72206368  28.77664786  28.60791524\n",
      "  30.36012192  30.62240888  30.91369794  31.35367503  32.133425    31.3334448\n",
      "  28.61877093  30.98873108  28.80622769  30.86163243  32.56564927\n",
      "  30.23992397  31.0574062   27.90007923  29.95682147  29.02013595\n",
      "  30.28060615  30.33543955  30.0317333   29.68349614  27.82384487\n",
      "  30.21029695  30.21029695  30.3522763   28.77750885  28.08425795\n",
      "  30.0063646   29.859847    30.05006952  31.16044595  29.71114547\n",
      "  29.53963556  28.87493606  29.85802065  29.85802065  30.14197935\n",
      "  29.43697843  29.35668668  29.32731164  30.39558385  30.4151672\n",
      "  29.85508317  29.71016628  29.65533289  29.70233294  29.71604131\n",
      "  29.71604131  30.28395869  29.61812453  29.44970761  29.71212464]\n",
      "bar = \n",
      " [33.141232306051762, 30.518850843928107, 30.827854363499579, 31.218820853036412, 29.19685646057453, 30.806703966721937, 29.19685646057453, 30.991912155807913, 29.222876624150977, 29.103150427281932, 28.007964509146884, 28.739957244282973, 31.854978519490238, 30.930382884935632, 31.480698821468241, 30.904407730573631, 29.608948616377461, 31.505265313246902, 29.504366423476952, 27.270386197903669, 29.064770312347449, 30.138759161541163, 31.722063675411047, 28.776647858837542, 28.607915238914384, 30.36012192428154, 30.622408881400844, 30.91369794373756, 31.353675030134355, 32.133425001261834, 31.333444803484277, 28.618770933108046, 30.98873107964053, 28.80622769182818, 30.861632425277907, 32.565649265747503, 30.239923971564316, 31.057406201079729, 27.900079230756258, 29.956821466173192, 29.020135950434668, 30.2806061481356, 30.335439552796061, 30.031733304116862, 29.683496138439693, 27.823844869745855, 30.21029694978882, 30.21029694978882, 30.352276296756756, 28.777508849807543, 28.084257945836374, 30.006364600747869, 29.859847002219102, 30.05006952228586, 31.160445953637904, 29.711145467491786, 29.539635555063871, 28.874936055721395, 29.858020653032067, 29.858020653032067, 30.141979346967933, 29.436978434422819, 29.356686677929655, 29.327311638124137, 30.395583846313031, 30.41516720246274, 29.85508317193344, 29.710166284336665, 29.655332887117485, 29.702332941876783, 29.716041306064131, 29.716041306064131, 30.283958693935869, 29.618124529036233, 29.449707606618535, 29.71212463855483]\n"
     ]
    }
   ],
   "source": [
    "### Recuperation du vector data pour l'apprentissage\n",
    "\n",
    "batch_size = 10\n",
    "batch = mnist.train.next_batch(batch_size)\n",
    "data = []\n",
    "\n",
    "for x in batch[0]:\n",
    "    i_offset = np.random.randint(0,81) - 40\n",
    "    j_offset = np.random.randint(0,81) - 40\n",
    "    v, w = generate_vector_data_with_offset_from_x(x, i_offset, j_offset) # v: vector data\n",
    "    data += [(v,y)]\n",
    "\n",
    "# Realisation de la regression lineaire\n",
    "## Calcul du cout\n",
    "\n",
    "def CostFunction(data, output, theta, batch_size): # Ne fonctionne pas pour l'instant\n",
    "\n",
    "    iterations = 0\n",
    "    for n in enumerate(data):\n",
    "        hypothesis += theta[iterations] * n[1][0]\n",
    "        iteration += 1\n",
    "    for i in range(batch_size):\n",
    "        sqrError += (hypothesis - output)**2\n",
    "    cost = (1 / (2*batch_size)) * sqrError\n",
    "    \n",
    "    return cost\n",
    "\n",
    "## Test\n",
    "\n",
    "hypo_y0, hypo_y1 = 0, 0\n",
    "it = 0\n",
    "theta_y0, theta_y1 = np.random.random(10), np.random.random(10)\n",
    "y = (i_offset, j_offset) ; print('y =', y)\n",
    "\n",
    "# Construction hypothese\n",
    "for n in enumerate(data):\n",
    "    #print('n', it, '=', n[1][0])\n",
    "    hypo_y0 += theta_y0[it]*n[1][0] ; # print('hypo_y0', it, '=', hypo_y0)\n",
    "    hypo_y1 += theta_y1[it]*n[1][0] ; # print('hypo_y1', it, '=', hypo_y1)\n",
    "    it += 1\n",
    "    \n",
    "print('hypo_y0 = \\n', hypo_y0)\n",
    "#print('hypo_y1 = \\n', hypo_y1)\n",
    "\n",
    "# Construction erreur carrée\n",
    "\n",
    "foo = hypo_y0 - y[0] ; print('foo = \\n', foo)\n",
    "\n",
    "sqrErr = []\n",
    "for i in hypo_y0:\n",
    "    sqrErr += [i - y[0]]\n",
    "print('sqrErr = \\n', sqrErr)"
   ]
  },
  {
   "cell_type": "code",
   "execution_count": null,
   "metadata": {},
   "outputs": [],
   "source": []
  }
 ],
 "metadata": {
  "kernelspec": {
   "display_name": "Python 3",
   "language": "python",
   "name": "python3"
  },
  "language_info": {
   "codemirror_mode": {
    "name": "ipython",
    "version": 3
   },
   "file_extension": ".py",
   "mimetype": "text/x-python",
   "name": "python",
   "nbconvert_exporter": "python",
   "pygments_lexer": "ipython3",
   "version": "3.5.2"
  }
 },
 "nbformat": 4,
 "nbformat_minor": 2
}
